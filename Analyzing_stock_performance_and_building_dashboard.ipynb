{
  "nbformat": 4,
  "nbformat_minor": 0,
  "metadata": {
    "colab": {
      "provenance": []
    },
    "kernelspec": {
      "name": "python3",
      "display_name": "Python 3"
    },
    "language_info": {
      "name": "python"
    }
  },
  "cells": [
    {
      "cell_type": "code",
      "source": [
        "!pip install yfinance\n",
        "#!pip install pandas==1.3.3\n",
        "#!pip install requests==2.26.0\n",
        "!mamba install bs4==4.10.0 -y\n",
        "!mamba install html5lib==1.1 -y\n",
        "!pip install lxml==4.6.4\n",
        "#!pip install plotly==5.3.1"
      ],
      "metadata": {
        "colab": {
          "base_uri": "https://localhost:8080/",
          "height": 867
        },
        "id": "tW0r1iKClwdT",
        "outputId": "4f51a395-2744-4666-86e2-148aa5f4c8de"
      },
      "execution_count": 97,
      "outputs": [
        {
          "output_type": "stream",
          "name": "stdout",
          "text": [
            "Looking in indexes: https://pypi.org/simple, https://us-python.pkg.dev/colab-wheels/public/simple/\n",
            "Requirement already satisfied: yfinance in /usr/local/lib/python3.8/dist-packages (0.2.3)\n",
            "Requirement already satisfied: cryptography>=3.3.2 in /usr/local/lib/python3.8/dist-packages (from yfinance) (39.0.0)\n",
            "Requirement already satisfied: html5lib>=1.1 in /usr/local/lib/python3.8/dist-packages (from yfinance) (1.1)\n",
            "Requirement already satisfied: numpy>=1.16.5 in /usr/local/lib/python3.8/dist-packages (from yfinance) (1.21.6)\n",
            "Requirement already satisfied: frozendict>=2.3.4 in /usr/local/lib/python3.8/dist-packages (from yfinance) (2.3.4)\n",
            "Requirement already satisfied: pytz>=2022.5 in /usr/local/lib/python3.8/dist-packages (from yfinance) (2022.7)\n",
            "Requirement already satisfied: requests>=2.26 in /usr/local/lib/python3.8/dist-packages (from yfinance) (2.28.1)\n",
            "Collecting lxml>=4.9.1\n",
            "  Downloading lxml-4.9.2-cp38-cp38-manylinux_2_17_x86_64.manylinux2014_x86_64.manylinux_2_24_x86_64.whl (7.1 MB)\n",
            "\u001b[2K     \u001b[90m━━━━━━━━━━━━━━━━━━━━━━━━━━━━━━━━━━━━━━━━\u001b[0m \u001b[32m7.1/7.1 MB\u001b[0m \u001b[31m47.0 MB/s\u001b[0m eta \u001b[36m0:00:00\u001b[0m\n",
            "\u001b[?25hRequirement already satisfied: pandas>=1.3.0 in /usr/local/lib/python3.8/dist-packages (from yfinance) (1.3.5)\n",
            "Requirement already satisfied: beautifulsoup4>=4.11.1 in /usr/local/lib/python3.8/dist-packages (from yfinance) (4.11.1)\n",
            "Requirement already satisfied: appdirs>=1.4.4 in /usr/local/lib/python3.8/dist-packages (from yfinance) (1.4.4)\n",
            "Requirement already satisfied: multitasking>=0.0.7 in /usr/local/lib/python3.8/dist-packages (from yfinance) (0.0.11)\n",
            "Requirement already satisfied: soupsieve>1.2 in /usr/local/lib/python3.8/dist-packages (from beautifulsoup4>=4.11.1->yfinance) (2.3.2.post1)\n",
            "Requirement already satisfied: cffi>=1.12 in /usr/local/lib/python3.8/dist-packages (from cryptography>=3.3.2->yfinance) (1.15.1)\n",
            "Requirement already satisfied: six>=1.9 in /usr/local/lib/python3.8/dist-packages (from html5lib>=1.1->yfinance) (1.15.0)\n",
            "Requirement already satisfied: webencodings in /usr/local/lib/python3.8/dist-packages (from html5lib>=1.1->yfinance) (0.5.1)\n",
            "Requirement already satisfied: python-dateutil>=2.7.3 in /usr/local/lib/python3.8/dist-packages (from pandas>=1.3.0->yfinance) (2.8.2)\n",
            "Requirement already satisfied: charset-normalizer<3,>=2 in /usr/local/lib/python3.8/dist-packages (from requests>=2.26->yfinance) (2.1.1)\n",
            "Requirement already satisfied: certifi>=2017.4.17 in /usr/local/lib/python3.8/dist-packages (from requests>=2.26->yfinance) (2022.12.7)\n",
            "Requirement already satisfied: idna<4,>=2.5 in /usr/local/lib/python3.8/dist-packages (from requests>=2.26->yfinance) (2.10)\n",
            "Requirement already satisfied: urllib3<1.27,>=1.21.1 in /usr/local/lib/python3.8/dist-packages (from requests>=2.26->yfinance) (1.24.3)\n",
            "Requirement already satisfied: pycparser in /usr/local/lib/python3.8/dist-packages (from cffi>=1.12->cryptography>=3.3.2->yfinance) (2.21)\n",
            "Installing collected packages: lxml\n",
            "  Attempting uninstall: lxml\n",
            "    Found existing installation: lxml 4.6.4\n",
            "    Uninstalling lxml-4.6.4:\n",
            "      Successfully uninstalled lxml-4.6.4\n",
            "Successfully installed lxml-4.9.2\n"
          ]
        },
        {
          "output_type": "display_data",
          "data": {
            "application/vnd.colab-display-data+json": {
              "pip_warning": {
                "packages": [
                  "lxml"
                ]
              }
            }
          },
          "metadata": {}
        },
        {
          "output_type": "stream",
          "name": "stdout",
          "text": [
            "/bin/bash: mamba: command not found\n",
            "/bin/bash: mamba: command not found\n",
            "Looking in indexes: https://pypi.org/simple, https://us-python.pkg.dev/colab-wheels/public/simple/\n",
            "Collecting lxml==4.6.4\n",
            "  Using cached lxml-4.6.4-cp38-cp38-manylinux_2_17_x86_64.manylinux2014_x86_64.manylinux_2_24_x86_64.whl (6.9 MB)\n",
            "Installing collected packages: lxml\n",
            "  Attempting uninstall: lxml\n",
            "    Found existing installation: lxml 4.9.2\n",
            "    Uninstalling lxml-4.9.2:\n",
            "      Successfully uninstalled lxml-4.9.2\n",
            "\u001b[31mERROR: pip's dependency resolver does not currently take into account all the packages that are installed. This behaviour is the source of the following dependency conflicts.\n",
            "yfinance 0.2.3 requires lxml>=4.9.1, but you have lxml 4.6.4 which is incompatible.\u001b[0m\u001b[31m\n",
            "\u001b[0mSuccessfully installed lxml-4.6.4\n"
          ]
        }
      ]
    },
    {
      "cell_type": "code",
      "source": [
        "!pip install nbformat==4.2.0"
      ],
      "metadata": {
        "colab": {
          "base_uri": "https://localhost:8080/"
        },
        "id": "MqyU0BEZwieq",
        "outputId": "735a6814-7a22-43bb-8e8b-0e1a1cd9ae75"
      },
      "execution_count": 98,
      "outputs": [
        {
          "output_type": "stream",
          "name": "stdout",
          "text": [
            "Looking in indexes: https://pypi.org/simple, https://us-python.pkg.dev/colab-wheels/public/simple/\n",
            "Requirement already satisfied: nbformat==4.2.0 in /usr/local/lib/python3.8/dist-packages (4.2.0)\n",
            "Requirement already satisfied: jupyter-core in /usr/local/lib/python3.8/dist-packages (from nbformat==4.2.0) (5.1.1)\n",
            "Requirement already satisfied: ipython-genutils in /usr/local/lib/python3.8/dist-packages (from nbformat==4.2.0) (0.2.0)\n",
            "Requirement already satisfied: traitlets>=4.1 in /usr/local/lib/python3.8/dist-packages (from nbformat==4.2.0) (5.7.1)\n",
            "Requirement already satisfied: jsonschema!=2.5.0,>=2.4 in /usr/local/lib/python3.8/dist-packages (from nbformat==4.2.0) (4.3.3)\n",
            "Requirement already satisfied: pyrsistent!=0.17.0,!=0.17.1,!=0.17.2,>=0.14.0 in /usr/local/lib/python3.8/dist-packages (from jsonschema!=2.5.0,>=2.4->nbformat==4.2.0) (0.19.2)\n",
            "Requirement already satisfied: attrs>=17.4.0 in /usr/local/lib/python3.8/dist-packages (from jsonschema!=2.5.0,>=2.4->nbformat==4.2.0) (22.2.0)\n",
            "Requirement already satisfied: importlib-resources>=1.4.0 in /usr/local/lib/python3.8/dist-packages (from jsonschema!=2.5.0,>=2.4->nbformat==4.2.0) (5.10.1)\n",
            "Requirement already satisfied: platformdirs>=2.5 in /usr/local/lib/python3.8/dist-packages (from jupyter-core->nbformat==4.2.0) (2.6.0)\n",
            "Requirement already satisfied: zipp>=3.1.0 in /usr/local/lib/python3.8/dist-packages (from importlib-resources>=1.4.0->jsonschema!=2.5.0,>=2.4->nbformat==4.2.0) (3.11.0)\n"
          ]
        }
      ]
    },
    {
      "cell_type": "code",
      "execution_count": 99,
      "metadata": {
        "id": "yd8uyKzWllPy"
      },
      "outputs": [],
      "source": [
        "import yfinance as yf\n",
        "import pandas as pd\n",
        "import requests\n",
        "from bs4 import BeautifulSoup\n",
        "import plotly.graph_objects as go\n",
        "from plotly.subplots import make_subplots"
      ]
    },
    {
      "cell_type": "markdown",
      "source": [
        "## Using the yfinance Library to Extract Stock Data\n"
      ],
      "metadata": {
        "id": "-fKGQTglmFUF"
      }
    },
    {
      "cell_type": "markdown",
      "source": [
        "Using the `Ticker` module we can create an object that will allow us to access functions to extract data. To do this we need to provide the ticker symbol for the stock, here the company is Apple and the ticker symbol is `AAPL`.\n"
      ],
      "metadata": {
        "id": "wDiR89kqmHlM"
      }
    },
    {
      "cell_type": "code",
      "source": [
        "apple = yf.Ticker(\"AAPL\")"
      ],
      "metadata": {
        "id": "ZCOz27nNlmLZ"
      },
      "execution_count": 100,
      "outputs": []
    },
    {
      "cell_type": "markdown",
      "source": [
        "\n",
        "access functions and variables to extract the type of data we need.  https://aroussi.com/post/python-yahoo-finance.\n"
      ],
      "metadata": {
        "id": "ggUVpzFGmmDI"
      }
    },
    {
      "cell_type": "markdown",
      "source": [
        "### Stock Info\n"
      ],
      "metadata": {
        "id": "nkwQAyBsm2f0"
      }
    },
    {
      "cell_type": "markdown",
      "source": [
        "Using the attribute  <code>info</code> we can extract information about the stock as a Python dictionary.\n"
      ],
      "metadata": {
        "id": "HQejYxbIm3ZY"
      }
    },
    {
      "cell_type": "code",
      "source": [
        "apple_info=apple.info\n",
        "apple_info"
      ],
      "metadata": {
        "colab": {
          "base_uri": "https://localhost:8080/"
        },
        "id": "NPBHY02Sl_S0",
        "outputId": "4c153977-8693-4b1c-e3de-957650e682d2"
      },
      "execution_count": 101,
      "outputs": [
        {
          "output_type": "execute_result",
          "data": {
            "text/plain": [
              "{'zip': '95014',\n",
              " 'sector': 'Technology',\n",
              " 'fullTimeEmployees': 164000,\n",
              " 'longBusinessSummary': 'Apple Inc. designs, manufactures, and markets smartphones, personal computers, tablets, wearables, and accessories worldwide. It also sells various related services. In addition, the company offers iPhone, a line of smartphones; Mac, a line of personal computers; iPad, a line of multi-purpose tablets; and wearables, home, and accessories comprising AirPods, Apple TV, Apple Watch, Beats products, and HomePod. Further, it provides AppleCare support and cloud services store services; and operates various platforms, including the App Store that allow customers to discover and download applications and digital content, such as books, music, video, games, and podcasts. Additionally, the company offers various services, such as Apple Arcade, a game subscription service; Apple Fitness+, a personalized fitness service; Apple Music, which offers users a curated listening experience with on-demand radio stations; Apple News+, a subscription news and magazine service; Apple TV+, which offers exclusive original content; Apple Card, a co-branded credit card; and Apple Pay, a cashless payment service, as well as licenses its intellectual property. The company serves consumers, and small and mid-sized businesses; and the education, enterprise, and government markets. It distributes third-party applications for its products through the App Store. The company also sells its products through its retail and online stores, and direct sales force; and third-party cellular network carriers, wholesalers, retailers, and resellers. Apple Inc. was incorporated in 1977 and is headquartered in Cupertino, California.',\n",
              " 'city': 'Cupertino',\n",
              " 'phone': '408 996 1010',\n",
              " 'state': 'CA',\n",
              " 'country': 'United States',\n",
              " 'companyOfficers': [],\n",
              " 'website': 'https://www.apple.com',\n",
              " 'maxAge': 1,\n",
              " 'address1': 'One Apple Park Way',\n",
              " 'industry': 'Consumer Electronics',\n",
              " 'ebitdaMargins': 0.33105,\n",
              " 'profitMargins': 0.2531,\n",
              " 'grossMargins': 0.43310001,\n",
              " 'operatingCashflow': 122151002112,\n",
              " 'revenueGrowth': 0.081,\n",
              " 'operatingMargins': 0.30289,\n",
              " 'ebitda': 130541002752,\n",
              " 'targetLowPrice': 122,\n",
              " 'recommendationKey': 'buy',\n",
              " 'grossProfits': 170782000000,\n",
              " 'freeCashflow': 90215251968,\n",
              " 'targetMedianPrice': 176,\n",
              " 'currentPrice': 125.07,\n",
              " 'earningsGrowth': 0.048,\n",
              " 'currentRatio': 0.879,\n",
              " 'returnOnAssets': 0.21214001,\n",
              " 'numberOfAnalystOpinions': 41,\n",
              " 'targetMeanPrice': 176.2,\n",
              " 'debtToEquity': 261.446,\n",
              " 'returnOnEquity': 1.75459,\n",
              " 'targetHighPrice': 214,\n",
              " 'totalCash': 48304001024,\n",
              " 'totalDebt': 132480000000,\n",
              " 'totalRevenue': 394328014848,\n",
              " 'totalCashPerShare': 3.036,\n",
              " 'financialCurrency': 'USD',\n",
              " 'revenuePerShare': 24.317,\n",
              " 'quickRatio': 0.709,\n",
              " 'recommendationMean': 1.9,\n",
              " 'exchange': 'NMS',\n",
              " 'shortName': 'Apple Inc.',\n",
              " 'longName': 'Apple Inc.',\n",
              " 'exchangeTimezoneName': 'America/New_York',\n",
              " 'exchangeTimezoneShortName': 'EST',\n",
              " 'isEsgPopulated': False,\n",
              " 'gmtOffSetMilliseconds': '-18000000',\n",
              " 'quoteType': 'EQUITY',\n",
              " 'symbol': 'AAPL',\n",
              " 'messageBoardId': 'finmb_24937',\n",
              " 'market': 'us_market',\n",
              " 'annualHoldingsTurnover': None,\n",
              " 'enterpriseToRevenue': 5.455,\n",
              " 'beta3Year': None,\n",
              " 'enterpriseToEbitda': 16.478,\n",
              " '52WeekChange': -0.25720328,\n",
              " 'morningStarRiskRating': None,\n",
              " 'forwardEps': 6.77,\n",
              " 'revenueQuarterlyGrowth': None,\n",
              " 'sharesOutstanding': 15908100096,\n",
              " 'fundInceptionDate': None,\n",
              " 'annualReportExpenseRatio': None,\n",
              " 'totalAssets': None,\n",
              " 'bookValue': 3.178,\n",
              " 'sharesShort': 121757434,\n",
              " 'sharesPercentSharesOut': 0.0077,\n",
              " 'fundFamily': None,\n",
              " 'lastFiscalYearEnd': 1663977600,\n",
              " 'heldPercentInstitutions': 0.60915,\n",
              " 'netIncomeToCommon': 99802996736,\n",
              " 'trailingEps': 6.11,\n",
              " 'lastDividendValue': 0.23,\n",
              " 'SandP52WeekChange': -0.18318588,\n",
              " 'priceToBook': 39.354942,\n",
              " 'heldPercentInsiders': 0.00071999995,\n",
              " 'nextFiscalYearEnd': 1727136000,\n",
              " 'yield': None,\n",
              " 'mostRecentQuarter': 1663977600,\n",
              " 'shortRatio': 1.67,\n",
              " 'sharesShortPreviousMonthDate': 1668470400,\n",
              " 'floatShares': 15891414476,\n",
              " 'beta': 1.219468,\n",
              " 'enterpriseValue': 2151117750272,\n",
              " 'priceHint': 2,\n",
              " 'threeYearAverageReturn': None,\n",
              " 'lastSplitDate': 1598832000,\n",
              " 'lastSplitFactor': '4:1',\n",
              " 'legalType': None,\n",
              " 'lastDividendDate': 1667520000,\n",
              " 'morningStarOverallRating': None,\n",
              " 'earningsQuarterlyGrowth': 0.008,\n",
              " 'priceToSalesTrailing12Months': 5.045612,\n",
              " 'dateShortInterest': 1671062400,\n",
              " 'pegRatio': 2.4,\n",
              " 'ytdReturn': None,\n",
              " 'forwardPE': 18.474152,\n",
              " 'lastCapGain': None,\n",
              " 'shortPercentOfFloat': 0.0077,\n",
              " 'sharesShortPriorMonth': 114431895,\n",
              " 'impliedSharesOutstanding': 0,\n",
              " 'category': None,\n",
              " 'fiveYearAverageReturn': None,\n",
              " 'previousClose': 129.93,\n",
              " 'regularMarketOpen': 130.28,\n",
              " 'twoHundredDayAverage': 151.611,\n",
              " 'trailingAnnualDividendYield': 0.006926807,\n",
              " 'payoutRatio': 0.14729999,\n",
              " 'volume24Hr': None,\n",
              " 'regularMarketDayHigh': 130.9,\n",
              " 'navPrice': None,\n",
              " 'averageDailyVolume10Day': 85188780,\n",
              " 'regularMarketPreviousClose': 129.93,\n",
              " 'fiftyDayAverage': 143.076,\n",
              " 'trailingAnnualDividendRate': 0.9,\n",
              " 'open': 130.28,\n",
              " 'toCurrency': None,\n",
              " 'averageVolume10days': 85188780,\n",
              " 'expireDate': None,\n",
              " 'algorithm': None,\n",
              " 'dividendRate': 0.92,\n",
              " 'exDividendDate': 1667520000,\n",
              " 'circulatingSupply': None,\n",
              " 'startDate': None,\n",
              " 'regularMarketDayLow': 124.17,\n",
              " 'currency': 'USD',\n",
              " 'trailingPE': 20.46972,\n",
              " 'regularMarketVolume': 112117471,\n",
              " 'lastMarket': None,\n",
              " 'maxSupply': None,\n",
              " 'openInterest': None,\n",
              " 'marketCap': 1989626036224,\n",
              " 'volumeAllCurrencies': None,\n",
              " 'strikePrice': None,\n",
              " 'averageVolume': 83057429,\n",
              " 'dayLow': 124.17,\n",
              " 'ask': 125.1,\n",
              " 'askSize': 1300,\n",
              " 'volume': 112117471,\n",
              " 'fiftyTwoWeekHigh': 180.17,\n",
              " 'fromCurrency': None,\n",
              " 'fiveYearAvgDividendYield': 0.98,\n",
              " 'fiftyTwoWeekLow': 124.17,\n",
              " 'bid': 125,\n",
              " 'tradeable': False,\n",
              " 'dividendYield': 0.0070999996,\n",
              " 'bidSize': 1300,\n",
              " 'dayHigh': 130.9,\n",
              " 'coinMarketCapLink': None,\n",
              " 'regularMarketPrice': 125.07,\n",
              " 'preMarketPrice': None,\n",
              " 'logo_url': 'https://logo.clearbit.com/apple.com',\n",
              " 'trailingPegRatio': None}"
            ]
          },
          "metadata": {},
          "execution_count": 101
        }
      ]
    },
    {
      "cell_type": "markdown",
      "source": [
        "We can get the <code>'country'</code> using the key country\n"
      ],
      "metadata": {
        "id": "duCEhVBonRMi"
      }
    },
    {
      "cell_type": "code",
      "source": [
        "apple_info['country']"
      ],
      "metadata": {
        "colab": {
          "base_uri": "https://localhost:8080/",
          "height": 35
        },
        "id": "fg0165rOnBDm",
        "outputId": "993f9ca6-9cfb-4d5c-e091-8187a344b548"
      },
      "execution_count": 102,
      "outputs": [
        {
          "output_type": "execute_result",
          "data": {
            "text/plain": [
              "'United States'"
            ],
            "application/vnd.google.colaboratory.intrinsic+json": {
              "type": "string"
            }
          },
          "metadata": {},
          "execution_count": 102
        }
      ]
    },
    {
      "cell_type": "markdown",
      "source": [],
      "metadata": {
        "id": "d4xKaFGxngSl"
      }
    },
    {
      "cell_type": "markdown",
      "source": [
        "### Extracting Share Price\n"
      ],
      "metadata": {
        "id": "Y3vfp90Rnf67"
      }
    },
    {
      "cell_type": "markdown",
      "source": [
        "A share is the single smallest part of a company's stock  that you can buy, the prices of these shares fluctuate over time. Using the <code>history()</code> method we can get the share price of the stock over a certain period of time. Using the `period` parameter we can set how far back from the present to get data. The options for `period` are 1 day (1d), 5d, 1 month (1mo) , 3mo, 6mo, 1 year (1y), 2y, 5y, 10y, ytd, and max.\n"
      ],
      "metadata": {
        "id": "3pJ4oSj1nnRR"
      }
    },
    {
      "cell_type": "code",
      "source": [
        "apple_share_price_data = apple.history(period=\"max\")"
      ],
      "metadata": {
        "id": "8-sSy0SHnn_R"
      },
      "execution_count": 103,
      "outputs": []
    },
    {
      "cell_type": "markdown",
      "source": [
        "The format that the data is returned in is a Pandas DataFrame. With the `Date` as the index the share `Open`, `High`, `Low`, `Close`, `Volume`, and `Stock Splits` are given for each day.\n"
      ],
      "metadata": {
        "id": "QcGe66hqohYp"
      }
    },
    {
      "cell_type": "code",
      "source": [
        "apple_share_price_data.head()"
      ],
      "metadata": {
        "colab": {
          "base_uri": "https://localhost:8080/",
          "height": 238
        },
        "id": "2dTi7iC6oTo1",
        "outputId": "f1de6edb-53ec-4ea6-a3f1-3402691f47bb"
      },
      "execution_count": 104,
      "outputs": [
        {
          "output_type": "execute_result",
          "data": {
            "text/plain": [
              "                               Open      High       Low     Close     Volume  \\\n",
              "Date                                                                           \n",
              "1980-12-12 00:00:00-05:00  0.099874  0.100308  0.099874  0.099874  469033600   \n",
              "1980-12-15 00:00:00-05:00  0.095098  0.095098  0.094663  0.094663  175884800   \n",
              "1980-12-16 00:00:00-05:00  0.088149  0.088149  0.087715  0.087715  105728000   \n",
              "1980-12-17 00:00:00-05:00  0.089886  0.090320  0.089886  0.089886   86441600   \n",
              "1980-12-18 00:00:00-05:00  0.092492  0.092927  0.092492  0.092492   73449600   \n",
              "\n",
              "                           Dividends  Stock Splits  \n",
              "Date                                                \n",
              "1980-12-12 00:00:00-05:00        0.0           0.0  \n",
              "1980-12-15 00:00:00-05:00        0.0           0.0  \n",
              "1980-12-16 00:00:00-05:00        0.0           0.0  \n",
              "1980-12-17 00:00:00-05:00        0.0           0.0  \n",
              "1980-12-18 00:00:00-05:00        0.0           0.0  "
            ],
            "text/html": [
              "\n",
              "  <div id=\"df-be9a0902-66ac-4be5-9904-ae42653e728b\">\n",
              "    <div class=\"colab-df-container\">\n",
              "      <div>\n",
              "<style scoped>\n",
              "    .dataframe tbody tr th:only-of-type {\n",
              "        vertical-align: middle;\n",
              "    }\n",
              "\n",
              "    .dataframe tbody tr th {\n",
              "        vertical-align: top;\n",
              "    }\n",
              "\n",
              "    .dataframe thead th {\n",
              "        text-align: right;\n",
              "    }\n",
              "</style>\n",
              "<table border=\"1\" class=\"dataframe\">\n",
              "  <thead>\n",
              "    <tr style=\"text-align: right;\">\n",
              "      <th></th>\n",
              "      <th>Open</th>\n",
              "      <th>High</th>\n",
              "      <th>Low</th>\n",
              "      <th>Close</th>\n",
              "      <th>Volume</th>\n",
              "      <th>Dividends</th>\n",
              "      <th>Stock Splits</th>\n",
              "    </tr>\n",
              "    <tr>\n",
              "      <th>Date</th>\n",
              "      <th></th>\n",
              "      <th></th>\n",
              "      <th></th>\n",
              "      <th></th>\n",
              "      <th></th>\n",
              "      <th></th>\n",
              "      <th></th>\n",
              "    </tr>\n",
              "  </thead>\n",
              "  <tbody>\n",
              "    <tr>\n",
              "      <th>1980-12-12 00:00:00-05:00</th>\n",
              "      <td>0.099874</td>\n",
              "      <td>0.100308</td>\n",
              "      <td>0.099874</td>\n",
              "      <td>0.099874</td>\n",
              "      <td>469033600</td>\n",
              "      <td>0.0</td>\n",
              "      <td>0.0</td>\n",
              "    </tr>\n",
              "    <tr>\n",
              "      <th>1980-12-15 00:00:00-05:00</th>\n",
              "      <td>0.095098</td>\n",
              "      <td>0.095098</td>\n",
              "      <td>0.094663</td>\n",
              "      <td>0.094663</td>\n",
              "      <td>175884800</td>\n",
              "      <td>0.0</td>\n",
              "      <td>0.0</td>\n",
              "    </tr>\n",
              "    <tr>\n",
              "      <th>1980-12-16 00:00:00-05:00</th>\n",
              "      <td>0.088149</td>\n",
              "      <td>0.088149</td>\n",
              "      <td>0.087715</td>\n",
              "      <td>0.087715</td>\n",
              "      <td>105728000</td>\n",
              "      <td>0.0</td>\n",
              "      <td>0.0</td>\n",
              "    </tr>\n",
              "    <tr>\n",
              "      <th>1980-12-17 00:00:00-05:00</th>\n",
              "      <td>0.089886</td>\n",
              "      <td>0.090320</td>\n",
              "      <td>0.089886</td>\n",
              "      <td>0.089886</td>\n",
              "      <td>86441600</td>\n",
              "      <td>0.0</td>\n",
              "      <td>0.0</td>\n",
              "    </tr>\n",
              "    <tr>\n",
              "      <th>1980-12-18 00:00:00-05:00</th>\n",
              "      <td>0.092492</td>\n",
              "      <td>0.092927</td>\n",
              "      <td>0.092492</td>\n",
              "      <td>0.092492</td>\n",
              "      <td>73449600</td>\n",
              "      <td>0.0</td>\n",
              "      <td>0.0</td>\n",
              "    </tr>\n",
              "  </tbody>\n",
              "</table>\n",
              "</div>\n",
              "      <button class=\"colab-df-convert\" onclick=\"convertToInteractive('df-be9a0902-66ac-4be5-9904-ae42653e728b')\"\n",
              "              title=\"Convert this dataframe to an interactive table.\"\n",
              "              style=\"display:none;\">\n",
              "        \n",
              "  <svg xmlns=\"http://www.w3.org/2000/svg\" height=\"24px\"viewBox=\"0 0 24 24\"\n",
              "       width=\"24px\">\n",
              "    <path d=\"M0 0h24v24H0V0z\" fill=\"none\"/>\n",
              "    <path d=\"M18.56 5.44l.94 2.06.94-2.06 2.06-.94-2.06-.94-.94-2.06-.94 2.06-2.06.94zm-11 1L8.5 8.5l.94-2.06 2.06-.94-2.06-.94L8.5 2.5l-.94 2.06-2.06.94zm10 10l.94 2.06.94-2.06 2.06-.94-2.06-.94-.94-2.06-.94 2.06-2.06.94z\"/><path d=\"M17.41 7.96l-1.37-1.37c-.4-.4-.92-.59-1.43-.59-.52 0-1.04.2-1.43.59L10.3 9.45l-7.72 7.72c-.78.78-.78 2.05 0 2.83L4 21.41c.39.39.9.59 1.41.59.51 0 1.02-.2 1.41-.59l7.78-7.78 2.81-2.81c.8-.78.8-2.07 0-2.86zM5.41 20L4 18.59l7.72-7.72 1.47 1.35L5.41 20z\"/>\n",
              "  </svg>\n",
              "      </button>\n",
              "      \n",
              "  <style>\n",
              "    .colab-df-container {\n",
              "      display:flex;\n",
              "      flex-wrap:wrap;\n",
              "      gap: 12px;\n",
              "    }\n",
              "\n",
              "    .colab-df-convert {\n",
              "      background-color: #E8F0FE;\n",
              "      border: none;\n",
              "      border-radius: 50%;\n",
              "      cursor: pointer;\n",
              "      display: none;\n",
              "      fill: #1967D2;\n",
              "      height: 32px;\n",
              "      padding: 0 0 0 0;\n",
              "      width: 32px;\n",
              "    }\n",
              "\n",
              "    .colab-df-convert:hover {\n",
              "      background-color: #E2EBFA;\n",
              "      box-shadow: 0px 1px 2px rgba(60, 64, 67, 0.3), 0px 1px 3px 1px rgba(60, 64, 67, 0.15);\n",
              "      fill: #174EA6;\n",
              "    }\n",
              "\n",
              "    [theme=dark] .colab-df-convert {\n",
              "      background-color: #3B4455;\n",
              "      fill: #D2E3FC;\n",
              "    }\n",
              "\n",
              "    [theme=dark] .colab-df-convert:hover {\n",
              "      background-color: #434B5C;\n",
              "      box-shadow: 0px 1px 3px 1px rgba(0, 0, 0, 0.15);\n",
              "      filter: drop-shadow(0px 1px 2px rgba(0, 0, 0, 0.3));\n",
              "      fill: #FFFFFF;\n",
              "    }\n",
              "  </style>\n",
              "\n",
              "      <script>\n",
              "        const buttonEl =\n",
              "          document.querySelector('#df-be9a0902-66ac-4be5-9904-ae42653e728b button.colab-df-convert');\n",
              "        buttonEl.style.display =\n",
              "          google.colab.kernel.accessAllowed ? 'block' : 'none';\n",
              "\n",
              "        async function convertToInteractive(key) {\n",
              "          const element = document.querySelector('#df-be9a0902-66ac-4be5-9904-ae42653e728b');\n",
              "          const dataTable =\n",
              "            await google.colab.kernel.invokeFunction('convertToInteractive',\n",
              "                                                     [key], {});\n",
              "          if (!dataTable) return;\n",
              "\n",
              "          const docLinkHtml = 'Like what you see? Visit the ' +\n",
              "            '<a target=\"_blank\" href=https://colab.research.google.com/notebooks/data_table.ipynb>data table notebook</a>'\n",
              "            + ' to learn more about interactive tables.';\n",
              "          element.innerHTML = '';\n",
              "          dataTable['output_type'] = 'display_data';\n",
              "          await google.colab.output.renderOutput(dataTable, element);\n",
              "          const docLink = document.createElement('div');\n",
              "          docLink.innerHTML = docLinkHtml;\n",
              "          element.appendChild(docLink);\n",
              "        }\n",
              "      </script>\n",
              "    </div>\n",
              "  </div>\n",
              "  "
            ]
          },
          "metadata": {},
          "execution_count": 104
        }
      ]
    },
    {
      "cell_type": "markdown",
      "source": [
        "We can reset the index of the DataFrame with the `reset_index` function. We also set the `inplace` paramter to `True` so the change takes place to the DataFrame itself.\n"
      ],
      "metadata": {
        "id": "hi0Z9hP3om55"
      }
    },
    {
      "cell_type": "code",
      "source": [
        "apple_share_price_data.reset_index(inplace=True)"
      ],
      "metadata": {
        "id": "TqsgHZKDok25"
      },
      "execution_count": 105,
      "outputs": []
    },
    {
      "cell_type": "markdown",
      "source": [
        "We can plot the `Open` price against the `Date`:\n"
      ],
      "metadata": {
        "id": "7xEEhHQao42X"
      }
    },
    {
      "cell_type": "code",
      "source": [
        "apple_share_price_data.plot(x=\"Date\", y=\"Open\")"
      ],
      "metadata": {
        "colab": {
          "base_uri": "https://localhost:8080/",
          "height": 286
        },
        "id": "eRjOedrUouAI",
        "outputId": "f1d19271-a049-4899-d399-c9bc5b684926"
      },
      "execution_count": 106,
      "outputs": [
        {
          "output_type": "execute_result",
          "data": {
            "text/plain": [
              "<matplotlib.axes._subplots.AxesSubplot at 0x7f658c2586d0>"
            ]
          },
          "metadata": {},
          "execution_count": 106
        },
        {
          "output_type": "display_data",
          "data": {
            "text/plain": [
              "<Figure size 432x288 with 1 Axes>"
            ],
            "image/png": "[encoded data removed]"
          },
          "metadata": {
            "needs_background": "light"
          }
        }
      ]
    },
    {
      "cell_type": "markdown",
      "source": [
        "### Extracting Dividends\n"
      ],
      "metadata": {
        "id": "cQRtqZyJpCNl"
      }
    },
    {
      "cell_type": "markdown",
      "source": [
        "Dividends are the distribution of a companys profits to shareholders. In this case they are defined as an amount of money returned per share an investor owns. Using the variable `dividends` we can get a dataframe of the data. The period of the data is given by the period defined in the 'history` function.\n"
      ],
      "metadata": {
        "id": "faTPifX8pGZY"
      }
    },
    {
      "cell_type": "code",
      "source": [
        "apple.dividends"
      ],
      "metadata": {
        "colab": {
          "base_uri": "https://localhost:8080/"
        },
        "id": "TXPmyvPppHAF",
        "outputId": "c99789d1-0538-41b3-90a3-0a3140c09cd6"
      },
      "execution_count": 107,
      "outputs": [
        {
          "output_type": "execute_result",
          "data": {
            "text/plain": [
              "Date\n",
              "1987-05-11 00:00:00-04:00    0.000536\n",
              "1987-08-10 00:00:00-04:00    0.000536\n",
              "1987-11-17 00:00:00-05:00    0.000714\n",
              "1988-02-12 00:00:00-05:00    0.000714\n",
              "1988-05-16 00:00:00-04:00    0.000714\n",
              "                               ...   \n",
              "2021-11-05 00:00:00-04:00    0.220000\n",
              "2022-02-04 00:00:00-05:00    0.220000\n",
              "2022-05-06 00:00:00-04:00    0.230000\n",
              "2022-08-05 00:00:00-04:00    0.230000\n",
              "2022-11-04 00:00:00-04:00    0.230000\n",
              "Name: Dividends, Length: 77, dtype: float64"
            ]
          },
          "metadata": {},
          "execution_count": 107
        }
      ]
    },
    {
      "cell_type": "code",
      "source": [
        "apple.dividends.plot()"
      ],
      "metadata": {
        "colab": {
          "base_uri": "https://localhost:8080/",
          "height": 286
        },
        "id": "2qYzXNYdpJR3",
        "outputId": "12fb37c0-c9f2-40f6-976a-9c5f3e5aba36"
      },
      "execution_count": 108,
      "outputs": [
        {
          "output_type": "execute_result",
          "data": {
            "text/plain": [
              "<matplotlib.axes._subplots.AxesSubplot at 0x7f658ed419a0>"
            ]
          },
          "metadata": {},
          "execution_count": 108
        },
        {
          "output_type": "display_data",
          "data": {
            "text/plain": [
              "<Figure size 432x288 with 1 Axes>"
            ],
            "image/png": "[encoded data removed]"
          },
          "metadata": {
            "needs_background": "light"
          }
        }
      ]
    },
    {
      "cell_type": "code",
      "source": [
        "AMD = yf.Ticker(\"amd\")"
      ],
      "metadata": {
        "id": "LH1nvJKLpLvJ"
      },
      "execution_count": 109,
      "outputs": []
    },
    {
      "cell_type": "code",
      "source": [
        "amd_info=AMD.info\n",
        "amd_info"
      ],
      "metadata": {
        "colab": {
          "base_uri": "https://localhost:8080/"
        },
        "id": "UtS4JqvypkVk",
        "outputId": "724b1fab-3505-40f9-a23a-1fa92b089637"
      },
      "execution_count": 110,
      "outputs": [
        {
          "output_type": "execute_result",
          "data": {
            "text/plain": [
              "{'zip': '95054',\n",
              " 'sector': 'Technology',\n",
              " 'fullTimeEmployees': 15500,\n",
              " 'longBusinessSummary': 'Advanced Micro Devices, Inc. operates as a semiconductor company worldwide. The company operates in two segments, Computing and Graphics; and Enterprise, Embedded and Semi-Custom. Its products include x86 microprocessors as an accelerated processing unit, chipsets, discrete and integrated graphics processing units (GPUs), data center and professional GPUs, and development services; and server and embedded processors, and semi-custom System-on-Chip (SoC) products, development services, and technology for game consoles. The company provides processors for desktop and notebook personal computers under the AMD Ryzen, AMD Ryzen PRO, Ryzen Threadripper, Ryzen Threadripper PRO, AMD Athlon, AMD Athlon PRO, AMD FX, AMD A-Series, and AMD PRO A-Series processors brands; discrete GPUs for desktop and notebook PCs under the AMD Radeon graphics, AMD Embedded Radeon graphics brands; and professional graphics products under the AMD Radeon Pro and AMD FirePro graphics brands. It also offers Radeon Instinct, Radeon PRO V-series, and AMD Instinct accelerators for servers; chipsets under the AMD trademark; microprocessors for servers under the AMD EPYC; embedded processor solutions under the AMD Athlon, AMD Geode, AMD Ryzen, AMD EPYC, AMD R-Series, and G-Series processors brands; and customer-specific solutions based on AMD CPU, GPU, and multi-media technologies, as well as semi-custom SoC products. It serves original equipment manufacturers, public cloud service providers, original design manufacturers, system integrators, independent distributors, online retailers, and add-in-board manufacturers through its direct sales force, independent distributors, and sales representatives. The company was incorporated in 1969 and is headquartered in Santa Clara, California.',\n",
              " 'city': 'Santa Clara',\n",
              " 'phone': '408 749 4000',\n",
              " 'state': 'CA',\n",
              " 'country': 'United States',\n",
              " 'companyOfficers': [],\n",
              " 'website': 'https://www.amd.com',\n",
              " 'maxAge': 1,\n",
              " 'address1': '2485 Augustine Drive',\n",
              " 'industry': 'Semiconductors',\n",
              " 'ebitdaMargins': 0.24299,\n",
              " 'profitMargins': 0.09957,\n",
              " 'grossMargins': 0.5095,\n",
              " 'operatingCashflow': 3820000000,\n",
              " 'revenueGrowth': 0.29,\n",
              " 'operatingMargins': 0.13085,\n",
              " 'ebitda': 5546999808,\n",
              " 'targetLowPrice': 60,\n",
              " 'recommendationKey': 'buy',\n",
              " 'grossProfits': 7929000000,\n",
              " 'freeCashflow': 4550750208,\n",
              " 'targetMedianPrice': 87.5,\n",
              " 'currentPrice': 64.02,\n",
              " 'earningsGrowth': -0.947,\n",
              " 'currentRatio': 2.155,\n",
              " 'returnOnAssets': 0.047280002,\n",
              " 'numberOfAnalystOpinions': 38,\n",
              " 'targetMeanPrice': 90.87,\n",
              " 'debtToEquity': 5.299,\n",
              " 'returnOnEquity': 0.073699996,\n",
              " 'targetHighPrice': 200,\n",
              " 'totalCash': 5591000064,\n",
              " 'totalDebt': 2889999872,\n",
              " 'totalRevenue': 22827999232,\n",
              " 'totalCashPerShare': 3.468,\n",
              " 'financialCurrency': 'USD',\n",
              " 'revenuePerShare': 15.646,\n",
              " 'quickRatio': 1.484,\n",
              " 'recommendationMean': 2,\n",
              " 'exchange': 'NMS',\n",
              " 'shortName': 'Advanced Micro Devices, Inc.',\n",
              " 'longName': 'Advanced Micro Devices, Inc.',\n",
              " 'exchangeTimezoneName': 'America/New_York',\n",
              " 'exchangeTimezoneShortName': 'EST',\n",
              " 'isEsgPopulated': False,\n",
              " 'gmtOffSetMilliseconds': '-18000000',\n",
              " 'quoteType': 'EQUITY',\n",
              " 'symbol': 'AMD',\n",
              " 'messageBoardId': 'finmb_168864',\n",
              " 'market': 'us_market',\n",
              " 'annualHoldingsTurnover': None,\n",
              " 'enterpriseToRevenue': 4.456,\n",
              " 'beta3Year': None,\n",
              " 'enterpriseToEbitda': 18.34,\n",
              " '52WeekChange': -0.5242747,\n",
              " 'morningStarRiskRating': None,\n",
              " 'forwardEps': 3.65,\n",
              " 'revenueQuarterlyGrowth': None,\n",
              " 'sharesOutstanding': 1612359936,\n",
              " 'fundInceptionDate': None,\n",
              " 'annualReportExpenseRatio': None,\n",
              " 'totalAssets': None,\n",
              " 'bookValue': 33.835,\n",
              " 'sharesShort': 33179654,\n",
              " 'sharesPercentSharesOut': 0.020599999,\n",
              " 'fundFamily': None,\n",
              " 'lastFiscalYearEnd': 1640390400,\n",
              " 'heldPercentInstitutions': 0.71949995,\n",
              " 'netIncomeToCommon': 2272999936,\n",
              " 'trailingEps': 1.63,\n",
              " 'lastDividendValue': None,\n",
              " 'SandP52WeekChange': -0.18318588,\n",
              " 'priceToBook': 1.8921235,\n",
              " 'heldPercentInsiders': 0.0034999999,\n",
              " 'nextFiscalYearEnd': 1703462400,\n",
              " 'yield': None,\n",
              " 'mostRecentQuarter': 1663977600,\n",
              " 'shortRatio': 0.52,\n",
              " 'sharesShortPreviousMonthDate': 1668470400,\n",
              " 'floatShares': 1603004496,\n",
              " 'beta': 2.002155,\n",
              " 'enterpriseValue': 101731311616,\n",
              " 'priceHint': 2,\n",
              " 'threeYearAverageReturn': None,\n",
              " 'lastSplitDate': 966902400,\n",
              " 'lastSplitFactor': '2:1',\n",
              " 'legalType': None,\n",
              " 'lastDividendDate': None,\n",
              " 'morningStarOverallRating': None,\n",
              " 'earningsQuarterlyGrowth': -0.928,\n",
              " 'priceToSalesTrailing12Months': 4.521784,\n",
              " 'dateShortInterest': 1671062400,\n",
              " 'pegRatio': 1.24,\n",
              " 'ytdReturn': None,\n",
              " 'forwardPE': 17.539724,\n",
              " 'lastCapGain': None,\n",
              " 'shortPercentOfFloat': 0.0207,\n",
              " 'sharesShortPriorMonth': 38796438,\n",
              " 'impliedSharesOutstanding': 0,\n",
              " 'category': None,\n",
              " 'fiveYearAverageReturn': None,\n",
              " 'previousClose': 64.77,\n",
              " 'regularMarketOpen': 65.998,\n",
              " 'twoHundredDayAverage': 83.4665,\n",
              " 'trailingAnnualDividendYield': 0,\n",
              " 'payoutRatio': 0,\n",
              " 'volume24Hr': None,\n",
              " 'regularMarketDayHigh': 66.88,\n",
              " 'navPrice': None,\n",
              " 'averageDailyVolume10Day': 47926590,\n",
              " 'regularMarketPreviousClose': 64.77,\n",
              " 'fiftyDayAverage': 67.3768,\n",
              " 'trailingAnnualDividendRate': 0,\n",
              " 'open': 65.998,\n",
              " 'toCurrency': None,\n",
              " 'averageVolume10days': 47926590,\n",
              " 'expireDate': None,\n",
              " 'algorithm': None,\n",
              " 'dividendRate': None,\n",
              " 'exDividendDate': 798940800,\n",
              " 'circulatingSupply': None,\n",
              " 'startDate': None,\n",
              " 'regularMarketDayLow': 63.59,\n",
              " 'currency': 'USD',\n",
              " 'trailingPE': 39.276073,\n",
              " 'regularMarketVolume': 46664448,\n",
              " 'lastMarket': None,\n",
              " 'maxSupply': None,\n",
              " 'openInterest': None,\n",
              " 'marketCap': 103223279616,\n",
              " 'volumeAllCurrencies': None,\n",
              " 'strikePrice': None,\n",
              " 'averageVolume': 75929978,\n",
              " 'dayLow': 63.59,\n",
              " 'ask': 64.09,\n",
              " 'askSize': 800,\n",
              " 'volume': 46664448,\n",
              " 'fiftyTwoWeekHigh': 143.76,\n",
              " 'fromCurrency': None,\n",
              " 'fiveYearAvgDividendYield': None,\n",
              " 'fiftyTwoWeekLow': 54.57,\n",
              " 'bid': 63.99,\n",
              " 'tradeable': False,\n",
              " 'dividendYield': None,\n",
              " 'bidSize': 800,\n",
              " 'dayHigh': 66.88,\n",
              " 'coinMarketCapLink': None,\n",
              " 'regularMarketPrice': 64.02,\n",
              " 'preMarketPrice': None,\n",
              " 'logo_url': 'https://logo.clearbit.com/amd.com',\n",
              " 'trailingPegRatio': 0.8475}"
            ]
          },
          "metadata": {},
          "execution_count": 110
        }
      ]
    },
    {
      "cell_type": "code",
      "source": [
        "amd_info['country']"
      ],
      "metadata": {
        "colab": {
          "base_uri": "https://localhost:8080/",
          "height": 35
        },
        "id": "xGQNjyWipy_y",
        "outputId": "cc683671-9625-4239-b0ce-5b33be071d19"
      },
      "execution_count": 111,
      "outputs": [
        {
          "output_type": "execute_result",
          "data": {
            "text/plain": [
              "'United States'"
            ],
            "application/vnd.google.colaboratory.intrinsic+json": {
              "type": "string"
            }
          },
          "metadata": {},
          "execution_count": 111
        }
      ]
    },
    {
      "cell_type": "code",
      "source": [
        "amd_info['sector']"
      ],
      "metadata": {
        "colab": {
          "base_uri": "https://localhost:8080/",
          "height": 35
        },
        "id": "8VivO78hqFKF",
        "outputId": "7adf30ad-8242-4be2-fdda-bfd3783efca6"
      },
      "execution_count": 112,
      "outputs": [
        {
          "output_type": "execute_result",
          "data": {
            "text/plain": [
              "'Technology'"
            ],
            "application/vnd.google.colaboratory.intrinsic+json": {
              "type": "string"
            }
          },
          "metadata": {},
          "execution_count": 112
        }
      ]
    },
    {
      "cell_type": "code",
      "source": [
        "amd_share_price_data = AMD.history(period=\"max\")"
      ],
      "metadata": {
        "id": "ryrH9EyIqLrF"
      },
      "execution_count": 113,
      "outputs": []
    },
    {
      "cell_type": "markdown",
      "source": [
        "## Using Webscraping to Extract Stock Data Exercise\n"
      ],
      "metadata": {
        "id": "ccKlTOy5rBDS"
      }
    },
    {
      "cell_type": "code",
      "source": [
        "url = \"https://cf-courses-data.s3.us.cloud-object-storage.appdomain.cloud/IBMDeveloperSkillsNetwork-PY0220EN-SkillsNetwork/labs/project/amazon_data_webpage.html\"\n",
        "\n",
        "data  = requests.get(url).text"
      ],
      "metadata": {
        "id": "9JvADW5rqbPc"
      },
      "execution_count": 114,
      "outputs": []
    },
    {
      "cell_type": "code",
      "source": [
        "read_html_pandas_data = pd.read_html(url)"
      ],
      "metadata": {
        "id": "QU_ENlsmsU4p"
      },
      "execution_count": 115,
      "outputs": []
    },
    {
      "cell_type": "code",
      "source": [
        "soup = BeautifulSoup(data, 'html5lib')"
      ],
      "metadata": {
        "id": "UkJXMJayrNn2"
      },
      "execution_count": 116,
      "outputs": []
    },
    {
      "cell_type": "code",
      "source": [
        "amazon_data = pd.DataFrame(columns=[\"Date\", \"Open\", \"High\", \"Low\", \"Close\", \"Volume\"])\n",
        "\n",
        "for row in soup.find(\"tbody\").find_all(\"tr\"):\n",
        "    col = row.find_all(\"td\")\n",
        "    date = col[0].text\n",
        "    Open = col[1].text\n",
        "    high = col[2].text\n",
        "    low = col[3].text\n",
        "    close = col[4].text\n",
        "    adj_close = col[5].text\n",
        "    volume = col[6].text\n",
        "    amazon_data = amazon_data.append({\"Date\":date, \"Open\":Open, \"High\":high, \"Low\":low, \"Close\":close, \"Adj Close\":adj_close, \"Volume\":volume}, ignore_index=True)"
      ],
      "metadata": {
        "id": "zlxn6ug1syd1"
      },
      "execution_count": 117,
      "outputs": []
    },
    {
      "cell_type": "code",
      "source": [
        "amazon_data.head()"
      ],
      "metadata": {
        "colab": {
          "base_uri": "https://localhost:8080/",
          "height": 206
        },
        "id": "Z0pECoqLrPYp",
        "outputId": "23f12668-3a5f-4a38-b393-be0f9b785972"
      },
      "execution_count": 118,
      "outputs": [
        {
          "output_type": "execute_result",
          "data": {
            "text/plain": [
              "           Date      Open      High       Low     Close       Volume Adj Close\n",
              "0  Jan 01, 2021  3,270.00  3,363.89  3,086.00  3,206.20   71,528,900  3,206.20\n",
              "1  Dec 01, 2020  3,188.50  3,350.65  3,072.82  3,256.93   77,556,200  3,256.93\n",
              "2  Nov 01, 2020  3,061.74  3,366.80  2,950.12  3,168.04   90,810,500  3,168.04\n",
              "3  Oct 01, 2020  3,208.00  3,496.24  3,019.00  3,036.15  116,226,100  3,036.15\n",
              "4  Sep 01, 2020  3,489.58  3,552.25  2,871.00  3,148.73  115,899,300  3,148.73"
            ],
            "text/html": [
              "\n",
              "  <div id=\"df-16899927-2b01-4d80-9e35-30d7812f600d\">\n",
              "    <div class=\"colab-df-container\">\n",
              "      <div>\n",
              "<style scoped>\n",
              "    .dataframe tbody tr th:only-of-type {\n",
              "        vertical-align: middle;\n",
              "    }\n",
              "\n",
              "    .dataframe tbody tr th {\n",
              "        vertical-align: top;\n",
              "    }\n",
              "\n",
              "    .dataframe thead th {\n",
              "        text-align: right;\n",
              "    }\n",
              "</style>\n",
              "<table border=\"1\" class=\"dataframe\">\n",
              "  <thead>\n",
              "    <tr style=\"text-align: right;\">\n",
              "      <th></th>\n",
              "      <th>Date</th>\n",
              "      <th>Open</th>\n",
              "      <th>High</th>\n",
              "      <th>Low</th>\n",
              "      <th>Close</th>\n",
              "      <th>Volume</th>\n",
              "      <th>Adj Close</th>\n",
              "    </tr>\n",
              "  </thead>\n",
              "  <tbody>\n",
              "    <tr>\n",
              "      <th>0</th>\n",
              "      <td>Jan 01, 2021</td>\n",
              "      <td>3,270.00</td>\n",
              "      <td>3,363.89</td>\n",
              "      <td>3,086.00</td>\n",
              "      <td>3,206.20</td>\n",
              "      <td>71,528,900</td>\n",
              "      <td>3,206.20</td>\n",
              "    </tr>\n",
              "    <tr>\n",
              "      <th>1</th>\n",
              "      <td>Dec 01, 2020</td>\n",
              "      <td>3,188.50</td>\n",
              "      <td>3,350.65</td>\n",
              "      <td>3,072.82</td>\n",
              "      <td>3,256.93</td>\n",
              "      <td>77,556,200</td>\n",
              "      <td>3,256.93</td>\n",
              "    </tr>\n",
              "    <tr>\n",
              "      <th>2</th>\n",
              "      <td>Nov 01, 2020</td>\n",
              "      <td>3,061.74</td>\n",
              "      <td>3,366.80</td>\n",
              "      <td>2,950.12</td>\n",
              "      <td>3,168.04</td>\n",
              "      <td>90,810,500</td>\n",
              "      <td>3,168.04</td>\n",
              "    </tr>\n",
              "    <tr>\n",
              "      <th>3</th>\n",
              "      <td>Oct 01, 2020</td>\n",
              "      <td>3,208.00</td>\n",
              "      <td>3,496.24</td>\n",
              "      <td>3,019.00</td>\n",
              "      <td>3,036.15</td>\n",
              "      <td>116,226,100</td>\n",
              "      <td>3,036.15</td>\n",
              "    </tr>\n",
              "    <tr>\n",
              "      <th>4</th>\n",
              "      <td>Sep 01, 2020</td>\n",
              "      <td>3,489.58</td>\n",
              "      <td>3,552.25</td>\n",
              "      <td>2,871.00</td>\n",
              "      <td>3,148.73</td>\n",
              "      <td>115,899,300</td>\n",
              "      <td>3,148.73</td>\n",
              "    </tr>\n",
              "  </tbody>\n",
              "</table>\n",
              "</div>\n",
              "      <button class=\"colab-df-convert\" onclick=\"convertToInteractive('df-16899927-2b01-4d80-9e35-30d7812f600d')\"\n",
              "              title=\"Convert this dataframe to an interactive table.\"\n",
              "              style=\"display:none;\">\n",
              "        \n",
              "  <svg xmlns=\"http://www.w3.org/2000/svg\" height=\"24px\"viewBox=\"0 0 24 24\"\n",
              "       width=\"24px\">\n",
              "    <path d=\"M0 0h24v24H0V0z\" fill=\"none\"/>\n",
              "    <path d=\"M18.56 5.44l.94 2.06.94-2.06 2.06-.94-2.06-.94-.94-2.06-.94 2.06-2.06.94zm-11 1L8.5 8.5l.94-2.06 2.06-.94-2.06-.94L8.5 2.5l-.94 2.06-2.06.94zm10 10l.94 2.06.94-2.06 2.06-.94-2.06-.94-.94-2.06-.94 2.06-2.06.94z\"/><path d=\"M17.41 7.96l-1.37-1.37c-.4-.4-.92-.59-1.43-.59-.52 0-1.04.2-1.43.59L10.3 9.45l-7.72 7.72c-.78.78-.78 2.05 0 2.83L4 21.41c.39.39.9.59 1.41.59.51 0 1.02-.2 1.41-.59l7.78-7.78 2.81-2.81c.8-.78.8-2.07 0-2.86zM5.41 20L4 18.59l7.72-7.72 1.47 1.35L5.41 20z\"/>\n",
              "  </svg>\n",
              "      </button>\n",
              "      \n",
              "  <style>\n",
              "    .colab-df-container {\n",
              "      display:flex;\n",
              "      flex-wrap:wrap;\n",
              "      gap: 12px;\n",
              "    }\n",
              "\n",
              "    .colab-df-convert {\n",
              "      background-color: #E8F0FE;\n",
              "      border: none;\n",
              "      border-radius: 50%;\n",
              "      cursor: pointer;\n",
              "      display: none;\n",
              "      fill: #1967D2;\n",
              "      height: 32px;\n",
              "      padding: 0 0 0 0;\n",
              "      width: 32px;\n",
              "    }\n",
              "\n",
              "    .colab-df-convert:hover {\n",
              "      background-color: #E2EBFA;\n",
              "      box-shadow: 0px 1px 2px rgba(60, 64, 67, 0.3), 0px 1px 3px 1px rgba(60, 64, 67, 0.15);\n",
              "      fill: #174EA6;\n",
              "    }\n",
              "\n",
              "    [theme=dark] .colab-df-convert {\n",
              "      background-color: #3B4455;\n",
              "      fill: #D2E3FC;\n",
              "    }\n",
              "\n",
              "    [theme=dark] .colab-df-convert:hover {\n",
              "      background-color: #434B5C;\n",
              "      box-shadow: 0px 1px 3px 1px rgba(0, 0, 0, 0.15);\n",
              "      filter: drop-shadow(0px 1px 2px rgba(0, 0, 0, 0.3));\n",
              "      fill: #FFFFFF;\n",
              "    }\n",
              "  </style>\n",
              "\n",
              "      <script>\n",
              "        const buttonEl =\n",
              "          document.querySelector('#df-16899927-2b01-4d80-9e35-30d7812f600d button.colab-df-convert');\n",
              "        buttonEl.style.display =\n",
              "          google.colab.kernel.accessAllowed ? 'block' : 'none';\n",
              "\n",
              "        async function convertToInteractive(key) {\n",
              "          const element = document.querySelector('#df-16899927-2b01-4d80-9e35-30d7812f600d');\n",
              "          const dataTable =\n",
              "            await google.colab.kernel.invokeFunction('convertToInteractive',\n",
              "                                                     [key], {});\n",
              "          if (!dataTable) return;\n",
              "\n",
              "          const docLinkHtml = 'Like what you see? Visit the ' +\n",
              "            '<a target=\"_blank\" href=https://colab.research.google.com/notebooks/data_table.ipynb>data table notebook</a>'\n",
              "            + ' to learn more about interactive tables.';\n",
              "          element.innerHTML = '';\n",
              "          dataTable['output_type'] = 'display_data';\n",
              "          await google.colab.output.renderOutput(dataTable, element);\n",
              "          const docLink = document.createElement('div');\n",
              "          docLink.innerHTML = docLinkHtml;\n",
              "          element.appendChild(docLink);\n",
              "        }\n",
              "      </script>\n",
              "    </div>\n",
              "  </div>\n",
              "  "
            ]
          },
          "metadata": {},
          "execution_count": 118
        }
      ]
    },
    {
      "cell_type": "code",
      "source": [
        "read_html_pandas_data = pd.read_html(str(soup))"
      ],
      "metadata": {
        "id": "9GjcAJUqr65I"
      },
      "execution_count": 119,
      "outputs": []
    },
    {
      "cell_type": "code",
      "source": [
        "read_html_pandas_data = pd.read_html(url)"
      ],
      "metadata": {
        "id": "gVckZ2_csl2h"
      },
      "execution_count": 120,
      "outputs": []
    },
    {
      "cell_type": "code",
      "source": [
        "amazon_dataframe = read_html_pandas_data[0]\n",
        "\n",
        "amazon_dataframe.head()"
      ],
      "metadata": {
        "colab": {
          "base_uri": "https://localhost:8080/",
          "height": 206
        },
        "id": "I4sRUulrtqZH",
        "outputId": "eebca611-f657-4405-9ac6-9336a9225704"
      },
      "execution_count": 121,
      "outputs": [
        {
          "output_type": "execute_result",
          "data": {
            "text/plain": [
              "           Date     Open     High      Low   Close* Adj Close**     Volume\n",
              "0  Jan 01, 2021  3270.00  3363.89  3086.00  3206.20     3206.20   71528900\n",
              "1  Dec 01, 2020  3188.50  3350.65  3072.82  3256.93     3256.93   77556200\n",
              "2  Nov 01, 2020  3061.74  3366.80  2950.12  3168.04     3168.04   90810500\n",
              "3  Oct 01, 2020  3208.00  3496.24  3019.00  3036.15     3036.15  116226100\n",
              "4  Sep 01, 2020  3489.58  3552.25  2871.00  3148.73     3148.73  115899300"
            ],
            "text/html": [
              "\n",
              "  <div id=\"df-72b0d837-a028-40fc-aec8-3f904e4f4017\">\n",
              "    <div class=\"colab-df-container\">\n",
              "      <div>\n",
              "<style scoped>\n",
              "    .dataframe tbody tr th:only-of-type {\n",
              "        vertical-align: middle;\n",
              "    }\n",
              "\n",
              "    .dataframe tbody tr th {\n",
              "        vertical-align: top;\n",
              "    }\n",
              "\n",
              "    .dataframe thead th {\n",
              "        text-align: right;\n",
              "    }\n",
              "</style>\n",
              "<table border=\"1\" class=\"dataframe\">\n",
              "  <thead>\n",
              "    <tr style=\"text-align: right;\">\n",
              "      <th></th>\n",
              "      <th>Date</th>\n",
              "      <th>Open</th>\n",
              "      <th>High</th>\n",
              "      <th>Low</th>\n",
              "      <th>Close*</th>\n",
              "      <th>Adj Close**</th>\n",
              "      <th>Volume</th>\n",
              "    </tr>\n",
              "  </thead>\n",
              "  <tbody>\n",
              "    <tr>\n",
              "      <th>0</th>\n",
              "      <td>Jan 01, 2021</td>\n",
              "      <td>3270.00</td>\n",
              "      <td>3363.89</td>\n",
              "      <td>3086.00</td>\n",
              "      <td>3206.20</td>\n",
              "      <td>3206.20</td>\n",
              "      <td>71528900</td>\n",
              "    </tr>\n",
              "    <tr>\n",
              "      <th>1</th>\n",
              "      <td>Dec 01, 2020</td>\n",
              "      <td>3188.50</td>\n",
              "      <td>3350.65</td>\n",
              "      <td>3072.82</td>\n",
              "      <td>3256.93</td>\n",
              "      <td>3256.93</td>\n",
              "      <td>77556200</td>\n",
              "    </tr>\n",
              "    <tr>\n",
              "      <th>2</th>\n",
              "      <td>Nov 01, 2020</td>\n",
              "      <td>3061.74</td>\n",
              "      <td>3366.80</td>\n",
              "      <td>2950.12</td>\n",
              "      <td>3168.04</td>\n",
              "      <td>3168.04</td>\n",
              "      <td>90810500</td>\n",
              "    </tr>\n",
              "    <tr>\n",
              "      <th>3</th>\n",
              "      <td>Oct 01, 2020</td>\n",
              "      <td>3208.00</td>\n",
              "      <td>3496.24</td>\n",
              "      <td>3019.00</td>\n",
              "      <td>3036.15</td>\n",
              "      <td>3036.15</td>\n",
              "      <td>116226100</td>\n",
              "    </tr>\n",
              "    <tr>\n",
              "      <th>4</th>\n",
              "      <td>Sep 01, 2020</td>\n",
              "      <td>3489.58</td>\n",
              "      <td>3552.25</td>\n",
              "      <td>2871.00</td>\n",
              "      <td>3148.73</td>\n",
              "      <td>3148.73</td>\n",
              "      <td>115899300</td>\n",
              "    </tr>\n",
              "  </tbody>\n",
              "</table>\n",
              "</div>\n",
              "      <button class=\"colab-df-convert\" onclick=\"convertToInteractive('df-72b0d837-a028-40fc-aec8-3f904e4f4017')\"\n",
              "              title=\"Convert this dataframe to an interactive table.\"\n",
              "              style=\"display:none;\">\n",
              "        \n",
              "  <svg xmlns=\"http://www.w3.org/2000/svg\" height=\"24px\"viewBox=\"0 0 24 24\"\n",
              "       width=\"24px\">\n",
              "    <path d=\"M0 0h24v24H0V0z\" fill=\"none\"/>\n",
              "    <path d=\"M18.56 5.44l.94 2.06.94-2.06 2.06-.94-2.06-.94-.94-2.06-.94 2.06-2.06.94zm-11 1L8.5 8.5l.94-2.06 2.06-.94-2.06-.94L8.5 2.5l-.94 2.06-2.06.94zm10 10l.94 2.06.94-2.06 2.06-.94-2.06-.94-.94-2.06-.94 2.06-2.06.94z\"/><path d=\"M17.41 7.96l-1.37-1.37c-.4-.4-.92-.59-1.43-.59-.52 0-1.04.2-1.43.59L10.3 9.45l-7.72 7.72c-.78.78-.78 2.05 0 2.83L4 21.41c.39.39.9.59 1.41.59.51 0 1.02-.2 1.41-.59l7.78-7.78 2.81-2.81c.8-.78.8-2.07 0-2.86zM5.41 20L4 18.59l7.72-7.72 1.47 1.35L5.41 20z\"/>\n",
              "  </svg>\n",
              "      </button>\n",
              "      \n",
              "  <style>\n",
              "    .colab-df-container {\n",
              "      display:flex;\n",
              "      flex-wrap:wrap;\n",
              "      gap: 12px;\n",
              "    }\n",
              "\n",
              "    .colab-df-convert {\n",
              "      background-color: #E8F0FE;\n",
              "      border: none;\n",
              "      border-radius: 50%;\n",
              "      cursor: pointer;\n",
              "      display: none;\n",
              "      fill: #1967D2;\n",
              "      height: 32px;\n",
              "      padding: 0 0 0 0;\n",
              "      width: 32px;\n",
              "    }\n",
              "\n",
              "    .colab-df-convert:hover {\n",
              "      background-color: #E2EBFA;\n",
              "      box-shadow: 0px 1px 2px rgba(60, 64, 67, 0.3), 0px 1px 3px 1px rgba(60, 64, 67, 0.15);\n",
              "      fill: #174EA6;\n",
              "    }\n",
              "\n",
              "    [theme=dark] .colab-df-convert {\n",
              "      background-color: #3B4455;\n",
              "      fill: #D2E3FC;\n",
              "    }\n",
              "\n",
              "    [theme=dark] .colab-df-convert:hover {\n",
              "      background-color: #434B5C;\n",
              "      box-shadow: 0px 1px 3px 1px rgba(0, 0, 0, 0.15);\n",
              "      filter: drop-shadow(0px 1px 2px rgba(0, 0, 0, 0.3));\n",
              "      fill: #FFFFFF;\n",
              "    }\n",
              "  </style>\n",
              "\n",
              "      <script>\n",
              "        const buttonEl =\n",
              "          document.querySelector('#df-72b0d837-a028-40fc-aec8-3f904e4f4017 button.colab-df-convert');\n",
              "        buttonEl.style.display =\n",
              "          google.colab.kernel.accessAllowed ? 'block' : 'none';\n",
              "\n",
              "        async function convertToInteractive(key) {\n",
              "          const element = document.querySelector('#df-72b0d837-a028-40fc-aec8-3f904e4f4017');\n",
              "          const dataTable =\n",
              "            await google.colab.kernel.invokeFunction('convertToInteractive',\n",
              "                                                     [key], {});\n",
              "          if (!dataTable) return;\n",
              "\n",
              "          const docLinkHtml = 'Like what you see? Visit the ' +\n",
              "            '<a target=\"_blank\" href=https://colab.research.google.com/notebooks/data_table.ipynb>data table notebook</a>'\n",
              "            + ' to learn more about interactive tables.';\n",
              "          element.innerHTML = '';\n",
              "          dataTable['output_type'] = 'display_data';\n",
              "          await google.colab.output.renderOutput(dataTable, element);\n",
              "          const docLink = document.createElement('div');\n",
              "          docLink.innerHTML = docLinkHtml;\n",
              "          element.appendChild(docLink);\n",
              "        }\n",
              "      </script>\n",
              "    </div>\n",
              "  </div>\n",
              "  "
            ]
          },
          "metadata": {},
          "execution_count": 121
        }
      ]
    },
    {
      "cell_type": "code",
      "source": [
        "def make_graph(stock_data, revenue_data, stock):\n",
        "    fig = make_subplots(rows=2, cols=1, shared_xaxes=True, subplot_titles=(\"Historical Share Price\", \"Historical Revenue\"), vertical_spacing = .3)\n",
        "    stock_data_specific = stock_data[stock_data.Date <= '2021--06-14']\n",
        "    revenue_data_specific = revenue_data[revenue_data.Date <= '2021-04-30']\n",
        "    fig.add_trace(go.Scatter(x=pd.to_datetime(stock_data_specific.Date, infer_datetime_format=True), y=stock_data_specific.Close.astype(\"float\"), name=\"Share Price\"), row=1, col=1)\n",
        "    fig.add_trace(go.Scatter(x=pd.to_datetime(revenue_data_specific.Date, infer_datetime_format=True), y=revenue_data_specific.Revenue.astype(\"float\"), name=\"Revenue\"), row=2, col=1)\n",
        "    fig.update_xaxes(title_text=\"Date\", row=1, col=1)\n",
        "    fig.update_xaxes(title_text=\"Date\", row=2, col=1)\n",
        "    fig.update_yaxes(title_text=\"Price ($US)\", row=1, col=1)\n",
        "    fig.update_yaxes(title_text=\"Revenue ($US Millions)\", row=2, col=1)\n",
        "    fig.update_layout(showlegend=False,\n",
        "    height=900,\n",
        "    title=stock,\n",
        "    xaxis_rangeslider_visible=True)\n",
        "    fig.show()"
      ],
      "metadata": {
        "id": "XhqmYIVAt2Fc"
      },
      "execution_count": 152,
      "outputs": []
    },
    {
      "cell_type": "code",
      "source": [
        "tesla = yf.Ticker(\"TSLA\")"
      ],
      "metadata": {
        "id": "bdLRaR-TE5VC"
      },
      "execution_count": 123,
      "outputs": []
    },
    {
      "cell_type": "code",
      "source": [
        "tesla_data = tesla.history(period=\"max\")"
      ],
      "metadata": {
        "id": "klAnwB1PE8uv"
      },
      "execution_count": 124,
      "outputs": []
    },
    {
      "cell_type": "code",
      "source": [
        "tesla_data.reset_index(inplace=True)"
      ],
      "metadata": {
        "id": "OnWBSEI_HhEY"
      },
      "execution_count": 125,
      "outputs": []
    },
    {
      "cell_type": "code",
      "source": [
        "tesla_data.head()"
      ],
      "metadata": {
        "colab": {
          "base_uri": "https://localhost:8080/",
          "height": 206
        },
        "id": "9GQyhRY8HrQs",
        "outputId": "11a3c731-14a9-48e9-b3c4-4a0c3c85ce65"
      },
      "execution_count": 126,
      "outputs": [
        {
          "output_type": "execute_result",
          "data": {
            "text/plain": [
              "                       Date      Open      High       Low     Close  \\\n",
              "0 2010-06-29 00:00:00-04:00  1.266667  1.666667  1.169333  1.592667   \n",
              "1 2010-06-30 00:00:00-04:00  1.719333  2.028000  1.553333  1.588667   \n",
              "2 2010-07-01 00:00:00-04:00  1.666667  1.728000  1.351333  1.464000   \n",
              "3 2010-07-02 00:00:00-04:00  1.533333  1.540000  1.247333  1.280000   \n",
              "4 2010-07-06 00:00:00-04:00  1.333333  1.333333  1.055333  1.074000   \n",
              "\n",
              "      Volume  Dividends  Stock Splits  \n",
              "0  281494500        0.0           0.0  \n",
              "1  257806500        0.0           0.0  \n",
              "2  123282000        0.0           0.0  \n",
              "3   77097000        0.0           0.0  \n",
              "4  103003500        0.0           0.0  "
            ],
            "text/html": [
              "\n",
              "  <div id=\"df-aed06031-2216-4914-8b5b-5bf5ab1ebcda\">\n",
              "    <div class=\"colab-df-container\">\n",
              "      <div>\n",
              "<style scoped>\n",
              "    .dataframe tbody tr th:only-of-type {\n",
              "        vertical-align: middle;\n",
              "    }\n",
              "\n",
              "    .dataframe tbody tr th {\n",
              "        vertical-align: top;\n",
              "    }\n",
              "\n",
              "    .dataframe thead th {\n",
              "        text-align: right;\n",
              "    }\n",
              "</style>\n",
              "<table border=\"1\" class=\"dataframe\">\n",
              "  <thead>\n",
              "    <tr style=\"text-align: right;\">\n",
              "      <th></th>\n",
              "      <th>Date</th>\n",
              "      <th>Open</th>\n",
              "      <th>High</th>\n",
              "      <th>Low</th>\n",
              "      <th>Close</th>\n",
              "      <th>Volume</th>\n",
              "      <th>Dividends</th>\n",
              "      <th>Stock Splits</th>\n",
              "    </tr>\n",
              "  </thead>\n",
              "  <tbody>\n",
              "    <tr>\n",
              "      <th>0</th>\n",
              "      <td>2010-06-29 00:00:00-04:00</td>\n",
              "      <td>1.266667</td>\n",
              "      <td>1.666667</td>\n",
              "      <td>1.169333</td>\n",
              "      <td>1.592667</td>\n",
              "      <td>281494500</td>\n",
              "      <td>0.0</td>\n",
              "      <td>0.0</td>\n",
              "    </tr>\n",
              "    <tr>\n",
              "      <th>1</th>\n",
              "      <td>2010-06-30 00:00:00-04:00</td>\n",
              "      <td>1.719333</td>\n",
              "      <td>2.028000</td>\n",
              "      <td>1.553333</td>\n",
              "      <td>1.588667</td>\n",
              "      <td>257806500</td>\n",
              "      <td>0.0</td>\n",
              "      <td>0.0</td>\n",
              "    </tr>\n",
              "    <tr>\n",
              "      <th>2</th>\n",
              "      <td>2010-07-01 00:00:00-04:00</td>\n",
              "      <td>1.666667</td>\n",
              "      <td>1.728000</td>\n",
              "      <td>1.351333</td>\n",
              "      <td>1.464000</td>\n",
              "      <td>123282000</td>\n",
              "      <td>0.0</td>\n",
              "      <td>0.0</td>\n",
              "    </tr>\n",
              "    <tr>\n",
              "      <th>3</th>\n",
              "      <td>2010-07-02 00:00:00-04:00</td>\n",
              "      <td>1.533333</td>\n",
              "      <td>1.540000</td>\n",
              "      <td>1.247333</td>\n",
              "      <td>1.280000</td>\n",
              "      <td>77097000</td>\n",
              "      <td>0.0</td>\n",
              "      <td>0.0</td>\n",
              "    </tr>\n",
              "    <tr>\n",
              "      <th>4</th>\n",
              "      <td>2010-07-06 00:00:00-04:00</td>\n",
              "      <td>1.333333</td>\n",
              "      <td>1.333333</td>\n",
              "      <td>1.055333</td>\n",
              "      <td>1.074000</td>\n",
              "      <td>103003500</td>\n",
              "      <td>0.0</td>\n",
              "      <td>0.0</td>\n",
              "    </tr>\n",
              "  </tbody>\n",
              "</table>\n",
              "</div>\n",
              "      <button class=\"colab-df-convert\" onclick=\"convertToInteractive('df-aed06031-2216-4914-8b5b-5bf5ab1ebcda')\"\n",
              "              title=\"Convert this dataframe to an interactive table.\"\n",
              "              style=\"display:none;\">\n",
              "        \n",
              "  <svg xmlns=\"http://www.w3.org/2000/svg\" height=\"24px\"viewBox=\"0 0 24 24\"\n",
              "       width=\"24px\">\n",
              "    <path d=\"M0 0h24v24H0V0z\" fill=\"none\"/>\n",
              "    <path d=\"M18.56 5.44l.94 2.06.94-2.06 2.06-.94-2.06-.94-.94-2.06-.94 2.06-2.06.94zm-11 1L8.5 8.5l.94-2.06 2.06-.94-2.06-.94L8.5 2.5l-.94 2.06-2.06.94zm10 10l.94 2.06.94-2.06 2.06-.94-2.06-.94-.94-2.06-.94 2.06-2.06.94z\"/><path d=\"M17.41 7.96l-1.37-1.37c-.4-.4-.92-.59-1.43-.59-.52 0-1.04.2-1.43.59L10.3 9.45l-7.72 7.72c-.78.78-.78 2.05 0 2.83L4 21.41c.39.39.9.59 1.41.59.51 0 1.02-.2 1.41-.59l7.78-7.78 2.81-2.81c.8-.78.8-2.07 0-2.86zM5.41 20L4 18.59l7.72-7.72 1.47 1.35L5.41 20z\"/>\n",
              "  </svg>\n",
              "      </button>\n",
              "      \n",
              "  <style>\n",
              "    .colab-df-container {\n",
              "      display:flex;\n",
              "      flex-wrap:wrap;\n",
              "      gap: 12px;\n",
              "    }\n",
              "\n",
              "    .colab-df-convert {\n",
              "      background-color: #E8F0FE;\n",
              "      border: none;\n",
              "      border-radius: 50%;\n",
              "      cursor: pointer;\n",
              "      display: none;\n",
              "      fill: #1967D2;\n",
              "      height: 32px;\n",
              "      padding: 0 0 0 0;\n",
              "      width: 32px;\n",
              "    }\n",
              "\n",
              "    .colab-df-convert:hover {\n",
              "      background-color: #E2EBFA;\n",
              "      box-shadow: 0px 1px 2px rgba(60, 64, 67, 0.3), 0px 1px 3px 1px rgba(60, 64, 67, 0.15);\n",
              "      fill: #174EA6;\n",
              "    }\n",
              "\n",
              "    [theme=dark] .colab-df-convert {\n",
              "      background-color: #3B4455;\n",
              "      fill: #D2E3FC;\n",
              "    }\n",
              "\n",
              "    [theme=dark] .colab-df-convert:hover {\n",
              "      background-color: #434B5C;\n",
              "      box-shadow: 0px 1px 3px 1px rgba(0, 0, 0, 0.15);\n",
              "      filter: drop-shadow(0px 1px 2px rgba(0, 0, 0, 0.3));\n",
              "      fill: #FFFFFF;\n",
              "    }\n",
              "  </style>\n",
              "\n",
              "      <script>\n",
              "        const buttonEl =\n",
              "          document.querySelector('#df-aed06031-2216-4914-8b5b-5bf5ab1ebcda button.colab-df-convert');\n",
              "        buttonEl.style.display =\n",
              "          google.colab.kernel.accessAllowed ? 'block' : 'none';\n",
              "\n",
              "        async function convertToInteractive(key) {\n",
              "          const element = document.querySelector('#df-aed06031-2216-4914-8b5b-5bf5ab1ebcda');\n",
              "          const dataTable =\n",
              "            await google.colab.kernel.invokeFunction('convertToInteractive',\n",
              "                                                     [key], {});\n",
              "          if (!dataTable) return;\n",
              "\n",
              "          const docLinkHtml = 'Like what you see? Visit the ' +\n",
              "            '<a target=\"_blank\" href=https://colab.research.google.com/notebooks/data_table.ipynb>data table notebook</a>'\n",
              "            + ' to learn more about interactive tables.';\n",
              "          element.innerHTML = '';\n",
              "          dataTable['output_type'] = 'display_data';\n",
              "          await google.colab.output.renderOutput(dataTable, element);\n",
              "          const docLink = document.createElement('div');\n",
              "          docLink.innerHTML = docLinkHtml;\n",
              "          element.appendChild(docLink);\n",
              "        }\n",
              "      </script>\n",
              "    </div>\n",
              "  </div>\n",
              "  "
            ]
          },
          "metadata": {},
          "execution_count": 126
        }
      ]
    },
    {
      "cell_type": "code",
      "source": [
        "url = \"https://www.macrotrends.net/stocks/charts/TSLA/tesla/revenue\"\n",
        "\n",
        "html_text = requests.get(url).text"
      ],
      "metadata": {
        "id": "HDpOFjRzE_FS"
      },
      "execution_count": 127,
      "outputs": []
    },
    {
      "cell_type": "code",
      "source": [
        "tesla_soup = BeautifulSoup(html_text, 'lxml')"
      ],
      "metadata": {
        "id": "BKzfYFDwFCLK"
      },
      "execution_count": 128,
      "outputs": []
    },
    {
      "cell_type": "code",
      "source": [
        "tesla_revenue = pd.DataFrame(columns=[\"Date\", \"Revenue\"])\n",
        "tables = soup.find_all('table')"
      ],
      "metadata": {
        "id": "ltQMU2_PFEe-"
      },
      "execution_count": 129,
      "outputs": []
    },
    {
      "cell_type": "code",
      "source": [
        "tesla_tables = tesla_soup.find_all('table')\n",
        "for index,table in enumerate(tesla_tables):\n",
        "    if (\"Tesla Quarterly Revenue\" in str(table)):\n",
        "        tesla_table_index = index"
      ],
      "metadata": {
        "id": "ZsyUR1KkGb5v"
      },
      "execution_count": 130,
      "outputs": []
    },
    {
      "cell_type": "code",
      "source": [
        "\n",
        "for row in tesla_tables[tesla_table_index].tbody.find_all(\"tr\"):\n",
        "    col = row.find_all(\"td\")\n",
        "    if (col !=[]):\n",
        "        date = col[0].text\n",
        "        revenue = col[1].text.replace(\"$\", \"\").replace(\",\", \"\")\n",
        "        tesla_revenue = tesla_revenue.append({\"Date\" : date, \"Revenue\" : revenue}, ignore_index=True)"
      ],
      "metadata": {
        "id": "AtxV1KtOJExS"
      },
      "execution_count": 131,
      "outputs": []
    },
    {
      "cell_type": "code",
      "source": [
        "tesla_revenue.head()  "
      ],
      "metadata": {
        "colab": {
          "base_uri": "https://localhost:8080/",
          "height": 206
        },
        "id": "BUj9CrpDFJbh",
        "outputId": "aa5a3210-6219-437b-8311-12616520cdf8"
      },
      "execution_count": 132,
      "outputs": [
        {
          "output_type": "execute_result",
          "data": {
            "text/plain": [
              "         Date Revenue\n",
              "0  2022-09-30   21454\n",
              "1  2022-06-30   16934\n",
              "2  2022-03-31   18756\n",
              "3  2021-12-31   17719\n",
              "4  2021-09-30   13757"
            ],
            "text/html": [
              "\n",
              "  <div id=\"df-d3e72f0e-67bd-46ac-bfcb-8217f4fb50df\">\n",
              "    <div class=\"colab-df-container\">\n",
              "      <div>\n",
              "<style scoped>\n",
              "    .dataframe tbody tr th:only-of-type {\n",
              "        vertical-align: middle;\n",
              "    }\n",
              "\n",
              "    .dataframe tbody tr th {\n",
              "        vertical-align: top;\n",
              "    }\n",
              "\n",
              "    .dataframe thead th {\n",
              "        text-align: right;\n",
              "    }\n",
              "</style>\n",
              "<table border=\"1\" class=\"dataframe\">\n",
              "  <thead>\n",
              "    <tr style=\"text-align: right;\">\n",
              "      <th></th>\n",
              "      <th>Date</th>\n",
              "      <th>Revenue</th>\n",
              "    </tr>\n",
              "  </thead>\n",
              "  <tbody>\n",
              "    <tr>\n",
              "      <th>0</th>\n",
              "      <td>2022-09-30</td>\n",
              "      <td>21454</td>\n",
              "    </tr>\n",
              "    <tr>\n",
              "      <th>1</th>\n",
              "      <td>2022-06-30</td>\n",
              "      <td>16934</td>\n",
              "    </tr>\n",
              "    <tr>\n",
              "      <th>2</th>\n",
              "      <td>2022-03-31</td>\n",
              "      <td>18756</td>\n",
              "    </tr>\n",
              "    <tr>\n",
              "      <th>3</th>\n",
              "      <td>2021-12-31</td>\n",
              "      <td>17719</td>\n",
              "    </tr>\n",
              "    <tr>\n",
              "      <th>4</th>\n",
              "      <td>2021-09-30</td>\n",
              "      <td>13757</td>\n",
              "    </tr>\n",
              "  </tbody>\n",
              "</table>\n",
              "</div>\n",
              "      <button class=\"colab-df-convert\" onclick=\"convertToInteractive('df-d3e72f0e-67bd-46ac-bfcb-8217f4fb50df')\"\n",
              "              title=\"Convert this dataframe to an interactive table.\"\n",
              "              style=\"display:none;\">\n",
              "        \n",
              "  <svg xmlns=\"http://www.w3.org/2000/svg\" height=\"24px\"viewBox=\"0 0 24 24\"\n",
              "       width=\"24px\">\n",
              "    <path d=\"M0 0h24v24H0V0z\" fill=\"none\"/>\n",
              "    <path d=\"M18.56 5.44l.94 2.06.94-2.06 2.06-.94-2.06-.94-.94-2.06-.94 2.06-2.06.94zm-11 1L8.5 8.5l.94-2.06 2.06-.94-2.06-.94L8.5 2.5l-.94 2.06-2.06.94zm10 10l.94 2.06.94-2.06 2.06-.94-2.06-.94-.94-2.06-.94 2.06-2.06.94z\"/><path d=\"M17.41 7.96l-1.37-1.37c-.4-.4-.92-.59-1.43-.59-.52 0-1.04.2-1.43.59L10.3 9.45l-7.72 7.72c-.78.78-.78 2.05 0 2.83L4 21.41c.39.39.9.59 1.41.59.51 0 1.02-.2 1.41-.59l7.78-7.78 2.81-2.81c.8-.78.8-2.07 0-2.86zM5.41 20L4 18.59l7.72-7.72 1.47 1.35L5.41 20z\"/>\n",
              "  </svg>\n",
              "      </button>\n",
              "      \n",
              "  <style>\n",
              "    .colab-df-container {\n",
              "      display:flex;\n",
              "      flex-wrap:wrap;\n",
              "      gap: 12px;\n",
              "    }\n",
              "\n",
              "    .colab-df-convert {\n",
              "      background-color: #E8F0FE;\n",
              "      border: none;\n",
              "      border-radius: 50%;\n",
              "      cursor: pointer;\n",
              "      display: none;\n",
              "      fill: #1967D2;\n",
              "      height: 32px;\n",
              "      padding: 0 0 0 0;\n",
              "      width: 32px;\n",
              "    }\n",
              "\n",
              "    .colab-df-convert:hover {\n",
              "      background-color: #E2EBFA;\n",
              "      box-shadow: 0px 1px 2px rgba(60, 64, 67, 0.3), 0px 1px 3px 1px rgba(60, 64, 67, 0.15);\n",
              "      fill: #174EA6;\n",
              "    }\n",
              "\n",
              "    [theme=dark] .colab-df-convert {\n",
              "      background-color: #3B4455;\n",
              "      fill: #D2E3FC;\n",
              "    }\n",
              "\n",
              "    [theme=dark] .colab-df-convert:hover {\n",
              "      background-color: #434B5C;\n",
              "      box-shadow: 0px 1px 3px 1px rgba(0, 0, 0, 0.15);\n",
              "      filter: drop-shadow(0px 1px 2px rgba(0, 0, 0, 0.3));\n",
              "      fill: #FFFFFF;\n",
              "    }\n",
              "  </style>\n",
              "\n",
              "      <script>\n",
              "        const buttonEl =\n",
              "          document.querySelector('#df-d3e72f0e-67bd-46ac-bfcb-8217f4fb50df button.colab-df-convert');\n",
              "        buttonEl.style.display =\n",
              "          google.colab.kernel.accessAllowed ? 'block' : 'none';\n",
              "\n",
              "        async function convertToInteractive(key) {\n",
              "          const element = document.querySelector('#df-d3e72f0e-67bd-46ac-bfcb-8217f4fb50df');\n",
              "          const dataTable =\n",
              "            await google.colab.kernel.invokeFunction('convertToInteractive',\n",
              "                                                     [key], {});\n",
              "          if (!dataTable) return;\n",
              "\n",
              "          const docLinkHtml = 'Like what you see? Visit the ' +\n",
              "            '<a target=\"_blank\" href=https://colab.research.google.com/notebooks/data_table.ipynb>data table notebook</a>'\n",
              "            + ' to learn more about interactive tables.';\n",
              "          element.innerHTML = '';\n",
              "          dataTable['output_type'] = 'display_data';\n",
              "          await google.colab.output.renderOutput(dataTable, element);\n",
              "          const docLink = document.createElement('div');\n",
              "          docLink.innerHTML = docLinkHtml;\n",
              "          element.appendChild(docLink);\n",
              "        }\n",
              "      </script>\n",
              "    </div>\n",
              "  </div>\n",
              "  "
            ]
          },
          "metadata": {},
          "execution_count": 132
        }
      ]
    },
    {
      "cell_type": "code",
      "source": [
        "tesla_revenue = tesla_revenue[tesla_revenue['Revenue'] != \"\"]\n",
        "tesla_revenue"
      ],
      "metadata": {
        "colab": {
          "base_uri": "https://localhost:8080/",
          "height": 1000
        },
        "id": "V0P9wJ-wFvjD",
        "outputId": "979f603f-fd5a-44fc-dd31-582a4001ecb4"
      },
      "execution_count": 133,
      "outputs": [
        {
          "output_type": "execute_result",
          "data": {
            "text/plain": [
              "          Date Revenue\n",
              "0   2022-09-30   21454\n",
              "1   2022-06-30   16934\n",
              "2   2022-03-31   18756\n",
              "3   2021-12-31   17719\n",
              "4   2021-09-30   13757\n",
              "5   2021-06-30   11958\n",
              "6   2021-03-31   10389\n",
              "7   2020-12-31   10744\n",
              "8   2020-09-30    8771\n",
              "9   2020-06-30    6036\n",
              "10  2020-03-31    5985\n",
              "11  2019-12-31    7384\n",
              "12  2019-09-30    6303\n",
              "13  2019-06-30    6350\n",
              "14  2019-03-31    4541\n",
              "15  2018-12-31    7226\n",
              "16  2018-09-30    6824\n",
              "17  2018-06-30    4002\n",
              "18  2018-03-31    3409\n",
              "19  2017-12-31    3288\n",
              "20  2017-09-30    2985\n",
              "21  2017-06-30    2790\n",
              "22  2017-03-31    2696\n",
              "23  2016-12-31    2285\n",
              "24  2016-09-30    2298\n",
              "25  2016-06-30    1270\n",
              "26  2016-03-31    1147\n",
              "27  2015-12-31    1214\n",
              "28  2015-09-30     937\n",
              "29  2015-06-30     955\n",
              "30  2015-03-31     940\n",
              "31  2014-12-31     957\n",
              "32  2014-09-30     852\n",
              "33  2014-06-30     769\n",
              "34  2014-03-31     621\n",
              "35  2013-12-31     615\n",
              "36  2013-09-30     431\n",
              "37  2013-06-30     405\n",
              "38  2013-03-31     562\n",
              "39  2012-12-31     306\n",
              "40  2012-09-30      50\n",
              "41  2012-06-30      27\n",
              "42  2012-03-31      30\n",
              "43  2011-12-31      39\n",
              "44  2011-09-30      58\n",
              "45  2011-06-30      58\n",
              "46  2011-03-31      49\n",
              "47  2010-12-31      36\n",
              "48  2010-09-30      31\n",
              "49  2010-06-30      28\n",
              "50  2010-03-31      21\n",
              "52  2009-09-30      46\n",
              "53  2009-06-30      27"
            ],
            "text/html": [
              "\n",
              "  <div id=\"df-0d299733-1eb3-4ae5-b7d8-111ce444b71d\">\n",
              "    <div class=\"colab-df-container\">\n",
              "      <div>\n",
              "<style scoped>\n",
              "    .dataframe tbody tr th:only-of-type {\n",
              "        vertical-align: middle;\n",
              "    }\n",
              "\n",
              "    .dataframe tbody tr th {\n",
              "        vertical-align: top;\n",
              "    }\n",
              "\n",
              "    .dataframe thead th {\n",
              "        text-align: right;\n",
              "    }\n",
              "</style>\n",
              "<table border=\"1\" class=\"dataframe\">\n",
              "  <thead>\n",
              "    <tr style=\"text-align: right;\">\n",
              "      <th></th>\n",
              "      <th>Date</th>\n",
              "      <th>Revenue</th>\n",
              "    </tr>\n",
              "  </thead>\n",
              "  <tbody>\n",
              "    <tr>\n",
              "      <th>0</th>\n",
              "      <td>2022-09-30</td>\n",
              "      <td>21454</td>\n",
              "    </tr>\n",
              "    <tr>\n",
              "      <th>1</th>\n",
              "      <td>2022-06-30</td>\n",
              "      <td>16934</td>\n",
              "    </tr>\n",
              "    <tr>\n",
              "      <th>2</th>\n",
              "      <td>2022-03-31</td>\n",
              "      <td>18756</td>\n",
              "    </tr>\n",
              "    <tr>\n",
              "      <th>3</th>\n",
              "      <td>2021-12-31</td>\n",
              "      <td>17719</td>\n",
              "    </tr>\n",
              "    <tr>\n",
              "      <th>4</th>\n",
              "      <td>2021-09-30</td>\n",
              "      <td>13757</td>\n",
              "    </tr>\n",
              "    <tr>\n",
              "      <th>5</th>\n",
              "      <td>2021-06-30</td>\n",
              "      <td>11958</td>\n",
              "    </tr>\n",
              "    <tr>\n",
              "      <th>6</th>\n",
              "      <td>2021-03-31</td>\n",
              "      <td>10389</td>\n",
              "    </tr>\n",
              "    <tr>\n",
              "      <th>7</th>\n",
              "      <td>2020-12-31</td>\n",
              "      <td>10744</td>\n",
              "    </tr>\n",
              "    <tr>\n",
              "      <th>8</th>\n",
              "      <td>2020-09-30</td>\n",
              "      <td>8771</td>\n",
              "    </tr>\n",
              "    <tr>\n",
              "      <th>9</th>\n",
              "      <td>2020-06-30</td>\n",
              "      <td>6036</td>\n",
              "    </tr>\n",
              "    <tr>\n",
              "      <th>10</th>\n",
              "      <td>2020-03-31</td>\n",
              "      <td>5985</td>\n",
              "    </tr>\n",
              "    <tr>\n",
              "      <th>11</th>\n",
              "      <td>2019-12-31</td>\n",
              "      <td>7384</td>\n",
              "    </tr>\n",
              "    <tr>\n",
              "      <th>12</th>\n",
              "      <td>2019-09-30</td>\n",
              "      <td>6303</td>\n",
              "    </tr>\n",
              "    <tr>\n",
              "      <th>13</th>\n",
              "      <td>2019-06-30</td>\n",
              "      <td>6350</td>\n",
              "    </tr>\n",
              "    <tr>\n",
              "      <th>14</th>\n",
              "      <td>2019-03-31</td>\n",
              "      <td>4541</td>\n",
              "    </tr>\n",
              "    <tr>\n",
              "      <th>15</th>\n",
              "      <td>2018-12-31</td>\n",
              "      <td>7226</td>\n",
              "    </tr>\n",
              "    <tr>\n",
              "      <th>16</th>\n",
              "      <td>2018-09-30</td>\n",
              "      <td>6824</td>\n",
              "    </tr>\n",
              "    <tr>\n",
              "      <th>17</th>\n",
              "      <td>2018-06-30</td>\n",
              "      <td>4002</td>\n",
              "    </tr>\n",
              "    <tr>\n",
              "      <th>18</th>\n",
              "      <td>2018-03-31</td>\n",
              "      <td>3409</td>\n",
              "    </tr>\n",
              "    <tr>\n",
              "      <th>19</th>\n",
              "      <td>2017-12-31</td>\n",
              "      <td>3288</td>\n",
              "    </tr>\n",
              "    <tr>\n",
              "      <th>20</th>\n",
              "      <td>2017-09-30</td>\n",
              "      <td>2985</td>\n",
              "    </tr>\n",
              "    <tr>\n",
              "      <th>21</th>\n",
              "      <td>2017-06-30</td>\n",
              "      <td>2790</td>\n",
              "    </tr>\n",
              "    <tr>\n",
              "      <th>22</th>\n",
              "      <td>2017-03-31</td>\n",
              "      <td>2696</td>\n",
              "    </tr>\n",
              "    <tr>\n",
              "      <th>23</th>\n",
              "      <td>2016-12-31</td>\n",
              "      <td>2285</td>\n",
              "    </tr>\n",
              "    <tr>\n",
              "      <th>24</th>\n",
              "      <td>2016-09-30</td>\n",
              "      <td>2298</td>\n",
              "    </tr>\n",
              "    <tr>\n",
              "      <th>25</th>\n",
              "      <td>2016-06-30</td>\n",
              "      <td>1270</td>\n",
              "    </tr>\n",
              "    <tr>\n",
              "      <th>26</th>\n",
              "      <td>2016-03-31</td>\n",
              "      <td>1147</td>\n",
              "    </tr>\n",
              "    <tr>\n",
              "      <th>27</th>\n",
              "      <td>2015-12-31</td>\n",
              "      <td>1214</td>\n",
              "    </tr>\n",
              "    <tr>\n",
              "      <th>28</th>\n",
              "      <td>2015-09-30</td>\n",
              "      <td>937</td>\n",
              "    </tr>\n",
              "    <tr>\n",
              "      <th>29</th>\n",
              "      <td>2015-06-30</td>\n",
              "      <td>955</td>\n",
              "    </tr>\n",
              "    <tr>\n",
              "      <th>30</th>\n",
              "      <td>2015-03-31</td>\n",
              "      <td>940</td>\n",
              "    </tr>\n",
              "    <tr>\n",
              "      <th>31</th>\n",
              "      <td>2014-12-31</td>\n",
              "      <td>957</td>\n",
              "    </tr>\n",
              "    <tr>\n",
              "      <th>32</th>\n",
              "      <td>2014-09-30</td>\n",
              "      <td>852</td>\n",
              "    </tr>\n",
              "    <tr>\n",
              "      <th>33</th>\n",
              "      <td>2014-06-30</td>\n",
              "      <td>769</td>\n",
              "    </tr>\n",
              "    <tr>\n",
              "      <th>34</th>\n",
              "      <td>2014-03-31</td>\n",
              "      <td>621</td>\n",
              "    </tr>\n",
              "    <tr>\n",
              "      <th>35</th>\n",
              "      <td>2013-12-31</td>\n",
              "      <td>615</td>\n",
              "    </tr>\n",
              "    <tr>\n",
              "      <th>36</th>\n",
              "      <td>2013-09-30</td>\n",
              "      <td>431</td>\n",
              "    </tr>\n",
              "    <tr>\n",
              "      <th>37</th>\n",
              "      <td>2013-06-30</td>\n",
              "      <td>405</td>\n",
              "    </tr>\n",
              "    <tr>\n",
              "      <th>38</th>\n",
              "      <td>2013-03-31</td>\n",
              "      <td>562</td>\n",
              "    </tr>\n",
              "    <tr>\n",
              "      <th>39</th>\n",
              "      <td>2012-12-31</td>\n",
              "      <td>306</td>\n",
              "    </tr>\n",
              "    <tr>\n",
              "      <th>40</th>\n",
              "      <td>2012-09-30</td>\n",
              "      <td>50</td>\n",
              "    </tr>\n",
              "    <tr>\n",
              "      <th>41</th>\n",
              "      <td>2012-06-30</td>\n",
              "      <td>27</td>\n",
              "    </tr>\n",
              "    <tr>\n",
              "      <th>42</th>\n",
              "      <td>2012-03-31</td>\n",
              "      <td>30</td>\n",
              "    </tr>\n",
              "    <tr>\n",
              "      <th>43</th>\n",
              "      <td>2011-12-31</td>\n",
              "      <td>39</td>\n",
              "    </tr>\n",
              "    <tr>\n",
              "      <th>44</th>\n",
              "      <td>2011-09-30</td>\n",
              "      <td>58</td>\n",
              "    </tr>\n",
              "    <tr>\n",
              "      <th>45</th>\n",
              "      <td>2011-06-30</td>\n",
              "      <td>58</td>\n",
              "    </tr>\n",
              "    <tr>\n",
              "      <th>46</th>\n",
              "      <td>2011-03-31</td>\n",
              "      <td>49</td>\n",
              "    </tr>\n",
              "    <tr>\n",
              "      <th>47</th>\n",
              "      <td>2010-12-31</td>\n",
              "      <td>36</td>\n",
              "    </tr>\n",
              "    <tr>\n",
              "      <th>48</th>\n",
              "      <td>2010-09-30</td>\n",
              "      <td>31</td>\n",
              "    </tr>\n",
              "    <tr>\n",
              "      <th>49</th>\n",
              "      <td>2010-06-30</td>\n",
              "      <td>28</td>\n",
              "    </tr>\n",
              "    <tr>\n",
              "      <th>50</th>\n",
              "      <td>2010-03-31</td>\n",
              "      <td>21</td>\n",
              "    </tr>\n",
              "    <tr>\n",
              "      <th>52</th>\n",
              "      <td>2009-09-30</td>\n",
              "      <td>46</td>\n",
              "    </tr>\n",
              "    <tr>\n",
              "      <th>53</th>\n",
              "      <td>2009-06-30</td>\n",
              "      <td>27</td>\n",
              "    </tr>\n",
              "  </tbody>\n",
              "</table>\n",
              "</div>\n",
              "      <button class=\"colab-df-convert\" onclick=\"convertToInteractive('df-0d299733-1eb3-4ae5-b7d8-111ce444b71d')\"\n",
              "              title=\"Convert this dataframe to an interactive table.\"\n",
              "              style=\"display:none;\">\n",
              "        \n",
              "  <svg xmlns=\"http://www.w3.org/2000/svg\" height=\"24px\"viewBox=\"0 0 24 24\"\n",
              "       width=\"24px\">\n",
              "    <path d=\"M0 0h24v24H0V0z\" fill=\"none\"/>\n",
              "    <path d=\"M18.56 5.44l.94 2.06.94-2.06 2.06-.94-2.06-.94-.94-2.06-.94 2.06-2.06.94zm-11 1L8.5 8.5l.94-2.06 2.06-.94-2.06-.94L8.5 2.5l-.94 2.06-2.06.94zm10 10l.94 2.06.94-2.06 2.06-.94-2.06-.94-.94-2.06-.94 2.06-2.06.94z\"/><path d=\"M17.41 7.96l-1.37-1.37c-.4-.4-.92-.59-1.43-.59-.52 0-1.04.2-1.43.59L10.3 9.45l-7.72 7.72c-.78.78-.78 2.05 0 2.83L4 21.41c.39.39.9.59 1.41.59.51 0 1.02-.2 1.41-.59l7.78-7.78 2.81-2.81c.8-.78.8-2.07 0-2.86zM5.41 20L4 18.59l7.72-7.72 1.47 1.35L5.41 20z\"/>\n",
              "  </svg>\n",
              "      </button>\n",
              "      \n",
              "  <style>\n",
              "    .colab-df-container {\n",
              "      display:flex;\n",
              "      flex-wrap:wrap;\n",
              "      gap: 12px;\n",
              "    }\n",
              "\n",
              "    .colab-df-convert {\n",
              "      background-color: #E8F0FE;\n",
              "      border: none;\n",
              "      border-radius: 50%;\n",
              "      cursor: pointer;\n",
              "      display: none;\n",
              "      fill: #1967D2;\n",
              "      height: 32px;\n",
              "      padding: 0 0 0 0;\n",
              "      width: 32px;\n",
              "    }\n",
              "\n",
              "    .colab-df-convert:hover {\n",
              "      background-color: #E2EBFA;\n",
              "      box-shadow: 0px 1px 2px rgba(60, 64, 67, 0.3), 0px 1px 3px 1px rgba(60, 64, 67, 0.15);\n",
              "      fill: #174EA6;\n",
              "    }\n",
              "\n",
              "    [theme=dark] .colab-df-convert {\n",
              "      background-color: #3B4455;\n",
              "      fill: #D2E3FC;\n",
              "    }\n",
              "\n",
              "    [theme=dark] .colab-df-convert:hover {\n",
              "      background-color: #434B5C;\n",
              "      box-shadow: 0px 1px 3px 1px rgba(0, 0, 0, 0.15);\n",
              "      filter: drop-shadow(0px 1px 2px rgba(0, 0, 0, 0.3));\n",
              "      fill: #FFFFFF;\n",
              "    }\n",
              "  </style>\n",
              "\n",
              "      <script>\n",
              "        const buttonEl =\n",
              "          document.querySelector('#df-0d299733-1eb3-4ae5-b7d8-111ce444b71d button.colab-df-convert');\n",
              "        buttonEl.style.display =\n",
              "          google.colab.kernel.accessAllowed ? 'block' : 'none';\n",
              "\n",
              "        async function convertToInteractive(key) {\n",
              "          const element = document.querySelector('#df-0d299733-1eb3-4ae5-b7d8-111ce444b71d');\n",
              "          const dataTable =\n",
              "            await google.colab.kernel.invokeFunction('convertToInteractive',\n",
              "                                                     [key], {});\n",
              "          if (!dataTable) return;\n",
              "\n",
              "          const docLinkHtml = 'Like what you see? Visit the ' +\n",
              "            '<a target=\"_blank\" href=https://colab.research.google.com/notebooks/data_table.ipynb>data table notebook</a>'\n",
              "            + ' to learn more about interactive tables.';\n",
              "          element.innerHTML = '';\n",
              "          dataTable['output_type'] = 'display_data';\n",
              "          await google.colab.output.renderOutput(dataTable, element);\n",
              "          const docLink = document.createElement('div');\n",
              "          docLink.innerHTML = docLinkHtml;\n",
              "          element.appendChild(docLink);\n",
              "        }\n",
              "      </script>\n",
              "    </div>\n",
              "  </div>\n",
              "  "
            ]
          },
          "metadata": {},
          "execution_count": 133
        }
      ]
    },
    {
      "cell_type": "code",
      "source": [
        "tesla_revenue[\"Revenue\"] = tesla_revenue[\"Revenue\"].str.replace(',|\\$',\"\")"
      ],
      "metadata": {
        "colab": {
          "base_uri": "https://localhost:8080/"
        },
        "id": "Cpk8qnjqGDI0",
        "outputId": "04322236-8df8-4e7e-9462-b9118c10c701"
      },
      "execution_count": 134,
      "outputs": [
        {
          "output_type": "stream",
          "name": "stderr",
          "text": [
            "<ipython-input-134-66ae43d15b40>:1: FutureWarning: The default value of regex will change from True to False in a future version.\n",
            "  tesla_revenue[\"Revenue\"] = tesla_revenue[\"Revenue\"].str.replace(',|\\$',\"\")\n"
          ]
        }
      ]
    },
    {
      "cell_type": "code",
      "source": [
        "tesla_revenue.tail()\n"
      ],
      "metadata": {
        "colab": {
          "base_uri": "https://localhost:8080/",
          "height": 206
        },
        "id": "0VNWdl3LGJ7h",
        "outputId": "907e490a-2931-45af-b63e-11abc0d7f053"
      },
      "execution_count": 135,
      "outputs": [
        {
          "output_type": "execute_result",
          "data": {
            "text/plain": [
              "          Date Revenue\n",
              "48  2010-09-30      31\n",
              "49  2010-06-30      28\n",
              "50  2010-03-31      21\n",
              "52  2009-09-30      46\n",
              "53  2009-06-30      27"
            ],
            "text/html": [
              "\n",
              "  <div id=\"df-598b051f-b2b7-4c60-97f8-7feaeb0a41e4\">\n",
              "    <div class=\"colab-df-container\">\n",
              "      <div>\n",
              "<style scoped>\n",
              "    .dataframe tbody tr th:only-of-type {\n",
              "        vertical-align: middle;\n",
              "    }\n",
              "\n",
              "    .dataframe tbody tr th {\n",
              "        vertical-align: top;\n",
              "    }\n",
              "\n",
              "    .dataframe thead th {\n",
              "        text-align: right;\n",
              "    }\n",
              "</style>\n",
              "<table border=\"1\" class=\"dataframe\">\n",
              "  <thead>\n",
              "    <tr style=\"text-align: right;\">\n",
              "      <th></th>\n",
              "      <th>Date</th>\n",
              "      <th>Revenue</th>\n",
              "    </tr>\n",
              "  </thead>\n",
              "  <tbody>\n",
              "    <tr>\n",
              "      <th>48</th>\n",
              "      <td>2010-09-30</td>\n",
              "      <td>31</td>\n",
              "    </tr>\n",
              "    <tr>\n",
              "      <th>49</th>\n",
              "      <td>2010-06-30</td>\n",
              "      <td>28</td>\n",
              "    </tr>\n",
              "    <tr>\n",
              "      <th>50</th>\n",
              "      <td>2010-03-31</td>\n",
              "      <td>21</td>\n",
              "    </tr>\n",
              "    <tr>\n",
              "      <th>52</th>\n",
              "      <td>2009-09-30</td>\n",
              "      <td>46</td>\n",
              "    </tr>\n",
              "    <tr>\n",
              "      <th>53</th>\n",
              "      <td>2009-06-30</td>\n",
              "      <td>27</td>\n",
              "    </tr>\n",
              "  </tbody>\n",
              "</table>\n",
              "</div>\n",
              "      <button class=\"colab-df-convert\" onclick=\"convertToInteractive('df-598b051f-b2b7-4c60-97f8-7feaeb0a41e4')\"\n",
              "              title=\"Convert this dataframe to an interactive table.\"\n",
              "              style=\"display:none;\">\n",
              "        \n",
              "  <svg xmlns=\"http://www.w3.org/2000/svg\" height=\"24px\"viewBox=\"0 0 24 24\"\n",
              "       width=\"24px\">\n",
              "    <path d=\"M0 0h24v24H0V0z\" fill=\"none\"/>\n",
              "    <path d=\"M18.56 5.44l.94 2.06.94-2.06 2.06-.94-2.06-.94-.94-2.06-.94 2.06-2.06.94zm-11 1L8.5 8.5l.94-2.06 2.06-.94-2.06-.94L8.5 2.5l-.94 2.06-2.06.94zm10 10l.94 2.06.94-2.06 2.06-.94-2.06-.94-.94-2.06-.94 2.06-2.06.94z\"/><path d=\"M17.41 7.96l-1.37-1.37c-.4-.4-.92-.59-1.43-.59-.52 0-1.04.2-1.43.59L10.3 9.45l-7.72 7.72c-.78.78-.78 2.05 0 2.83L4 21.41c.39.39.9.59 1.41.59.51 0 1.02-.2 1.41-.59l7.78-7.78 2.81-2.81c.8-.78.8-2.07 0-2.86zM5.41 20L4 18.59l7.72-7.72 1.47 1.35L5.41 20z\"/>\n",
              "  </svg>\n",
              "      </button>\n",
              "      \n",
              "  <style>\n",
              "    .colab-df-container {\n",
              "      display:flex;\n",
              "      flex-wrap:wrap;\n",
              "      gap: 12px;\n",
              "    }\n",
              "\n",
              "    .colab-df-convert {\n",
              "      background-color: #E8F0FE;\n",
              "      border: none;\n",
              "      border-radius: 50%;\n",
              "      cursor: pointer;\n",
              "      display: none;\n",
              "      fill: #1967D2;\n",
              "      height: 32px;\n",
              "      padding: 0 0 0 0;\n",
              "      width: 32px;\n",
              "    }\n",
              "\n",
              "    .colab-df-convert:hover {\n",
              "      background-color: #E2EBFA;\n",
              "      box-shadow: 0px 1px 2px rgba(60, 64, 67, 0.3), 0px 1px 3px 1px rgba(60, 64, 67, 0.15);\n",
              "      fill: #174EA6;\n",
              "    }\n",
              "\n",
              "    [theme=dark] .colab-df-convert {\n",
              "      background-color: #3B4455;\n",
              "      fill: #D2E3FC;\n",
              "    }\n",
              "\n",
              "    [theme=dark] .colab-df-convert:hover {\n",
              "      background-color: #434B5C;\n",
              "      box-shadow: 0px 1px 3px 1px rgba(0, 0, 0, 0.15);\n",
              "      filter: drop-shadow(0px 1px 2px rgba(0, 0, 0, 0.3));\n",
              "      fill: #FFFFFF;\n",
              "    }\n",
              "  </style>\n",
              "\n",
              "      <script>\n",
              "        const buttonEl =\n",
              "          document.querySelector('#df-598b051f-b2b7-4c60-97f8-7feaeb0a41e4 button.colab-df-convert');\n",
              "        buttonEl.style.display =\n",
              "          google.colab.kernel.accessAllowed ? 'block' : 'none';\n",
              "\n",
              "        async function convertToInteractive(key) {\n",
              "          const element = document.querySelector('#df-598b051f-b2b7-4c60-97f8-7feaeb0a41e4');\n",
              "          const dataTable =\n",
              "            await google.colab.kernel.invokeFunction('convertToInteractive',\n",
              "                                                     [key], {});\n",
              "          if (!dataTable) return;\n",
              "\n",
              "          const docLinkHtml = 'Like what you see? Visit the ' +\n",
              "            '<a target=\"_blank\" href=https://colab.research.google.com/notebooks/data_table.ipynb>data table notebook</a>'\n",
              "            + ' to learn more about interactive tables.';\n",
              "          element.innerHTML = '';\n",
              "          dataTable['output_type'] = 'display_data';\n",
              "          await google.colab.output.renderOutput(dataTable, element);\n",
              "          const docLink = document.createElement('div');\n",
              "          docLink.innerHTML = docLinkHtml;\n",
              "          element.appendChild(docLink);\n",
              "        }\n",
              "      </script>\n",
              "    </div>\n",
              "  </div>\n",
              "  "
            ]
          },
          "metadata": {},
          "execution_count": 135
        }
      ]
    },
    {
      "cell_type": "markdown",
      "source": [
        "# graph of tesla stock"
      ],
      "metadata": {
        "id": "jY5bgwZ-J7Pf"
      }
    },
    {
      "cell_type": "code",
      "source": [
        "make_graph(tesla_data, tesla_revenue, 'Tesla')\n"
      ],
      "metadata": {
        "colab": {
          "base_uri": "https://localhost:8080/",
          "height": 917
        },
        "id": "0TQxi9XdIWNu",
        "outputId": "262052c7-872f-4759-e521-234f5dbc7f64"
      },
      "execution_count": 147,
      "outputs": [
        {
          "output_type": "display_data",
          "data": {
            "text/html": [
              "<html>\n",
              "<head><meta charset=\"utf-8\" /></head>\n",
              "<body>\n",
              "    <div>            <script src=\"https://cdnjs.cloudflare.com/ajax/libs/mathjax/2.7.5/MathJax.js?config=TeX-AMS-MML_SVG\"></script><script type=\"text/javascript\">if (window.MathJax) {MathJax.Hub.Config({SVG: {font: \"STIX-Web\"}});}</script>                <script type=\"text/javascript\">window.PlotlyConfig = {MathJaxConfig: 'local'};</script>\n",
              "        <script src=\"https://cdn.plot.ly/plotly-2.8.3.min.js\"></script>                <div id=\"cbbce525-c2d5-4235-a6c2-1940ad7b6223\" class=\"plotly-graph-div\" style=\"height:900px; width:100%;\"></div>            <script type=\"text/javascript\">                                    window.PLOTLYENV=window.PLOTLYENV || {};                                    if (document.getElementById(\"cbbce525-c2d5-4235-a6c2-1940ad7b6223\")) {                    Plotly.newPlot(                        \"cbbce525-c2d5-4235-a6c2-1940ad7b6223\",                        [{\"name\":\"Share Price\",\"x\":[\"2010-06-29T00:00:00-04:00\",\"2010-06-30T00:00:00-04:00\",\"2010-07-01T00:00:00-04:00\",\"2010-07-02T00:00:00-04:00\",\"2010-07-06T00:00:00-04:00\",\"2010-07-07T00:00:00-04:00\",\"2010-07-08T00:00:00-04:00\",\"2010-07-09T00:00:00-04:00\",\"2010-07-12T00:00:00-04:00\",\"2010-07-13T00:00:00-04:00\",\"2010-07-14T00:00:00-04:00\",\"2010-07-15T00:00:00-04:00\",\"2010-07-16T00:00:00-04:00\",\"2010-07-19T00:00:00-04:00\",\"2010-07-20T00:00:00-04:00\",\"2010-07-21T00:00:00-04:00\",\"2010-07-22T00:00:00-04:00\",\"2010-07-23T00:00:00-04:00\",\"2010-07-26T00:00:00-04:00\",\"2010-07-27T00:00:00-04:00\",\"2010-07-28T00:00:00-04:00\",\"2010-07-29T00:00:00-04:00\",\"2010-07-30T00:00:00-04:00\",\"2010-08-02T00:00:00-04:00\",\"2010-08-03T00:00:00-04:00\",\"2010-08-04T00:00:00-04:00\",\"2010-08-05T00:00:00-04:00\",\"2010-08-06T00:00:00-04:00\",\"2010-08-09T00:00:00-04:00\",\"2010-08-10T00:00:00-04:00\",\"2010-08-11T00:00:00-04:00\",\"2010-08-12T00:00:00-04:00\",\"2010-08-13T00:00:00-04:00\",\"2010-08-16T00:00:00-04:00\",\"2010-08-17T00:00:00-04:00\",\"2010-08-18T00:00:00-04:00\",\"2010-08-19T00:00:00-04:00\",\"2010-08-20T00:00:00-04:00\",\"2010-08-23T00:00:00-04:00\",\"2010-08-24T00:00:00-04:00\",\"2010-08-25T00:00:00-04:00\",\"2010-08-26T00:00:00-04:00\",\"2010-08-27T00:00:00-04:00\",\"2010-08-30T00:00:00-04:00\",\"2010-08-31T00:00:00-04:00\",\"2010-09-01T00:00:00-04:00\",\"2010-09-02T00:00:00-04:00\",\"2010-09-03T00:00:00-04:00\",\"2010-09-07T00:00:00-04:00\",\"2010-09-08T00:00:00-04:00\",\"2010-09-09T00:00:00-04:00\",\"2010-09-10T00:00:00-04:00\",\"2010-09-13T00:00:00-04:00\",\"2010-09-14T00:00:00-04:00\",\"2010-09-15T00:00:00-04:00\",\"2010-09-16T00:00:00-04:00\",\"2010-09-17T00:00:00-04:00\",\"2010-09-20T00:00:00-04:00\",\"2010-09-21T00:00:00-04:00\",\"2010-09-22T00:00:00-04:00\",\"2010-09-23T00:00:00-04:00\",\"2010-09-24T00:00:00-04:00\",\"2010-09-27T00:00:00-04:00\",\"2010-09-28T00:00:00-04:00\",\"2010-09-29T00:00:00-04:00\",\"2010-09-30T00:00:00-04:00\",\"2010-10-01T00:00:00-04:00\",\"2010-10-04T00:00:00-04:00\",\"2010-10-05T00:00:00-04:00\",\"2010-10-06T00:00:00-04:00\",\"2010-10-07T00:00:00-04:00\",\"2010-10-08T00:00:00-04:00\",\"2010-10-11T00:00:00-04:00\",\"2010-10-12T00:00:00-04:00\",\"2010-10-13T00:00:00-04:00\",\"2010-10-14T00:00:00-04:00\",\"2010-10-15T00:00:00-04:00\",\"2010-10-18T00:00:00-04:00\",\"2010-10-19T00:00:00-04:00\",\"2010-10-20T00:00:00-04:00\",\"2010-10-21T00:00:00-04:00\",\"2010-10-22T00:00:00-04:00\",\"2010-10-25T00:00:00-04:00\",\"2010-10-26T00:00:00-04:00\",\"2010-10-27T00:00:00-04:00\",\"2010-10-28T00:00:00-04:00\",\"2010-10-29T00:00:00-04:00\",\"2010-11-01T00:00:00-04:00\",\"2010-11-02T00:00:00-04:00\",\"2010-11-03T00:00:00-04:00\",\"2010-11-04T00:00:00-04:00\",\"2010-11-05T00:00:00-04:00\",\"2010-11-08T00:00:00-05:00\",\"2010-11-09T00:00:00-05:00\",\"2010-11-10T00:00:00-05:00\",\"2010-11-11T00:00:00-05:00\",\"2010-11-12T00:00:00-05:00\",\"2010-11-15T00:00:00-05:00\",\"2010-11-16T00:00:00-05:00\",\"2010-11-17T00:00:00-05:00\",\"2010-11-18T00:00:00-05:00\",\"2010-11-19T00:00:00-05:00\",\"2010-11-22T00:00:00-05:00\",\"2010-11-23T00:00:00-05:00\",\"2010-11-24T00:00:00-05:00\",\"2010-11-26T00:00:00-05:00\",\"2010-11-29T00:00:00-05:00\",\"2010-11-30T00:00:00-05:00\",\"2010-12-01T00:00:00-05:00\",\"2010-12-02T00:00:00-05:00\",\"2010-12-03T00:00:00-05:00\",\"2010-12-06T00:00:00-05:00\",\"2010-12-07T00:00:00-05:00\",\"2010-12-08T00:00:00-05:00\",\"2010-12-09T00:00:00-05:00\",\"2010-12-10T00:00:00-05:00\",\"2010-12-13T00:00:00-05:00\",\"2010-12-14T00:00:00-05:00\",\"2010-12-15T00:00:00-05:00\",\"2010-12-16T00:00:00-05:00\",\"2010-12-17T00:00:00-05:00\",\"2010-12-20T00:00:00-05:00\",\"2010-12-21T00:00:00-05:00\",\"2010-12-22T00:00:00-05:00\",\"2010-12-23T00:00:00-05:00\",\"2010-12-27T00:00:00-05:00\",\"2010-12-28T00:00:00-05:00\",\"2010-12-29T00:00:00-05:00\",\"2010-12-30T00:00:00-05:00\",\"2010-12-31T00:00:00-05:00\",\"2011-01-03T00:00:00-05:00\",\"2011-01-04T00:00:00-05:00\",\"2011-01-05T00:00:00-05:00\",\"2011-01-06T00:00:00-05:00\",\"2011-01-07T00:00:00-05:00\",\"2011-01-10T00:00:00-05:00\",\"2011-01-11T00:00:00-05:00\",\"2011-01-12T00:00:00-05:00\",\"2011-01-13T00:00:00-05:00\",\"2011-01-14T00:00:00-05:00\",\"2011-01-18T00:00:00-05:00\",\"2011-01-19T00:00:00-05:00\",\"2011-01-20T00:00:00-05:00\",\"2011-01-21T00:00:00-05:00\",\"2011-01-24T00:00:00-05:00\",\"2011-01-25T00:00:00-05:00\",\"2011-01-26T00:00:00-05:00\",\"2011-01-27T00:00:00-05:00\",\"2011-01-28T00:00:00-05:00\",\"2011-01-31T00:00:00-05:00\",\"2011-02-01T00:00:00-05:00\",\"2011-02-02T00:00:00-05:00\",\"2011-02-03T00:00:00-05:00\",\"2011-02-04T00:00:00-05:00\",\"2011-02-07T00:00:00-05:00\",\"2011-02-08T00:00:00-05:00\",\"2011-02-09T00:00:00-05:00\",\"2011-02-10T00:00:00-05:00\",\"2011-02-11T00:00:00-05:00\",\"2011-02-14T00:00:00-05:00\",\"2011-02-15T00:00:00-05:00\",\"2011-02-16T00:00:00-05:00\",\"2011-02-17T00:00:00-05:00\",\"2011-02-18T00:00:00-05:00\",\"2011-02-22T00:00:00-05:00\",\"2011-02-23T00:00:00-05:00\",\"2011-02-24T00:00:00-05:00\",\"2011-02-25T00:00:00-05:00\",\"2011-02-28T00:00:00-05:00\",\"2011-03-01T00:00:00-05:00\",\"2011-03-02T00:00:00-05:00\",\"2011-03-03T00:00:00-05:00\",\"2011-03-04T00:00:00-05:00\",\"2011-03-07T00:00:00-05:00\",\"2011-03-08T00:00:00-05:00\",\"2011-03-09T00:00:00-05:00\",\"2011-03-10T00:00:00-05:00\",\"2011-03-11T00:00:00-05:00\",\"2011-03-14T00:00:00-04:00\",\"2011-03-15T00:00:00-04:00\",\"2011-03-16T00:00:00-04:00\",\"2011-03-17T00:00:00-04:00\",\"2011-03-18T00:00:00-04:00\",\"2011-03-21T00:00:00-04:00\",\"2011-03-22T00:00:00-04:00\",\"2011-03-23T00:00:00-04:00\",\"2011-03-24T00:00:00-04:00\",\"2011-03-25T00:00:00-04:00\",\"2011-03-28T00:00:00-04:00\",\"2011-03-29T00:00:00-04:00\",\"2011-03-30T00:00:00-04:00\",\"2011-03-31T00:00:00-04:00\",\"2011-04-01T00:00:00-04:00\",\"2011-04-04T00:00:00-04:00\",\"2011-04-05T00:00:00-04:00\",\"2011-04-06T00:00:00-04:00\",\"2011-04-07T00:00:00-04:00\",\"2011-04-08T00:00:00-04:00\",\"2011-04-11T00:00:00-04:00\",\"2011-04-12T00:00:00-04:00\",\"2011-04-13T00:00:00-04:00\",\"2011-04-14T00:00:00-04:00\",\"2011-04-15T00:00:00-04:00\",\"2011-04-18T00:00:00-04:00\",\"2011-04-19T00:00:00-04:00\",\"2011-04-20T00:00:00-04:00\",\"2011-04-21T00:00:00-04:00\",\"2011-04-25T00:00:00-04:00\",\"2011-04-26T00:00:00-04:00\",\"2011-04-27T00:00:00-04:00\",\"2011-04-28T00:00:00-04:00\",\"2011-04-29T00:00:00-04:00\",\"2011-05-02T00:00:00-04:00\",\"2011-05-03T00:00:00-04:00\",\"2011-05-04T00:00:00-04:00\",\"2011-05-05T00:00:00-04:00\",\"2011-05-06T00:00:00-04:00\",\"2011-05-09T00:00:00-04:00\",\"2011-05-10T00:00:00-04:00\",\"2011-05-11T00:00:00-04:00\",\"2011-05-12T00:00:00-04:00\",\"2011-05-13T00:00:00-04:00\",\"2011-05-16T00:00:00-04:00\",\"2011-05-17T00:00:00-04:00\",\"2011-05-18T00:00:00-04:00\",\"2011-05-19T00:00:00-04:00\",\"2011-05-20T00:00:00-04:00\",\"2011-05-23T00:00:00-04:00\",\"2011-05-24T00:00:00-04:00\",\"2011-05-25T00:00:00-04:00\",\"2011-05-26T00:00:00-04:00\",\"2011-05-27T00:00:00-04:00\",\"2011-05-31T00:00:00-04:00\",\"2011-06-01T00:00:00-04:00\",\"2011-06-02T00:00:00-04:00\",\"2011-06-03T00:00:00-04:00\",\"2011-06-06T00:00:00-04:00\",\"2011-06-07T00:00:00-04:00\",\"2011-06-08T00:00:00-04:00\",\"2011-06-09T00:00:00-04:00\",\"2011-06-10T00:00:00-04:00\",\"2011-06-13T00:00:00-04:00\",\"2011-06-14T00:00:00-04:00\",\"2011-06-15T00:00:00-04:00\",\"2011-06-16T00:00:00-04:00\",\"2011-06-17T00:00:00-04:00\",\"2011-06-20T00:00:00-04:00\",\"2011-06-21T00:00:00-04:00\",\"2011-06-22T00:00:00-04:00\",\"2011-06-23T00:00:00-04:00\",\"2011-06-24T00:00:00-04:00\",\"2011-06-27T00:00:00-04:00\",\"2011-06-28T00:00:00-04:00\",\"2011-06-29T00:00:00-04:00\",\"2011-06-30T00:00:00-04:00\",\"2011-07-01T00:00:00-04:00\",\"2011-07-05T00:00:00-04:00\",\"2011-07-06T00:00:00-04:00\",\"2011-07-07T00:00:00-04:00\",\"2011-07-08T00:00:00-04:00\",\"2011-07-11T00:00:00-04:00\",\"2011-07-12T00:00:00-04:00\",\"2011-07-13T00:00:00-04:00\",\"2011-07-14T00:00:00-04:00\",\"2011-07-15T00:00:00-04:00\",\"2011-07-18T00:00:00-04:00\",\"2011-07-19T00:00:00-04:00\",\"2011-07-20T00:00:00-04:00\",\"2011-07-21T00:00:00-04:00\",\"2011-07-22T00:00:00-04:00\",\"2011-07-25T00:00:00-04:00\",\"2011-07-26T00:00:00-04:00\",\"2011-07-27T00:00:00-04:00\",\"2011-07-28T00:00:00-04:00\",\"2011-07-29T00:00:00-04:00\",\"2011-08-01T00:00:00-04:00\",\"2011-08-02T00:00:00-04:00\",\"2011-08-03T00:00:00-04:00\",\"2011-08-04T00:00:00-04:00\",\"2011-08-05T00:00:00-04:00\",\"2011-08-08T00:00:00-04:00\",\"2011-08-09T00:00:00-04:00\",\"2011-08-10T00:00:00-04:00\",\"2011-08-11T00:00:00-04:00\",\"2011-08-12T00:00:00-04:00\",\"2011-08-15T00:00:00-04:00\",\"2011-08-16T00:00:00-04:00\",\"2011-08-17T00:00:00-04:00\",\"2011-08-18T00:00:00-04:00\",\"2011-08-19T00:00:00-04:00\",\"2011-08-22T00:00:00-04:00\",\"2011-08-23T00:00:00-04:00\",\"2011-08-24T00:00:00-04:00\",\"2011-08-25T00:00:00-04:00\",\"2011-08-26T00:00:00-04:00\",\"2011-08-29T00:00:00-04:00\",\"2011-08-30T00:00:00-04:00\",\"2011-08-31T00:00:00-04:00\",\"2011-09-01T00:00:00-04:00\",\"2011-09-02T00:00:00-04:00\",\"2011-09-06T00:00:00-04:00\",\"2011-09-07T00:00:00-04:00\",\"2011-09-08T00:00:00-04:00\",\"2011-09-09T00:00:00-04:00\",\"2011-09-12T00:00:00-04:00\",\"2011-09-13T00:00:00-04:00\",\"2011-09-14T00:00:00-04:00\",\"2011-09-15T00:00:00-04:00\",\"2011-09-16T00:00:00-04:00\",\"2011-09-19T00:00:00-04:00\",\"2011-09-20T00:00:00-04:00\",\"2011-09-21T00:00:00-04:00\",\"2011-09-22T00:00:00-04:00\",\"2011-09-23T00:00:00-04:00\",\"2011-09-26T00:00:00-04:00\",\"2011-09-27T00:00:00-04:00\",\"2011-09-28T00:00:00-04:00\",\"2011-09-29T00:00:00-04:00\",\"2011-09-30T00:00:00-04:00\",\"2011-10-03T00:00:00-04:00\",\"2011-10-04T00:00:00-04:00\",\"2011-10-05T00:00:00-04:00\",\"2011-10-06T00:00:00-04:00\",\"2011-10-07T00:00:00-04:00\",\"2011-10-10T00:00:00-04:00\",\"2011-10-11T00:00:00-04:00\",\"2011-10-12T00:00:00-04:00\",\"2011-10-13T00:00:00-04:00\",\"2011-10-14T00:00:00-04:00\",\"2011-10-17T00:00:00-04:00\",\"2011-10-18T00:00:00-04:00\",\"2011-10-19T00:00:00-04:00\",\"2011-10-20T00:00:00-04:00\",\"2011-10-21T00:00:00-04:00\",\"2011-10-24T00:00:00-04:00\",\"2011-10-25T00:00:00-04:00\",\"2011-10-26T00:00:00-04:00\",\"2011-10-27T00:00:00-04:00\",\"2011-10-28T00:00:00-04:00\",\"2011-10-31T00:00:00-04:00\",\"2011-11-01T00:00:00-04:00\",\"2011-11-02T00:00:00-04:00\",\"2011-11-03T00:00:00-04:00\",\"2011-11-04T00:00:00-04:00\",\"2011-11-07T00:00:00-05:00\",\"2011-11-08T00:00:00-05:00\",\"2011-11-09T00:00:00-05:00\",\"2011-11-10T00:00:00-05:00\",\"2011-11-11T00:00:00-05:00\",\"2011-11-14T00:00:00-05:00\",\"2011-11-15T00:00:00-05:00\",\"2011-11-16T00:00:00-05:00\",\"2011-11-17T00:00:00-05:00\",\"2011-11-18T00:00:00-05:00\",\"2011-11-21T00:00:00-05:00\",\"2011-11-22T00:00:00-05:00\",\"2011-11-23T00:00:00-05:00\",\"2011-11-25T00:00:00-05:00\",\"2011-11-28T00:00:00-05:00\",\"2011-11-29T00:00:00-05:00\",\"2011-11-30T00:00:00-05:00\",\"2011-12-01T00:00:00-05:00\",\"2011-12-02T00:00:00-05:00\",\"2011-12-05T00:00:00-05:00\",\"2011-12-06T00:00:00-05:00\",\"2011-12-07T00:00:00-05:00\",\"2011-12-08T00:00:00-05:00\",\"2011-12-09T00:00:00-05:00\",\"2011-12-12T00:00:00-05:00\",\"2011-12-13T00:00:00-05:00\",\"2011-12-14T00:00:00-05:00\",\"2011-12-15T00:00:00-05:00\",\"2011-12-16T00:00:00-05:00\",\"2011-12-19T00:00:00-05:00\",\"2011-12-20T00:00:00-05:00\",\"2011-12-21T00:00:00-05:00\",\"2011-12-22T00:00:00-05:00\",\"2011-12-23T00:00:00-05:00\",\"2011-12-27T00:00:00-05:00\",\"2011-12-28T00:00:00-05:00\",\"2011-12-29T00:00:00-05:00\",\"2011-12-30T00:00:00-05:00\",\"2012-01-03T00:00:00-05:00\",\"2012-01-04T00:00:00-05:00\",\"2012-01-05T00:00:00-05:00\",\"2012-01-06T00:00:00-05:00\",\"2012-01-09T00:00:00-05:00\",\"2012-01-10T00:00:00-05:00\",\"2012-01-11T00:00:00-05:00\",\"2012-01-12T00:00:00-05:00\",\"2012-01-13T00:00:00-05:00\",\"2012-01-17T00:00:00-05:00\",\"2012-01-18T00:00:00-05:00\",\"2012-01-19T00:00:00-05:00\",\"2012-01-20T00:00:00-05:00\",\"2012-01-23T00:00:00-05:00\",\"2012-01-24T00:00:00-05:00\",\"2012-01-25T00:00:00-05:00\",\"2012-01-26T00:00:00-05:00\",\"2012-01-27T00:00:00-05:00\",\"2012-01-30T00:00:00-05:00\",\"2012-01-31T00:00:00-05:00\",\"2012-02-01T00:00:00-05:00\",\"2012-02-02T00:00:00-05:00\",\"2012-02-03T00:00:00-05:00\",\"2012-02-06T00:00:00-05:00\",\"2012-02-07T00:00:00-05:00\",\"2012-02-08T00:00:00-05:00\",\"2012-02-09T00:00:00-05:00\",\"2012-02-10T00:00:00-05:00\",\"2012-02-13T00:00:00-05:00\",\"2012-02-14T00:00:00-05:00\",\"2012-02-15T00:00:00-05:00\",\"2012-02-16T00:00:00-05:00\",\"2012-02-17T00:00:00-05:00\",\"2012-02-21T00:00:00-05:00\",\"2012-02-22T00:00:00-05:00\",\"2012-02-23T00:00:00-05:00\",\"2012-02-24T00:00:00-05:00\",\"2012-02-27T00:00:00-05:00\",\"2012-02-28T00:00:00-05:00\",\"2012-02-29T00:00:00-05:00\",\"2012-03-01T00:00:00-05:00\",\"2012-03-02T00:00:00-05:00\",\"2012-03-05T00:00:00-05:00\",\"2012-03-06T00:00:00-05:00\",\"2012-03-07T00:00:00-05:00\",\"2012-03-08T00:00:00-05:00\",\"2012-03-09T00:00:00-05:00\",\"2012-03-12T00:00:00-04:00\",\"2012-03-13T00:00:00-04:00\",\"2012-03-14T00:00:00-04:00\",\"2012-03-15T00:00:00-04:00\",\"2012-03-16T00:00:00-04:00\",\"2012-03-19T00:00:00-04:00\",\"2012-03-20T00:00:00-04:00\",\"2012-03-21T00:00:00-04:00\",\"2012-03-22T00:00:00-04:00\",\"2012-03-23T00:00:00-04:00\",\"2012-03-26T00:00:00-04:00\",\"2012-03-27T00:00:00-04:00\",\"2012-03-28T00:00:00-04:00\",\"2012-03-29T00:00:00-04:00\",\"2012-03-30T00:00:00-04:00\",\"2012-04-02T00:00:00-04:00\",\"2012-04-03T00:00:00-04:00\",\"2012-04-04T00:00:00-04:00\",\"2012-04-05T00:00:00-04:00\",\"2012-04-09T00:00:00-04:00\",\"2012-04-10T00:00:00-04:00\",\"2012-04-11T00:00:00-04:00\",\"2012-04-12T00:00:00-04:00\",\"2012-04-13T00:00:00-04:00\",\"2012-04-16T00:00:00-04:00\",\"2012-04-17T00:00:00-04:00\",\"2012-04-18T00:00:00-04:00\",\"2012-04-19T00:00:00-04:00\",\"2012-04-20T00:00:00-04:00\",\"2012-04-23T00:00:00-04:00\",\"2012-04-24T00:00:00-04:00\",\"2012-04-25T00:00:00-04:00\",\"2012-04-26T00:00:00-04:00\",\"2012-04-27T00:00:00-04:00\",\"2012-04-30T00:00:00-04:00\",\"2012-05-01T00:00:00-04:00\",\"2012-05-02T00:00:00-04:00\",\"2012-05-03T00:00:00-04:00\",\"2012-05-04T00:00:00-04:00\",\"2012-05-07T00:00:00-04:00\",\"2012-05-08T00:00:00-04:00\",\"2012-05-09T00:00:00-04:00\",\"2012-05-10T00:00:00-04:00\",\"2012-05-11T00:00:00-04:00\",\"2012-05-14T00:00:00-04:00\",\"2012-05-15T00:00:00-04:00\",\"2012-05-16T00:00:00-04:00\",\"2012-05-17T00:00:00-04:00\",\"2012-05-18T00:00:00-04:00\",\"2012-05-21T00:00:00-04:00\",\"2012-05-22T00:00:00-04:00\",\"2012-05-23T00:00:00-04:00\",\"2012-05-24T00:00:00-04:00\",\"2012-05-25T00:00:00-04:00\",\"2012-05-29T00:00:00-04:00\",\"2012-05-30T00:00:00-04:00\",\"2012-05-31T00:00:00-04:00\",\"2012-06-01T00:00:00-04:00\",\"2012-06-04T00:00:00-04:00\",\"2012-06-05T00:00:00-04:00\",\"2012-06-06T00:00:00-04:00\",\"2012-06-07T00:00:00-04:00\",\"2012-06-08T00:00:00-04:00\",\"2012-06-11T00:00:00-04:00\",\"2012-06-12T00:00:00-04:00\",\"2012-06-13T00:00:00-04:00\",\"2012-06-14T00:00:00-04:00\",\"2012-06-15T00:00:00-04:00\",\"2012-06-18T00:00:00-04:00\",\"2012-06-19T00:00:00-04:00\",\"2012-06-20T00:00:00-04:00\",\"2012-06-21T00:00:00-04:00\",\"2012-06-22T00:00:00-04:00\",\"2012-06-25T00:00:00-04:00\",\"2012-06-26T00:00:00-04:00\",\"2012-06-27T00:00:00-04:00\",\"2012-06-28T00:00:00-04:00\",\"2012-06-29T00:00:00-04:00\",\"2012-07-02T00:00:00-04:00\",\"2012-07-03T00:00:00-04:00\",\"2012-07-05T00:00:00-04:00\",\"2012-07-06T00:00:00-04:00\",\"2012-07-09T00:00:00-04:00\",\"2012-07-10T00:00:00-04:00\",\"2012-07-11T00:00:00-04:00\",\"2012-07-12T00:00:00-04:00\",\"2012-07-13T00:00:00-04:00\",\"2012-07-16T00:00:00-04:00\",\"2012-07-17T00:00:00-04:00\",\"2012-07-18T00:00:00-04:00\",\"2012-07-19T00:00:00-04:00\",\"2012-07-20T00:00:00-04:00\",\"2012-07-23T00:00:00-04:00\",\"2012-07-24T00:00:00-04:00\",\"2012-07-25T00:00:00-04:00\",\"2012-07-26T00:00:00-04:00\",\"2012-07-27T00:00:00-04:00\",\"2012-07-30T00:00:00-04:00\",\"2012-07-31T00:00:00-04:00\",\"2012-08-01T00:00:00-04:00\",\"2012-08-02T00:00:00-04:00\",\"2012-08-03T00:00:00-04:00\",\"2012-08-06T00:00:00-04:00\",\"2012-08-07T00:00:00-04:00\",\"2012-08-08T00:00:00-04:00\",\"2012-08-09T00:00:00-04:00\",\"2012-08-10T00:00:00-04:00\",\"2012-08-13T00:00:00-04:00\",\"2012-08-14T00:00:00-04:00\",\"2012-08-15T00:00:00-04:00\",\"2012-08-16T00:00:00-04:00\",\"2012-08-17T00:00:00-04:00\",\"2012-08-20T00:00:00-04:00\",\"2012-08-21T00:00:00-04:00\",\"2012-08-22T00:00:00-04:00\",\"2012-08-23T00:00:00-04:00\",\"2012-08-24T00:00:00-04:00\",\"2012-08-27T00:00:00-04:00\",\"2012-08-28T00:00:00-04:00\",\"2012-08-29T00:00:00-04:00\",\"2012-08-30T00:00:00-04:00\",\"2012-08-31T00:00:00-04:00\",\"2012-09-04T00:00:00-04:00\",\"2012-09-05T00:00:00-04:00\",\"2012-09-06T00:00:00-04:00\",\"2012-09-07T00:00:00-04:00\",\"2012-09-10T00:00:00-04:00\",\"2012-09-11T00:00:00-04:00\",\"2012-09-12T00:00:00-04:00\",\"2012-09-13T00:00:00-04:00\",\"2012-09-14T00:00:00-04:00\",\"2012-09-17T00:00:00-04:00\",\"2012-09-18T00:00:00-04:00\",\"2012-09-19T00:00:00-04:00\",\"2012-09-20T00:00:00-04:00\",\"2012-09-21T00:00:00-04:00\",\"2012-09-24T00:00:00-04:00\",\"2012-09-25T00:00:00-04:00\",\"2012-09-26T00:00:00-04:00\",\"2012-09-27T00:00:00-04:00\",\"2012-09-28T00:00:00-04:00\",\"2012-10-01T00:00:00-04:00\",\"2012-10-02T00:00:00-04:00\",\"2012-10-03T00:00:00-04:00\",\"2012-10-04T00:00:00-04:00\",\"2012-10-05T00:00:00-04:00\",\"2012-10-08T00:00:00-04:00\",\"2012-10-09T00:00:00-04:00\",\"2012-10-10T00:00:00-04:00\",\"2012-10-11T00:00:00-04:00\",\"2012-10-12T00:00:00-04:00\",\"2012-10-15T00:00:00-04:00\",\"2012-10-16T00:00:00-04:00\",\"2012-10-17T00:00:00-04:00\",\"2012-10-18T00:00:00-04:00\",\"2012-10-19T00:00:00-04:00\",\"2012-10-22T00:00:00-04:00\",\"2012-10-23T00:00:00-04:00\",\"2012-10-24T00:00:00-04:00\",\"2012-10-25T00:00:00-04:00\",\"2012-10-26T00:00:00-04:00\",\"2012-10-31T00:00:00-04:00\",\"2012-11-01T00:00:00-04:00\",\"2012-11-02T00:00:00-04:00\",\"2012-11-05T00:00:00-05:00\",\"2012-11-06T00:00:00-05:00\",\"2012-11-07T00:00:00-05:00\",\"2012-11-08T00:00:00-05:00\",\"2012-11-09T00:00:00-05:00\",\"2012-11-12T00:00:00-05:00\",\"2012-11-13T00:00:00-05:00\",\"2012-11-14T00:00:00-05:00\",\"2012-11-15T00:00:00-05:00\",\"2012-11-16T00:00:00-05:00\",\"2012-11-19T00:00:00-05:00\",\"2012-11-20T00:00:00-05:00\",\"2012-11-21T00:00:00-05:00\",\"2012-11-23T00:00:00-05:00\",\"2012-11-26T00:00:00-05:00\",\"2012-11-27T00:00:00-05:00\",\"2012-11-28T00:00:00-05:00\",\"2012-11-29T00:00:00-05:00\",\"2012-11-30T00:00:00-05:00\",\"2012-12-03T00:00:00-05:00\",\"2012-12-04T00:00:00-05:00\",\"2012-12-05T00:00:00-05:00\",\"2012-12-06T00:00:00-05:00\",\"2012-12-07T00:00:00-05:00\",\"2012-12-10T00:00:00-05:00\",\"2012-12-11T00:00:00-05:00\",\"2012-12-12T00:00:00-05:00\",\"2012-12-13T00:00:00-05:00\",\"2012-12-14T00:00:00-05:00\",\"2012-12-17T00:00:00-05:00\",\"2012-12-18T00:00:00-05:00\",\"2012-12-19T00:00:00-05:00\",\"2012-12-20T00:00:00-05:00\",\"2012-12-21T00:00:00-05:00\",\"2012-12-24T00:00:00-05:00\",\"2012-12-26T00:00:00-05:00\",\"2012-12-27T00:00:00-05:00\",\"2012-12-28T00:00:00-05:00\",\"2012-12-31T00:00:00-05:00\",\"2013-01-02T00:00:00-05:00\",\"2013-01-03T00:00:00-05:00\",\"2013-01-04T00:00:00-05:00\",\"2013-01-07T00:00:00-05:00\",\"2013-01-08T00:00:00-05:00\",\"2013-01-09T00:00:00-05:00\",\"2013-01-10T00:00:00-05:00\",\"2013-01-11T00:00:00-05:00\",\"2013-01-14T00:00:00-05:00\",\"2013-01-15T00:00:00-05:00\",\"2013-01-16T00:00:00-05:00\",\"2013-01-17T00:00:00-05:00\",\"2013-01-18T00:00:00-05:00\",\"2013-01-22T00:00:00-05:00\",\"2013-01-23T00:00:00-05:00\",\"2013-01-24T00:00:00-05:00\",\"2013-01-25T00:00:00-05:00\",\"2013-01-28T00:00:00-05:00\",\"2013-01-29T00:00:00-05:00\",\"2013-01-30T00:00:00-05:00\",\"2013-01-31T00:00:00-05:00\",\"2013-02-01T00:00:00-05:00\",\"2013-02-04T00:00:00-05:00\",\"2013-02-05T00:00:00-05:00\",\"2013-02-06T00:00:00-05:00\",\"2013-02-07T00:00:00-05:00\",\"2013-02-08T00:00:00-05:00\",\"2013-02-11T00:00:00-05:00\",\"2013-02-12T00:00:00-05:00\",\"2013-02-13T00:00:00-05:00\",\"2013-02-14T00:00:00-05:00\",\"2013-02-15T00:00:00-05:00\",\"2013-02-19T00:00:00-05:00\",\"2013-02-20T00:00:00-05:00\",\"2013-02-21T00:00:00-05:00\",\"2013-02-22T00:00:00-05:00\",\"2013-02-25T00:00:00-05:00\",\"2013-02-26T00:00:00-05:00\",\"2013-02-27T00:00:00-05:00\",\"2013-02-28T00:00:00-05:00\",\"2013-03-01T00:00:00-05:00\",\"2013-03-04T00:00:00-05:00\",\"2013-03-05T00:00:00-05:00\",\"2013-03-06T00:00:00-05:00\",\"2013-03-07T00:00:00-05:00\",\"2013-03-08T00:00:00-05:00\",\"2013-03-11T00:00:00-04:00\",\"2013-03-12T00:00:00-04:00\",\"2013-03-13T00:00:00-04:00\",\"2013-03-14T00:00:00-04:00\",\"2013-03-15T00:00:00-04:00\",\"2013-03-18T00:00:00-04:00\",\"2013-03-19T00:00:00-04:00\",\"2013-03-20T00:00:00-04:00\",\"2013-03-21T00:00:00-04:00\",\"2013-03-22T00:00:00-04:00\",\"2013-03-25T00:00:00-04:00\",\"2013-03-26T00:00:00-04:00\",\"2013-03-27T00:00:00-04:00\",\"2013-03-28T00:00:00-04:00\",\"2013-04-01T00:00:00-04:00\",\"2013-04-02T00:00:00-04:00\",\"2013-04-03T00:00:00-04:00\",\"2013-04-04T00:00:00-04:00\",\"2013-04-05T00:00:00-04:00\",\"2013-04-08T00:00:00-04:00\",\"2013-04-09T00:00:00-04:00\",\"2013-04-10T00:00:00-04:00\",\"2013-04-11T00:00:00-04:00\",\"2013-04-12T00:00:00-04:00\",\"2013-04-15T00:00:00-04:00\",\"2013-04-16T00:00:00-04:00\",\"2013-04-17T00:00:00-04:00\",\"2013-04-18T00:00:00-04:00\",\"2013-04-19T00:00:00-04:00\",\"2013-04-22T00:00:00-04:00\",\"2013-04-23T00:00:00-04:00\",\"2013-04-24T00:00:00-04:00\",\"2013-04-25T00:00:00-04:00\",\"2013-04-26T00:00:00-04:00\",\"2013-04-29T00:00:00-04:00\",\"2013-04-30T00:00:00-04:00\",\"2013-05-01T00:00:00-04:00\",\"2013-05-02T00:00:00-04:00\",\"2013-05-03T00:00:00-04:00\",\"2013-05-06T00:00:00-04:00\",\"2013-05-07T00:00:00-04:00\",\"2013-05-08T00:00:00-04:00\",\"2013-05-09T00:00:00-04:00\",\"2013-05-10T00:00:00-04:00\",\"2013-05-13T00:00:00-04:00\",\"2013-05-14T00:00:00-04:00\",\"2013-05-15T00:00:00-04:00\",\"2013-05-16T00:00:00-04:00\",\"2013-05-17T00:00:00-04:00\",\"2013-05-20T00:00:00-04:00\",\"2013-05-21T00:00:00-04:00\",\"2013-05-22T00:00:00-04:00\",\"2013-05-23T00:00:00-04:00\",\"2013-05-24T00:00:00-04:00\",\"2013-05-28T00:00:00-04:00\",\"2013-05-29T00:00:00-04:00\",\"2013-05-30T00:00:00-04:00\",\"2013-05-31T00:00:00-04:00\",\"2013-06-03T00:00:00-04:00\",\"2013-06-04T00:00:00-04:00\",\"2013-06-05T00:00:00-04:00\",\"2013-06-06T00:00:00-04:00\",\"2013-06-07T00:00:00-04:00\",\"2013-06-10T00:00:00-04:00\",\"2013-06-11T00:00:00-04:00\",\"2013-06-12T00:00:00-04:00\",\"2013-06-13T00:00:00-04:00\",\"2013-06-14T00:00:00-04:00\",\"2013-06-17T00:00:00-04:00\",\"2013-06-18T00:00:00-04:00\",\"2013-06-19T00:00:00-04:00\",\"2013-06-20T00:00:00-04:00\",\"2013-06-21T00:00:00-04:00\",\"2013-06-24T00:00:00-04:00\",\"2013-06-25T00:00:00-04:00\",\"2013-06-26T00:00:00-04:00\",\"2013-06-27T00:00:00-04:00\",\"2013-06-28T00:00:00-04:00\",\"2013-07-01T00:00:00-04:00\",\"2013-07-02T00:00:00-04:00\",\"2013-07-03T00:00:00-04:00\",\"2013-07-05T00:00:00-04:00\",\"2013-07-08T00:00:00-04:00\",\"2013-07-09T00:00:00-04:00\",\"2013-07-10T00:00:00-04:00\",\"2013-07-11T00:00:00-04:00\",\"2013-07-12T00:00:00-04:00\",\"2013-07-15T00:00:00-04:00\",\"2013-07-16T00:00:00-04:00\",\"2013-07-17T00:00:00-04:00\",\"2013-07-18T00:00:00-04:00\",\"2013-07-19T00:00:00-04:00\",\"2013-07-22T00:00:00-04:00\",\"2013-07-23T00:00:00-04:00\",\"2013-07-24T00:00:00-04:00\",\"2013-07-25T00:00:00-04:00\",\"2013-07-26T00:00:00-04:00\",\"2013-07-29T00:00:00-04:00\",\"2013-07-30T00:00:00-04:00\",\"2013-07-31T00:00:00-04:00\",\"2013-08-01T00:00:00-04:00\",\"2013-08-02T00:00:00-04:00\",\"2013-08-05T00:00:00-04:00\",\"2013-08-06T00:00:00-04:00\",\"2013-08-07T00:00:00-04:00\",\"2013-08-08T00:00:00-04:00\",\"2013-08-09T00:00:00-04:00\",\"2013-08-12T00:00:00-04:00\",\"2013-08-13T00:00:00-04:00\",\"2013-08-14T00:00:00-04:00\",\"2013-08-15T00:00:00-04:00\",\"2013-08-16T00:00:00-04:00\",\"2013-08-19T00:00:00-04:00\",\"2013-08-20T00:00:00-04:00\",\"2013-08-21T00:00:00-04:00\",\"2013-08-22T00:00:00-04:00\",\"2013-08-23T00:00:00-04:00\",\"2013-08-26T00:00:00-04:00\",\"2013-08-27T00:00:00-04:00\",\"2013-08-28T00:00:00-04:00\",\"2013-08-29T00:00:00-04:00\",\"2013-08-30T00:00:00-04:00\",\"2013-09-03T00:00:00-04:00\",\"2013-09-04T00:00:00-04:00\",\"2013-09-05T00:00:00-04:00\",\"2013-09-06T00:00:00-04:00\",\"2013-09-09T00:00:00-04:00\",\"2013-09-10T00:00:00-04:00\",\"2013-09-11T00:00:00-04:00\",\"2013-09-12T00:00:00-04:00\",\"2013-09-13T00:00:00-04:00\",\"2013-09-16T00:00:00-04:00\",\"2013-09-17T00:00:00-04:00\",\"2013-09-18T00:00:00-04:00\",\"2013-09-19T00:00:00-04:00\",\"2013-09-20T00:00:00-04:00\",\"2013-09-23T00:00:00-04:00\",\"2013-09-24T00:00:00-04:00\",\"2013-09-25T00:00:00-04:00\",\"2013-09-26T00:00:00-04:00\",\"2013-09-27T00:00:00-04:00\",\"2013-09-30T00:00:00-04:00\",\"2013-10-01T00:00:00-04:00\",\"2013-10-02T00:00:00-04:00\",\"2013-10-03T00:00:00-04:00\",\"2013-10-04T00:00:00-04:00\",\"2013-10-07T00:00:00-04:00\",\"2013-10-08T00:00:00-04:00\",\"2013-10-09T00:00:00-04:00\",\"2013-10-10T00:00:00-04:00\",\"2013-10-11T00:00:00-04:00\",\"2013-10-14T00:00:00-04:00\",\"2013-10-15T00:00:00-04:00\",\"2013-10-16T00:00:00-04:00\",\"2013-10-17T00:00:00-04:00\",\"2013-10-18T00:00:00-04:00\",\"2013-10-21T00:00:00-04:00\",\"2013-10-22T00:00:00-04:00\",\"2013-10-23T00:00:00-04:00\",\"2013-10-24T00:00:00-04:00\",\"2013-10-25T00:00:00-04:00\",\"2013-10-28T00:00:00-04:00\",\"2013-10-29T00:00:00-04:00\",\"2013-10-30T00:00:00-04:00\",\"2013-10-31T00:00:00-04:00\",\"2013-11-01T00:00:00-04:00\",\"2013-11-04T00:00:00-05:00\",\"2013-11-05T00:00:00-05:00\",\"2013-11-06T00:00:00-05:00\",\"2013-11-07T00:00:00-05:00\",\"2013-11-08T00:00:00-05:00\",\"2013-11-11T00:00:00-05:00\",\"2013-11-12T00:00:00-05:00\",\"2013-11-13T00:00:00-05:00\",\"2013-11-14T00:00:00-05:00\",\"2013-11-15T00:00:00-05:00\",\"2013-11-18T00:00:00-05:00\",\"2013-11-19T00:00:00-05:00\",\"2013-11-20T00:00:00-05:00\",\"2013-11-21T00:00:00-05:00\",\"2013-11-22T00:00:00-05:00\",\"2013-11-25T00:00:00-05:00\",\"2013-11-26T00:00:00-05:00\",\"2013-11-27T00:00:00-05:00\",\"2013-11-29T00:00:00-05:00\",\"2013-12-02T00:00:00-05:00\",\"2013-12-03T00:00:00-05:00\",\"2013-12-04T00:00:00-05:00\",\"2013-12-05T00:00:00-05:00\",\"2013-12-06T00:00:00-05:00\",\"2013-12-09T00:00:00-05:00\",\"2013-12-10T00:00:00-05:00\",\"2013-12-11T00:00:00-05:00\",\"2013-12-12T00:00:00-05:00\",\"2013-12-13T00:00:00-05:00\",\"2013-12-16T00:00:00-05:00\",\"2013-12-17T00:00:00-05:00\",\"2013-12-18T00:00:00-05:00\",\"2013-12-19T00:00:00-05:00\",\"2013-12-20T00:00:00-05:00\",\"2013-12-23T00:00:00-05:00\",\"2013-12-24T00:00:00-05:00\",\"2013-12-26T00:00:00-05:00\",\"2013-12-27T00:00:00-05:00\",\"2013-12-30T00:00:00-05:00\",\"2013-12-31T00:00:00-05:00\",\"2014-01-02T00:00:00-05:00\",\"2014-01-03T00:00:00-05:00\",\"2014-01-06T00:00:00-05:00\",\"2014-01-07T00:00:00-05:00\",\"2014-01-08T00:00:00-05:00\",\"2014-01-09T00:00:00-05:00\",\"2014-01-10T00:00:00-05:00\",\"2014-01-13T00:00:00-05:00\",\"2014-01-14T00:00:00-05:00\",\"2014-01-15T00:00:00-05:00\",\"2014-01-16T00:00:00-05:00\",\"2014-01-17T00:00:00-05:00\",\"2014-01-21T00:00:00-05:00\",\"2014-01-22T00:00:00-05:00\",\"2014-01-23T00:00:00-05:00\",\"2014-01-24T00:00:00-05:00\",\"2014-01-27T00:00:00-05:00\",\"2014-01-28T00:00:00-05:00\",\"2014-01-29T00:00:00-05:00\",\"2014-01-30T00:00:00-05:00\",\"2014-01-31T00:00:00-05:00\",\"2014-02-03T00:00:00-05:00\",\"2014-02-04T00:00:00-05:00\",\"2014-02-05T00:00:00-05:00\",\"2014-02-06T00:00:00-05:00\",\"2014-02-07T00:00:00-05:00\",\"2014-02-10T00:00:00-05:00\",\"2014-02-11T00:00:00-05:00\",\"2014-02-12T00:00:00-05:00\",\"2014-02-13T00:00:00-05:00\",\"2014-02-14T00:00:00-05:00\",\"2014-02-18T00:00:00-05:00\",\"2014-02-19T00:00:00-05:00\",\"2014-02-20T00:00:00-05:00\",\"2014-02-21T00:00:00-05:00\",\"2014-02-24T00:00:00-05:00\",\"2014-02-25T00:00:00-05:00\",\"2014-02-26T00:00:00-05:00\",\"2014-02-27T00:00:00-05:00\",\"2014-02-28T00:00:00-05:00\",\"2014-03-03T00:00:00-05:00\",\"2014-03-04T00:00:00-05:00\",\"2014-03-05T00:00:00-05:00\",\"2014-03-06T00:00:00-05:00\",\"2014-03-07T00:00:00-05:00\",\"2014-03-10T00:00:00-04:00\",\"2014-03-11T00:00:00-04:00\",\"2014-03-12T00:00:00-04:00\",\"2014-03-13T00:00:00-04:00\",\"2014-03-14T00:00:00-04:00\",\"2014-03-17T00:00:00-04:00\",\"2014-03-18T00:00:00-04:00\",\"2014-03-19T00:00:00-04:00\",\"2014-03-20T00:00:00-04:00\",\"2014-03-21T00:00:00-04:00\",\"2014-03-24T00:00:00-04:00\",\"2014-03-25T00:00:00-04:00\",\"2014-03-26T00:00:00-04:00\",\"2014-03-27T00:00:00-04:00\",\"2014-03-28T00:00:00-04:00\",\"2014-03-31T00:00:00-04:00\",\"2014-04-01T00:00:00-04:00\",\"2014-04-02T00:00:00-04:00\",\"2014-04-03T00:00:00-04:00\",\"2014-04-04T00:00:00-04:00\",\"2014-04-07T00:00:00-04:00\",\"2014-04-08T00:00:00-04:00\",\"2014-04-09T00:00:00-04:00\",\"2014-04-10T00:00:00-04:00\",\"2014-04-11T00:00:00-04:00\",\"2014-04-14T00:00:00-04:00\",\"2014-04-15T00:00:00-04:00\",\"2014-04-16T00:00:00-04:00\",\"2014-04-17T00:00:00-04:00\",\"2014-04-21T00:00:00-04:00\",\"2014-04-22T00:00:00-04:00\",\"2014-04-23T00:00:00-04:00\",\"2014-04-24T00:00:00-04:00\",\"2014-04-25T00:00:00-04:00\",\"2014-04-28T00:00:00-04:00\",\"2014-04-29T00:00:00-04:00\",\"2014-04-30T00:00:00-04:00\",\"2014-05-01T00:00:00-04:00\",\"2014-05-02T00:00:00-04:00\",\"2014-05-05T00:00:00-04:00\",\"2014-05-06T00:00:00-04:00\",\"2014-05-07T00:00:00-04:00\",\"2014-05-08T00:00:00-04:00\",\"2014-05-09T00:00:00-04:00\",\"2014-05-12T00:00:00-04:00\",\"2014-05-13T00:00:00-04:00\",\"2014-05-14T00:00:00-04:00\",\"2014-05-15T00:00:00-04:00\",\"2014-05-16T00:00:00-04:00\",\"2014-05-19T00:00:00-04:00\",\"2014-05-20T00:00:00-04:00\",\"2014-05-21T00:00:00-04:00\",\"2014-05-22T00:00:00-04:00\",\"2014-05-23T00:00:00-04:00\",\"2014-05-27T00:00:00-04:00\",\"2014-05-28T00:00:00-04:00\",\"2014-05-29T00:00:00-04:00\",\"2014-05-30T00:00:00-04:00\",\"2014-06-02T00:00:00-04:00\",\"2014-06-03T00:00:00-04:00\",\"2014-06-04T00:00:00-04:00\",\"2014-06-05T00:00:00-04:00\",\"2014-06-06T00:00:00-04:00\",\"2014-06-09T00:00:00-04:00\",\"2014-06-10T00:00:00-04:00\",\"2014-06-11T00:00:00-04:00\",\"2014-06-12T00:00:00-04:00\",\"2014-06-13T00:00:00-04:00\",\"2014-06-16T00:00:00-04:00\",\"2014-06-17T00:00:00-04:00\",\"2014-06-18T00:00:00-04:00\",\"2014-06-19T00:00:00-04:00\",\"2014-06-20T00:00:00-04:00\",\"2014-06-23T00:00:00-04:00\",\"2014-06-24T00:00:00-04:00\",\"2014-06-25T00:00:00-04:00\",\"2014-06-26T00:00:00-04:00\",\"2014-06-27T00:00:00-04:00\",\"2014-06-30T00:00:00-04:00\",\"2014-07-01T00:00:00-04:00\",\"2014-07-02T00:00:00-04:00\",\"2014-07-03T00:00:00-04:00\",\"2014-07-07T00:00:00-04:00\",\"2014-07-08T00:00:00-04:00\",\"2014-07-09T00:00:00-04:00\",\"2014-07-10T00:00:00-04:00\",\"2014-07-11T00:00:00-04:00\",\"2014-07-14T00:00:00-04:00\",\"2014-07-15T00:00:00-04:00\",\"2014-07-16T00:00:00-04:00\",\"2014-07-17T00:00:00-04:00\",\"2014-07-18T00:00:00-04:00\",\"2014-07-21T00:00:00-04:00\",\"2014-07-22T00:00:00-04:00\",\"2014-07-23T00:00:00-04:00\",\"2014-07-24T00:00:00-04:00\",\"2014-07-25T00:00:00-04:00\",\"2014-07-28T00:00:00-04:00\",\"2014-07-29T00:00:00-04:00\",\"2014-07-30T00:00:00-04:00\",\"2014-07-31T00:00:00-04:00\",\"2014-08-01T00:00:00-04:00\",\"2014-08-04T00:00:00-04:00\",\"2014-08-05T00:00:00-04:00\",\"2014-08-06T00:00:00-04:00\",\"2014-08-07T00:00:00-04:00\",\"2014-08-08T00:00:00-04:00\",\"2014-08-11T00:00:00-04:00\",\"2014-08-12T00:00:00-04:00\",\"2014-08-13T00:00:00-04:00\",\"2014-08-14T00:00:00-04:00\",\"2014-08-15T00:00:00-04:00\",\"2014-08-18T00:00:00-04:00\",\"2014-08-19T00:00:00-04:00\",\"2014-08-20T00:00:00-04:00\",\"2014-08-21T00:00:00-04:00\",\"2014-08-22T00:00:00-04:00\",\"2014-08-25T00:00:00-04:00\",\"2014-08-26T00:00:00-04:00\",\"2014-08-27T00:00:00-04:00\",\"2014-08-28T00:00:00-04:00\",\"2014-08-29T00:00:00-04:00\",\"2014-09-02T00:00:00-04:00\",\"2014-09-03T00:00:00-04:00\",\"2014-09-04T00:00:00-04:00\",\"2014-09-05T00:00:00-04:00\",\"2014-09-08T00:00:00-04:00\",\"2014-09-09T00:00:00-04:00\",\"2014-09-10T00:00:00-04:00\",\"2014-09-11T00:00:00-04:00\",\"2014-09-12T00:00:00-04:00\",\"2014-09-15T00:00:00-04:00\",\"2014-09-16T00:00:00-04:00\",\"2014-09-17T00:00:00-04:00\",\"2014-09-18T00:00:00-04:00\",\"2014-09-19T00:00:00-04:00\",\"2014-09-22T00:00:00-04:00\",\"2014-09-23T00:00:00-04:00\",\"2014-09-24T00:00:00-04:00\",\"2014-09-25T00:00:00-04:00\",\"2014-09-26T00:00:00-04:00\",\"2014-09-29T00:00:00-04:00\",\"2014-09-30T00:00:00-04:00\",\"2014-10-01T00:00:00-04:00\",\"2014-10-02T00:00:00-04:00\",\"2014-10-03T00:00:00-04:00\",\"2014-10-06T00:00:00-04:00\",\"2014-10-07T00:00:00-04:00\",\"2014-10-08T00:00:00-04:00\",\"2014-10-09T00:00:00-04:00\",\"2014-10-10T00:00:00-04:00\",\"2014-10-13T00:00:00-04:00\",\"2014-10-14T00:00:00-04:00\",\"2014-10-15T00:00:00-04:00\",\"2014-10-16T00:00:00-04:00\",\"2014-10-17T00:00:00-04:00\",\"2014-10-20T00:00:00-04:00\",\"2014-10-21T00:00:00-04:00\",\"2014-10-22T00:00:00-04:00\",\"2014-10-23T00:00:00-04:00\",\"2014-10-24T00:00:00-04:00\",\"2014-10-27T00:00:00-04:00\",\"2014-10-28T00:00:00-04:00\",\"2014-10-29T00:00:00-04:00\",\"2014-10-30T00:00:00-04:00\",\"2014-10-31T00:00:00-04:00\",\"2014-11-03T00:00:00-05:00\",\"2014-11-04T00:00:00-05:00\",\"2014-11-05T00:00:00-05:00\",\"2014-11-06T00:00:00-05:00\",\"2014-11-07T00:00:00-05:00\",\"2014-11-10T00:00:00-05:00\",\"2014-11-11T00:00:00-05:00\",\"2014-11-12T00:00:00-05:00\",\"2014-11-13T00:00:00-05:00\",\"2014-11-14T00:00:00-05:00\",\"2014-11-17T00:00:00-05:00\",\"2014-11-18T00:00:00-05:00\",\"2014-11-19T00:00:00-05:00\",\"2014-11-20T00:00:00-05:00\",\"2014-11-21T00:00:00-05:00\",\"2014-11-24T00:00:00-05:00\",\"2014-11-25T00:00:00-05:00\",\"2014-11-26T00:00:00-05:00\",\"2014-11-28T00:00:00-05:00\",\"2014-12-01T00:00:00-05:00\",\"2014-12-02T00:00:00-05:00\",\"2014-12-03T00:00:00-05:00\",\"2014-12-04T00:00:00-05:00\",\"2014-12-05T00:00:00-05:00\",\"2014-12-08T00:00:00-05:00\",\"2014-12-09T00:00:00-05:00\",\"2014-12-10T00:00:00-05:00\",\"2014-12-11T00:00:00-05:00\",\"2014-12-12T00:00:00-05:00\",\"2014-12-15T00:00:00-05:00\",\"2014-12-16T00:00:00-05:00\",\"2014-12-17T00:00:00-05:00\",\"2014-12-18T00:00:00-05:00\",\"2014-12-19T00:00:00-05:00\",\"2014-12-22T00:00:00-05:00\",\"2014-12-23T00:00:00-05:00\",\"2014-12-24T00:00:00-05:00\",\"2014-12-26T00:00:00-05:00\",\"2014-12-29T00:00:00-05:00\",\"2014-12-30T00:00:00-05:00\",\"2014-12-31T00:00:00-05:00\",\"2015-01-02T00:00:00-05:00\",\"2015-01-05T00:00:00-05:00\",\"2015-01-06T00:00:00-05:00\",\"2015-01-07T00:00:00-05:00\",\"2015-01-08T00:00:00-05:00\",\"2015-01-09T00:00:00-05:00\",\"2015-01-12T00:00:00-05:00\",\"2015-01-13T00:00:00-05:00\",\"2015-01-14T00:00:00-05:00\",\"2015-01-15T00:00:00-05:00\",\"2015-01-16T00:00:00-05:00\",\"2015-01-20T00:00:00-05:00\",\"2015-01-21T00:00:00-05:00\",\"2015-01-22T00:00:00-05:00\",\"2015-01-23T00:00:00-05:00\",\"2015-01-26T00:00:00-05:00\",\"2015-01-27T00:00:00-05:00\",\"2015-01-28T00:00:00-05:00\",\"2015-01-29T00:00:00-05:00\",\"2015-01-30T00:00:00-05:00\",\"2015-02-02T00:00:00-05:00\",\"2015-02-03T00:00:00-05:00\",\"2015-02-04T00:00:00-05:00\",\"2015-02-05T00:00:00-05:00\",\"2015-02-06T00:00:00-05:00\",\"2015-02-09T00:00:00-05:00\",\"2015-02-10T00:00:00-05:00\",\"2015-02-11T00:00:00-05:00\",\"2015-02-12T00:00:00-05:00\",\"2015-02-13T00:00:00-05:00\",\"2015-02-17T00:00:00-05:00\",\"2015-02-18T00:00:00-05:00\",\"2015-02-19T00:00:00-05:00\",\"2015-02-20T00:00:00-05:00\",\"2015-02-23T00:00:00-05:00\",\"2015-02-24T00:00:00-05:00\",\"2015-02-25T00:00:00-05:00\",\"2015-02-26T00:00:00-05:00\",\"2015-02-27T00:00:00-05:00\",\"2015-03-02T00:00:00-05:00\",\"2015-03-03T00:00:00-05:00\",\"2015-03-04T00:00:00-05:00\",\"2015-03-05T00:00:00-05:00\",\"2015-03-06T00:00:00-05:00\",\"2015-03-09T00:00:00-04:00\",\"2015-03-10T00:00:00-04:00\",\"2015-03-11T00:00:00-04:00\",\"2015-03-12T00:00:00-04:00\",\"2015-03-13T00:00:00-04:00\",\"2015-03-16T00:00:00-04:00\",\"2015-03-17T00:00:00-04:00\",\"2015-03-18T00:00:00-04:00\",\"2015-03-19T00:00:00-04:00\",\"2015-03-20T00:00:00-04:00\",\"2015-03-23T00:00:00-04:00\",\"2015-03-24T00:00:00-04:00\",\"2015-03-25T00:00:00-04:00\",\"2015-03-26T00:00:00-04:00\",\"2015-03-27T00:00:00-04:00\",\"2015-03-30T00:00:00-04:00\",\"2015-03-31T00:00:00-04:00\",\"2015-04-01T00:00:00-04:00\",\"2015-04-02T00:00:00-04:00\",\"2015-04-06T00:00:00-04:00\",\"2015-04-07T00:00:00-04:00\",\"2015-04-08T00:00:00-04:00\",\"2015-04-09T00:00:00-04:00\",\"2015-04-10T00:00:00-04:00\",\"2015-04-13T00:00:00-04:00\",\"2015-04-14T00:00:00-04:00\",\"2015-04-15T00:00:00-04:00\",\"2015-04-16T00:00:00-04:00\",\"2015-04-17T00:00:00-04:00\",\"2015-04-20T00:00:00-04:00\",\"2015-04-21T00:00:00-04:00\",\"2015-04-22T00:00:00-04:00\",\"2015-04-23T00:00:00-04:00\",\"2015-04-24T00:00:00-04:00\",\"2015-04-27T00:00:00-04:00\",\"2015-04-28T00:00:00-04:00\",\"2015-04-29T00:00:00-04:00\",\"2015-04-30T00:00:00-04:00\",\"2015-05-01T00:00:00-04:00\",\"2015-05-04T00:00:00-04:00\",\"2015-05-05T00:00:00-04:00\",\"2015-05-06T00:00:00-04:00\",\"2015-05-07T00:00:00-04:00\",\"2015-05-08T00:00:00-04:00\",\"2015-05-11T00:00:00-04:00\",\"2015-05-12T00:00:00-04:00\",\"2015-05-13T00:00:00-04:00\",\"2015-05-14T00:00:00-04:00\",\"2015-05-15T00:00:00-04:00\",\"2015-05-18T00:00:00-04:00\",\"2015-05-19T00:00:00-04:00\",\"2015-05-20T00:00:00-04:00\",\"2015-05-21T00:00:00-04:00\",\"2015-05-22T00:00:00-04:00\",\"2015-05-26T00:00:00-04:00\",\"2015-05-27T00:00:00-04:00\",\"2015-05-28T00:00:00-04:00\",\"2015-05-29T00:00:00-04:00\",\"2015-06-01T00:00:00-04:00\",\"2015-06-02T00:00:00-04:00\",\"2015-06-03T00:00:00-04:00\",\"2015-06-04T00:00:00-04:00\",\"2015-06-05T00:00:00-04:00\",\"2015-06-08T00:00:00-04:00\",\"2015-06-09T00:00:00-04:00\",\"2015-06-10T00:00:00-04:00\",\"2015-06-11T00:00:00-04:00\",\"2015-06-12T00:00:00-04:00\",\"2015-06-15T00:00:00-04:00\",\"2015-06-16T00:00:00-04:00\",\"2015-06-17T00:00:00-04:00\",\"2015-06-18T00:00:00-04:00\",\"2015-06-19T00:00:00-04:00\",\"2015-06-22T00:00:00-04:00\",\"2015-06-23T00:00:00-04:00\",\"2015-06-24T00:00:00-04:00\",\"2015-06-25T00:00:00-04:00\",\"2015-06-26T00:00:00-04:00\",\"2015-06-29T00:00:00-04:00\",\"2015-06-30T00:00:00-04:00\",\"2015-07-01T00:00:00-04:00\",\"2015-07-02T00:00:00-04:00\",\"2015-07-06T00:00:00-04:00\",\"2015-07-07T00:00:00-04:00\",\"2015-07-08T00:00:00-04:00\",\"2015-07-09T00:00:00-04:00\",\"2015-07-10T00:00:00-04:00\",\"2015-07-13T00:00:00-04:00\",\"2015-07-14T00:00:00-04:00\",\"2015-07-15T00:00:00-04:00\",\"2015-07-16T00:00:00-04:00\",\"2015-07-17T00:00:00-04:00\",\"2015-07-20T00:00:00-04:00\",\"2015-07-21T00:00:00-04:00\",\"2015-07-22T00:00:00-04:00\",\"2015-07-23T00:00:00-04:00\",\"2015-07-24T00:00:00-04:00\",\"2015-07-27T00:00:00-04:00\",\"2015-07-28T00:00:00-04:00\",\"2015-07-29T00:00:00-04:00\",\"2015-07-30T00:00:00-04:00\",\"2015-07-31T00:00:00-04:00\",\"2015-08-03T00:00:00-04:00\",\"2015-08-04T00:00:00-04:00\",\"2015-08-05T00:00:00-04:00\",\"2015-08-06T00:00:00-04:00\",\"2015-08-07T00:00:00-04:00\",\"2015-08-10T00:00:00-04:00\",\"2015-08-11T00:00:00-04:00\",\"2015-08-12T00:00:00-04:00\",\"2015-08-13T00:00:00-04:00\",\"2015-08-14T00:00:00-04:00\",\"2015-08-17T00:00:00-04:00\",\"2015-08-18T00:00:00-04:00\",\"2015-08-19T00:00:00-04:00\",\"2015-08-20T00:00:00-04:00\",\"2015-08-21T00:00:00-04:00\",\"2015-08-24T00:00:00-04:00\",\"2015-08-25T00:00:00-04:00\",\"2015-08-26T00:00:00-04:00\",\"2015-08-27T00:00:00-04:00\",\"2015-08-28T00:00:00-04:00\",\"2015-08-31T00:00:00-04:00\",\"2015-09-01T00:00:00-04:00\",\"2015-09-02T00:00:00-04:00\",\"2015-09-03T00:00:00-04:00\",\"2015-09-04T00:00:00-04:00\",\"2015-09-08T00:00:00-04:00\",\"2015-09-09T00:00:00-04:00\",\"2015-09-10T00:00:00-04:00\",\"2015-09-11T00:00:00-04:00\",\"2015-09-14T00:00:00-04:00\",\"2015-09-15T00:00:00-04:00\",\"2015-09-16T00:00:00-04:00\",\"2015-09-17T00:00:00-04:00\",\"2015-09-18T00:00:00-04:00\",\"2015-09-21T00:00:00-04:00\",\"2015-09-22T00:00:00-04:00\",\"2015-09-23T00:00:00-04:00\",\"2015-09-24T00:00:00-04:00\",\"2015-09-25T00:00:00-04:00\",\"2015-09-28T00:00:00-04:00\",\"2015-09-29T00:00:00-04:00\",\"2015-09-30T00:00:00-04:00\",\"2015-10-01T00:00:00-04:00\",\"2015-10-02T00:00:00-04:00\",\"2015-10-05T00:00:00-04:00\",\"2015-10-06T00:00:00-04:00\",\"2015-10-07T00:00:00-04:00\",\"2015-10-08T00:00:00-04:00\",\"2015-10-09T00:00:00-04:00\",\"2015-10-12T00:00:00-04:00\",\"2015-10-13T00:00:00-04:00\",\"2015-10-14T00:00:00-04:00\",\"2015-10-15T00:00:00-04:00\",\"2015-10-16T00:00:00-04:00\",\"2015-10-19T00:00:00-04:00\",\"2015-10-20T00:00:00-04:00\",\"2015-10-21T00:00:00-04:00\",\"2015-10-22T00:00:00-04:00\",\"2015-10-23T00:00:00-04:00\",\"2015-10-26T00:00:00-04:00\",\"2015-10-27T00:00:00-04:00\",\"2015-10-28T00:00:00-04:00\",\"2015-10-29T00:00:00-04:00\",\"2015-10-30T00:00:00-04:00\",\"2015-11-02T00:00:00-05:00\",\"2015-11-03T00:00:00-05:00\",\"2015-11-04T00:00:00-05:00\",\"2015-11-05T00:00:00-05:00\",\"2015-11-06T00:00:00-05:00\",\"2015-11-09T00:00:00-05:00\",\"2015-11-10T00:00:00-05:00\",\"2015-11-11T00:00:00-05:00\",\"2015-11-12T00:00:00-05:00\",\"2015-11-13T00:00:00-05:00\",\"2015-11-16T00:00:00-05:00\",\"2015-11-17T00:00:00-05:00\",\"2015-11-18T00:00:00-05:00\",\"2015-11-19T00:00:00-05:00\",\"2015-11-20T00:00:00-05:00\",\"2015-11-23T00:00:00-05:00\",\"2015-11-24T00:00:00-05:00\",\"2015-11-25T00:00:00-05:00\",\"2015-11-27T00:00:00-05:00\",\"2015-11-30T00:00:00-05:00\",\"2015-12-01T00:00:00-05:00\",\"2015-12-02T00:00:00-05:00\",\"2015-12-03T00:00:00-05:00\",\"2015-12-04T00:00:00-05:00\",\"2015-12-07T00:00:00-05:00\",\"2015-12-08T00:00:00-05:00\",\"2015-12-09T00:00:00-05:00\",\"2015-12-10T00:00:00-05:00\",\"2015-12-11T00:00:00-05:00\",\"2015-12-14T00:00:00-05:00\",\"2015-12-15T00:00:00-05:00\",\"2015-12-16T00:00:00-05:00\",\"2015-12-17T00:00:00-05:00\",\"2015-12-18T00:00:00-05:00\",\"2015-12-21T00:00:00-05:00\",\"2015-12-22T00:00:00-05:00\",\"2015-12-23T00:00:00-05:00\",\"2015-12-24T00:00:00-05:00\",\"2015-12-28T00:00:00-05:00\",\"2015-12-29T00:00:00-05:00\",\"2015-12-30T00:00:00-05:00\",\"2015-12-31T00:00:00-05:00\",\"2016-01-04T00:00:00-05:00\",\"2016-01-05T00:00:00-05:00\",\"2016-01-06T00:00:00-05:00\",\"2016-01-07T00:00:00-05:00\",\"2016-01-08T00:00:00-05:00\",\"2016-01-11T00:00:00-05:00\",\"2016-01-12T00:00:00-05:00\",\"2016-01-13T00:00:00-05:00\",\"2016-01-14T00:00:00-05:00\",\"2016-01-15T00:00:00-05:00\",\"2016-01-19T00:00:00-05:00\",\"2016-01-20T00:00:00-05:00\",\"2016-01-21T00:00:00-05:00\",\"2016-01-22T00:00:00-05:00\",\"2016-01-25T00:00:00-05:00\",\"2016-01-26T00:00:00-05:00\",\"2016-01-27T00:00:00-05:00\",\"2016-01-28T00:00:00-05:00\",\"2016-01-29T00:00:00-05:00\",\"2016-02-01T00:00:00-05:00\",\"2016-02-02T00:00:00-05:00\",\"2016-02-03T00:00:00-05:00\",\"2016-02-04T00:00:00-05:00\",\"2016-02-05T00:00:00-05:00\",\"2016-02-08T00:00:00-05:00\",\"2016-02-09T00:00:00-05:00\",\"2016-02-10T00:00:00-05:00\",\"2016-02-11T00:00:00-05:00\",\"2016-02-12T00:00:00-05:00\",\"2016-02-16T00:00:00-05:00\",\"2016-02-17T00:00:00-05:00\",\"2016-02-18T00:00:00-05:00\",\"2016-02-19T00:00:00-05:00\",\"2016-02-22T00:00:00-05:00\",\"2016-02-23T00:00:00-05:00\",\"2016-02-24T00:00:00-05:00\",\"2016-02-25T00:00:00-05:00\",\"2016-02-26T00:00:00-05:00\",\"2016-02-29T00:00:00-05:00\",\"2016-03-01T00:00:00-05:00\",\"2016-03-02T00:00:00-05:00\",\"2016-03-03T00:00:00-05:00\",\"2016-03-04T00:00:00-05:00\",\"2016-03-07T00:00:00-05:00\",\"2016-03-08T00:00:00-05:00\",\"2016-03-09T00:00:00-05:00\",\"2016-03-10T00:00:00-05:00\",\"2016-03-11T00:00:00-05:00\",\"2016-03-14T00:00:00-04:00\",\"2016-03-15T00:00:00-04:00\",\"2016-03-16T00:00:00-04:00\",\"2016-03-17T00:00:00-04:00\",\"2016-03-18T00:00:00-04:00\",\"2016-03-21T00:00:00-04:00\",\"2016-03-22T00:00:00-04:00\",\"2016-03-23T00:00:00-04:00\",\"2016-03-24T00:00:00-04:00\",\"2016-03-28T00:00:00-04:00\",\"2016-03-29T00:00:00-04:00\",\"2016-03-30T00:00:00-04:00\",\"2016-03-31T00:00:00-04:00\",\"2016-04-01T00:00:00-04:00\",\"2016-04-04T00:00:00-04:00\",\"2016-04-05T00:00:00-04:00\",\"2016-04-06T00:00:00-04:00\",\"2016-04-07T00:00:00-04:00\",\"2016-04-08T00:00:00-04:00\",\"2016-04-11T00:00:00-04:00\",\"2016-04-12T00:00:00-04:00\",\"2016-04-13T00:00:00-04:00\",\"2016-04-14T00:00:00-04:00\",\"2016-04-15T00:00:00-04:00\",\"2016-04-18T00:00:00-04:00\",\"2016-04-19T00:00:00-04:00\",\"2016-04-20T00:00:00-04:00\",\"2016-04-21T00:00:00-04:00\",\"2016-04-22T00:00:00-04:00\",\"2016-04-25T00:00:00-04:00\",\"2016-04-26T00:00:00-04:00\",\"2016-04-27T00:00:00-04:00\",\"2016-04-28T00:00:00-04:00\",\"2016-04-29T00:00:00-04:00\",\"2016-05-02T00:00:00-04:00\",\"2016-05-03T00:00:00-04:00\",\"2016-05-04T00:00:00-04:00\",\"2016-05-05T00:00:00-04:00\",\"2016-05-06T00:00:00-04:00\",\"2016-05-09T00:00:00-04:00\",\"2016-05-10T00:00:00-04:00\",\"2016-05-11T00:00:00-04:00\",\"2016-05-12T00:00:00-04:00\",\"2016-05-13T00:00:00-04:00\",\"2016-05-16T00:00:00-04:00\",\"2016-05-17T00:00:00-04:00\",\"2016-05-18T00:00:00-04:00\",\"2016-05-19T00:00:00-04:00\",\"2016-05-20T00:00:00-04:00\",\"2016-05-23T00:00:00-04:00\",\"2016-05-24T00:00:00-04:00\",\"2016-05-25T00:00:00-04:00\",\"2016-05-26T00:00:00-04:00\",\"2016-05-27T00:00:00-04:00\",\"2016-05-31T00:00:00-04:00\",\"2016-06-01T00:00:00-04:00\",\"2016-06-02T00:00:00-04:00\",\"2016-06-03T00:00:00-04:00\",\"2016-06-06T00:00:00-04:00\",\"2016-06-07T00:00:00-04:00\",\"2016-06-08T00:00:00-04:00\",\"2016-06-09T00:00:00-04:00\",\"2016-06-10T00:00:00-04:00\",\"2016-06-13T00:00:00-04:00\",\"2016-06-14T00:00:00-04:00\",\"2016-06-15T00:00:00-04:00\",\"2016-06-16T00:00:00-04:00\",\"2016-06-17T00:00:00-04:00\",\"2016-06-20T00:00:00-04:00\",\"2016-06-21T00:00:00-04:00\",\"2016-06-22T00:00:00-04:00\",\"2016-06-23T00:00:00-04:00\",\"2016-06-24T00:00:00-04:00\",\"2016-06-27T00:00:00-04:00\",\"2016-06-28T00:00:00-04:00\",\"2016-06-29T00:00:00-04:00\",\"2016-06-30T00:00:00-04:00\",\"2016-07-01T00:00:00-04:00\",\"2016-07-05T00:00:00-04:00\",\"2016-07-06T00:00:00-04:00\",\"2016-07-07T00:00:00-04:00\",\"2016-07-08T00:00:00-04:00\",\"2016-07-11T00:00:00-04:00\",\"2016-07-12T00:00:00-04:00\",\"2016-07-13T00:00:00-04:00\",\"2016-07-14T00:00:00-04:00\",\"2016-07-15T00:00:00-04:00\",\"2016-07-18T00:00:00-04:00\",\"2016-07-19T00:00:00-04:00\",\"2016-07-20T00:00:00-04:00\",\"2016-07-21T00:00:00-04:00\",\"2016-07-22T00:00:00-04:00\",\"2016-07-25T00:00:00-04:00\",\"2016-07-26T00:00:00-04:00\",\"2016-07-27T00:00:00-04:00\",\"2016-07-28T00:00:00-04:00\",\"2016-07-29T00:00:00-04:00\",\"2016-08-01T00:00:00-04:00\",\"2016-08-02T00:00:00-04:00\",\"2016-08-03T00:00:00-04:00\",\"2016-08-04T00:00:00-04:00\",\"2016-08-05T00:00:00-04:00\",\"2016-08-08T00:00:00-04:00\",\"2016-08-09T00:00:00-04:00\",\"2016-08-10T00:00:00-04:00\",\"2016-08-11T00:00:00-04:00\",\"2016-08-12T00:00:00-04:00\",\"2016-08-15T00:00:00-04:00\",\"2016-08-16T00:00:00-04:00\",\"2016-08-17T00:00:00-04:00\",\"2016-08-18T00:00:00-04:00\",\"2016-08-19T00:00:00-04:00\",\"2016-08-22T00:00:00-04:00\",\"2016-08-23T00:00:00-04:00\",\"2016-08-24T00:00:00-04:00\",\"2016-08-25T00:00:00-04:00\",\"2016-08-26T00:00:00-04:00\",\"2016-08-29T00:00:00-04:00\",\"2016-08-30T00:00:00-04:00\",\"2016-08-31T00:00:00-04:00\",\"2016-09-01T00:00:00-04:00\",\"2016-09-02T00:00:00-04:00\",\"2016-09-06T00:00:00-04:00\",\"2016-09-07T00:00:00-04:00\",\"2016-09-08T00:00:00-04:00\",\"2016-09-09T00:00:00-04:00\",\"2016-09-12T00:00:00-04:00\",\"2016-09-13T00:00:00-04:00\",\"2016-09-14T00:00:00-04:00\",\"2016-09-15T00:00:00-04:00\",\"2016-09-16T00:00:00-04:00\",\"2016-09-19T00:00:00-04:00\",\"2016-09-20T00:00:00-04:00\",\"2016-09-21T00:00:00-04:00\",\"2016-09-22T00:00:00-04:00\",\"2016-09-23T00:00:00-04:00\",\"2016-09-26T00:00:00-04:00\",\"2016-09-27T00:00:00-04:00\",\"2016-09-28T00:00:00-04:00\",\"2016-09-29T00:00:00-04:00\",\"2016-09-30T00:00:00-04:00\",\"2016-10-03T00:00:00-04:00\",\"2016-10-04T00:00:00-04:00\",\"2016-10-05T00:00:00-04:00\",\"2016-10-06T00:00:00-04:00\",\"2016-10-07T00:00:00-04:00\",\"2016-10-10T00:00:00-04:00\",\"2016-10-11T00:00:00-04:00\",\"2016-10-12T00:00:00-04:00\",\"2016-10-13T00:00:00-04:00\",\"2016-10-14T00:00:00-04:00\",\"2016-10-17T00:00:00-04:00\",\"2016-10-18T00:00:00-04:00\",\"2016-10-19T00:00:00-04:00\",\"2016-10-20T00:00:00-04:00\",\"2016-10-21T00:00:00-04:00\",\"2016-10-24T00:00:00-04:00\",\"2016-10-25T00:00:00-04:00\",\"2016-10-26T00:00:00-04:00\",\"2016-10-27T00:00:00-04:00\",\"2016-10-28T00:00:00-04:00\",\"2016-10-31T00:00:00-04:00\",\"2016-11-01T00:00:00-04:00\",\"2016-11-02T00:00:00-04:00\",\"2016-11-03T00:00:00-04:00\",\"2016-11-04T00:00:00-04:00\",\"2016-11-07T00:00:00-05:00\",\"2016-11-08T00:00:00-05:00\",\"2016-11-09T00:00:00-05:00\",\"2016-11-10T00:00:00-05:00\",\"2016-11-11T00:00:00-05:00\",\"2016-11-14T00:00:00-05:00\",\"2016-11-15T00:00:00-05:00\",\"2016-11-16T00:00:00-05:00\",\"2016-11-17T00:00:00-05:00\",\"2016-11-18T00:00:00-05:00\",\"2016-11-21T00:00:00-05:00\",\"2016-11-22T00:00:00-05:00\",\"2016-11-23T00:00:00-05:00\",\"2016-11-25T00:00:00-05:00\",\"2016-11-28T00:00:00-05:00\",\"2016-11-29T00:00:00-05:00\",\"2016-11-30T00:00:00-05:00\",\"2016-12-01T00:00:00-05:00\",\"2016-12-02T00:00:00-05:00\",\"2016-12-05T00:00:00-05:00\",\"2016-12-06T00:00:00-05:00\",\"2016-12-07T00:00:00-05:00\",\"2016-12-08T00:00:00-05:00\",\"2016-12-09T00:00:00-05:00\",\"2016-12-12T00:00:00-05:00\",\"2016-12-13T00:00:00-05:00\",\"2016-12-14T00:00:00-05:00\",\"2016-12-15T00:00:00-05:00\",\"2016-12-16T00:00:00-05:00\",\"2016-12-19T00:00:00-05:00\",\"2016-12-20T00:00:00-05:00\",\"2016-12-21T00:00:00-05:00\",\"2016-12-22T00:00:00-05:00\",\"2016-12-23T00:00:00-05:00\",\"2016-12-27T00:00:00-05:00\",\"2016-12-28T00:00:00-05:00\",\"2016-12-29T00:00:00-05:00\",\"2016-12-30T00:00:00-05:00\",\"2017-01-03T00:00:00-05:00\",\"2017-01-04T00:00:00-05:00\",\"2017-01-05T00:00:00-05:00\",\"2017-01-06T00:00:00-05:00\",\"2017-01-09T00:00:00-05:00\",\"2017-01-10T00:00:00-05:00\",\"2017-01-11T00:00:00-05:00\",\"2017-01-12T00:00:00-05:00\",\"2017-01-13T00:00:00-05:00\",\"2017-01-17T00:00:00-05:00\",\"2017-01-18T00:00:00-05:00\",\"2017-01-19T00:00:00-05:00\",\"2017-01-20T00:00:00-05:00\",\"2017-01-23T00:00:00-05:00\",\"2017-01-24T00:00:00-05:00\",\"2017-01-25T00:00:00-05:00\",\"2017-01-26T00:00:00-05:00\",\"2017-01-27T00:00:00-05:00\",\"2017-01-30T00:00:00-05:00\",\"2017-01-31T00:00:00-05:00\",\"2017-02-01T00:00:00-05:00\",\"2017-02-02T00:00:00-05:00\",\"2017-02-03T00:00:00-05:00\",\"2017-02-06T00:00:00-05:00\",\"2017-02-07T00:00:00-05:00\",\"2017-02-08T00:00:00-05:00\",\"2017-02-09T00:00:00-05:00\",\"2017-02-10T00:00:00-05:00\",\"2017-02-13T00:00:00-05:00\",\"2017-02-14T00:00:00-05:00\",\"2017-02-15T00:00:00-05:00\",\"2017-02-16T00:00:00-05:00\",\"2017-02-17T00:00:00-05:00\",\"2017-02-21T00:00:00-05:00\",\"2017-02-22T00:00:00-05:00\",\"2017-02-23T00:00:00-05:00\",\"2017-02-24T00:00:00-05:00\",\"2017-02-27T00:00:00-05:00\",\"2017-02-28T00:00:00-05:00\",\"2017-03-01T00:00:00-05:00\",\"2017-03-02T00:00:00-05:00\",\"2017-03-03T00:00:00-05:00\",\"2017-03-06T00:00:00-05:00\",\"2017-03-07T00:00:00-05:00\",\"2017-03-08T00:00:00-05:00\",\"2017-03-09T00:00:00-05:00\",\"2017-03-10T00:00:00-05:00\",\"2017-03-13T00:00:00-04:00\",\"2017-03-14T00:00:00-04:00\",\"2017-03-15T00:00:00-04:00\",\"2017-03-16T00:00:00-04:00\",\"2017-03-17T00:00:00-04:00\",\"2017-03-20T00:00:00-04:00\",\"2017-03-21T00:00:00-04:00\",\"2017-03-22T00:00:00-04:00\",\"2017-03-23T00:00:00-04:00\",\"2017-03-24T00:00:00-04:00\",\"2017-03-27T00:00:00-04:00\",\"2017-03-28T00:00:00-04:00\",\"2017-03-29T00:00:00-04:00\",\"2017-03-30T00:00:00-04:00\",\"2017-03-31T00:00:00-04:00\",\"2017-04-03T00:00:00-04:00\",\"2017-04-04T00:00:00-04:00\",\"2017-04-05T00:00:00-04:00\",\"2017-04-06T00:00:00-04:00\",\"2017-04-07T00:00:00-04:00\",\"2017-04-10T00:00:00-04:00\",\"2017-04-11T00:00:00-04:00\",\"2017-04-12T00:00:00-04:00\",\"2017-04-13T00:00:00-04:00\",\"2017-04-17T00:00:00-04:00\",\"2017-04-18T00:00:00-04:00\",\"2017-04-19T00:00:00-04:00\",\"2017-04-20T00:00:00-04:00\",\"2017-04-21T00:00:00-04:00\",\"2017-04-24T00:00:00-04:00\",\"2017-04-25T00:00:00-04:00\",\"2017-04-26T00:00:00-04:00\",\"2017-04-27T00:00:00-04:00\",\"2017-04-28T00:00:00-04:00\",\"2017-05-01T00:00:00-04:00\",\"2017-05-02T00:00:00-04:00\",\"2017-05-03T00:00:00-04:00\",\"2017-05-04T00:00:00-04:00\",\"2017-05-05T00:00:00-04:00\",\"2017-05-08T00:00:00-04:00\",\"2017-05-09T00:00:00-04:00\",\"2017-05-10T00:00:00-04:00\",\"2017-05-11T00:00:00-04:00\",\"2017-05-12T00:00:00-04:00\",\"2017-05-15T00:00:00-04:00\",\"2017-05-16T00:00:00-04:00\",\"2017-05-17T00:00:00-04:00\",\"2017-05-18T00:00:00-04:00\",\"2017-05-19T00:00:00-04:00\",\"2017-05-22T00:00:00-04:00\",\"2017-05-23T00:00:00-04:00\",\"2017-05-24T00:00:00-04:00\",\"2017-05-25T00:00:00-04:00\",\"2017-05-26T00:00:00-04:00\",\"2017-05-30T00:00:00-04:00\",\"2017-05-31T00:00:00-04:00\",\"2017-06-01T00:00:00-04:00\",\"2017-06-02T00:00:00-04:00\",\"2017-06-05T00:00:00-04:00\",\"2017-06-06T00:00:00-04:00\",\"2017-06-07T00:00:00-04:00\",\"2017-06-08T00:00:00-04:00\",\"2017-06-09T00:00:00-04:00\",\"2017-06-12T00:00:00-04:00\",\"2017-06-13T00:00:00-04:00\",\"2017-06-14T00:00:00-04:00\",\"2017-06-15T00:00:00-04:00\",\"2017-06-16T00:00:00-04:00\",\"2017-06-19T00:00:00-04:00\",\"2017-06-20T00:00:00-04:00\",\"2017-06-21T00:00:00-04:00\",\"2017-06-22T00:00:00-04:00\",\"2017-06-23T00:00:00-04:00\",\"2017-06-26T00:00:00-04:00\",\"2017-06-27T00:00:00-04:00\",\"2017-06-28T00:00:00-04:00\",\"2017-06-29T00:00:00-04:00\",\"2017-06-30T00:00:00-04:00\",\"2017-07-03T00:00:00-04:00\",\"2017-07-05T00:00:00-04:00\",\"2017-07-06T00:00:00-04:00\",\"2017-07-07T00:00:00-04:00\",\"2017-07-10T00:00:00-04:00\",\"2017-07-11T00:00:00-04:00\",\"2017-07-12T00:00:00-04:00\",\"2017-07-13T00:00:00-04:00\",\"2017-07-14T00:00:00-04:00\",\"2017-07-17T00:00:00-04:00\",\"2017-07-18T00:00:00-04:00\",\"2017-07-19T00:00:00-04:00\",\"2017-07-20T00:00:00-04:00\",\"2017-07-21T00:00:00-04:00\",\"2017-07-24T00:00:00-04:00\",\"2017-07-25T00:00:00-04:00\",\"2017-07-26T00:00:00-04:00\",\"2017-07-27T00:00:00-04:00\",\"2017-07-28T00:00:00-04:00\",\"2017-07-31T00:00:00-04:00\",\"2017-08-01T00:00:00-04:00\",\"2017-08-02T00:00:00-04:00\",\"2017-08-03T00:00:00-04:00\",\"2017-08-04T00:00:00-04:00\",\"2017-08-07T00:00:00-04:00\",\"2017-08-08T00:00:00-04:00\",\"2017-08-09T00:00:00-04:00\",\"2017-08-10T00:00:00-04:00\",\"2017-08-11T00:00:00-04:00\",\"2017-08-14T00:00:00-04:00\",\"2017-08-15T00:00:00-04:00\",\"2017-08-16T00:00:00-04:00\",\"2017-08-17T00:00:00-04:00\",\"2017-08-18T00:00:00-04:00\",\"2017-08-21T00:00:00-04:00\",\"2017-08-22T00:00:00-04:00\",\"2017-08-23T00:00:00-04:00\",\"2017-08-24T00:00:00-04:00\",\"2017-08-25T00:00:00-04:00\",\"2017-08-28T00:00:00-04:00\",\"2017-08-29T00:00:00-04:00\",\"2017-08-30T00:00:00-04:00\",\"2017-08-31T00:00:00-04:00\",\"2017-09-01T00:00:00-04:00\",\"2017-09-05T00:00:00-04:00\",\"2017-09-06T00:00:00-04:00\",\"2017-09-07T00:00:00-04:00\",\"2017-09-08T00:00:00-04:00\",\"2017-09-11T00:00:00-04:00\",\"2017-09-12T00:00:00-04:00\",\"2017-09-13T00:00:00-04:00\",\"2017-09-14T00:00:00-04:00\",\"2017-09-15T00:00:00-04:00\",\"2017-09-18T00:00:00-04:00\",\"2017-09-19T00:00:00-04:00\",\"2017-09-20T00:00:00-04:00\",\"2017-09-21T00:00:00-04:00\",\"2017-09-22T00:00:00-04:00\",\"2017-09-25T00:00:00-04:00\",\"2017-09-26T00:00:00-04:00\",\"2017-09-27T00:00:00-04:00\",\"2017-09-28T00:00:00-04:00\",\"2017-09-29T00:00:00-04:00\",\"2017-10-02T00:00:00-04:00\",\"2017-10-03T00:00:00-04:00\",\"2017-10-04T00:00:00-04:00\",\"2017-10-05T00:00:00-04:00\",\"2017-10-06T00:00:00-04:00\",\"2017-10-09T00:00:00-04:00\",\"2017-10-10T00:00:00-04:00\",\"2017-10-11T00:00:00-04:00\",\"2017-10-12T00:00:00-04:00\",\"2017-10-13T00:00:00-04:00\",\"2017-10-16T00:00:00-04:00\",\"2017-10-17T00:00:00-04:00\",\"2017-10-18T00:00:00-04:00\",\"2017-10-19T00:00:00-04:00\",\"2017-10-20T00:00:00-04:00\",\"2017-10-23T00:00:00-04:00\",\"2017-10-24T00:00:00-04:00\",\"2017-10-25T00:00:00-04:00\",\"2017-10-26T00:00:00-04:00\",\"2017-10-27T00:00:00-04:00\",\"2017-10-30T00:00:00-04:00\",\"2017-10-31T00:00:00-04:00\",\"2017-11-01T00:00:00-04:00\",\"2017-11-02T00:00:00-04:00\",\"2017-11-03T00:00:00-04:00\",\"2017-11-06T00:00:00-05:00\",\"2017-11-07T00:00:00-05:00\",\"2017-11-08T00:00:00-05:00\",\"2017-11-09T00:00:00-05:00\",\"2017-11-10T00:00:00-05:00\",\"2017-11-13T00:00:00-05:00\",\"2017-11-14T00:00:00-05:00\",\"2017-11-15T00:00:00-05:00\",\"2017-11-16T00:00:00-05:00\",\"2017-11-17T00:00:00-05:00\",\"2017-11-20T00:00:00-05:00\",\"2017-11-21T00:00:00-05:00\",\"2017-11-22T00:00:00-05:00\",\"2017-11-24T00:00:00-05:00\",\"2017-11-27T00:00:00-05:00\",\"2017-11-28T00:00:00-05:00\",\"2017-11-29T00:00:00-05:00\",\"2017-11-30T00:00:00-05:00\",\"2017-12-01T00:00:00-05:00\",\"2017-12-04T00:00:00-05:00\",\"2017-12-05T00:00:00-05:00\",\"2017-12-06T00:00:00-05:00\",\"2017-12-07T00:00:00-05:00\",\"2017-12-08T00:00:00-05:00\",\"2017-12-11T00:00:00-05:00\",\"2017-12-12T00:00:00-05:00\",\"2017-12-13T00:00:00-05:00\",\"2017-12-14T00:00:00-05:00\",\"2017-12-15T00:00:00-05:00\",\"2017-12-18T00:00:00-05:00\",\"2017-12-19T00:00:00-05:00\",\"2017-12-20T00:00:00-05:00\",\"2017-12-21T00:00:00-05:00\",\"2017-12-22T00:00:00-05:00\",\"2017-12-26T00:00:00-05:00\",\"2017-12-27T00:00:00-05:00\",\"2017-12-28T00:00:00-05:00\",\"2017-12-29T00:00:00-05:00\",\"2018-01-02T00:00:00-05:00\",\"2018-01-03T00:00:00-05:00\",\"2018-01-04T00:00:00-05:00\",\"2018-01-05T00:00:00-05:00\",\"2018-01-08T00:00:00-05:00\",\"2018-01-09T00:00:00-05:00\",\"2018-01-10T00:00:00-05:00\",\"2018-01-11T00:00:00-05:00\",\"2018-01-12T00:00:00-05:00\",\"2018-01-16T00:00:00-05:00\",\"2018-01-17T00:00:00-05:00\",\"2018-01-18T00:00:00-05:00\",\"2018-01-19T00:00:00-05:00\",\"2018-01-22T00:00:00-05:00\",\"2018-01-23T00:00:00-05:00\",\"2018-01-24T00:00:00-05:00\",\"2018-01-25T00:00:00-05:00\",\"2018-01-26T00:00:00-05:00\",\"2018-01-29T00:00:00-05:00\",\"2018-01-30T00:00:00-05:00\",\"2018-01-31T00:00:00-05:00\",\"2018-02-01T00:00:00-05:00\",\"2018-02-02T00:00:00-05:00\",\"2018-02-05T00:00:00-05:00\",\"2018-02-06T00:00:00-05:00\",\"2018-02-07T00:00:00-05:00\",\"2018-02-08T00:00:00-05:00\",\"2018-02-09T00:00:00-05:00\",\"2018-02-12T00:00:00-05:00\",\"2018-02-13T00:00:00-05:00\",\"2018-02-14T00:00:00-05:00\",\"2018-02-15T00:00:00-05:00\",\"2018-02-16T00:00:00-05:00\",\"2018-02-20T00:00:00-05:00\",\"2018-02-21T00:00:00-05:00\",\"2018-02-22T00:00:00-05:00\",\"2018-02-23T00:00:00-05:00\",\"2018-02-26T00:00:00-05:00\",\"2018-02-27T00:00:00-05:00\",\"2018-02-28T00:00:00-05:00\",\"2018-03-01T00:00:00-05:00\",\"2018-03-02T00:00:00-05:00\",\"2018-03-05T00:00:00-05:00\",\"2018-03-06T00:00:00-05:00\",\"2018-03-07T00:00:00-05:00\",\"2018-03-08T00:00:00-05:00\",\"2018-03-09T00:00:00-05:00\",\"2018-03-12T00:00:00-04:00\",\"2018-03-13T00:00:00-04:00\",\"2018-03-14T00:00:00-04:00\",\"2018-03-15T00:00:00-04:00\",\"2018-03-16T00:00:00-04:00\",\"2018-03-19T00:00:00-04:00\",\"2018-03-20T00:00:00-04:00\",\"2018-03-21T00:00:00-04:00\",\"2018-03-22T00:00:00-04:00\",\"2018-03-23T00:00:00-04:00\",\"2018-03-26T00:00:00-04:00\",\"2018-03-27T00:00:00-04:00\",\"2018-03-28T00:00:00-04:00\",\"2018-03-29T00:00:00-04:00\",\"2018-04-02T00:00:00-04:00\",\"2018-04-03T00:00:00-04:00\",\"2018-04-04T00:00:00-04:00\",\"2018-04-05T00:00:00-04:00\",\"2018-04-06T00:00:00-04:00\",\"2018-04-09T00:00:00-04:00\",\"2018-04-10T00:00:00-04:00\",\"2018-04-11T00:00:00-04:00\",\"2018-04-12T00:00:00-04:00\",\"2018-04-13T00:00:00-04:00\",\"2018-04-16T00:00:00-04:00\",\"2018-04-17T00:00:00-04:00\",\"2018-04-18T00:00:00-04:00\",\"2018-04-19T00:00:00-04:00\",\"2018-04-20T00:00:00-04:00\",\"2018-04-23T00:00:00-04:00\",\"2018-04-24T00:00:00-04:00\",\"2018-04-25T00:00:00-04:00\",\"2018-04-26T00:00:00-04:00\",\"2018-04-27T00:00:00-04:00\",\"2018-04-30T00:00:00-04:00\",\"2018-05-01T00:00:00-04:00\",\"2018-05-02T00:00:00-04:00\",\"2018-05-03T00:00:00-04:00\",\"2018-05-04T00:00:00-04:00\",\"2018-05-07T00:00:00-04:00\",\"2018-05-08T00:00:00-04:00\",\"2018-05-09T00:00:00-04:00\",\"2018-05-10T00:00:00-04:00\",\"2018-05-11T00:00:00-04:00\",\"2018-05-14T00:00:00-04:00\",\"2018-05-15T00:00:00-04:00\",\"2018-05-16T00:00:00-04:00\",\"2018-05-17T00:00:00-04:00\",\"2018-05-18T00:00:00-04:00\",\"2018-05-21T00:00:00-04:00\",\"2018-05-22T00:00:00-04:00\",\"2018-05-23T00:00:00-04:00\",\"2018-05-24T00:00:00-04:00\",\"2018-05-25T00:00:00-04:00\",\"2018-05-29T00:00:00-04:00\",\"2018-05-30T00:00:00-04:00\",\"2018-05-31T00:00:00-04:00\",\"2018-06-01T00:00:00-04:00\",\"2018-06-04T00:00:00-04:00\",\"2018-06-05T00:00:00-04:00\",\"2018-06-06T00:00:00-04:00\",\"2018-06-07T00:00:00-04:00\",\"2018-06-08T00:00:00-04:00\",\"2018-06-11T00:00:00-04:00\",\"2018-06-12T00:00:00-04:00\",\"2018-06-13T00:00:00-04:00\",\"2018-06-14T00:00:00-04:00\",\"2018-06-15T00:00:00-04:00\",\"2018-06-18T00:00:00-04:00\",\"2018-06-19T00:00:00-04:00\",\"2018-06-20T00:00:00-04:00\",\"2018-06-21T00:00:00-04:00\",\"2018-06-22T00:00:00-04:00\",\"2018-06-25T00:00:00-04:00\",\"2018-06-26T00:00:00-04:00\",\"2018-06-27T00:00:00-04:00\",\"2018-06-28T00:00:00-04:00\",\"2018-06-29T00:00:00-04:00\",\"2018-07-02T00:00:00-04:00\",\"2018-07-03T00:00:00-04:00\",\"2018-07-05T00:00:00-04:00\",\"2018-07-06T00:00:00-04:00\",\"2018-07-09T00:00:00-04:00\",\"2018-07-10T00:00:00-04:00\",\"2018-07-11T00:00:00-04:00\",\"2018-07-12T00:00:00-04:00\",\"2018-07-13T00:00:00-04:00\",\"2018-07-16T00:00:00-04:00\",\"2018-07-17T00:00:00-04:00\",\"2018-07-18T00:00:00-04:00\",\"2018-07-19T00:00:00-04:00\",\"2018-07-20T00:00:00-04:00\",\"2018-07-23T00:00:00-04:00\",\"2018-07-24T00:00:00-04:00\",\"2018-07-25T00:00:00-04:00\",\"2018-07-26T00:00:00-04:00\",\"2018-07-27T00:00:00-04:00\",\"2018-07-30T00:00:00-04:00\",\"2018-07-31T00:00:00-04:00\",\"2018-08-01T00:00:00-04:00\",\"2018-08-02T00:00:00-04:00\",\"2018-08-03T00:00:00-04:00\",\"2018-08-06T00:00:00-04:00\",\"2018-08-07T00:00:00-04:00\",\"2018-08-08T00:00:00-04:00\",\"2018-08-09T00:00:00-04:00\",\"2018-08-10T00:00:00-04:00\",\"2018-08-13T00:00:00-04:00\",\"2018-08-14T00:00:00-04:00\",\"2018-08-15T00:00:00-04:00\",\"2018-08-16T00:00:00-04:00\",\"2018-08-17T00:00:00-04:00\",\"2018-08-20T00:00:00-04:00\",\"2018-08-21T00:00:00-04:00\",\"2018-08-22T00:00:00-04:00\",\"2018-08-23T00:00:00-04:00\",\"2018-08-24T00:00:00-04:00\",\"2018-08-27T00:00:00-04:00\",\"2018-08-28T00:00:00-04:00\",\"2018-08-29T00:00:00-04:00\",\"2018-08-30T00:00:00-04:00\",\"2018-08-31T00:00:00-04:00\",\"2018-09-04T00:00:00-04:00\",\"2018-09-05T00:00:00-04:00\",\"2018-09-06T00:00:00-04:00\",\"2018-09-07T00:00:00-04:00\",\"2018-09-10T00:00:00-04:00\",\"2018-09-11T00:00:00-04:00\",\"2018-09-12T00:00:00-04:00\",\"2018-09-13T00:00:00-04:00\",\"2018-09-14T00:00:00-04:00\",\"2018-09-17T00:00:00-04:00\",\"2018-09-18T00:00:00-04:00\",\"2018-09-19T00:00:00-04:00\",\"2018-09-20T00:00:00-04:00\",\"2018-09-21T00:00:00-04:00\",\"2018-09-24T00:00:00-04:00\",\"2018-09-25T00:00:00-04:00\",\"2018-09-26T00:00:00-04:00\",\"2018-09-27T00:00:00-04:00\",\"2018-09-28T00:00:00-04:00\",\"2018-10-01T00:00:00-04:00\",\"2018-10-02T00:00:00-04:00\",\"2018-10-03T00:00:00-04:00\",\"2018-10-04T00:00:00-04:00\",\"2018-10-05T00:00:00-04:00\",\"2018-10-08T00:00:00-04:00\",\"2018-10-09T00:00:00-04:00\",\"2018-10-10T00:00:00-04:00\",\"2018-10-11T00:00:00-04:00\",\"2018-10-12T00:00:00-04:00\",\"2018-10-15T00:00:00-04:00\",\"2018-10-16T00:00:00-04:00\",\"2018-10-17T00:00:00-04:00\",\"2018-10-18T00:00:00-04:00\",\"2018-10-19T00:00:00-04:00\",\"2018-10-22T00:00:00-04:00\",\"2018-10-23T00:00:00-04:00\",\"2018-10-24T00:00:00-04:00\",\"2018-10-25T00:00:00-04:00\",\"2018-10-26T00:00:00-04:00\",\"2018-10-29T00:00:00-04:00\",\"2018-10-30T00:00:00-04:00\",\"2018-10-31T00:00:00-04:00\",\"2018-11-01T00:00:00-04:00\",\"2018-11-02T00:00:00-04:00\",\"2018-11-05T00:00:00-05:00\",\"2018-11-06T00:00:00-05:00\",\"2018-11-07T00:00:00-05:00\",\"2018-11-08T00:00:00-05:00\",\"2018-11-09T00:00:00-05:00\",\"2018-11-12T00:00:00-05:00\",\"2018-11-13T00:00:00-05:00\",\"2018-11-14T00:00:00-05:00\",\"2018-11-15T00:00:00-05:00\",\"2018-11-16T00:00:00-05:00\",\"2018-11-19T00:00:00-05:00\",\"2018-11-20T00:00:00-05:00\",\"2018-11-21T00:00:00-05:00\",\"2018-11-23T00:00:00-05:00\",\"2018-11-26T00:00:00-05:00\",\"2018-11-27T00:00:00-05:00\",\"2018-11-28T00:00:00-05:00\",\"2018-11-29T00:00:00-05:00\",\"2018-11-30T00:00:00-05:00\",\"2018-12-03T00:00:00-05:00\",\"2018-12-04T00:00:00-05:00\",\"2018-12-06T00:00:00-05:00\",\"2018-12-07T00:00:00-05:00\",\"2018-12-10T00:00:00-05:00\",\"2018-12-11T00:00:00-05:00\",\"2018-12-12T00:00:00-05:00\",\"2018-12-13T00:00:00-05:00\",\"2018-12-14T00:00:00-05:00\",\"2018-12-17T00:00:00-05:00\",\"2018-12-18T00:00:00-05:00\",\"2018-12-19T00:00:00-05:00\",\"2018-12-20T00:00:00-05:00\",\"2018-12-21T00:00:00-05:00\",\"2018-12-24T00:00:00-05:00\",\"2018-12-26T00:00:00-05:00\",\"2018-12-27T00:00:00-05:00\",\"2018-12-28T00:00:00-05:00\",\"2018-12-31T00:00:00-05:00\",\"2019-01-02T00:00:00-05:00\",\"2019-01-03T00:00:00-05:00\",\"2019-01-04T00:00:00-05:00\",\"2019-01-07T00:00:00-05:00\",\"2019-01-08T00:00:00-05:00\",\"2019-01-09T00:00:00-05:00\",\"2019-01-10T00:00:00-05:00\",\"2019-01-11T00:00:00-05:00\",\"2019-01-14T00:00:00-05:00\",\"2019-01-15T00:00:00-05:00\",\"2019-01-16T00:00:00-05:00\",\"2019-01-17T00:00:00-05:00\",\"2019-01-18T00:00:00-05:00\",\"2019-01-22T00:00:00-05:00\",\"2019-01-23T00:00:00-05:00\",\"2019-01-24T00:00:00-05:00\",\"2019-01-25T00:00:00-05:00\",\"2019-01-28T00:00:00-05:00\",\"2019-01-29T00:00:00-05:00\",\"2019-01-30T00:00:00-05:00\",\"2019-01-31T00:00:00-05:00\",\"2019-02-01T00:00:00-05:00\",\"2019-02-04T00:00:00-05:00\",\"2019-02-05T00:00:00-05:00\",\"2019-02-06T00:00:00-05:00\",\"2019-02-07T00:00:00-05:00\",\"2019-02-08T00:00:00-05:00\",\"2019-02-11T00:00:00-05:00\",\"2019-02-12T00:00:00-05:00\",\"2019-02-13T00:00:00-05:00\",\"2019-02-14T00:00:00-05:00\",\"2019-02-15T00:00:00-05:00\",\"2019-02-19T00:00:00-05:00\",\"2019-02-20T00:00:00-05:00\",\"2019-02-21T00:00:00-05:00\",\"2019-02-22T00:00:00-05:00\",\"2019-02-25T00:00:00-05:00\",\"2019-02-26T00:00:00-05:00\",\"2019-02-27T00:00:00-05:00\",\"2019-02-28T00:00:00-05:00\",\"2019-03-01T00:00:00-05:00\",\"2019-03-04T00:00:00-05:00\",\"2019-03-05T00:00:00-05:00\",\"2019-03-06T00:00:00-05:00\",\"2019-03-07T00:00:00-05:00\",\"2019-03-08T00:00:00-05:00\",\"2019-03-11T00:00:00-04:00\",\"2019-03-12T00:00:00-04:00\",\"2019-03-13T00:00:00-04:00\",\"2019-03-14T00:00:00-04:00\",\"2019-03-15T00:00:00-04:00\",\"2019-03-18T00:00:00-04:00\",\"2019-03-19T00:00:00-04:00\",\"2019-03-20T00:00:00-04:00\",\"2019-03-21T00:00:00-04:00\",\"2019-03-22T00:00:00-04:00\",\"2019-03-25T00:00:00-04:00\",\"2019-03-26T00:00:00-04:00\",\"2019-03-27T00:00:00-04:00\",\"2019-03-28T00:00:00-04:00\",\"2019-03-29T00:00:00-04:00\",\"2019-04-01T00:00:00-04:00\",\"2019-04-02T00:00:00-04:00\",\"2019-04-03T00:00:00-04:00\",\"2019-04-04T00:00:00-04:00\",\"2019-04-05T00:00:00-04:00\",\"2019-04-08T00:00:00-04:00\",\"2019-04-09T00:00:00-04:00\",\"2019-04-10T00:00:00-04:00\",\"2019-04-11T00:00:00-04:00\",\"2019-04-12T00:00:00-04:00\",\"2019-04-15T00:00:00-04:00\",\"2019-04-16T00:00:00-04:00\",\"2019-04-17T00:00:00-04:00\",\"2019-04-18T00:00:00-04:00\",\"2019-04-22T00:00:00-04:00\",\"2019-04-23T00:00:00-04:00\",\"2019-04-24T00:00:00-04:00\",\"2019-04-25T00:00:00-04:00\",\"2019-04-26T00:00:00-04:00\",\"2019-04-29T00:00:00-04:00\",\"2019-04-30T00:00:00-04:00\",\"2019-05-01T00:00:00-04:00\",\"2019-05-02T00:00:00-04:00\",\"2019-05-03T00:00:00-04:00\",\"2019-05-06T00:00:00-04:00\",\"2019-05-07T00:00:00-04:00\",\"2019-05-08T00:00:00-04:00\",\"2019-05-09T00:00:00-04:00\",\"2019-05-10T00:00:00-04:00\",\"2019-05-13T00:00:00-04:00\",\"2019-05-14T00:00:00-04:00\",\"2019-05-15T00:00:00-04:00\",\"2019-05-16T00:00:00-04:00\",\"2019-05-17T00:00:00-04:00\",\"2019-05-20T00:00:00-04:00\",\"2019-05-21T00:00:00-04:00\",\"2019-05-22T00:00:00-04:00\",\"2019-05-23T00:00:00-04:00\",\"2019-05-24T00:00:00-04:00\",\"2019-05-28T00:00:00-04:00\",\"2019-05-29T00:00:00-04:00\",\"2019-05-30T00:00:00-04:00\",\"2019-05-31T00:00:00-04:00\",\"2019-06-03T00:00:00-04:00\",\"2019-06-04T00:00:00-04:00\",\"2019-06-05T00:00:00-04:00\",\"2019-06-06T00:00:00-04:00\",\"2019-06-07T00:00:00-04:00\",\"2019-06-10T00:00:00-04:00\",\"2019-06-11T00:00:00-04:00\",\"2019-06-12T00:00:00-04:00\",\"2019-06-13T00:00:00-04:00\",\"2019-06-14T00:00:00-04:00\",\"2019-06-17T00:00:00-04:00\",\"2019-06-18T00:00:00-04:00\",\"2019-06-19T00:00:00-04:00\",\"2019-06-20T00:00:00-04:00\",\"2019-06-21T00:00:00-04:00\",\"2019-06-24T00:00:00-04:00\",\"2019-06-25T00:00:00-04:00\",\"2019-06-26T00:00:00-04:00\",\"2019-06-27T00:00:00-04:00\",\"2019-06-28T00:00:00-04:00\",\"2019-07-01T00:00:00-04:00\",\"2019-07-02T00:00:00-04:00\",\"2019-07-03T00:00:00-04:00\",\"2019-07-05T00:00:00-04:00\",\"2019-07-08T00:00:00-04:00\",\"2019-07-09T00:00:00-04:00\",\"2019-07-10T00:00:00-04:00\",\"2019-07-11T00:00:00-04:00\",\"2019-07-12T00:00:00-04:00\",\"2019-07-15T00:00:00-04:00\",\"2019-07-16T00:00:00-04:00\",\"2019-07-17T00:00:00-04:00\",\"2019-07-18T00:00:00-04:00\",\"2019-07-19T00:00:00-04:00\",\"2019-07-22T00:00:00-04:00\",\"2019-07-23T00:00:00-04:00\",\"2019-07-24T00:00:00-04:00\",\"2019-07-25T00:00:00-04:00\",\"2019-07-26T00:00:00-04:00\",\"2019-07-29T00:00:00-04:00\",\"2019-07-30T00:00:00-04:00\",\"2019-07-31T00:00:00-04:00\",\"2019-08-01T00:00:00-04:00\",\"2019-08-02T00:00:00-04:00\",\"2019-08-05T00:00:00-04:00\",\"2019-08-06T00:00:00-04:00\",\"2019-08-07T00:00:00-04:00\",\"2019-08-08T00:00:00-04:00\",\"2019-08-09T00:00:00-04:00\",\"2019-08-12T00:00:00-04:00\",\"2019-08-13T00:00:00-04:00\",\"2019-08-14T00:00:00-04:00\",\"2019-08-15T00:00:00-04:00\",\"2019-08-16T00:00:00-04:00\",\"2019-08-19T00:00:00-04:00\",\"2019-08-20T00:00:00-04:00\",\"2019-08-21T00:00:00-04:00\",\"2019-08-22T00:00:00-04:00\",\"2019-08-23T00:00:00-04:00\",\"2019-08-26T00:00:00-04:00\",\"2019-08-27T00:00:00-04:00\",\"2019-08-28T00:00:00-04:00\",\"2019-08-29T00:00:00-04:00\",\"2019-08-30T00:00:00-04:00\",\"2019-09-03T00:00:00-04:00\",\"2019-09-04T00:00:00-04:00\",\"2019-09-05T00:00:00-04:00\",\"2019-09-06T00:00:00-04:00\",\"2019-09-09T00:00:00-04:00\",\"2019-09-10T00:00:00-04:00\",\"2019-09-11T00:00:00-04:00\",\"2019-09-12T00:00:00-04:00\",\"2019-09-13T00:00:00-04:00\",\"2019-09-16T00:00:00-04:00\",\"2019-09-17T00:00:00-04:00\",\"2019-09-18T00:00:00-04:00\",\"2019-09-19T00:00:00-04:00\",\"2019-09-20T00:00:00-04:00\",\"2019-09-23T00:00:00-04:00\",\"2019-09-24T00:00:00-04:00\",\"2019-09-25T00:00:00-04:00\",\"2019-09-26T00:00:00-04:00\",\"2019-09-27T00:00:00-04:00\",\"2019-09-30T00:00:00-04:00\",\"2019-10-01T00:00:00-04:00\",\"2019-10-02T00:00:00-04:00\",\"2019-10-03T00:00:00-04:00\",\"2019-10-04T00:00:00-04:00\",\"2019-10-07T00:00:00-04:00\",\"2019-10-08T00:00:00-04:00\",\"2019-10-09T00:00:00-04:00\",\"2019-10-10T00:00:00-04:00\",\"2019-10-11T00:00:00-04:00\",\"2019-10-14T00:00:00-04:00\",\"2019-10-15T00:00:00-04:00\",\"2019-10-16T00:00:00-04:00\",\"2019-10-17T00:00:00-04:00\",\"2019-10-18T00:00:00-04:00\",\"2019-10-21T00:00:00-04:00\",\"2019-10-22T00:00:00-04:00\",\"2019-10-23T00:00:00-04:00\",\"2019-10-24T00:00:00-04:00\",\"2019-10-25T00:00:00-04:00\",\"2019-10-28T00:00:00-04:00\",\"2019-10-29T00:00:00-04:00\",\"2019-10-30T00:00:00-04:00\",\"2019-10-31T00:00:00-04:00\",\"2019-11-01T00:00:00-04:00\",\"2019-11-04T00:00:00-05:00\",\"2019-11-05T00:00:00-05:00\",\"2019-11-06T00:00:00-05:00\",\"2019-11-07T00:00:00-05:00\",\"2019-11-08T00:00:00-05:00\",\"2019-11-11T00:00:00-05:00\",\"2019-11-12T00:00:00-05:00\",\"2019-11-13T00:00:00-05:00\",\"2019-11-14T00:00:00-05:00\",\"2019-11-15T00:00:00-05:00\",\"2019-11-18T00:00:00-05:00\",\"2019-11-19T00:00:00-05:00\",\"2019-11-20T00:00:00-05:00\",\"2019-11-21T00:00:00-05:00\",\"2019-11-22T00:00:00-05:00\",\"2019-11-25T00:00:00-05:00\",\"2019-11-26T00:00:00-05:00\",\"2019-11-27T00:00:00-05:00\",\"2019-11-29T00:00:00-05:00\",\"2019-12-02T00:00:00-05:00\",\"2019-12-03T00:00:00-05:00\",\"2019-12-04T00:00:00-05:00\",\"2019-12-05T00:00:00-05:00\",\"2019-12-06T00:00:00-05:00\",\"2019-12-09T00:00:00-05:00\",\"2019-12-10T00:00:00-05:00\",\"2019-12-11T00:00:00-05:00\",\"2019-12-12T00:00:00-05:00\",\"2019-12-13T00:00:00-05:00\",\"2019-12-16T00:00:00-05:00\",\"2019-12-17T00:00:00-05:00\",\"2019-12-18T00:00:00-05:00\",\"2019-12-19T00:00:00-05:00\",\"2019-12-20T00:00:00-05:00\",\"2019-12-23T00:00:00-05:00\",\"2019-12-24T00:00:00-05:00\",\"2019-12-26T00:00:00-05:00\",\"2019-12-27T00:00:00-05:00\",\"2019-12-30T00:00:00-05:00\",\"2019-12-31T00:00:00-05:00\",\"2020-01-02T00:00:00-05:00\",\"2020-01-03T00:00:00-05:00\",\"2020-01-06T00:00:00-05:00\",\"2020-01-07T00:00:00-05:00\",\"2020-01-08T00:00:00-05:00\",\"2020-01-09T00:00:00-05:00\",\"2020-01-10T00:00:00-05:00\",\"2020-01-13T00:00:00-05:00\",\"2020-01-14T00:00:00-05:00\",\"2020-01-15T00:00:00-05:00\",\"2020-01-16T00:00:00-05:00\",\"2020-01-17T00:00:00-05:00\",\"2020-01-21T00:00:00-05:00\",\"2020-01-22T00:00:00-05:00\",\"2020-01-23T00:00:00-05:00\",\"2020-01-24T00:00:00-05:00\",\"2020-01-27T00:00:00-05:00\",\"2020-01-28T00:00:00-05:00\",\"2020-01-29T00:00:00-05:00\",\"2020-01-30T00:00:00-05:00\",\"2020-01-31T00:00:00-05:00\",\"2020-02-03T00:00:00-05:00\",\"2020-02-04T00:00:00-05:00\",\"2020-02-05T00:00:00-05:00\",\"2020-02-06T00:00:00-05:00\",\"2020-02-07T00:00:00-05:00\",\"2020-02-10T00:00:00-05:00\",\"2020-02-11T00:00:00-05:00\",\"2020-02-12T00:00:00-05:00\",\"2020-02-13T00:00:00-05:00\",\"2020-02-14T00:00:00-05:00\",\"2020-02-18T00:00:00-05:00\",\"2020-02-19T00:00:00-05:00\",\"2020-02-20T00:00:00-05:00\",\"2020-02-21T00:00:00-05:00\",\"2020-02-24T00:00:00-05:00\",\"2020-02-25T00:00:00-05:00\",\"2020-02-26T00:00:00-05:00\",\"2020-02-27T00:00:00-05:00\",\"2020-02-28T00:00:00-05:00\",\"2020-03-02T00:00:00-05:00\",\"2020-03-03T00:00:00-05:00\",\"2020-03-04T00:00:00-05:00\",\"2020-03-05T00:00:00-05:00\",\"2020-03-06T00:00:00-05:00\",\"2020-03-09T00:00:00-04:00\",\"2020-03-10T00:00:00-04:00\",\"2020-03-11T00:00:00-04:00\",\"2020-03-12T00:00:00-04:00\",\"2020-03-13T00:00:00-04:00\",\"2020-03-16T00:00:00-04:00\",\"2020-03-17T00:00:00-04:00\",\"2020-03-18T00:00:00-04:00\",\"2020-03-19T00:00:00-04:00\",\"2020-03-20T00:00:00-04:00\",\"2020-03-23T00:00:00-04:00\",\"2020-03-24T00:00:00-04:00\",\"2020-03-25T00:00:00-04:00\",\"2020-03-26T00:00:00-04:00\",\"2020-03-27T00:00:00-04:00\",\"2020-03-30T00:00:00-04:00\",\"2020-03-31T00:00:00-04:00\",\"2020-04-01T00:00:00-04:00\",\"2020-04-02T00:00:00-04:00\",\"2020-04-03T00:00:00-04:00\",\"2020-04-06T00:00:00-04:00\",\"2020-04-07T00:00:00-04:00\",\"2020-04-08T00:00:00-04:00\",\"2020-04-09T00:00:00-04:00\",\"2020-04-13T00:00:00-04:00\",\"2020-04-14T00:00:00-04:00\",\"2020-04-15T00:00:00-04:00\",\"2020-04-16T00:00:00-04:00\",\"2020-04-17T00:00:00-04:00\",\"2020-04-20T00:00:00-04:00\",\"2020-04-21T00:00:00-04:00\",\"2020-04-22T00:00:00-04:00\",\"2020-04-23T00:00:00-04:00\",\"2020-04-24T00:00:00-04:00\",\"2020-04-27T00:00:00-04:00\",\"2020-04-28T00:00:00-04:00\",\"2020-04-29T00:00:00-04:00\",\"2020-04-30T00:00:00-04:00\",\"2020-05-01T00:00:00-04:00\",\"2020-05-04T00:00:00-04:00\",\"2020-05-05T00:00:00-04:00\",\"2020-05-06T00:00:00-04:00\",\"2020-05-07T00:00:00-04:00\",\"2020-05-08T00:00:00-04:00\",\"2020-05-11T00:00:00-04:00\",\"2020-05-12T00:00:00-04:00\",\"2020-05-13T00:00:00-04:00\",\"2020-05-14T00:00:00-04:00\",\"2020-05-15T00:00:00-04:00\",\"2020-05-18T00:00:00-04:00\",\"2020-05-19T00:00:00-04:00\",\"2020-05-20T00:00:00-04:00\",\"2020-05-21T00:00:00-04:00\",\"2020-05-22T00:00:00-04:00\",\"2020-05-26T00:00:00-04:00\",\"2020-05-27T00:00:00-04:00\",\"2020-05-28T00:00:00-04:00\",\"2020-05-29T00:00:00-04:00\",\"2020-06-01T00:00:00-04:00\",\"2020-06-02T00:00:00-04:00\",\"2020-06-03T00:00:00-04:00\",\"2020-06-04T00:00:00-04:00\",\"2020-06-05T00:00:00-04:00\",\"2020-06-08T00:00:00-04:00\",\"2020-06-09T00:00:00-04:00\",\"2020-06-10T00:00:00-04:00\",\"2020-06-11T00:00:00-04:00\",\"2020-06-12T00:00:00-04:00\",\"2020-06-15T00:00:00-04:00\",\"2020-06-16T00:00:00-04:00\",\"2020-06-17T00:00:00-04:00\",\"2020-06-18T00:00:00-04:00\",\"2020-06-19T00:00:00-04:00\",\"2020-06-22T00:00:00-04:00\",\"2020-06-23T00:00:00-04:00\",\"2020-06-24T00:00:00-04:00\",\"2020-06-25T00:00:00-04:00\",\"2020-06-26T00:00:00-04:00\",\"2020-06-29T00:00:00-04:00\",\"2020-06-30T00:00:00-04:00\",\"2020-07-01T00:00:00-04:00\",\"2020-07-02T00:00:00-04:00\",\"2020-07-06T00:00:00-04:00\",\"2020-07-07T00:00:00-04:00\",\"2020-07-08T00:00:00-04:00\",\"2020-07-09T00:00:00-04:00\",\"2020-07-10T00:00:00-04:00\",\"2020-07-13T00:00:00-04:00\",\"2020-07-14T00:00:00-04:00\",\"2020-07-15T00:00:00-04:00\",\"2020-07-16T00:00:00-04:00\",\"2020-07-17T00:00:00-04:00\",\"2020-07-20T00:00:00-04:00\",\"2020-07-21T00:00:00-04:00\",\"2020-07-22T00:00:00-04:00\",\"2020-07-23T00:00:00-04:00\",\"2020-07-24T00:00:00-04:00\",\"2020-07-27T00:00:00-04:00\",\"2020-07-28T00:00:00-04:00\",\"2020-07-29T00:00:00-04:00\",\"2020-07-30T00:00:00-04:00\",\"2020-07-31T00:00:00-04:00\",\"2020-08-03T00:00:00-04:00\",\"2020-08-04T00:00:00-04:00\",\"2020-08-05T00:00:00-04:00\",\"2020-08-06T00:00:00-04:00\",\"2020-08-07T00:00:00-04:00\",\"2020-08-10T00:00:00-04:00\",\"2020-08-11T00:00:00-04:00\",\"2020-08-12T00:00:00-04:00\",\"2020-08-13T00:00:00-04:00\",\"2020-08-14T00:00:00-04:00\",\"2020-08-17T00:00:00-04:00\",\"2020-08-18T00:00:00-04:00\",\"2020-08-19T00:00:00-04:00\",\"2020-08-20T00:00:00-04:00\",\"2020-08-21T00:00:00-04:00\",\"2020-08-24T00:00:00-04:00\",\"2020-08-25T00:00:00-04:00\",\"2020-08-26T00:00:00-04:00\",\"2020-08-27T00:00:00-04:00\",\"2020-08-28T00:00:00-04:00\",\"2020-08-31T00:00:00-04:00\",\"2020-09-01T00:00:00-04:00\",\"2020-09-02T00:00:00-04:00\",\"2020-09-03T00:00:00-04:00\",\"2020-09-04T00:00:00-04:00\",\"2020-09-08T00:00:00-04:00\",\"2020-09-09T00:00:00-04:00\",\"2020-09-10T00:00:00-04:00\",\"2020-09-11T00:00:00-04:00\",\"2020-09-14T00:00:00-04:00\",\"2020-09-15T00:00:00-04:00\",\"2020-09-16T00:00:00-04:00\",\"2020-09-17T00:00:00-04:00\",\"2020-09-18T00:00:00-04:00\",\"2020-09-21T00:00:00-04:00\",\"2020-09-22T00:00:00-04:00\",\"2020-09-23T00:00:00-04:00\",\"2020-09-24T00:00:00-04:00\",\"2020-09-25T00:00:00-04:00\",\"2020-09-28T00:00:00-04:00\",\"2020-09-29T00:00:00-04:00\",\"2020-09-30T00:00:00-04:00\",\"2020-10-01T00:00:00-04:00\",\"2020-10-02T00:00:00-04:00\",\"2020-10-05T00:00:00-04:00\",\"2020-10-06T00:00:00-04:00\",\"2020-10-07T00:00:00-04:00\",\"2020-10-08T00:00:00-04:00\",\"2020-10-09T00:00:00-04:00\",\"2020-10-12T00:00:00-04:00\",\"2020-10-13T00:00:00-04:00\",\"2020-10-14T00:00:00-04:00\",\"2020-10-15T00:00:00-04:00\",\"2020-10-16T00:00:00-04:00\",\"2020-10-19T00:00:00-04:00\",\"2020-10-20T00:00:00-04:00\",\"2020-10-21T00:00:00-04:00\",\"2020-10-22T00:00:00-04:00\",\"2020-10-23T00:00:00-04:00\",\"2020-10-26T00:00:00-04:00\",\"2020-10-27T00:00:00-04:00\",\"2020-10-28T00:00:00-04:00\",\"2020-10-29T00:00:00-04:00\",\"2020-10-30T00:00:00-04:00\",\"2020-11-02T00:00:00-05:00\",\"2020-11-03T00:00:00-05:00\",\"2020-11-04T00:00:00-05:00\",\"2020-11-05T00:00:00-05:00\",\"2020-11-06T00:00:00-05:00\",\"2020-11-09T00:00:00-05:00\",\"2020-11-10T00:00:00-05:00\",\"2020-11-11T00:00:00-05:00\",\"2020-11-12T00:00:00-05:00\",\"2020-11-13T00:00:00-05:00\",\"2020-11-16T00:00:00-05:00\",\"2020-11-17T00:00:00-05:00\",\"2020-11-18T00:00:00-05:00\",\"2020-11-19T00:00:00-05:00\",\"2020-11-20T00:00:00-05:00\",\"2020-11-23T00:00:00-05:00\",\"2020-11-24T00:00:00-05:00\",\"2020-11-25T00:00:00-05:00\",\"2020-11-27T00:00:00-05:00\",\"2020-11-30T00:00:00-05:00\",\"2020-12-01T00:00:00-05:00\",\"2020-12-02T00:00:00-05:00\",\"2020-12-03T00:00:00-05:00\",\"2020-12-04T00:00:00-05:00\",\"2020-12-07T00:00:00-05:00\",\"2020-12-08T00:00:00-05:00\",\"2020-12-09T00:00:00-05:00\",\"2020-12-10T00:00:00-05:00\",\"2020-12-11T00:00:00-05:00\",\"2020-12-14T00:00:00-05:00\",\"2020-12-15T00:00:00-05:00\",\"2020-12-16T00:00:00-05:00\",\"2020-12-17T00:00:00-05:00\",\"2020-12-18T00:00:00-05:00\",\"2020-12-21T00:00:00-05:00\",\"2020-12-22T00:00:00-05:00\",\"2020-12-23T00:00:00-05:00\",\"2020-12-24T00:00:00-05:00\",\"2020-12-28T00:00:00-05:00\",\"2020-12-29T00:00:00-05:00\",\"2020-12-30T00:00:00-05:00\",\"2020-12-31T00:00:00-05:00\",\"2021-01-04T00:00:00-05:00\",\"2021-01-05T00:00:00-05:00\",\"2021-01-06T00:00:00-05:00\",\"2021-01-07T00:00:00-05:00\",\"2021-01-08T00:00:00-05:00\",\"2021-01-11T00:00:00-05:00\",\"2021-01-12T00:00:00-05:00\",\"2021-01-13T00:00:00-05:00\",\"2021-01-14T00:00:00-05:00\",\"2021-01-15T00:00:00-05:00\",\"2021-01-19T00:00:00-05:00\",\"2021-01-20T00:00:00-05:00\",\"2021-01-21T00:00:00-05:00\",\"2021-01-22T00:00:00-05:00\",\"2021-01-25T00:00:00-05:00\",\"2021-01-26T00:00:00-05:00\",\"2021-01-27T00:00:00-05:00\",\"2021-01-28T00:00:00-05:00\",\"2021-01-29T00:00:00-05:00\",\"2021-02-01T00:00:00-05:00\",\"2021-02-02T00:00:00-05:00\",\"2021-02-03T00:00:00-05:00\",\"2021-02-04T00:00:00-05:00\",\"2021-02-05T00:00:00-05:00\",\"2021-02-08T00:00:00-05:00\",\"2021-02-09T00:00:00-05:00\",\"2021-02-10T00:00:00-05:00\",\"2021-02-11T00:00:00-05:00\",\"2021-02-12T00:00:00-05:00\",\"2021-02-16T00:00:00-05:00\",\"2021-02-17T00:00:00-05:00\",\"2021-02-18T00:00:00-05:00\",\"2021-02-19T00:00:00-05:00\",\"2021-02-22T00:00:00-05:00\",\"2021-02-23T00:00:00-05:00\",\"2021-02-24T00:00:00-05:00\",\"2021-02-25T00:00:00-05:00\",\"2021-02-26T00:00:00-05:00\",\"2021-03-01T00:00:00-05:00\",\"2021-03-02T00:00:00-05:00\",\"2021-03-03T00:00:00-05:00\",\"2021-03-04T00:00:00-05:00\",\"2021-03-05T00:00:00-05:00\",\"2021-03-08T00:00:00-05:00\",\"2021-03-09T00:00:00-05:00\",\"2021-03-10T00:00:00-05:00\",\"2021-03-11T00:00:00-05:00\",\"2021-03-12T00:00:00-05:00\",\"2021-03-15T00:00:00-04:00\",\"2021-03-16T00:00:00-04:00\",\"2021-03-17T00:00:00-04:00\",\"2021-03-18T00:00:00-04:00\",\"2021-03-19T00:00:00-04:00\",\"2021-03-22T00:00:00-04:00\",\"2021-03-23T00:00:00-04:00\",\"2021-03-24T00:00:00-04:00\",\"2021-03-25T00:00:00-04:00\",\"2021-03-26T00:00:00-04:00\",\"2021-03-29T00:00:00-04:00\",\"2021-03-30T00:00:00-04:00\",\"2021-03-31T00:00:00-04:00\",\"2021-04-01T00:00:00-04:00\",\"2021-04-05T00:00:00-04:00\",\"2021-04-06T00:00:00-04:00\",\"2021-04-07T00:00:00-04:00\",\"2021-04-08T00:00:00-04:00\",\"2021-04-09T00:00:00-04:00\",\"2021-04-12T00:00:00-04:00\",\"2021-04-13T00:00:00-04:00\",\"2021-04-14T00:00:00-04:00\",\"2021-04-15T00:00:00-04:00\",\"2021-04-16T00:00:00-04:00\",\"2021-04-19T00:00:00-04:00\",\"2021-04-20T00:00:00-04:00\",\"2021-04-21T00:00:00-04:00\",\"2021-04-22T00:00:00-04:00\",\"2021-04-23T00:00:00-04:00\",\"2021-04-26T00:00:00-04:00\",\"2021-04-27T00:00:00-04:00\",\"2021-04-28T00:00:00-04:00\",\"2021-04-29T00:00:00-04:00\",\"2021-04-30T00:00:00-04:00\",\"2021-05-03T00:00:00-04:00\",\"2021-05-04T00:00:00-04:00\",\"2021-05-05T00:00:00-04:00\",\"2021-05-06T00:00:00-04:00\",\"2021-05-07T00:00:00-04:00\",\"2021-05-10T00:00:00-04:00\",\"2021-05-11T00:00:00-04:00\",\"2021-05-12T00:00:00-04:00\",\"2021-05-13T00:00:00-04:00\",\"2021-05-14T00:00:00-04:00\",\"2021-05-17T00:00:00-04:00\",\"2021-05-18T00:00:00-04:00\",\"2021-05-19T00:00:00-04:00\",\"2021-05-20T00:00:00-04:00\",\"2021-05-21T00:00:00-04:00\",\"2021-05-24T00:00:00-04:00\",\"2021-05-25T00:00:00-04:00\",\"2021-05-26T00:00:00-04:00\",\"2021-05-27T00:00:00-04:00\",\"2021-05-28T00:00:00-04:00\",\"2021-06-01T00:00:00-04:00\",\"2021-06-02T00:00:00-04:00\",\"2021-06-03T00:00:00-04:00\",\"2021-06-04T00:00:00-04:00\",\"2021-06-07T00:00:00-04:00\",\"2021-06-08T00:00:00-04:00\",\"2021-06-09T00:00:00-04:00\",\"2021-06-10T00:00:00-04:00\",\"2021-06-11T00:00:00-04:00\",\"2021-06-14T00:00:00-04:00\"],\"y\":[1.5926669836044312,1.5886670351028442,1.4639999866485596,1.2799999713897705,1.0740000009536743,1.053333044052124,1.1640000343322754,1.159999966621399,1.136667013168335,1.2093329429626465,1.3226670026779175,1.3259999752044678,1.3760000467300415,1.4606670141220093,1.3533329963684082,1.3480000495910645,1.399999976158142,1.4193329811096191,1.3966670036315918,1.3700000047683716,1.3813329935073853,1.3566670417785645,1.329332947731018,1.3946670293807983,1.463333010673523,1.4173330068588257,1.363332986831665,1.305999994277954,1.3066669702529907,1.2686669826507568,1.1933330297470093,1.1733330488204956,1.2213330268859863,1.2519999742507935,1.2766669988632202,1.2513329982757568,1.25266695022583,1.273332953453064,1.3420000076293945,1.2799999713897705,1.3266669511795044,1.3166669607162476,1.3133330345153809,1.324666976928711,1.2986669540405273,1.363332986831665,1.4040000438690186,1.4033329486846924,1.369333028793335,1.3933329582214355,1.380666971206665,1.3446669578552246,1.3813329935073853,1.4079999923706055,1.4653329849243164,1.3960000276565552,1.348667025566101,1.4040000438690186,1.3846670389175415,1.324666976928711,1.3040000200271606,1.340000033378601,1.3686670064926147,1.4266669750213623,1.4653329849243164,1.3606669902801514,1.3733329772949219,1.3993330001831055,1.4079999923706055,1.3639999628067017,1.3619999885559082,1.3619999885559082,1.3493330478668213,1.3493330478668213,1.369333028793335,1.3833329677581787,1.369333028793335,1.348667025566101,1.3366669416427612,1.3766670227050781,1.3833329677581787,1.3813329935073853,1.3899999856948853,1.4240000247955322,1.399999976158142,1.4126670360565186,1.4559999704360962,1.4273329973220825,1.4166669845581055,1.4513330459594727,1.659999966621399,1.6293330192565918,1.6653330326080322,1.6419999599456787,1.957332968711853,1.869333028793335,1.9893330335617065,2.053333044052124,1.9780000448226929,1.965999960899353,1.9926669597625732,2.065999984741211,2.2266669273376465,2.3046669960021973,2.3646669387817383,2.3546669483184814,2.2886669635772705,2.355333089828491,2.2899999618530273,2.1566669940948486,2.0993330478668213,2.02066707611084,2.1040000915527344,2.1579999923706055,2.136667013168335,2.101332902908325,2.0366671085357666,1.9019999504089355,1.9733330011367798,2.053999900817871,2.0906670093536377,2.113332986831665,2.1506669521331787,2.175333023071289,2.00600004196167,1.7033330202102661,1.7606669664382935,1.848667025566101,1.7666670083999634,1.775333046913147,1.7746670246124268,1.777999997138977,1.7886669635772705,1.858667016029358,1.8826669454574585,1.8966670036315918,1.797333002090454,1.797333002090454,1.7480000257492065,1.7166670560836792,1.7093329429626465,1.6019999980926514,1.5080000162124634,1.5360000133514404,1.6326669454574585,1.6453330516815186,1.649999976158142,1.6613329648971558,1.6006669998168945,1.6066670417785645,1.593999981880188,1.5959999561309814,1.5753329992294312,1.5640000104904175,1.5379999876022339,1.6326669454574585,1.547333002090454,1.5479999780654907,1.5499999523162842,1.5386669635772705,1.5226670503616333,1.6486669778823853,1.5733330249786377,1.5453330278396606,1.4579999446868896,1.4553329944610596,1.5019999742507935,1.5740000009536743,1.5926669836044312,1.5959999561309814,1.6013330221176147,1.6239999532699585,1.6633330583572388,1.6626670360565186,1.6440000534057617,1.6480000019073486,1.6006669998168945,1.6046669483184814,1.5499999523162842,1.5299999713897705,1.5213329792022705,1.5206669569015503,1.5306669473648071,1.5153330564498901,1.4793330430984497,1.480666995048523,1.4886670112609863,1.5166670083999634,1.5499999523162842,1.5946669578552246,1.5806670188903809,1.850000023841858,1.7773330211639404,1.722000002861023,1.7799999713897705,1.7660000324249268,1.815999984741211,1.7660000324249268,1.6846669912338257,1.6433329582214355,1.6619999408721924,1.6759999990463257,1.7053329944610596,1.668666958808899,1.6773329973220825,1.7166670560836792,1.7826670408248901,1.7593330144882202,1.7953330278396606,1.8053330183029175,1.843999981880188,1.840000033378601,1.8300000429153442,1.7913329601287842,1.7793329954147339,1.762666940689087,1.8079999685287476,1.8606669902801514,1.8886669874191284,1.8046669960021973,1.8446669578552246,1.8366669416427612,1.773332953453064,1.730666995048523,1.7566670179367065,1.8799999952316284,1.8646670579910278,1.7879999876022339,1.7813329696655273,1.9320000410079956,1.9653329849243164,1.9700000286102295,2.0093328952789307,1.901332974433899,1.9173330068588257,2.0086669921875,1.9133330583572388,1.891332983970642,1.8079999685287476,1.841333031654358,1.8573329448699951,1.8953330516815186,1.9066669940948486,1.8213330507278442,1.7666670083999634,1.7666670083999634,1.7339999675750732,1.835332989692688,1.8140000104904175,1.8473329544067383,1.8380000591278076,1.8306670188903809,1.8739999532699585,1.8860000371932983,1.9420000314712524,1.9346669912338257,1.942667007446289,1.9306670427322388,1.9819999933242798,1.920667052268982,1.8899999856948853,1.878000020980835,1.9093329906463623,1.8406670093536377,1.8386670351028442,1.8153330087661743,1.8593330383300781,1.9126670360565186,1.9133330583572388,1.952666997909546,1.8993330001831055,1.8666670322418213,1.8426669836044312,1.878000020980835,1.878000020980835,1.9179999828338623,1.8226670026779175,1.8133330345153809,1.649999976158142,1.6160000562667847,1.5759999752044678,1.670667052268982,1.5880000591278076,1.6866669654846191,1.753999948501587,1.7486670017242432,1.7400000095367432,1.722000002861023,1.6173330545425415,1.4866670370101929,1.463333010673523,1.5306669473648071,1.591333031654358,1.5406670570373535,1.5820000171661377,1.647333025932312,1.6419999599456787,1.6493330001831055,1.600000023841858,1.5379999876022339,1.5293329954147339,1.5893330574035645,1.5740000009536743,1.5313329696655273,1.525333046913147,1.6053329706192017,1.6226669549942017,1.6546670198440552,1.7200000286102295,1.718000054359436,1.7339999675750732,1.7233330011367798,1.7086670398712158,1.7586669921875,1.7013330459594727,1.746000051498413,1.6393330097198486,1.6080000400543213,1.6260000467300415,1.5820000171661377,1.5773329734802246,1.6913330554962158,1.797333002090454,1.7993329763412476,1.858667016029358,1.8406670093536377,1.8533329963684082,1.8626669645309448,1.8700000047683716,1.8279999494552612,1.8893330097198486,1.8380000591278076,1.8226670026779175,1.8686670064926147,1.9033329486846924,1.8833329677581787,1.8653329610824585,1.9173330068588257,1.9913330078125,1.9579999446868896,1.925333023071289,1.9140000343322754,2.1640000343322754,2.1540000438690186,2.0846669673919678,2.122667074203491,2.058666944503784,2.0886669158935547,2.2426669597625732,2.2146670818328857,2.26200008392334,2.3293330669403076,2.245332956314087,2.173332929611206,2.117332935333252,2.138000011444092,2.0966670513153076,2.1106669902801514,2.1706669330596924,2.1166670322418213,2.1826670169830322,2.173332929611206,2.2200000286102295,2.2946670055389404,2.324666976928711,2.2793331146240234,2.059333086013794,2.069333076477051,2.0273330211639404,1.963333010673523,1.9019999504089355,1.9079999923706055,1.8666670322418213,1.850000023841858,1.8600000143051147,1.8380000591278076,1.8513330221176147,1.8600000143051147,1.9046670198440552,1.9006669521331787,1.9153330326080322,1.9040000438690186,1.871999979019165,1.8473329544067383,1.8079999685287476,1.7940000295639038,1.8166669607162476,1.841333031654358,1.8819999694824219,1.8833329677581787,1.519333004951477,1.773332953453064,1.7873330116271973,1.784000039100647,1.773332953453064,1.7846670150756836,1.8279999494552612,1.8646670579910278,1.929332971572876,1.9553329944610596,1.9713330268859863,1.937999963760376,1.972000002861023,2.016666889190674,2.076667070388794,2.119999885559082,2.1066670417785645,2.128667116165161,2.171999931335449,2.0733330249786377,2.0993330478668213,2.2113330364227295,2.240000009536743,2.2786669731140137,2.3313329219818115,2.299999952316284,2.2813329696655273,2.302000045776367,2.25,2.2413330078125,2.253999948501587,2.2273330688476562,2.2939999103546143,2.2693328857421875,2.251332998275757,2.2073330879211426,2.2079999446868896,2.204667091369629,2.315999984741211,2.4006669521331787,2.4059998989105225,2.3526670932769775,2.3333330154418945,2.3546669483184814,2.3320000171661377,2.330667018890381,2.3433330059051514,2.293333053588867,2.2720000743865967,2.493333101272583,2.5293331146240234,2.5233330726623535,2.4886670112609863,2.4826669692993164,2.438667058944702,2.5339999198913574,2.3333330154418945,2.2986669540405273,2.2100000381469727,2.1640000343322754,2.2060000896453857,2.22933292388916,2.239332914352417,2.1500000953674316,2.1493330001831055,2.177333116531372,2.2106668949127197,2.2106668949127197,2.129333019256592,2.121332883834839,2.194000005722046,2.2326669692993164,2.2226669788360596,2.208667039871216,2.252000093460083,2.262666940689087,2.1640000343322754,2.121999979019165,2.1646668910980225,2.012666940689087,2.003999948501587,2.1973330974578857,2.1500000953674316,2.003999948501587,1.9620000123977661,1.9453330039978027,1.9046670198440552,1.8373329639434814,1.9179999828338623,2.053333044052124,2.068000078201294,2.018666982650757,1.987333059310913,2.1126670837402344,2.0273330211639404,1.9666670560836792,1.8766670227050781,1.858667016029358,1.8606669902801514,1.9479999542236328,1.9286669492721558,2.0053329467773438,1.9413330554962158,1.9773329496383667,1.9846669435501099,1.9593329429626465,1.99399995803833,2.122667074203491,2.1393330097198486,2.252000093460083,2.1459999084472656,2.25266695022583,2.2073330879211426,2.107332944869995,2.130666971206665,2.0940001010894775,2.0859999656677246,2.0266671180725098,2.0439999103546143,2.0820000171661377,2.065999984741211,2.0993330478668213,2.0846669673919678,2.1006669998168945,2.180000066757202,2.2833330631256104,2.3973329067230225,2.2233328819274902,2.1433329582214355,2.1513330936431885,2.119333028793335,2.0439999103546143,1.9893330335617065,1.9299999475479126,1.8753329515457153,1.9673329591751099,1.8233330249786377,1.8279999494552612,1.75,1.7400000095367432,1.8179999589920044,1.8846670389175415,2.016666889190674,1.9393329620361328,1.9606670141220093,1.996000051498413,2.078000068664551,1.9613330364227295,1.9600000381469727,2.0199999809265137,2.000667095184326,1.9673329591751099,1.9406670331954956,1.9966670274734497,2.0486669540405273,1.9666670560836792,1.8880000114440918,1.9126670360565186,1.8940000534057617,1.8940000534057617,1.901332974433899,1.8760000467300415,1.8626669645309448,1.9033329486846924,1.9566669464111328,1.824666976928711,1.8533329963684082,1.8853329420089722,1.9653329849243164,2.0260000228881836,2.169332981109619,2.0893330574035645,2.069999933242798,2.059999942779541,2.001332998275757,2.0439999103546143,1.843999981880188,1.8359999656677246,1.8993330001831055,1.9520000219345093,1.944000005722046,1.9866670370101929,1.9533330202102661,1.9600000381469727,1.9259999990463257,1.9500000476837158,1.891332983970642,1.8933329582214355,1.8880000114440918,1.8426669836044312,1.8220000267028809,1.8706669807434082,1.9213329553604126,1.869333028793335,1.8493330478668213,1.8566670417785645,1.8926670551300049,1.8279999494552612,1.8346669673919678,1.8253329992294312,1.8753329515457153,1.9500000476837158,1.9279999732971191,2.0999999046325684,2.076667070388794,2.1026670932769775,2.0873329639434814,2.0213329792022705,2.0713329315185547,2.107332944869995,2.0920000076293945,2.0546669960021973,2.122667074203491,2.194667100906372,2.200000047683716,2.1646668910980225,2.1419999599456787,2.1513330936431885,2.1433329582214355,2.2153329849243164,2.246000051498413,2.254667043685913,2.308000087738037,2.259999990463257,2.24733304977417,2.259999990463257,2.2780001163482666,2.3046669960021973,2.3519999980926514,2.3506669998168945,2.2406671047210693,2.253999948501587,2.293333053588867,2.305999994277954,2.307332992553711,2.295332908630371,2.266666889190674,2.2853329181671143,2.239332914352417,2.246000051498413,2.2146670818328857,2.257999897003174,2.357332944869995,2.318000078201294,2.293333053588867,2.2893331050872803,2.245332956314087,2.2426669597625732,2.23533296585083,2.194000005722046,2.2173330783843994,2.259999990463257,2.2733330726623535,2.2920000553131104,2.301332950592041,2.3459999561309814,2.4000000953674316,2.4660000801086426,2.4653329849243164,2.5353329181671143,2.5299999713897705,2.501332998275757,2.500667095184326,2.553333044052124,2.5160000324249268,2.5420000553131104,2.611332893371582,2.631999969482422,2.615999937057495,2.561332941055298,2.5260000228881836,2.563333034515381,2.551332950592041,2.4693329334259033,2.618666887283325,2.569333076477051,2.3440001010894775,2.4073328971862793,2.2920000553131104,2.295332908630371,2.3399999141693115,2.322000026702881,2.309999942779541,2.371999979019165,2.4433329105377197,2.512666940689087,2.5486669540405273,2.564666986465454,2.6066670417785645,2.6080000400543213,2.5986669063568115,2.456666946411133,2.3526670932769775,2.3433330059051514,2.3386669158935547,2.396667003631592,2.4006669521331787,2.441333055496216,2.502000093460083,2.5239999294281006,2.5439999103546143,2.5260000228881836,2.9286670684814453,2.9560000896453857,2.740000009536743,2.8006670475006104,2.757999897003174,2.7886669635772705,2.700000047683716,2.7906670570373535,2.9059998989105225,2.9166669845581055,2.886667013168335,3.0393331050872803,3.0299999713897705,3.131333112716675,3.188667058944702,3.3459999561309814,3.4006669521331787,3.361999988555908,3.4666669368743896,3.413332939147949,3.6626670360565186,3.5993330478668213,3.552000045776367,3.607332944869995,3.636667013168335,3.9666669368743896,3.700666904449463,3.7193329334259033,4.626667022705078,5.117332935333252,5.853332996368408,5.549333095550537,5.656000137329102,6.150000095367432,6.099999904632568,5.995999813079834,5.8393330574035645,5.815999984741211,6.182000160217285,6.4720001220703125,7.355332851409912,6.975333213806152,6.99666690826416,6.517333030700684,6.172667026519775,6.322667121887207,6.357999801635742,6.489999771118164,6.802667140960693,6.670000076293945,6.297999858856201,6.51533317565918,6.545332908630371,6.686666965484619,6.813333034515381,6.892666816711426,6.97866678237915,6.710000038146973,6.636666774749756,6.765999794006348,6.826666831970215,7.047999858856201,7.283332824707031,7.157332897186279,7.811999797821045,7.8546671867370605,7.682666778564453,8.005999565124512,8.107333183288574,8.229999542236328,8.15133285522461,8.37399959564209,8.65999984741211,8.484000205993652,7.269999980926514,8.016667366027832,7.935332775115967,7.97866678237915,8.161999702453613,8.182666778564453,8.113332748413086,8.271332740783691,8.62600040435791,8.974666595458984,8.78266716003418,8.95199966430664,9.036666870117188,9.199999809265137,9.645333290100098,9.476667404174805,8.9486665725708,10.232000350952148,10.199999809265137,9.825332641601562,9.695332527160645,9.290666580200195,9.311332702636719,9.466667175292969,9.65999984741211,9.972000122070312,9.857333183288574,10.473333358764648,10.78933334350586,10.947999954223633,11.133999824523926,11.096667289733887,11.070667266845703,11.266667366027832,11.262666702270508,11.374667167663574,11.328666687011719,11.131333351135254,10.713333129882812,11.091333389282227,10.90133285522461,10.995332717895508,11.03600025177002,11.10533332824707,11.081999778747559,11.08133316040039,11.861332893371582,12.22599983215332,12.074000358581543,12.155332565307617,12.349332809448242,12.576000213623047,12.726667404174805,12.891332626342773,12.866666793823242,12.063332557678223,11.553999900817871,12.065333366394043,12.204667091369629,11.648667335510254,11.251999855041504,11.528667449951172,11.91333293914795,11.981332778930664,12.262666702270508,12.237333297729492,12.186667442321777,12.226667404174805,11.506667137145996,11.435999870300293,10.966667175292969,11.543333053588867,11.310667037963867,10.857333183288574,10.964667320251465,10.614666938781738,10.662667274475098,10.811332702636719,11.680000305175781,11.787332534790039,10.077333450317383,9.317999839782715,9.196666717529297,9.646666526794434,9.186667442321777,9.24666690826416,9.173333168029785,9.029999732971191,8.10533332824707,8.406000137329102,8.074000358581543,8.140000343322754,8.092000007629395,8.055999755859375,8.033332824707031,8.462667465209961,8.485333442687988,8.277999877929688,9.646666526794434,9.263333320617676,9.36533260345459,9.157333374023438,9.4399995803833,9.47933292388916,9.3100004196167,9.83133316040039,9.84333324432373,9.862667083740234,10.163999557495117,9.86533260345459,9.381333351135254,9.549332618713379,9.569999694824219,10.093999862670898,10.366666793823242,10.074666976928711,10.162667274475098,10.028667449951172,10.006667137145996,9.970666885375977,9.800000190734863,9.957332611083984,10.085332870483398,9.835332870483398,9.714667320251465,9.28933334350586,10.751333236694336,10.942000389099121,11.39799976348877,11.333999633789062,11.778667449951172,11.904000282287598,12.100000381469727,11.640000343322754,11.307999610900879,11.892000198364258,11.682000160217285,12.189332962036133,12.093999862670898,11.807332992553711,11.915332794189453,11.628000259399414,11.892000198364258,12.435333251953125,13.104000091552734,13.107999801635742,13.021332740783691,13.308667182922363,13.215332984924316,13.579999923706055,12.909333229064941,13.998000144958496,13.973333358764648,14.510000228881836,16.53333282470703,16.866666793823242,16.836000442504883,16.320667266845703,16.70400047302246,16.98933219909668,16.8439998626709,16.862667083740234,16.413999557495117,15.922666549682617,15.62733268737793,16.099332809448242,15.852666854858398,15.39799976348877,15.59866714477539,16.002666473388672,15.72266674041748,15.660667419433594,15.259332656860352,14.678000450134277,14.696000099182129,14.197333335876465,13.821332931518555,14.157999992370605,13.896666526794434,14.464667320251465,15.352666854858398,15.026666641235352,14.148667335510254,13.834667205810547,14.36400032043457,14.461999893188477,13.612667083740234,13.585332870483398,13.206000328063965,12.927332878112793,13.27400016784668,13.208000183105469,13.625332832336426,14.576000213623047,13.866000175476074,13.857333183288574,13.323332786560059,13.234000205993652,13.79466724395752,13.859333038330078,13.84866714477539,14.060667037963867,14.440667152404785,13.8186674118042,13.423333168029785,11.906000137329102,12.150667190551758,12.311332702636719,12.677332878112793,12.708000183105469,12.572667121887207,12.77066707611084,13.072667121887207,13.020000457763672,13.296667098999023,13.658666610717773,13.819999694824219,14.104000091552734,14.015999794006348,14.015999794006348,13.851332664489746,13.646666526794434,13.662667274475098,13.599332809448242,13.793333053588867,13.878000259399414,13.687333106994629,13.486666679382324,13.631333351135254,13.567999839782715,13.761333465576172,14.973999977111816,15.444666862487793,15.141332626342773,15.185999870300293,15.305999755859375,15.814666748046875,15.5,15.792667388916016,15.706666946411133,15.937333106994629,16.003999710083008,15.981332778930664,15.295332908630371,15.283332824707031,14.843999862670898,14.604666709899902,14.870667457580566,14.630666732788086,14.541999816894531,15.113332748413086,14.638667106628418,14.477333068847656,14.359999656677246,14.668000221252441,14.702667236328125,14.638667106628418,14.832667350769043,14.902667045593262,14.904666900634766,14.98799991607666,15.000666618347168,15.261333465576172,14.886667251586914,15.5513334274292,15.90133285522461,15.899333000183105,16.595333099365234,16.826000213623047,16.54199981689453,17.288000106811523,17.33066749572754,17.354000091552734,17.42533302307129,17.46733283996582,17.32933235168457,17.117332458496094,17.047332763671875,16.95599937438965,17.118667602539062,17.503332138061523,17.44933319091797,17.549999237060547,17.590667724609375,17.979999542236328,18.941333770751953,18.746000289916992,19.069332122802734,18.492666244506836,18.80733299255371,18.565332412719727,18.739999771118164,18.687332153320312,18.613332748413086,16.923999786376953,17.382667541503906,17.42533302307129,17.58799934387207,17.288000106811523,16.66866683959961,16.694000244140625,16.80933380126953,16.463333129882812,16.440000534057617,16.35066795349121,16.178667068481445,16.016000747680664,16.761333465576172,17.013999938964844,17.374666213989258,17.30466651916504,17.28533363342285,17.134000778198242,15.793999671936035,14.97266674041748,15.137332916259766,15.313332557678223,15.09000015258789,15.165332794189453,15.364666938781738,15.689332962036133,15.40666675567627,15.685999870300293,15.682666778564453,14.777999877929688,16.184667587280273,15.873332977294922,15.910667419433594,16.113332748413086,16.172666549682617,15.928667068481445,15.39799976348877,16.08133316040039,16.01333236694336,16.1286678314209,16.738666534423828,16.606666564941406,16.780000686645508,17.245332717895508,16.93199920654297,17.18000030517578,16.516000747680664,16.58066749572754,16.185333251953125,16.447999954223633,16.53933334350586,16.562667846679688,16.301332473754883,15.442667007446289,15.428667068481445,15.286666870117188,15.218667030334473,14.913999557495117,14.290666580200195,14.459333419799805,13.989333152770996,13.925333023071289,13.800000190734863,13.602666854858398,13.187333106994629,13.721332550048828,14.550666809082031,14.619333267211914,14.84000015258789,14.731332778930664,14.817333221435547,15.187999725341797,15.047332763671875,14.815333366394043,14.827333450317383,14.620667457580566,14.005999565124512,14.085332870483398,14.063332557678223,14.041333198547363,13.77733325958252,13.480667114257812,13.616666793823242,12.845999717712402,12.791333198547363,12.871333122253418,12.795332908630371,13.104666709899902,13.441332817077637,13.419333457946777,13.770000457763672,13.732000350952148,13.291333198547363,13.680000305175781,13.573332786560059,14.062666893005371,14.557332992553711,14.569999694824219,14.732666969299316,14.490667343139648,14.498666763305664,14.419333457946777,14.186667442321777,13.525333404541016,13.584667205810547,13.623332977294922,13.630666732788086,14.11400032043457,14.473999977111816,13.822667121887207,13.607333183288574,13.583999633789062,13.812666893005371,13.555999755859375,13.155332565307617,13.303999900817871,13.496000289916992,13.375332832336426,12.925333023071289,12.725333213806152,12.687999725341797,12.916000366210938,12.73799991607666,12.578666687011719,13.046667098999023,12.982000350952148,13.380666732788086,13.043333053588867,13.20533275604248,13.308667182922363,13.447999954223633,12.953332901000977,12.694000244140625,12.333333015441895,12.704667091369629,12.584667205810547,12.505999565124512,12.733332633972168,13.539999961853027,13.550000190734863,13.844667434692383,14.005999565124512,14.0600004196167,13.985333442687988,13.830666542053223,13.85533332824707,13.779999732971191,13.78600025177002,13.684666633605957,13.96066665649414,14.629332542419434,14.573332786560059,14.562000274658203,15.436667442321777,15.36533260345459,15.49666690826416,15.069999694824219,15.0686674118042,15.36733341217041,15.529999732971191,15.362000465393066,15.786666870117188,15.77400016784668,15.965999603271484,16.31599998474121,16.211999893188477,16.273332595825195,16.589332580566406,16.583332061767578,16.47599983215332,16.290000915527344,16.374666213989258,16.51533317565918,16.497333526611328,16.495332717895508,16.76333236694336,16.719999313354492,16.6299991607666,16.55666732788086,16.599332809448242,16.39466667175293,16.609333038330078,17.086000442504883,17.066667556762695,16.713333129882812,16.76066780090332,16.71266746520996,16.691999435424805,16.874666213989258,17.360666275024414,17.459333419799805,17.500667572021484,17.319332122802734,17.844667434692383,17.67799949645996,17.91933250427246,17.805999755859375,17.468000411987305,17.884000778198242,17.94333267211914,18.667999267578125,18.648000717163086,17.858667373657227,16.997333526611328,17.19466781616211,17.27666664123535,17.477333068847656,17.709999084472656,17.542667388916016,17.778667449951172,18.310667037963867,18.817333221435547,17.784666061401367,17.857999801635742,17.81333351135254,17.694000244140625,16.867332458496094,17.654666900634766,17.58799934387207,17.785999298095703,17.74333381652832,17.332666397094727,17.75200080871582,18.0086669921875,16.408666610717773,16.167333602905273,16.076000213623047,15.824666976928711,15.878000259399414,16.167333602905273,16.209999084472656,16.999332427978516,17.381332397460938,17.016666412353516,16.14533233642578,15.38466739654541,14.591333389282227,14.66866683959961,14.989333152770996,16.19933319091797,16.565332412719727,16.604000091552734,15.908666610717773,16.512666702270508,16.3713321685791,16.1286678314209,16.544666290283203,16.5939998626709,16.565332412719727,16.682666778564453,16.87933349609375,16.904666900634766,17.483333587646484,17.471332550048828,17.374666213989258,17.613332748413086,17.395999908447266,17.40399932861328,17.541332244873047,17.12733268737793,16.562000274658203,16.44333267211914,16.559999465942383,15.991999626159668,16.504667282104492,16.40999984741211,16.097333908081055,15.46399974822998,15.114666938781738,14.712667465209961,14.371999740600586,14.616666793823242,14.458666801452637,14.753999710083008,15.133999824523926,15.206666946411133,14.20199966430664,14.005999565124512,14.114666938781738,13.939332962036133,14.350666999816895,14.023332595825195,14.197333335876465,14.108667373657227,13.795332908630371,14.252667427062988,13.890000343322754,15.442000389099121,15.451333045959473,15.490667343139648,15.022000312805176,14.433333396911621,14.60533332824707,14.196000099182129,13.812666893005371,14.287332534790039,14.266667366027832,14.73799991607666,14.786666870117188,14.667332649230957,14.516667366027832,14.550000190734863,15.309332847595215,15.440667152404785,15.350666999816895,15.812666893005371,15.465999603271484,15.513999938964844,15.358667373657227,15.408666610717773,15.114666938781738,14.968000411987305,15.137999534606934,14.468000411987305,14.571999549865723,14.739333152770996,15.633999824523926,15.559332847595215,15.36400032043457,15.503999710083008,15.329999923706055,15.313332557678223,15.371333122253418,15.263333320617676,15.812666893005371,15.87266731262207,16.000667572021484,14.894000053405762,14.895333290100098,14.602666854858398,14.376667022705078,14.066666603088379,13.856666564941406,13.998000144958496,13.354000091552734,13.745332717895508,13.666000366210938,13.64799976348877,13.24666690826416,13.33133316040039,13.50333309173584,13.092000007629395,12.904000282287598,12.538000106811523,12.646666526794434,12.74666690826416,13.129332542419434,12.185333251953125,11.565333366394043,11.688667297363281,10.84000015258789,9.866000175476074,9.883333206176758,9.57800006866455,10.031332969665527,10.06933307647705,10.344667434692383,11.245332717895508,11.118000030517578,11.10533332824707,11.849332809448242,11.814000129699707,11.933333396911621,12.495332717895508,12.689332962036133,12.795332908630371,12.423333168029785,12.555999755859375,13.049332618713379,13.402667045593262,13.685999870300293,13.506667137145996,13.914667129516602,13.678667068481445,13.833333015441895,14.34333324432373,14.555999755859375,14.795332908630371,15.092000007629395,15.515999794006348,15.887999534606934,15.616000175476074,14.838666915893555,15.183333396911621,15.350666999816895,15.342000007629395,15.12600040435791,15.317999839782715,15.839332580566406,16.465999603271484,17.031333923339844,17.69466781616211,17.14666748046875,16.67133331298828,16.661333084106445,16.521333694458008,16.968666076660156,16.790666580200195,16.96733283996582,16.92533302307129,16.4913330078125,16.6646671295166,16.55266761779785,16.916667938232422,16.788000106811523,16.916000366210938,16.764667510986328,16.513999938964844,16.05066680908203,16.1200008392334,15.48799991607666,14.837332725524902,14.10200023651123,14.328666687011719,13.928000450134277,13.912667274475098,13.93066692352295,13.8186674118042,13.840666770935059,13.88599967956543,13.644000053405762,14.07800006866455,14.347332954406738,14.685333251953125,14.414667129516602,14.52733325958252,14.638667106628418,15.008000373840332,14.869333267211914,14.881999969482422,14.637332916259766,14.597332954406738,14.599332809448242,14.711999893188477,15.489333152770996,15.701333045959473,15.290666580200195,14.586000442504883,14.524666786193848,14.330666542053223,14.513333320617676,14.528667449951172,14.364666938781738,14.646666526794434,14.640666961669922,13.11066722869873,13.09333324432373,12.876667022705078,13.236666679382324,13.452667236328125,14.012666702270508,14.152000427246094,14.433333396911621,14.26533317565918,14.295999526977539,14.395999908447266,14.45199966430664,14.985333442687988,14.976667404174805,14.835332870483398,14.768667221069336,14.69333267211914,15.083333015441895,15.017333030700684,15.223999977111816,14.699999809265137,14.817999839782715,15.333999633789062,15.300666809082031,15.232666969299316,15.37399959564209,15.652667045593262,15.333999633789062,15.146666526794434,15.052666664123535,15.37399959564209,15.335332870483398,15.077333450317383,15.272000312805176,15.043333053588867,14.994000434875488,15.040666580200195,15.03933334350586,14.907333374023438,14.88266658782959,14.900667190551758,15.0,14.862000465393066,14.989333152770996,14.841333389282227,14.730667114257812,14.666000366210938,14.346667289733887,14.089332580566406,14.133999824523926,13.38466739654541,13.185333251953125,13.522000312805176,13.447333335876465,13.157333374023438,12.964667320251465,13.220000267028809,13.069999694824219,13.093999862670898,13.361332893371582,13.69333267211914,13.755999565124512,13.642666816711426,13.6813325881958,13.76200008392334,13.829999923706055,13.932666778564453,13.720666885375977,13.751333236694336,13.380000114440918,13.60200023651123,14.24666690826416,14.093999862670898,13.897333145141602,13.399999618530273,13.107333183288574,13.396666526794434,13.34000015258789,13.434000015258789,13.349332809448242,13.100666999816895,12.93066692352295,13.273332595825195,13.570667266845703,13.273332595825195,13.339332580566406,13.517333030700684,13.489333152770996,13.482666969299316,13.600666999816895,13.33133316040039,13.182000160217285,12.719332695007324,12.534667015075684,12.494667053222656,12.704000473022461,12.880666732788086,12.996000289916992,12.670666694641113,12.356666564941406,12.570667266845703,12.096667289733887,12.251333236694336,12.26200008392334,12.577333450317383,12.334667205810547,12.3013334274292,12.744667053222656,12.87600040435791,13.109999656677246,13.074666976928711,12.637999534606934,12.626667022705078,12.125332832336426,12.097999572753906,12.453332901000977,12.390000343322754,12.876667022705078,12.81933307647705,12.812000274658203,12.828666687011719,13.210000038146973,13.246000289916992,13.17199993133545,13.499333381652832,13.51533317565918,13.919333457946777,13.846667289733887,13.896666526794434,14.22266674041748,14.635333061218262,14.649333000183105,14.312000274658203,14.246000289916992,14.465999603271484,15.13266658782959,15.116666793823242,15.267333030700684,15.41866683959961,15.324666976928711,15.315333366394043,15.305999755859375,15.850000381469727,15.70533275604248,15.890666961669922,16.250667572021484,16.315332412719727,16.594667434692383,16.974000930786133,16.96466636657715,16.833999633789062,16.863332748413086,16.708667755126953,16.795333862304688,16.615999221801758,16.770000457763672,16.755332946777344,17.184667587280273,17.165332794189453,17.472000122070312,17.946666717529297,17.948667526245117,18.706666946411133,18.73200035095215,18.650667190551758,17.93000030517578,18.148666381835938,18.492666244506836,18.233999252319336,17.06599998474121,17.133333206176758,16.415332794189453,16.666000366210938,16.667999267578125,16.698667526245117,16.771333694458008,16.747333526611328,16.57266616821289,16.45800018310547,16.32666778564453,16.246000289916992,16.411333084106445,17.200000762939453,17.048667907714844,17.469999313354492,17.433332443237305,17.461332321166992,16.711999893188477,17.000667572021484,16.985332489013672,17.54400062561035,18.014667510986328,18.496667861938477,18.492000579833984,18.527999877929688,18.553333282470703,19.90133285522461,20.246667861938477,19.666667938232422,19.913333892822266,20.16933250427246,20.826000213623047,20.58066749572754,19.78933334350586,20.266666412353516,20.09600067138672,20.016666412353516,20.368000030517578,20.167333602905273,20.373332977294922,20.53533363342285,20.91933250427246,20.67799949645996,20.575332641601562,20.937999725341797,21.52199935913086,21.25933265686035,20.73466682434082,19.69733238220215,20.55666732788086,20.479333877563477,21.417333602905273,21.681333541870117,21.540000915527344,21.65399932861328,21.058666229248047,21.134000778198242,20.407333374023438,20.87066650390625,20.722000122070312,20.690000534057617,20.257333755493164,20.681333541870117,21.121999740600586,21.676000595092773,22.34000015258789,22.733999252319336,22.691333770751953,22.656667709350586,23.154666900634766,23.523332595825195,23.976667404174805,24.666667938232422,23.821332931518555,23.93400001525879,25.06333351135254,25.37733268737793,25.022666931152344,24.760000228881836,24.65333366394043,24.81599998474121,25.093332290649414,25.507333755493164,25.56333351135254,25.166000366210938,24.158000946044922,24.749332427978516,24.049999237060547,24.107332229614258,23.507999420166016,21.805999755859375,20.588666915893555,20.881332397460938,21.06999969482422,21.814666748046875,21.968000411987305,21.560667037963867,21.851999282836914,21.30466651916504,21.882667541503906,21.68400001525879,21.994667053222656,21.893333435058594,22.834667205810547,22.639999389648438,22.92333221435547,22.297332763671875,22.33799934387207,21.564666748046875,21.30466651916504,21.72599983215332,23.139333724975586,23.79400062561035,23.67799949645996,24.347999572753906,24.235332489013672,23.69333267211914,23.857999801635742,24.253332138061523,24.155332565307617,24.194000244140625,23.461332321166992,23.163999557495117,22.52400016784668,22.75666618347168,23.51799964904785,23.528667449951172,23.203332901000977,23.04400062561035,23.157333374023438,23.545333862304688,23.726667404174805,23.69333267211914,23.305999755859375,22.968666076660156,23.374000549316406,22.893333435058594,24.246000289916992,24.183332443237305,24.415332794189453,25.176000595092773,25.320667266845703,25.666667938232422,25.00666618347168,24.92733383178711,24.43199920654297,23.4060001373291,22.999332427978516,23.016666412353516,22.731332778930664,22.639999389648438,22.739999771118164,22.768667221069336,23.209333419799805,23.667333602905273,23.68866729736328,23.79199981689453,22.862667083740234,23.70599937438965,23.639999389648438,23.711999893188477,23.704666137695312,23.373332977294922,23.71666717529297,23.976667404174805,23.45400047302246,23.00666618347168,22.468000411987305,22.48933219909668,21.722667694091797,21.744667053222656,21.391332626342773,21.338666915893555,22.101999282836914,21.405332565307617,19.950666427612305,20.4060001373291,20.185333251953125,20.40333366394043,20.292667388916016,20.19933319091797,20.19933319091797,21.02666664123535,20.579999923706055,20.753332138061523,20.833332061767578,21.003332138061523,20.582666397094727,21.187332153320312,20.84000015258789,21.036666870117188,21.12066650390625,21.170000076293945,20.502666473388672,20.59000015258789,20.435333251953125,20.34666633605957,20.246667861938477,20.884000778198242,20.749332427978516,21.0086669921875,21.92733383178711,22.735332489013672,22.601999282836914,22.525999069213867,22.89666748046875,22.591333389282227,22.073333740234375,21.93199920654297,22.110666275024414,21.68000030517578,21.152666091918945,20.775999069213867,21.02400016784668,20.75666618347168,21.368667602539062,21.149999618530273,20.974666595458984,21.10533332824707,22.42733383178711,22.246000289916992,22.31999969482422,22.530000686645508,22.4146671295166,22.67066764831543,23.143999099731445,22.971332550048828,23.334667205810547,23.437332153320312,23.519332885742188,23.05933380126953,22.50933265686035,22.856666564941406,23.302000045776367,23.05466651916504,23.62066650390625,23.28333282470703,22.916667938232422,22.208667755126953,22.264667510986328,23.0,21.01533317565918,20.69466781616211,21.048667907714844,21.577333450317383,21.487333297729492,22.271333694458008,22.365999221801758,22.31800079345703,22.219999313354492,23.077999114990234,23.469999313354492,23.827999114990234,23.39933204650879,22.87066650390625,22.062000274658203,22.341333389282227,22.22333335876465,21.8799991607666,22.15333366394043,21.940000534057617,21.81133270263672,23.034000396728516,22.78933334350586,21.775333404541016,21.706666946411133,21.42333221435547,20.90399932861328,20.703332901000977,21.101999282836914,20.606666564941406,20.1026668548584,20.278667449951172,18.61199951171875,17.185333251953125,17.742000579833984,16.832000732421875,17.8353328704834,19.12933349609375,20.381332397460938,19.953332901000977,19.310667037963867,20.31333351135254,20.062000274658203,19.60533332824707,20.022666931152344,19.413999557495117,19.179332733154297,19.55666732788086,20.005332946777344,19.349332809448242,18.891332626342773,18.8973331451416,18.71266746520996,19.031999588012695,19.60533332824707,19.593332290649414,19.994667053222656,20.07666778564453,18.963333129882812,19.606000900268555,20.184667587280273,20.131332397460938,20.456666946411133,20.334667205810547,20.070667266845703,19.46466636657715,18.94533348083496,19.09866714477539,18.96933364868164,18.454666137695312,18.965999603271484,18.333999633789062,18.60466766357422,18.523332595825195,18.59000015258789,18.917333602905273,19.447999954223633,18.98200035095215,19.454666137695312,19.78266716003418,19.408666610717773,21.299999237060547,21.07266616821289,21.17733383178711,22.139999389648438,22.851333618164062,22.985332489013672,23.847999572753906,23.878000259399414,24.722000122070312,23.503332138061523,24.148000717163086,23.167333602905273,22.242000579833984,22.200666427612305,22.799999237060547,22.96666717529297,23.32866668701172,22.863332748413086,22.33799934387207,20.724000930786133,20.610666275024414,20.593332290649414,21.233999252319336,21.49799919128418,21.263999938964844,21.11400032043457,21.257999420166016,20.67333221435547,21.512666702270508,21.59000015258789,21.34866714477539,20.905332565307617,20.213333129882812,19.82866668701172,20.582666397094727,20.44333267211914,19.812000274658203,19.344667434692383,19.875999450683594,20.055999755859375,23.30266761779785,23.211332321166992,22.799333572387695,25.30466651916504,24.689332962036133,23.496667861938477,23.69933319091797,23.76066780090332,23.176000595092773,22.57933235168457,22.363332748413086,20.366666793823242,20.562667846679688,21.459999084472656,21.44266700744629,21.34000015258789,21.521333694458008,21.284666061401367,20.790666580200195,20.333999633789062,20.209999084472656,20.110666275024414,19.26333236694336,18.715999603271484,18.729999542236328,17.549333572387695,19.03333282470703,18.62933349609375,19.369333267211914,19.297332763671875,19.68000030517578,19.6560001373291,18.997333526611328,19.934667587280273,19.8886661529541,19.940000534057617,19.978666305541992,20.06599998474121,20.6386661529541,20.501333236694336,17.65133285522461,20.713333129882812,20.06800079345703,19.65333366394043,18.788667678833008,17.463333129882812,16.70400047302246,17.520000457763672,17.125333786010742,16.815332412719727,17.25200080871582,17.305999755859375,18.439332962036133,18.118667602539062,17.5939998626709,17.333332061767578,17.39666748046875,19.609333038330078,19.233333587646484,20.99066734313965,22.059999465942383,22.323333740234375,21.99333381652832,22.488000869750977,22.95199966430664,23.0939998626709,22.760000228881836,22.737333297729492,23.21066665649414,23.426666259765625,23.367332458496094,22.0853328704834,22.582000732421875,22.933332443237305,23.229333877563477,23.62066650390625,23.564666748046875,23.166000366210938,22.54599952697754,21.722000122070312,23.066667556762695,22.92799949645996,23.191333770751953,22.744667053222656,23.365333557128906,23.89933204650879,23.979999542236328,24.20400047302246,23.864667892456055,24.343332290649414,24.450666427612305,24.440000534057617,25.119333267211914,24.380666732788086,23.22800064086914,22.468666076660156,22.197999954223633,21.025333404541016,21.31800079345703,19.69266700744629,21.73933219909668,21.075332641601562,22.257999420166016,22.18666648864746,20.674667358398438,20.02400016784668,21.179332733154297,22.33066749572754,22.356666564941406,22.568666458129883,22.99799919128418,23.150667190551758,22.293333053588867,22.961999893188477,23.06999969482422,23.15399932861328,20.150667190551758,19.92799949645996,19.172666549682617,19.43400001525879,19.80266761779785,19.7586669921875,19.83066749572754,20.584667205810547,20.468000411987305,20.81399917602539,20.859333038330078,21.42333221435547,21.148000717163086,20.500667572021484,20.386667251586914,20.856000900268555,20.78733253479004,20.544666290283203,20.251333236694336,20.525333404541016,20.375999450683594,20.17066764831543,19.415332794189453,19.6473331451416,19.917999267578125,19.857332229614258,20.982667922973633,21.325332641601562,19.652666091918945,19.02400016784668,18.43600082397461,18.416000366210938,18.439332962036133,18.94266700744629,19.39466667175293,18.890666961669922,19.263999938964844,19.33066749572754,18.36199951171875,17.965999603271484,17.83133316040039,18.239999771118164,18.26799964904785,17.635332107543945,17.3613338470459,17.851333618164062,18.32200050354004,18.57466697692871,18.657333374023438,19.278667449951172,19.058666229248047,19.45400047302246,17.851999282836914,18.33066749572754,18.213333129882812,18.15399932861328,18.40399932861328,17.89466667175293,17.84666633605957,17.7586669921875,18.224000930786133,18.082000732421875,18.21733283996582,17.516666412353516,17.593332290649414,17.243999481201172,16.5086669921875,15.675999641418457,16.097999572753906,15.912667274475098,15.600666999816895,16.273332595825195,17.00200080871582,17.022666931152344,16.470666885375977,16.32266616821289,16.131999969482422,15.968000411987305,15.133999824523926,15.487333297729492,15.463333129882812,15.222000122070312,14.0686674118042,13.690667152404785,13.67199993133545,12.84866714477539,13.03266716003418,12.708666801452637,12.579999923706055,12.657333374023438,12.54800033569336,12.343999862670898,11.9313325881958,12.90666675567627,13.105999946594238,13.729999542236328,13.633333206176758,14.192000389099121,14.473333358764648,13.950667381286621,14.260666847229004,14.32800006866455,15.001999855041504,14.982666969299316,15.095333099365234,14.641332626342773,14.790666580200195,14.909333229064941,14.650667190551758,14.618000030517578,14.855999946594238,14.897333145141602,15.14466667175293,14.970000267028809,15.65999984741211,15.539999961853027,15.355999946594238,15.337332725524902,15.928000450134277,15.90666675567627,16.338666915893555,16.899999618530273,16.825332641601562,16.99066734313965,16.902666091918945,17.211999893188477,17.045333862304688,17.344667434692383,17.658666610717773,15.254667282104492,15.202667236328125,15.718000411987305,16.150667190551758,16.107332229614258,15.59000015258789,15.62266731262207,15.221332550048828,15.383333206176758,15.561332702636719,15.886667251586914,15.667332649230957,15.267333030700684,15.666666984558105,14.641332626342773,14.37600040435791,14.662667274475098,15.121999740600586,15.057332992553711,14.722000122070312,14.8100004196167,14.09333324432373,14.333333015441895,14.272000312805176,14.37266731262207,14.780667304992676,15.040666580200195,15.000666618347168,14.711999893188477,15.305333137512207,15.16333293914795,15.452667236328125,15.702667236328125,16.47333335876465,16.391332626342773,16.34666633605957,16.187332153320312,16.319332122802734,16.232667922973633,16.440000534057617,16.041332244873047,16.082000732421875,14.880666732788086,15.24666690826416,16.17066764831543,16.142000198364258,16.058000564575195,16.312667846679688,16.208667755126953,15.535332679748535,15.428667068481445,15.847999572753906,16.003332138061523,16.302000045776367,16.31599998474121,16.525999069213867,17.130666732788086,17.19266700744629,17.316667556762695,17.46466636657715,17.1299991607666,16.899999618530273,17.038667678833008,16.978666305541992,19.978666305541992,21.875333786010742,21.847333908081055,21.08133316040039,21.000667572021484,20.994667053222656,20.887332916259766,21.1646671295166,21.148000717163086,21.77199935913086,22.369333267211914,22.47599983215332,23.006000518798828,23.32866668701172,23.073999404907227,23.290000915527344,23.47800064086914,23.332666397094727,23.968000411987305,23.481332778930664,23.655332565307617,22.202667236328125,22.422666549682617,21.92799949645996,22.086000442504883,21.996000289916992,22.32466697692871,22.413333892822266,22.20199966430664,22.024667739868164,22.392667770385742,22.635332107543945,23.256000518798828,23.51333236694336,23.978666305541992,23.892667770385742,25.433332443237305,25.266000747680664,26.209999084472656,26.93600082397461,27.03933334350586,27.947999954223633,28.350000381469727,28.729333877563477,28.691999435424805,27.64666748046875,27.8886661529541,28.68400001525879,29.534000396728516,30.1026668548584,31.270666122436523,32.80933380126953,32.089332580566406,31.876667022705078,34.990665435791016,35.861331939697266,34.56666564941406,34.232666015625,34.03333282470703,36.47999954223633,37.97066879272461,38.14666748046875,37.654666900634766,37.201332092285156,37.793331146240234,38.732666015625,42.72066879272461,43.371334075927734,52.0,59.137332916259766,48.97999954223633,49.930667877197266,49.871334075927734,51.41866683959961,51.62533187866211,51.15266799926758,53.599998474121094,53.33533477783203,57.22666549682617,61.16133117675781,59.96066665649414,60.06666564941406,55.58599853515625,53.32733154296875,51.91999816894531,45.266666412353516,44.53266525268555,49.574668884277344,49.70066833496094,49.96666717529297,48.30266571044922,46.89866638183594,40.53333282470703,43.02199935913086,42.28200149536133,37.369998931884766,36.44133377075195,29.67133331298828,28.68000030517578,24.08133316040039,28.50933265686035,28.50200080871582,28.952667236328125,33.66666793823242,35.95000076293945,35.21066665649414,34.29066848754883,33.47533416748047,34.93333435058594,32.104000091552734,30.29800033569336,32.000667572021484,34.41600036621094,36.36333465576172,36.589332580566406,38.20000076293945,43.39666748046875,47.32600021362305,48.65533447265625,49.680667877197266,50.259334564208984,49.75733184814453,45.781333923339844,48.807334899902344,47.04199981689453,48.34333419799805,53.25,51.27466583251953,53.367332458496094,52.12533187866211,46.75466537475586,50.74599838256836,51.2140007019043,52.172000885009766,52.00266647338867,54.62799835205078,54.08599853515625,53.96066665649414,52.73066711425781,53.55533218383789,53.27799987792969,54.242000579833984,53.867332458496094,54.37066650390625,55.17333221435547,54.45866775512695,54.591331481933594,54.68199920654297,53.72066879272461,55.66666793823242,59.87333297729492,58.770668029785156,58.86399841308594,57.62533187866211,59.04399871826172,63.327999114990234,62.711334228515625,68.336669921875,64.85600280761719,62.35200119018555,66.05999755859375,65.47533416748047,66.11933135986328,66.9306640625,66.72666931152344,66.28800201416016,66.78533172607422,64.0566635131836,65.73200225830078,63.982666015625,67.29000091552734,71.98733520507812,74.64199829101562,80.57733154296875,91.43866729736328,92.65733337402344,91.05867004394531,92.9520034790039,102.97666931152344,99.80400085449219,101.12000274658203,103.06732940673828,100.04266357421875,100.05599975585938,109.53333282470703,104.55733489990234,106.15533447265625,100.87133026123047,94.46666717529297,102.63999938964844,98.43267059326172,99.94066619873047,99.16600036621094,95.38400268554688,99.0,99.13333129882812,99.00133514404297,99.30533599853516,96.84733581542969,94.57133483886719,91.6259994506836,103.65066528320312,108.06666564941406,110.04733276367188,122.3759994506836,125.80599975585938,125.23533630371094,133.45533752441406,136.6653289794922,134.27999877929688,134.8893280029297,143.54466247558594,149.25,147.55999755859375,166.10667419433594,158.35000610351562,149.1233367919922,135.6666717529297,139.44000244140625,110.06999969482422,122.09333038330078,123.77999877929688,124.23999786376953,139.8733367919922,149.9199981689453,147.25332641601562,141.14332580566406,147.38333129882812,149.79666137695312,141.41000366210938,126.78666687011719,129.26333618164062,135.77999877929688,140.39999389648438,139.69000244140625,143.00332641601562,149.3866729736328,138.3633270263672,141.89332580566406,137.9933319091797,141.76666259765625,141.97332763671875,144.6666717529297,147.43333435058594,148.88333129882812,153.76666259765625,149.6266632080078,146.55667114257812,143.61000061035156,140.64666748046875,140.8800048828125,141.92999267578125,140.2100067138672,140.0933380126953,141.55999755859375,135.33999633789062,136.94332885742188,129.34666442871094,133.50332641601562,141.3000030517578,140.32666015625,146.02999877929688,143.31666564941406,140.4199981689453,136.7866668701172,139.0433349609375,137.25332641601562,136.1666717529297,136.02999877929688,147.20333862304688,162.2133331298828,166.42333984375,163.20333862304688,173.9499969482422,185.1266632080078,191.3333282470703,195.25332641601562,189.1999969482422,194.9199981689453,189.60667419433594,197.7933349609375,199.67999267578125,213.9199981689453,216.6266632080078,201.4933319091797,209.02333068847656,203.3300018310547,213.27667236328125,211.0833282470703,207.58999633789062,218.63333129882812,231.6666717529297,216.6199951171875,213.44667053222656,215.32666015625,220.58999633789062,221.22999572753906,221.99667358398438,231.5933380126953,235.22332763671875,243.2566680908203,245.0366668701172,251.9933319091797,272.0133361816406,293.3399963378906,270.39666748046875,283.14666748046875,284.8033447265625,281.6666564941406,275.38665771484375,281.51666259765625,283.48333740234375,281.663330078125,282.21331787109375,293.6000061035156,294.36334228515625,288.0533447265625,278.4766540527344,264.510009765625,279.9366760253906,290.92999267578125,284.89666748046875,283.3299865722656,284.07666015625,287.8066711425781,283.1533203125,268.2733459472656,270.5533447265625,272.0400085449219,265.40667724609375,266.04998779296875,262.4599914550781,260.4333190917969,238.1666717529297,232.94667053222656,247.33999633789062,227.4066619873047,225.1666717529297,239.47666931152344,228.81333923339844,217.73333740234375,207.14666748046875,199.31666564941406,187.6666717529297,224.52667236328125,222.68666076660156,233.1999969482422,231.2433319091797,235.97999572753906,225.6266632080078,233.93666076660156,217.72000122070312,218.2899932861328,223.3333282470703,220.72000122070312,210.08999633789062,213.4633331298828,206.23666381835938,203.76333618164062,211.8733367919922,222.64332580566406,220.5833282470703,230.35000610351562,230.5399932861328,223.6566619873047,227.93333435058594,225.67333984375,233.9933319091797,254.10667419433594,244.07666015625,246.28334045410156,246.5933380126953,238.2100067138672,239.663330078125,248.0399932861328,239.89666748046875,243.13333129882812,246.06666564941406,234.913330078125,231.46665954589844,225.6666717529297,236.47999572753906,228.3000030517578,224.53334045410156,223.64666748046875,221.17999267578125,224.1233367919922,209.67999267578125,205.73333740234375,196.6300048828125,190.56333923339844,196.5800018310547,192.27667236328125,192.6233367919922,187.82000732421875,195.5933380126953,193.6266632080078,202.14666748046875,201.56333923339844,206.3766632080078,210.28334045410156,208.4066619873047,207.96665954589844,201.7066650390625,190.94667053222656,199.68333435058594,201.7100067138672,201.19667053222656,199.5933380126953,203.3733367919922,203.29666137695312,205.89666748046875],\"type\":\"scatter\",\"xaxis\":\"x\",\"yaxis\":\"y\"},{\"name\":\"Revenue\",\"x\":[\"2021-03-31T00:00:00\",\"2020-12-31T00:00:00\",\"2020-09-30T00:00:00\",\"2020-06-30T00:00:00\",\"2020-03-31T00:00:00\",\"2019-12-31T00:00:00\",\"2019-09-30T00:00:00\",\"2019-06-30T00:00:00\",\"2019-03-31T00:00:00\",\"2018-12-31T00:00:00\",\"2018-09-30T00:00:00\",\"2018-06-30T00:00:00\",\"2018-03-31T00:00:00\",\"2017-12-31T00:00:00\",\"2017-09-30T00:00:00\",\"2017-06-30T00:00:00\",\"2017-03-31T00:00:00\",\"2016-12-31T00:00:00\",\"2016-09-30T00:00:00\",\"2016-06-30T00:00:00\",\"2016-03-31T00:00:00\",\"2015-12-31T00:00:00\",\"2015-09-30T00:00:00\",\"2015-06-30T00:00:00\",\"2015-03-31T00:00:00\",\"2014-12-31T00:00:00\",\"2014-09-30T00:00:00\",\"2014-06-30T00:00:00\",\"2014-03-31T00:00:00\",\"2013-12-31T00:00:00\",\"2013-09-30T00:00:00\",\"2013-06-30T00:00:00\",\"2013-03-31T00:00:00\",\"2012-12-31T00:00:00\",\"2012-09-30T00:00:00\",\"2012-06-30T00:00:00\",\"2012-03-31T00:00:00\",\"2011-12-31T00:00:00\",\"2011-09-30T00:00:00\",\"2011-06-30T00:00:00\",\"2011-03-31T00:00:00\",\"2010-12-31T00:00:00\",\"2010-09-30T00:00:00\",\"2010-06-30T00:00:00\",\"2010-03-31T00:00:00\",\"2009-09-30T00:00:00\",\"2009-06-30T00:00:00\"],\"y\":[10389.0,10744.0,8771.0,6036.0,5985.0,7384.0,6303.0,6350.0,4541.0,7226.0,6824.0,4002.0,3409.0,3288.0,2985.0,2790.0,2696.0,2285.0,2298.0,1270.0,1147.0,1214.0,937.0,955.0,940.0,957.0,852.0,769.0,621.0,615.0,431.0,405.0,562.0,306.0,50.0,27.0,30.0,39.0,58.0,58.0,49.0,36.0,31.0,28.0,21.0,46.0,27.0],\"type\":\"scatter\",\"xaxis\":\"x2\",\"yaxis\":\"y2\"}],                        {\"template\":{\"data\":{\"bar\":[{\"error_x\":{\"color\":\"#2a3f5f\"},\"error_y\":{\"color\":\"#2a3f5f\"},\"marker\":{\"line\":{\"color\":\"#E5ECF6\",\"width\":0.5},\"pattern\":{\"fillmode\":\"overlay\",\"size\":10,\"solidity\":0.2}},\"type\":\"bar\"}],\"barpolar\":[{\"marker\":{\"line\":{\"color\":\"#E5ECF6\",\"width\":0.5},\"pattern\":{\"fillmode\":\"overlay\",\"size\":10,\"solidity\":0.2}},\"type\":\"barpolar\"}],\"carpet\":[{\"aaxis\":{\"endlinecolor\":\"#2a3f5f\",\"gridcolor\":\"white\",\"linecolor\":\"white\",\"minorgridcolor\":\"white\",\"startlinecolor\":\"#2a3f5f\"},\"baxis\":{\"endlinecolor\":\"#2a3f5f\",\"gridcolor\":\"white\",\"linecolor\":\"white\",\"minorgridcolor\":\"white\",\"startlinecolor\":\"#2a3f5f\"},\"type\":\"carpet\"}],\"choropleth\":[{\"colorbar\":{\"outlinewidth\":0,\"ticks\":\"\"},\"type\":\"choropleth\"}],\"contour\":[{\"colorbar\":{\"outlinewidth\":0,\"ticks\":\"\"},\"colorscale\":[[0.0,\"#0d0887\"],[0.1111111111111111,\"#46039f\"],[0.2222222222222222,\"#7201a8\"],[0.3333333333333333,\"#9c179e\"],[0.4444444444444444,\"#bd3786\"],[0.5555555555555556,\"#d8576b\"],[0.6666666666666666,\"#ed7953\"],[0.7777777777777778,\"#fb9f3a\"],[0.8888888888888888,\"#fdca26\"],[1.0,\"#f0f921\"]],\"type\":\"contour\"}],\"contourcarpet\":[{\"colorbar\":{\"outlinewidth\":0,\"ticks\":\"\"},\"type\":\"contourcarpet\"}],\"heatmap\":[{\"colorbar\":{\"outlinewidth\":0,\"ticks\":\"\"},\"colorscale\":[[0.0,\"#0d0887\"],[0.1111111111111111,\"#46039f\"],[0.2222222222222222,\"#7201a8\"],[0.3333333333333333,\"#9c179e\"],[0.4444444444444444,\"#bd3786\"],[0.5555555555555556,\"#d8576b\"],[0.6666666666666666,\"#ed7953\"],[0.7777777777777778,\"#fb9f3a\"],[0.8888888888888888,\"#fdca26\"],[1.0,\"#f0f921\"]],\"type\":\"heatmap\"}],\"heatmapgl\":[{\"colorbar\":{\"outlinewidth\":0,\"ticks\":\"\"},\"colorscale\":[[0.0,\"#0d0887\"],[0.1111111111111111,\"#46039f\"],[0.2222222222222222,\"#7201a8\"],[0.3333333333333333,\"#9c179e\"],[0.4444444444444444,\"#bd3786\"],[0.5555555555555556,\"#d8576b\"],[0.6666666666666666,\"#ed7953\"],[0.7777777777777778,\"#fb9f3a\"],[0.8888888888888888,\"#fdca26\"],[1.0,\"#f0f921\"]],\"type\":\"heatmapgl\"}],\"histogram\":[{\"marker\":{\"pattern\":{\"fillmode\":\"overlay\",\"size\":10,\"solidity\":0.2}},\"type\":\"histogram\"}],\"histogram2d\":[{\"colorbar\":{\"outlinewidth\":0,\"ticks\":\"\"},\"colorscale\":[[0.0,\"#0d0887\"],[0.1111111111111111,\"#46039f\"],[0.2222222222222222,\"#7201a8\"],[0.3333333333333333,\"#9c179e\"],[0.4444444444444444,\"#bd3786\"],[0.5555555555555556,\"#d8576b\"],[0.6666666666666666,\"#ed7953\"],[0.7777777777777778,\"#fb9f3a\"],[0.8888888888888888,\"#fdca26\"],[1.0,\"#f0f921\"]],\"type\":\"histogram2d\"}],\"histogram2dcontour\":[{\"colorbar\":{\"outlinewidth\":0,\"ticks\":\"\"},\"colorscale\":[[0.0,\"#0d0887\"],[0.1111111111111111,\"#46039f\"],[0.2222222222222222,\"#7201a8\"],[0.3333333333333333,\"#9c179e\"],[0.4444444444444444,\"#bd3786\"],[0.5555555555555556,\"#d8576b\"],[0.6666666666666666,\"#ed7953\"],[0.7777777777777778,\"#fb9f3a\"],[0.8888888888888888,\"#fdca26\"],[1.0,\"#f0f921\"]],\"type\":\"histogram2dcontour\"}],\"mesh3d\":[{\"colorbar\":{\"outlinewidth\":0,\"ticks\":\"\"},\"type\":\"mesh3d\"}],\"parcoords\":[{\"line\":{\"colorbar\":{\"outlinewidth\":0,\"ticks\":\"\"}},\"type\":\"parcoords\"}],\"pie\":[{\"automargin\":true,\"type\":\"pie\"}],\"scatter\":[{\"marker\":{\"colorbar\":{\"outlinewidth\":0,\"ticks\":\"\"}},\"type\":\"scatter\"}],\"scatter3d\":[{\"line\":{\"colorbar\":{\"outlinewidth\":0,\"ticks\":\"\"}},\"marker\":{\"colorbar\":{\"outlinewidth\":0,\"ticks\":\"\"}},\"type\":\"scatter3d\"}],\"scattercarpet\":[{\"marker\":{\"colorbar\":{\"outlinewidth\":0,\"ticks\":\"\"}},\"type\":\"scattercarpet\"}],\"scattergeo\":[{\"marker\":{\"colorbar\":{\"outlinewidth\":0,\"ticks\":\"\"}},\"type\":\"scattergeo\"}],\"scattergl\":[{\"marker\":{\"colorbar\":{\"outlinewidth\":0,\"ticks\":\"\"}},\"type\":\"scattergl\"}],\"scattermapbox\":[{\"marker\":{\"colorbar\":{\"outlinewidth\":0,\"ticks\":\"\"}},\"type\":\"scattermapbox\"}],\"scatterpolar\":[{\"marker\":{\"colorbar\":{\"outlinewidth\":0,\"ticks\":\"\"}},\"type\":\"scatterpolar\"}],\"scatterpolargl\":[{\"marker\":{\"colorbar\":{\"outlinewidth\":0,\"ticks\":\"\"}},\"type\":\"scatterpolargl\"}],\"scatterternary\":[{\"marker\":{\"colorbar\":{\"outlinewidth\":0,\"ticks\":\"\"}},\"type\":\"scatterternary\"}],\"surface\":[{\"colorbar\":{\"outlinewidth\":0,\"ticks\":\"\"},\"colorscale\":[[0.0,\"#0d0887\"],[0.1111111111111111,\"#46039f\"],[0.2222222222222222,\"#7201a8\"],[0.3333333333333333,\"#9c179e\"],[0.4444444444444444,\"#bd3786\"],[0.5555555555555556,\"#d8576b\"],[0.6666666666666666,\"#ed7953\"],[0.7777777777777778,\"#fb9f3a\"],[0.8888888888888888,\"#fdca26\"],[1.0,\"#f0f921\"]],\"type\":\"surface\"}],\"table\":[{\"cells\":{\"fill\":{\"color\":\"#EBF0F8\"},\"line\":{\"color\":\"white\"}},\"header\":{\"fill\":{\"color\":\"#C8D4E3\"},\"line\":{\"color\":\"white\"}},\"type\":\"table\"}]},\"layout\":{\"annotationdefaults\":{\"arrowcolor\":\"#2a3f5f\",\"arrowhead\":0,\"arrowwidth\":1},\"autotypenumbers\":\"strict\",\"coloraxis\":{\"colorbar\":{\"outlinewidth\":0,\"ticks\":\"\"}},\"colorscale\":{\"diverging\":[[0,\"#8e0152\"],[0.1,\"#c51b7d\"],[0.2,\"#de77ae\"],[0.3,\"#f1b6da\"],[0.4,\"#fde0ef\"],[0.5,\"#f7f7f7\"],[0.6,\"#e6f5d0\"],[0.7,\"#b8e186\"],[0.8,\"#7fbc41\"],[0.9,\"#4d9221\"],[1,\"#276419\"]],\"sequential\":[[0.0,\"#0d0887\"],[0.1111111111111111,\"#46039f\"],[0.2222222222222222,\"#7201a8\"],[0.3333333333333333,\"#9c179e\"],[0.4444444444444444,\"#bd3786\"],[0.5555555555555556,\"#d8576b\"],[0.6666666666666666,\"#ed7953\"],[0.7777777777777778,\"#fb9f3a\"],[0.8888888888888888,\"#fdca26\"],[1.0,\"#f0f921\"]],\"sequentialminus\":[[0.0,\"#0d0887\"],[0.1111111111111111,\"#46039f\"],[0.2222222222222222,\"#7201a8\"],[0.3333333333333333,\"#9c179e\"],[0.4444444444444444,\"#bd3786\"],[0.5555555555555556,\"#d8576b\"],[0.6666666666666666,\"#ed7953\"],[0.7777777777777778,\"#fb9f3a\"],[0.8888888888888888,\"#fdca26\"],[1.0,\"#f0f921\"]]},\"colorway\":[\"#636efa\",\"#EF553B\",\"#00cc96\",\"#ab63fa\",\"#FFA15A\",\"#19d3f3\",\"#FF6692\",\"#B6E880\",\"#FF97FF\",\"#FECB52\"],\"font\":{\"color\":\"#2a3f5f\"},\"geo\":{\"bgcolor\":\"white\",\"lakecolor\":\"white\",\"landcolor\":\"#E5ECF6\",\"showlakes\":true,\"showland\":true,\"subunitcolor\":\"white\"},\"hoverlabel\":{\"align\":\"left\"},\"hovermode\":\"closest\",\"mapbox\":{\"style\":\"light\"},\"paper_bgcolor\":\"white\",\"plot_bgcolor\":\"#E5ECF6\",\"polar\":{\"angularaxis\":{\"gridcolor\":\"white\",\"linecolor\":\"white\",\"ticks\":\"\"},\"bgcolor\":\"#E5ECF6\",\"radialaxis\":{\"gridcolor\":\"white\",\"linecolor\":\"white\",\"ticks\":\"\"}},\"scene\":{\"xaxis\":{\"backgroundcolor\":\"#E5ECF6\",\"gridcolor\":\"white\",\"gridwidth\":2,\"linecolor\":\"white\",\"showbackground\":true,\"ticks\":\"\",\"zerolinecolor\":\"white\"},\"yaxis\":{\"backgroundcolor\":\"#E5ECF6\",\"gridcolor\":\"white\",\"gridwidth\":2,\"linecolor\":\"white\",\"showbackground\":true,\"ticks\":\"\",\"zerolinecolor\":\"white\"},\"zaxis\":{\"backgroundcolor\":\"#E5ECF6\",\"gridcolor\":\"white\",\"gridwidth\":2,\"linecolor\":\"white\",\"showbackground\":true,\"ticks\":\"\",\"zerolinecolor\":\"white\"}},\"shapedefaults\":{\"line\":{\"color\":\"#2a3f5f\"}},\"ternary\":{\"aaxis\":{\"gridcolor\":\"white\",\"linecolor\":\"white\",\"ticks\":\"\"},\"baxis\":{\"gridcolor\":\"white\",\"linecolor\":\"white\",\"ticks\":\"\"},\"bgcolor\":\"#E5ECF6\",\"caxis\":{\"gridcolor\":\"white\",\"linecolor\":\"white\",\"ticks\":\"\"}},\"title\":{\"x\":0.05},\"xaxis\":{\"automargin\":true,\"gridcolor\":\"white\",\"linecolor\":\"white\",\"ticks\":\"\",\"title\":{\"standoff\":15},\"zerolinecolor\":\"white\",\"zerolinewidth\":2},\"yaxis\":{\"automargin\":true,\"gridcolor\":\"white\",\"linecolor\":\"white\",\"ticks\":\"\",\"title\":{\"standoff\":15},\"zerolinecolor\":\"white\",\"zerolinewidth\":2}}},\"xaxis\":{\"anchor\":\"y\",\"domain\":[0.0,1.0],\"matches\":\"x2\",\"showticklabels\":false,\"title\":{\"text\":\"Date\"},\"rangeslider\":{\"visible\":true}},\"yaxis\":{\"anchor\":\"x\",\"domain\":[0.6499999999999999,0.9999999999999999],\"title\":{\"text\":\"Price ($US)\"}},\"xaxis2\":{\"anchor\":\"y2\",\"domain\":[0.0,1.0],\"title\":{\"text\":\"Date\"}},\"yaxis2\":{\"anchor\":\"x2\",\"domain\":[0.0,0.35],\"title\":{\"text\":\"Revenue ($US Millions)\"}},\"annotations\":[{\"font\":{\"size\":16},\"showarrow\":false,\"text\":\"Historical Share Price\",\"x\":0.5,\"xanchor\":\"center\",\"xref\":\"paper\",\"y\":0.9999999999999999,\"yanchor\":\"bottom\",\"yref\":\"paper\"},{\"font\":{\"size\":16},\"showarrow\":false,\"text\":\"Historical Revenue\",\"x\":0.5,\"xanchor\":\"center\",\"xref\":\"paper\",\"y\":0.35,\"yanchor\":\"bottom\",\"yref\":\"paper\"}],\"showlegend\":false,\"height\":900,\"title\":{\"text\":\"Tesla\"}},                        {\"responsive\": true}                    ).then(function(){\n",
              "                            \n",
              "var gd = document.getElementById('cbbce525-c2d5-4235-a6c2-1940ad7b6223');\n",
              "var x = new MutationObserver(function (mutations, observer) {{\n",
              "        var display = window.getComputedStyle(gd).display;\n",
              "        if (!display || display === 'none') {{\n",
              "            console.log([gd, 'removed!']);\n",
              "            Plotly.purge(gd);\n",
              "            observer.disconnect();\n",
              "        }}\n",
              "}});\n",
              "\n",
              "// Listen for the removal of the full notebook cells\n",
              "var notebookContainer = gd.closest('#notebook-container');\n",
              "if (notebookContainer) {{\n",
              "    x.observe(notebookContainer, {childList: true});\n",
              "}}\n",
              "\n",
              "// Listen for the clearing of the current output cell\n",
              "var outputEl = gd.closest('.output');\n",
              "if (outputEl) {{\n",
              "    x.observe(outputEl, {childList: true});\n",
              "}}\n",
              "\n",
              "                        })                };                            </script>        </div>\n",
              "</body>\n",
              "</html>"
            ]
          },
          "metadata": {}
        }
      ]
    },
    {
      "cell_type": "markdown",
      "source": [
        "y finance"
      ],
      "metadata": {
        "id": "r-OuPDIAG2xi"
      }
    },
    {
      "cell_type": "code",
      "source": [
        "gamestop = yf.Ticker(\"GME\")"
      ],
      "metadata": {
        "id": "d660lSVvGPMs"
      },
      "execution_count": 136,
      "outputs": []
    },
    {
      "cell_type": "code",
      "source": [
        "gme_data = gamestop.history(period=\"max\")"
      ],
      "metadata": {
        "id": "tu0zkdh8G4o9"
      },
      "execution_count": 137,
      "outputs": []
    },
    {
      "cell_type": "code",
      "source": [
        "gme_data.reset_index(inplace=True)\n"
      ],
      "metadata": {
        "id": "73xYg8-TG7vG"
      },
      "execution_count": 138,
      "outputs": []
    },
    {
      "cell_type": "code",
      "source": [
        "gme_data.head()"
      ],
      "metadata": {
        "colab": {
          "base_uri": "https://localhost:8080/",
          "height": 206
        },
        "id": "w2H7ycV_HNOZ",
        "outputId": "280279dd-96ca-4158-a387-0df02a005e54"
      },
      "execution_count": 139,
      "outputs": [
        {
          "output_type": "execute_result",
          "data": {
            "text/plain": [
              "                       Date      Open      High       Low     Close    Volume  \\\n",
              "0 2002-02-13 00:00:00-05:00  1.620128  1.693349  1.603295  1.691666  76216000   \n",
              "1 2002-02-14 00:00:00-05:00  1.712707  1.716074  1.670626  1.683251  11021600   \n",
              "2 2002-02-15 00:00:00-05:00  1.683251  1.687459  1.658002  1.674834   8389600   \n",
              "3 2002-02-19 00:00:00-05:00  1.666418  1.666418  1.578047  1.607504   7410400   \n",
              "4 2002-02-20 00:00:00-05:00  1.615920  1.662210  1.603296  1.662210   6892800   \n",
              "\n",
              "   Dividends  Stock Splits  \n",
              "0        0.0           0.0  \n",
              "1        0.0           0.0  \n",
              "2        0.0           0.0  \n",
              "3        0.0           0.0  \n",
              "4        0.0           0.0  "
            ],
            "text/html": [
              "\n",
              "  <div id=\"df-ec98271c-6d08-43d3-b468-aba38ce80f09\">\n",
              "    <div class=\"colab-df-container\">\n",
              "      <div>\n",
              "<style scoped>\n",
              "    .dataframe tbody tr th:only-of-type {\n",
              "        vertical-align: middle;\n",
              "    }\n",
              "\n",
              "    .dataframe tbody tr th {\n",
              "        vertical-align: top;\n",
              "    }\n",
              "\n",
              "    .dataframe thead th {\n",
              "        text-align: right;\n",
              "    }\n",
              "</style>\n",
              "<table border=\"1\" class=\"dataframe\">\n",
              "  <thead>\n",
              "    <tr style=\"text-align: right;\">\n",
              "      <th></th>\n",
              "      <th>Date</th>\n",
              "      <th>Open</th>\n",
              "      <th>High</th>\n",
              "      <th>Low</th>\n",
              "      <th>Close</th>\n",
              "      <th>Volume</th>\n",
              "      <th>Dividends</th>\n",
              "      <th>Stock Splits</th>\n",
              "    </tr>\n",
              "  </thead>\n",
              "  <tbody>\n",
              "    <tr>\n",
              "      <th>0</th>\n",
              "      <td>2002-02-13 00:00:00-05:00</td>\n",
              "      <td>1.620128</td>\n",
              "      <td>1.693349</td>\n",
              "      <td>1.603295</td>\n",
              "      <td>1.691666</td>\n",
              "      <td>76216000</td>\n",
              "      <td>0.0</td>\n",
              "      <td>0.0</td>\n",
              "    </tr>\n",
              "    <tr>\n",
              "      <th>1</th>\n",
              "      <td>2002-02-14 00:00:00-05:00</td>\n",
              "      <td>1.712707</td>\n",
              "      <td>1.716074</td>\n",
              "      <td>1.670626</td>\n",
              "      <td>1.683251</td>\n",
              "      <td>11021600</td>\n",
              "      <td>0.0</td>\n",
              "      <td>0.0</td>\n",
              "    </tr>\n",
              "    <tr>\n",
              "      <th>2</th>\n",
              "      <td>2002-02-15 00:00:00-05:00</td>\n",
              "      <td>1.683251</td>\n",
              "      <td>1.687459</td>\n",
              "      <td>1.658002</td>\n",
              "      <td>1.674834</td>\n",
              "      <td>8389600</td>\n",
              "      <td>0.0</td>\n",
              "      <td>0.0</td>\n",
              "    </tr>\n",
              "    <tr>\n",
              "      <th>3</th>\n",
              "      <td>2002-02-19 00:00:00-05:00</td>\n",
              "      <td>1.666418</td>\n",
              "      <td>1.666418</td>\n",
              "      <td>1.578047</td>\n",
              "      <td>1.607504</td>\n",
              "      <td>7410400</td>\n",
              "      <td>0.0</td>\n",
              "      <td>0.0</td>\n",
              "    </tr>\n",
              "    <tr>\n",
              "      <th>4</th>\n",
              "      <td>2002-02-20 00:00:00-05:00</td>\n",
              "      <td>1.615920</td>\n",
              "      <td>1.662210</td>\n",
              "      <td>1.603296</td>\n",
              "      <td>1.662210</td>\n",
              "      <td>6892800</td>\n",
              "      <td>0.0</td>\n",
              "      <td>0.0</td>\n",
              "    </tr>\n",
              "  </tbody>\n",
              "</table>\n",
              "</div>\n",
              "      <button class=\"colab-df-convert\" onclick=\"convertToInteractive('df-ec98271c-6d08-43d3-b468-aba38ce80f09')\"\n",
              "              title=\"Convert this dataframe to an interactive table.\"\n",
              "              style=\"display:none;\">\n",
              "        \n",
              "  <svg xmlns=\"http://www.w3.org/2000/svg\" height=\"24px\"viewBox=\"0 0 24 24\"\n",
              "       width=\"24px\">\n",
              "    <path d=\"M0 0h24v24H0V0z\" fill=\"none\"/>\n",
              "    <path d=\"M18.56 5.44l.94 2.06.94-2.06 2.06-.94-2.06-.94-.94-2.06-.94 2.06-2.06.94zm-11 1L8.5 8.5l.94-2.06 2.06-.94-2.06-.94L8.5 2.5l-.94 2.06-2.06.94zm10 10l.94 2.06.94-2.06 2.06-.94-2.06-.94-.94-2.06-.94 2.06-2.06.94z\"/><path d=\"M17.41 7.96l-1.37-1.37c-.4-.4-.92-.59-1.43-.59-.52 0-1.04.2-1.43.59L10.3 9.45l-7.72 7.72c-.78.78-.78 2.05 0 2.83L4 21.41c.39.39.9.59 1.41.59.51 0 1.02-.2 1.41-.59l7.78-7.78 2.81-2.81c.8-.78.8-2.07 0-2.86zM5.41 20L4 18.59l7.72-7.72 1.47 1.35L5.41 20z\"/>\n",
              "  </svg>\n",
              "      </button>\n",
              "      \n",
              "  <style>\n",
              "    .colab-df-container {\n",
              "      display:flex;\n",
              "      flex-wrap:wrap;\n",
              "      gap: 12px;\n",
              "    }\n",
              "\n",
              "    .colab-df-convert {\n",
              "      background-color: #E8F0FE;\n",
              "      border: none;\n",
              "      border-radius: 50%;\n",
              "      cursor: pointer;\n",
              "      display: none;\n",
              "      fill: #1967D2;\n",
              "      height: 32px;\n",
              "      padding: 0 0 0 0;\n",
              "      width: 32px;\n",
              "    }\n",
              "\n",
              "    .colab-df-convert:hover {\n",
              "      background-color: #E2EBFA;\n",
              "      box-shadow: 0px 1px 2px rgba(60, 64, 67, 0.3), 0px 1px 3px 1px rgba(60, 64, 67, 0.15);\n",
              "      fill: #174EA6;\n",
              "    }\n",
              "\n",
              "    [theme=dark] .colab-df-convert {\n",
              "      background-color: #3B4455;\n",
              "      fill: #D2E3FC;\n",
              "    }\n",
              "\n",
              "    [theme=dark] .colab-df-convert:hover {\n",
              "      background-color: #434B5C;\n",
              "      box-shadow: 0px 1px 3px 1px rgba(0, 0, 0, 0.15);\n",
              "      filter: drop-shadow(0px 1px 2px rgba(0, 0, 0, 0.3));\n",
              "      fill: #FFFFFF;\n",
              "    }\n",
              "  </style>\n",
              "\n",
              "      <script>\n",
              "        const buttonEl =\n",
              "          document.querySelector('#df-ec98271c-6d08-43d3-b468-aba38ce80f09 button.colab-df-convert');\n",
              "        buttonEl.style.display =\n",
              "          google.colab.kernel.accessAllowed ? 'block' : 'none';\n",
              "\n",
              "        async function convertToInteractive(key) {\n",
              "          const element = document.querySelector('#df-ec98271c-6d08-43d3-b468-aba38ce80f09');\n",
              "          const dataTable =\n",
              "            await google.colab.kernel.invokeFunction('convertToInteractive',\n",
              "                                                     [key], {});\n",
              "          if (!dataTable) return;\n",
              "\n",
              "          const docLinkHtml = 'Like what you see? Visit the ' +\n",
              "            '<a target=\"_blank\" href=https://colab.research.google.com/notebooks/data_table.ipynb>data table notebook</a>'\n",
              "            + ' to learn more about interactive tables.';\n",
              "          element.innerHTML = '';\n",
              "          dataTable['output_type'] = 'display_data';\n",
              "          await google.colab.output.renderOutput(dataTable, element);\n",
              "          const docLink = document.createElement('div');\n",
              "          docLink.innerHTML = docLinkHtml;\n",
              "          element.appendChild(docLink);\n",
              "        }\n",
              "      </script>\n",
              "    </div>\n",
              "  </div>\n",
              "  "
            ]
          },
          "metadata": {},
          "execution_count": 139
        }
      ]
    },
    {
      "cell_type": "code",
      "source": [
        "gme_url = \"https://www.macrotrends.net/stocks/charts/GME/gamestop/revenue\"\n",
        "gme_html_data = requests.get(gme_url).text"
      ],
      "metadata": {
        "id": "vfUZSWJvHN9t"
      },
      "execution_count": 140,
      "outputs": []
    },
    {
      "cell_type": "code",
      "source": [
        "gme_soup = BeautifulSoup(gme_html_data, 'lxml')\n"
      ],
      "metadata": {
        "id": "xEuvlSnMH3lH"
      },
      "execution_count": 141,
      "outputs": []
    },
    {
      "cell_type": "code",
      "source": [
        "gme_tables = gme_soup.find_all('table')\n",
        "for index,table in enumerate(gme_tables):\n",
        "    if (\"GameStop Quarterly Revenue\" in str(table)):\n",
        "        gme_table_index = index"
      ],
      "metadata": {
        "id": "xsGLGVN5H_JY"
      },
      "execution_count": 142,
      "outputs": []
    },
    {
      "cell_type": "code",
      "source": [
        "gme_revenue = pd.DataFrame(columns=[\"Date\", \"Revenue\"])\n"
      ],
      "metadata": {
        "id": "xZid7_BpIJfP"
      },
      "execution_count": 143,
      "outputs": []
    },
    {
      "cell_type": "code",
      "source": [
        "\n",
        "for row in gme_tables[gme_table_index].tbody.find_all(\"tr\"):\n",
        "    col = row.find_all(\"td\")\n",
        "    if (col !=[]):\n",
        "        date = col[0].text\n",
        "        revenue = col[1].text.replace(\"$\", \"\").replace(\",\", \"\")\n",
        "        gme_revenue = gme_revenue.append({\"Date\" : date, \"Revenue\" : revenue}, ignore_index=True)"
      ],
      "metadata": {
        "id": "wFCSfKsNIMzP"
      },
      "execution_count": 144,
      "outputs": []
    },
    {
      "cell_type": "code",
      "source": [
        " gme_revenue.tail()\n"
      ],
      "metadata": {
        "colab": {
          "base_uri": "https://localhost:8080/",
          "height": 206
        },
        "id": "zSA0J6EsIToB",
        "outputId": "3586aa8b-4f5b-4507-b6c0-7879f94168e6"
      },
      "execution_count": 145,
      "outputs": [
        {
          "output_type": "execute_result",
          "data": {
            "text/plain": [
              "          Date Revenue\n",
              "51  2010-01-31    3524\n",
              "52  2009-10-31    1835\n",
              "53  2009-07-31    1739\n",
              "54  2009-04-30    1981\n",
              "55  2009-01-31    3492"
            ],
            "text/html": [
              "\n",
              "  <div id=\"df-44f262de-dceb-496a-aec1-bd2b7ce89066\">\n",
              "    <div class=\"colab-df-container\">\n",
              "      <div>\n",
              "<style scoped>\n",
              "    .dataframe tbody tr th:only-of-type {\n",
              "        vertical-align: middle;\n",
              "    }\n",
              "\n",
              "    .dataframe tbody tr th {\n",
              "        vertical-align: top;\n",
              "    }\n",
              "\n",
              "    .dataframe thead th {\n",
              "        text-align: right;\n",
              "    }\n",
              "</style>\n",
              "<table border=\"1\" class=\"dataframe\">\n",
              "  <thead>\n",
              "    <tr style=\"text-align: right;\">\n",
              "      <th></th>\n",
              "      <th>Date</th>\n",
              "      <th>Revenue</th>\n",
              "    </tr>\n",
              "  </thead>\n",
              "  <tbody>\n",
              "    <tr>\n",
              "      <th>51</th>\n",
              "      <td>2010-01-31</td>\n",
              "      <td>3524</td>\n",
              "    </tr>\n",
              "    <tr>\n",
              "      <th>52</th>\n",
              "      <td>2009-10-31</td>\n",
              "      <td>1835</td>\n",
              "    </tr>\n",
              "    <tr>\n",
              "      <th>53</th>\n",
              "      <td>2009-07-31</td>\n",
              "      <td>1739</td>\n",
              "    </tr>\n",
              "    <tr>\n",
              "      <th>54</th>\n",
              "      <td>2009-04-30</td>\n",
              "      <td>1981</td>\n",
              "    </tr>\n",
              "    <tr>\n",
              "      <th>55</th>\n",
              "      <td>2009-01-31</td>\n",
              "      <td>3492</td>\n",
              "    </tr>\n",
              "  </tbody>\n",
              "</table>\n",
              "</div>\n",
              "      <button class=\"colab-df-convert\" onclick=\"convertToInteractive('df-44f262de-dceb-496a-aec1-bd2b7ce89066')\"\n",
              "              title=\"Convert this dataframe to an interactive table.\"\n",
              "              style=\"display:none;\">\n",
              "        \n",
              "  <svg xmlns=\"http://www.w3.org/2000/svg\" height=\"24px\"viewBox=\"0 0 24 24\"\n",
              "       width=\"24px\">\n",
              "    <path d=\"M0 0h24v24H0V0z\" fill=\"none\"/>\n",
              "    <path d=\"M18.56 5.44l.94 2.06.94-2.06 2.06-.94-2.06-.94-.94-2.06-.94 2.06-2.06.94zm-11 1L8.5 8.5l.94-2.06 2.06-.94-2.06-.94L8.5 2.5l-.94 2.06-2.06.94zm10 10l.94 2.06.94-2.06 2.06-.94-2.06-.94-.94-2.06-.94 2.06-2.06.94z\"/><path d=\"M17.41 7.96l-1.37-1.37c-.4-.4-.92-.59-1.43-.59-.52 0-1.04.2-1.43.59L10.3 9.45l-7.72 7.72c-.78.78-.78 2.05 0 2.83L4 21.41c.39.39.9.59 1.41.59.51 0 1.02-.2 1.41-.59l7.78-7.78 2.81-2.81c.8-.78.8-2.07 0-2.86zM5.41 20L4 18.59l7.72-7.72 1.47 1.35L5.41 20z\"/>\n",
              "  </svg>\n",
              "      </button>\n",
              "      \n",
              "  <style>\n",
              "    .colab-df-container {\n",
              "      display:flex;\n",
              "      flex-wrap:wrap;\n",
              "      gap: 12px;\n",
              "    }\n",
              "\n",
              "    .colab-df-convert {\n",
              "      background-color: #E8F0FE;\n",
              "      border: none;\n",
              "      border-radius: 50%;\n",
              "      cursor: pointer;\n",
              "      display: none;\n",
              "      fill: #1967D2;\n",
              "      height: 32px;\n",
              "      padding: 0 0 0 0;\n",
              "      width: 32px;\n",
              "    }\n",
              "\n",
              "    .colab-df-convert:hover {\n",
              "      background-color: #E2EBFA;\n",
              "      box-shadow: 0px 1px 2px rgba(60, 64, 67, 0.3), 0px 1px 3px 1px rgba(60, 64, 67, 0.15);\n",
              "      fill: #174EA6;\n",
              "    }\n",
              "\n",
              "    [theme=dark] .colab-df-convert {\n",
              "      background-color: #3B4455;\n",
              "      fill: #D2E3FC;\n",
              "    }\n",
              "\n",
              "    [theme=dark] .colab-df-convert:hover {\n",
              "      background-color: #434B5C;\n",
              "      box-shadow: 0px 1px 3px 1px rgba(0, 0, 0, 0.15);\n",
              "      filter: drop-shadow(0px 1px 2px rgba(0, 0, 0, 0.3));\n",
              "      fill: #FFFFFF;\n",
              "    }\n",
              "  </style>\n",
              "\n",
              "      <script>\n",
              "        const buttonEl =\n",
              "          document.querySelector('#df-44f262de-dceb-496a-aec1-bd2b7ce89066 button.colab-df-convert');\n",
              "        buttonEl.style.display =\n",
              "          google.colab.kernel.accessAllowed ? 'block' : 'none';\n",
              "\n",
              "        async function convertToInteractive(key) {\n",
              "          const element = document.querySelector('#df-44f262de-dceb-496a-aec1-bd2b7ce89066');\n",
              "          const dataTable =\n",
              "            await google.colab.kernel.invokeFunction('convertToInteractive',\n",
              "                                                     [key], {});\n",
              "          if (!dataTable) return;\n",
              "\n",
              "          const docLinkHtml = 'Like what you see? Visit the ' +\n",
              "            '<a target=\"_blank\" href=https://colab.research.google.com/notebooks/data_table.ipynb>data table notebook</a>'\n",
              "            + ' to learn more about interactive tables.';\n",
              "          element.innerHTML = '';\n",
              "          dataTable['output_type'] = 'display_data';\n",
              "          await google.colab.output.renderOutput(dataTable, element);\n",
              "          const docLink = document.createElement('div');\n",
              "          docLink.innerHTML = docLinkHtml;\n",
              "          element.appendChild(docLink);\n",
              "        }\n",
              "      </script>\n",
              "    </div>\n",
              "  </div>\n",
              "  "
            ]
          },
          "metadata": {},
          "execution_count": 145
        }
      ]
    },
    {
      "cell_type": "markdown",
      "source": [
        "# Graph of GameStop stock"
      ],
      "metadata": {
        "id": "voteQT6QKfTi"
      }
    },
    {
      "cell_type": "code",
      "source": [
        "make_graph(gme_data, gme_revenue, 'GameStop')\n"
      ],
      "metadata": {
        "colab": {
          "base_uri": "https://localhost:8080/",
          "height": 917
        },
        "id": "srGJOrvPJ4zI",
        "outputId": "83309d3a-c426-45ce-ae2e-7f7a3a0750e4"
      },
      "execution_count": 148,
      "outputs": [
        {
          "output_type": "display_data",
          "data": {
            "text/html": [
              "<html>\n",
              "<head><meta charset=\"utf-8\" /></head>\n",
              "<body>\n",
              "    <div>            <script src=\"https://cdnjs.cloudflare.com/ajax/libs/mathjax/2.7.5/MathJax.js?config=TeX-AMS-MML_SVG\"></script><script type=\"text/javascript\">if (window.MathJax) {MathJax.Hub.Config({SVG: {font: \"STIX-Web\"}});}</script>                <script type=\"text/javascript\">window.PlotlyConfig = {MathJaxConfig: 'local'};</script>\n",
              "        <script src=\"https://cdn.plot.ly/plotly-2.8.3.min.js\"></script>                <div id=\"72b0812e-cea9-4133-9e34-a1d5b1cc5b58\" class=\"plotly-graph-div\" style=\"height:900px; width:100%;\"></div>            <script type=\"text/javascript\">                                    window.PLOTLYENV=window.PLOTLYENV || {};                                    if (document.getElementById(\"72b0812e-cea9-4133-9e34-a1d5b1cc5b58\")) {                    Plotly.newPlot(                        \"72b0812e-cea9-4133-9e34-a1d5b1cc5b58\",                        [{\"name\":\"Share Price\",\"x\":[\"2002-02-13T00:00:00-05:00\",\"2002-02-14T00:00:00-05:00\",\"2002-02-15T00:00:00-05:00\",\"2002-02-19T00:00:00-05:00\",\"2002-02-20T00:00:00-05:00\",\"2002-02-21T00:00:00-05:00\",\"2002-02-22T00:00:00-05:00\",\"2002-02-25T00:00:00-05:00\",\"2002-02-26T00:00:00-05:00\",\"2002-02-27T00:00:00-05:00\",\"2002-02-28T00:00:00-05:00\",\"2002-03-01T00:00:00-05:00\",\"2002-03-04T00:00:00-05:00\",\"2002-03-05T00:00:00-05:00\",\"2002-03-06T00:00:00-05:00\",\"2002-03-07T00:00:00-05:00\",\"2002-03-08T00:00:00-05:00\",\"2002-03-11T00:00:00-05:00\",\"2002-03-12T00:00:00-05:00\",\"2002-03-13T00:00:00-05:00\",\"2002-03-14T00:00:00-05:00\",\"2002-03-15T00:00:00-05:00\",\"2002-03-18T00:00:00-05:00\",\"2002-03-19T00:00:00-05:00\",\"2002-03-20T00:00:00-05:00\",\"2002-03-21T00:00:00-05:00\",\"2002-03-22T00:00:00-05:00\",\"2002-03-25T00:00:00-05:00\",\"2002-03-26T00:00:00-05:00\",\"2002-03-27T00:00:00-05:00\",\"2002-03-28T00:00:00-05:00\",\"2002-04-01T00:00:00-05:00\",\"2002-04-02T00:00:00-05:00\",\"2002-04-03T00:00:00-05:00\",\"2002-04-04T00:00:00-05:00\",\"2002-04-05T00:00:00-05:00\",\"2002-04-08T00:00:00-04:00\",\"2002-04-09T00:00:00-04:00\",\"2002-04-10T00:00:00-04:00\",\"2002-04-11T00:00:00-04:00\",\"2002-04-12T00:00:00-04:00\",\"2002-04-15T00:00:00-04:00\",\"2002-04-16T00:00:00-04:00\",\"2002-04-17T00:00:00-04:00\",\"2002-04-18T00:00:00-04:00\",\"2002-04-19T00:00:00-04:00\",\"2002-04-22T00:00:00-04:00\",\"2002-04-23T00:00:00-04:00\",\"2002-04-24T00:00:00-04:00\",\"2002-04-25T00:00:00-04:00\",\"2002-04-26T00:00:00-04:00\",\"2002-04-29T00:00:00-04:00\",\"2002-04-30T00:00:00-04:00\",\"2002-05-01T00:00:00-04:00\",\"2002-05-02T00:00:00-04:00\",\"2002-05-03T00:00:00-04:00\",\"2002-05-06T00:00:00-04:00\",\"2002-05-07T00:00:00-04:00\",\"2002-05-08T00:00:00-04:00\",\"2002-05-09T00:00:00-04:00\",\"2002-05-10T00:00:00-04:00\",\"2002-05-13T00:00:00-04:00\",\"2002-05-14T00:00:00-04:00\",\"2002-05-15T00:00:00-04:00\",\"2002-05-16T00:00:00-04:00\",\"2002-05-17T00:00:00-04:00\",\"2002-05-20T00:00:00-04:00\",\"2002-05-21T00:00:00-04:00\",\"2002-05-22T00:00:00-04:00\",\"2002-05-23T00:00:00-04:00\",\"2002-05-24T00:00:00-04:00\",\"2002-05-28T00:00:00-04:00\",\"2002-05-29T00:00:00-04:00\",\"2002-05-30T00:00:00-04:00\",\"2002-05-31T00:00:00-04:00\",\"2002-06-03T00:00:00-04:00\",\"2002-06-04T00:00:00-04:00\",\"2002-06-05T00:00:00-04:00\",\"2002-06-06T00:00:00-04:00\",\"2002-06-07T00:00:00-04:00\",\"2002-06-10T00:00:00-04:00\",\"2002-06-11T00:00:00-04:00\",\"2002-06-12T00:00:00-04:00\",\"2002-06-13T00:00:00-04:00\",\"2002-06-14T00:00:00-04:00\",\"2002-06-17T00:00:00-04:00\",\"2002-06-18T00:00:00-04:00\",\"2002-06-19T00:00:00-04:00\",\"2002-06-20T00:00:00-04:00\",\"2002-06-21T00:00:00-04:00\",\"2002-06-24T00:00:00-04:00\",\"2002-06-25T00:00:00-04:00\",\"2002-06-26T00:00:00-04:00\",\"2002-06-27T00:00:00-04:00\",\"2002-06-28T00:00:00-04:00\",\"2002-07-01T00:00:00-04:00\",\"2002-07-02T00:00:00-04:00\",\"2002-07-03T00:00:00-04:00\",\"2002-07-05T00:00:00-04:00\",\"2002-07-08T00:00:00-04:00\",\"2002-07-09T00:00:00-04:00\",\"2002-07-10T00:00:00-04:00\",\"2002-07-11T00:00:00-04:00\",\"2002-07-12T00:00:00-04:00\",\"2002-07-15T00:00:00-04:00\",\"2002-07-16T00:00:00-04:00\",\"2002-07-17T00:00:00-04:00\",\"2002-07-18T00:00:00-04:00\",\"2002-07-19T00:00:00-04:00\",\"2002-07-22T00:00:00-04:00\",\"2002-07-23T00:00:00-04:00\",\"2002-07-24T00:00:00-04:00\",\"2002-07-25T00:00:00-04:00\",\"2002-07-26T00:00:00-04:00\",\"2002-07-29T00:00:00-04:00\",\"2002-07-30T00:00:00-04:00\",\"2002-07-31T00:00:00-04:00\",\"2002-08-01T00:00:00-04:00\",\"2002-08-02T00:00:00-04:00\",\"2002-08-05T00:00:00-04:00\",\"2002-08-06T00:00:00-04:00\",\"2002-08-07T00:00:00-04:00\",\"2002-08-08T00:00:00-04:00\",\"2002-08-09T00:00:00-04:00\",\"2002-08-12T00:00:00-04:00\",\"2002-08-13T00:00:00-04:00\",\"2002-08-14T00:00:00-04:00\",\"2002-08-15T00:00:00-04:00\",\"2002-08-16T00:00:00-04:00\",\"2002-08-19T00:00:00-04:00\",\"2002-08-20T00:00:00-04:00\",\"2002-08-21T00:00:00-04:00\",\"2002-08-22T00:00:00-04:00\",\"2002-08-23T00:00:00-04:00\",\"2002-08-26T00:00:00-04:00\",\"2002-08-27T00:00:00-04:00\",\"2002-08-28T00:00:00-04:00\",\"2002-08-29T00:00:00-04:00\",\"2002-08-30T00:00:00-04:00\",\"2002-09-03T00:00:00-04:00\",\"2002-09-04T00:00:00-04:00\",\"2002-09-05T00:00:00-04:00\",\"2002-09-06T00:00:00-04:00\",\"2002-09-09T00:00:00-04:00\",\"2002-09-10T00:00:00-04:00\",\"2002-09-11T00:00:00-04:00\",\"2002-09-12T00:00:00-04:00\",\"2002-09-13T00:00:00-04:00\",\"2002-09-16T00:00:00-04:00\",\"2002-09-17T00:00:00-04:00\",\"2002-09-18T00:00:00-04:00\",\"2002-09-19T00:00:00-04:00\",\"2002-09-20T00:00:00-04:00\",\"2002-09-23T00:00:00-04:00\",\"2002-09-24T00:00:00-04:00\",\"2002-09-25T00:00:00-04:00\",\"2002-09-26T00:00:00-04:00\",\"2002-09-27T00:00:00-04:00\",\"2002-09-30T00:00:00-04:00\",\"2002-10-01T00:00:00-04:00\",\"2002-10-02T00:00:00-04:00\",\"2002-10-03T00:00:00-04:00\",\"2002-10-04T00:00:00-04:00\",\"2002-10-07T00:00:00-04:00\",\"2002-10-08T00:00:00-04:00\",\"2002-10-09T00:00:00-04:00\",\"2002-10-10T00:00:00-04:00\",\"2002-10-11T00:00:00-04:00\",\"2002-10-14T00:00:00-04:00\",\"2002-10-15T00:00:00-04:00\",\"2002-10-16T00:00:00-04:00\",\"2002-10-17T00:00:00-04:00\",\"2002-10-18T00:00:00-04:00\",\"2002-10-21T00:00:00-04:00\",\"2002-10-22T00:00:00-04:00\",\"2002-10-23T00:00:00-04:00\",\"2002-10-24T00:00:00-04:00\",\"2002-10-25T00:00:00-04:00\",\"2002-10-28T00:00:00-05:00\",\"2002-10-29T00:00:00-05:00\",\"2002-10-30T00:00:00-05:00\",\"2002-10-31T00:00:00-05:00\",\"2002-11-01T00:00:00-05:00\",\"2002-11-04T00:00:00-05:00\",\"2002-11-05T00:00:00-05:00\",\"2002-11-06T00:00:00-05:00\",\"2002-11-07T00:00:00-05:00\",\"2002-11-08T00:00:00-05:00\",\"2002-11-11T00:00:00-05:00\",\"2002-11-12T00:00:00-05:00\",\"2002-11-13T00:00:00-05:00\",\"2002-11-14T00:00:00-05:00\",\"2002-11-15T00:00:00-05:00\",\"2002-11-18T00:00:00-05:00\",\"2002-11-19T00:00:00-05:00\",\"2002-11-20T00:00:00-05:00\",\"2002-11-21T00:00:00-05:00\",\"2002-11-22T00:00:00-05:00\",\"2002-11-25T00:00:00-05:00\",\"2002-11-26T00:00:00-05:00\",\"2002-11-27T00:00:00-05:00\",\"2002-11-29T00:00:00-05:00\",\"2002-12-02T00:00:00-05:00\",\"2002-12-03T00:00:00-05:00\",\"2002-12-04T00:00:00-05:00\",\"2002-12-05T00:00:00-05:00\",\"2002-12-06T00:00:00-05:00\",\"2002-12-09T00:00:00-05:00\",\"2002-12-10T00:00:00-05:00\",\"2002-12-11T00:00:00-05:00\",\"2002-12-12T00:00:00-05:00\",\"2002-12-13T00:00:00-05:00\",\"2002-12-16T00:00:00-05:00\",\"2002-12-17T00:00:00-05:00\",\"2002-12-18T00:00:00-05:00\",\"2002-12-19T00:00:00-05:00\",\"2002-12-20T00:00:00-05:00\",\"2002-12-23T00:00:00-05:00\",\"2002-12-24T00:00:00-05:00\",\"2002-12-26T00:00:00-05:00\",\"2002-12-27T00:00:00-05:00\",\"2002-12-30T00:00:00-05:00\",\"2002-12-31T00:00:00-05:00\",\"2003-01-02T00:00:00-05:00\",\"2003-01-03T00:00:00-05:00\",\"2003-01-06T00:00:00-05:00\",\"2003-01-07T00:00:00-05:00\",\"2003-01-08T00:00:00-05:00\",\"2003-01-09T00:00:00-05:00\",\"2003-01-10T00:00:00-05:00\",\"2003-01-13T00:00:00-05:00\",\"2003-01-14T00:00:00-05:00\",\"2003-01-15T00:00:00-05:00\",\"2003-01-16T00:00:00-05:00\",\"2003-01-17T00:00:00-05:00\",\"2003-01-21T00:00:00-05:00\",\"2003-01-22T00:00:00-05:00\",\"2003-01-23T00:00:00-05:00\",\"2003-01-24T00:00:00-05:00\",\"2003-01-27T00:00:00-05:00\",\"2003-01-28T00:00:00-05:00\",\"2003-01-29T00:00:00-05:00\",\"2003-01-30T00:00:00-05:00\",\"2003-01-31T00:00:00-05:00\",\"2003-02-03T00:00:00-05:00\",\"2003-02-04T00:00:00-05:00\",\"2003-02-05T00:00:00-05:00\",\"2003-02-06T00:00:00-05:00\",\"2003-02-07T00:00:00-05:00\",\"2003-02-10T00:00:00-05:00\",\"2003-02-11T00:00:00-05:00\",\"2003-02-12T00:00:00-05:00\",\"2003-02-13T00:00:00-05:00\",\"2003-02-14T00:00:00-05:00\",\"2003-02-18T00:00:00-05:00\",\"2003-02-19T00:00:00-05:00\",\"2003-02-20T00:00:00-05:00\",\"2003-02-21T00:00:00-05:00\",\"2003-02-24T00:00:00-05:00\",\"2003-02-25T00:00:00-05:00\",\"2003-02-26T00:00:00-05:00\",\"2003-02-27T00:00:00-05:00\",\"2003-02-28T00:00:00-05:00\",\"2003-03-03T00:00:00-05:00\",\"2003-03-04T00:00:00-05:00\",\"2003-03-05T00:00:00-05:00\",\"2003-03-06T00:00:00-05:00\",\"2003-03-07T00:00:00-05:00\",\"2003-03-10T00:00:00-05:00\",\"2003-03-11T00:00:00-05:00\",\"2003-03-12T00:00:00-05:00\",\"2003-03-13T00:00:00-05:00\",\"2003-03-14T00:00:00-05:00\",\"2003-03-17T00:00:00-05:00\",\"2003-03-18T00:00:00-05:00\",\"2003-03-19T00:00:00-05:00\",\"2003-03-20T00:00:00-05:00\",\"2003-03-21T00:00:00-05:00\",\"2003-03-24T00:00:00-05:00\",\"2003-03-25T00:00:00-05:00\",\"2003-03-26T00:00:00-05:00\",\"2003-03-27T00:00:00-05:00\",\"2003-03-28T00:00:00-05:00\",\"2003-03-31T00:00:00-05:00\",\"2003-04-01T00:00:00-05:00\",\"2003-04-02T00:00:00-05:00\",\"2003-04-03T00:00:00-05:00\",\"2003-04-04T00:00:00-05:00\",\"2003-04-07T00:00:00-04:00\",\"2003-04-08T00:00:00-04:00\",\"2003-04-09T00:00:00-04:00\",\"2003-04-10T00:00:00-04:00\",\"2003-04-11T00:00:00-04:00\",\"2003-04-14T00:00:00-04:00\",\"2003-04-15T00:00:00-04:00\",\"2003-04-16T00:00:00-04:00\",\"2003-04-17T00:00:00-04:00\",\"2003-04-21T00:00:00-04:00\",\"2003-04-22T00:00:00-04:00\",\"2003-04-23T00:00:00-04:00\",\"2003-04-24T00:00:00-04:00\",\"2003-04-25T00:00:00-04:00\",\"2003-04-28T00:00:00-04:00\",\"2003-04-29T00:00:00-04:00\",\"2003-04-30T00:00:00-04:00\",\"2003-05-01T00:00:00-04:00\",\"2003-05-02T00:00:00-04:00\",\"2003-05-05T00:00:00-04:00\",\"2003-05-06T00:00:00-04:00\",\"2003-05-07T00:00:00-04:00\",\"2003-05-08T00:00:00-04:00\",\"2003-05-09T00:00:00-04:00\",\"2003-05-12T00:00:00-04:00\",\"2003-05-13T00:00:00-04:00\",\"2003-05-14T00:00:00-04:00\",\"2003-05-15T00:00:00-04:00\",\"2003-05-16T00:00:00-04:00\",\"2003-05-19T00:00:00-04:00\",\"2003-05-20T00:00:00-04:00\",\"2003-05-21T00:00:00-04:00\",\"2003-05-22T00:00:00-04:00\",\"2003-05-23T00:00:00-04:00\",\"2003-05-27T00:00:00-04:00\",\"2003-05-28T00:00:00-04:00\",\"2003-05-29T00:00:00-04:00\",\"2003-05-30T00:00:00-04:00\",\"2003-06-02T00:00:00-04:00\",\"2003-06-03T00:00:00-04:00\",\"2003-06-04T00:00:00-04:00\",\"2003-06-05T00:00:00-04:00\",\"2003-06-06T00:00:00-04:00\",\"2003-06-09T00:00:00-04:00\",\"2003-06-10T00:00:00-04:00\",\"2003-06-11T00:00:00-04:00\",\"2003-06-12T00:00:00-04:00\",\"2003-06-13T00:00:00-04:00\",\"2003-06-16T00:00:00-04:00\",\"2003-06-17T00:00:00-04:00\",\"2003-06-18T00:00:00-04:00\",\"2003-06-19T00:00:00-04:00\",\"2003-06-20T00:00:00-04:00\",\"2003-06-23T00:00:00-04:00\",\"2003-06-24T00:00:00-04:00\",\"2003-06-25T00:00:00-04:00\",\"2003-06-26T00:00:00-04:00\",\"2003-06-27T00:00:00-04:00\",\"2003-06-30T00:00:00-04:00\",\"2003-07-01T00:00:00-04:00\",\"2003-07-02T00:00:00-04:00\",\"2003-07-03T00:00:00-04:00\",\"2003-07-07T00:00:00-04:00\",\"2003-07-08T00:00:00-04:00\",\"2003-07-09T00:00:00-04:00\",\"2003-07-10T00:00:00-04:00\",\"2003-07-11T00:00:00-04:00\",\"2003-07-14T00:00:00-04:00\",\"2003-07-15T00:00:00-04:00\",\"2003-07-16T00:00:00-04:00\",\"2003-07-17T00:00:00-04:00\",\"2003-07-18T00:00:00-04:00\",\"2003-07-21T00:00:00-04:00\",\"2003-07-22T00:00:00-04:00\",\"2003-07-23T00:00:00-04:00\",\"2003-07-24T00:00:00-04:00\",\"2003-07-25T00:00:00-04:00\",\"2003-07-28T00:00:00-04:00\",\"2003-07-29T00:00:00-04:00\",\"2003-07-30T00:00:00-04:00\",\"2003-07-31T00:00:00-04:00\",\"2003-08-01T00:00:00-04:00\",\"2003-08-04T00:00:00-04:00\",\"2003-08-05T00:00:00-04:00\",\"2003-08-06T00:00:00-04:00\",\"2003-08-07T00:00:00-04:00\",\"2003-08-08T00:00:00-04:00\",\"2003-08-11T00:00:00-04:00\",\"2003-08-12T00:00:00-04:00\",\"2003-08-13T00:00:00-04:00\",\"2003-08-14T00:00:00-04:00\",\"2003-08-15T00:00:00-04:00\",\"2003-08-18T00:00:00-04:00\",\"2003-08-19T00:00:00-04:00\",\"2003-08-20T00:00:00-04:00\",\"2003-08-21T00:00:00-04:00\",\"2003-08-22T00:00:00-04:00\",\"2003-08-25T00:00:00-04:00\",\"2003-08-26T00:00:00-04:00\",\"2003-08-27T00:00:00-04:00\",\"2003-08-28T00:00:00-04:00\",\"2003-08-29T00:00:00-04:00\",\"2003-09-02T00:00:00-04:00\",\"2003-09-03T00:00:00-04:00\",\"2003-09-04T00:00:00-04:00\",\"2003-09-05T00:00:00-04:00\",\"2003-09-08T00:00:00-04:00\",\"2003-09-09T00:00:00-04:00\",\"2003-09-10T00:00:00-04:00\",\"2003-09-11T00:00:00-04:00\",\"2003-09-12T00:00:00-04:00\",\"2003-09-15T00:00:00-04:00\",\"2003-09-16T00:00:00-04:00\",\"2003-09-17T00:00:00-04:00\",\"2003-09-18T00:00:00-04:00\",\"2003-09-19T00:00:00-04:00\",\"2003-09-22T00:00:00-04:00\",\"2003-09-23T00:00:00-04:00\",\"2003-09-24T00:00:00-04:00\",\"2003-09-25T00:00:00-04:00\",\"2003-09-26T00:00:00-04:00\",\"2003-09-29T00:00:00-04:00\",\"2003-09-30T00:00:00-04:00\",\"2003-10-01T00:00:00-04:00\",\"2003-10-02T00:00:00-04:00\",\"2003-10-03T00:00:00-04:00\",\"2003-10-06T00:00:00-04:00\",\"2003-10-07T00:00:00-04:00\",\"2003-10-08T00:00:00-04:00\",\"2003-10-09T00:00:00-04:00\",\"2003-10-10T00:00:00-04:00\",\"2003-10-13T00:00:00-04:00\",\"2003-10-14T00:00:00-04:00\",\"2003-10-15T00:00:00-04:00\",\"2003-10-16T00:00:00-04:00\",\"2003-10-17T00:00:00-04:00\",\"2003-10-20T00:00:00-04:00\",\"2003-10-21T00:00:00-04:00\",\"2003-10-22T00:00:00-04:00\",\"2003-10-23T00:00:00-04:00\",\"2003-10-24T00:00:00-04:00\",\"2003-10-27T00:00:00-05:00\",\"2003-10-28T00:00:00-05:00\",\"2003-10-29T00:00:00-05:00\",\"2003-10-30T00:00:00-05:00\",\"2003-10-31T00:00:00-05:00\",\"2003-11-03T00:00:00-05:00\",\"2003-11-04T00:00:00-05:00\",\"2003-11-05T00:00:00-05:00\",\"2003-11-06T00:00:00-05:00\",\"2003-11-07T00:00:00-05:00\",\"2003-11-10T00:00:00-05:00\",\"2003-11-11T00:00:00-05:00\",\"2003-11-12T00:00:00-05:00\",\"2003-11-13T00:00:00-05:00\",\"2003-11-14T00:00:00-05:00\",\"2003-11-17T00:00:00-05:00\",\"2003-11-18T00:00:00-05:00\",\"2003-11-19T00:00:00-05:00\",\"2003-11-20T00:00:00-05:00\",\"2003-11-21T00:00:00-05:00\",\"2003-11-24T00:00:00-05:00\",\"2003-11-25T00:00:00-05:00\",\"2003-11-26T00:00:00-05:00\",\"2003-11-28T00:00:00-05:00\",\"2003-12-01T00:00:00-05:00\",\"2003-12-02T00:00:00-05:00\",\"2003-12-03T00:00:00-05:00\",\"2003-12-04T00:00:00-05:00\",\"2003-12-05T00:00:00-05:00\",\"2003-12-08T00:00:00-05:00\",\"2003-12-09T00:00:00-05:00\",\"2003-12-10T00:00:00-05:00\",\"2003-12-11T00:00:00-05:00\",\"2003-12-12T00:00:00-05:00\",\"2003-12-15T00:00:00-05:00\",\"2003-12-16T00:00:00-05:00\",\"2003-12-17T00:00:00-05:00\",\"2003-12-18T00:00:00-05:00\",\"2003-12-19T00:00:00-05:00\",\"2003-12-22T00:00:00-05:00\",\"2003-12-23T00:00:00-05:00\",\"2003-12-24T00:00:00-05:00\",\"2003-12-26T00:00:00-05:00\",\"2003-12-29T00:00:00-05:00\",\"2003-12-30T00:00:00-05:00\",\"2003-12-31T00:00:00-05:00\",\"2004-01-02T00:00:00-05:00\",\"2004-01-05T00:00:00-05:00\",\"2004-01-06T00:00:00-05:00\",\"2004-01-07T00:00:00-05:00\",\"2004-01-08T00:00:00-05:00\",\"2004-01-09T00:00:00-05:00\",\"2004-01-12T00:00:00-05:00\",\"2004-01-13T00:00:00-05:00\",\"2004-01-14T00:00:00-05:00\",\"2004-01-15T00:00:00-05:00\",\"2004-01-16T00:00:00-05:00\",\"2004-01-20T00:00:00-05:00\",\"2004-01-21T00:00:00-05:00\",\"2004-01-22T00:00:00-05:00\",\"2004-01-23T00:00:00-05:00\",\"2004-01-26T00:00:00-05:00\",\"2004-01-27T00:00:00-05:00\",\"2004-01-28T00:00:00-05:00\",\"2004-01-29T00:00:00-05:00\",\"2004-01-30T00:00:00-05:00\",\"2004-02-02T00:00:00-05:00\",\"2004-02-03T00:00:00-05:00\",\"2004-02-04T00:00:00-05:00\",\"2004-02-05T00:00:00-05:00\",\"2004-02-06T00:00:00-05:00\",\"2004-02-09T00:00:00-05:00\",\"2004-02-10T00:00:00-05:00\",\"2004-02-11T00:00:00-05:00\",\"2004-02-12T00:00:00-05:00\",\"2004-02-13T00:00:00-05:00\",\"2004-02-17T00:00:00-05:00\",\"2004-02-18T00:00:00-05:00\",\"2004-02-19T00:00:00-05:00\",\"2004-02-20T00:00:00-05:00\",\"2004-02-23T00:00:00-05:00\",\"2004-02-24T00:00:00-05:00\",\"2004-02-25T00:00:00-05:00\",\"2004-02-26T00:00:00-05:00\",\"2004-02-27T00:00:00-05:00\",\"2004-03-01T00:00:00-05:00\",\"2004-03-02T00:00:00-05:00\",\"2004-03-03T00:00:00-05:00\",\"2004-03-04T00:00:00-05:00\",\"2004-03-05T00:00:00-05:00\",\"2004-03-08T00:00:00-05:00\",\"2004-03-09T00:00:00-05:00\",\"2004-03-10T00:00:00-05:00\",\"2004-03-11T00:00:00-05:00\",\"2004-03-12T00:00:00-05:00\",\"2004-03-15T00:00:00-05:00\",\"2004-03-16T00:00:00-05:00\",\"2004-03-17T00:00:00-05:00\",\"2004-03-18T00:00:00-05:00\",\"2004-03-19T00:00:00-05:00\",\"2004-03-22T00:00:00-05:00\",\"2004-03-23T00:00:00-05:00\",\"2004-03-24T00:00:00-05:00\",\"2004-03-25T00:00:00-05:00\",\"2004-03-26T00:00:00-05:00\",\"2004-03-29T00:00:00-05:00\",\"2004-03-30T00:00:00-05:00\",\"2004-03-31T00:00:00-05:00\",\"2004-04-01T00:00:00-05:00\",\"2004-04-02T00:00:00-05:00\",\"2004-04-05T00:00:00-04:00\",\"2004-04-06T00:00:00-04:00\",\"2004-04-07T00:00:00-04:00\",\"2004-04-08T00:00:00-04:00\",\"2004-04-12T00:00:00-04:00\",\"2004-04-13T00:00:00-04:00\",\"2004-04-14T00:00:00-04:00\",\"2004-04-15T00:00:00-04:00\",\"2004-04-16T00:00:00-04:00\",\"2004-04-19T00:00:00-04:00\",\"2004-04-20T00:00:00-04:00\",\"2004-04-21T00:00:00-04:00\",\"2004-04-22T00:00:00-04:00\",\"2004-04-23T00:00:00-04:00\",\"2004-04-26T00:00:00-04:00\",\"2004-04-27T00:00:00-04:00\",\"2004-04-28T00:00:00-04:00\",\"2004-04-29T00:00:00-04:00\",\"2004-04-30T00:00:00-04:00\",\"2004-05-03T00:00:00-04:00\",\"2004-05-04T00:00:00-04:00\",\"2004-05-05T00:00:00-04:00\",\"2004-05-06T00:00:00-04:00\",\"2004-05-07T00:00:00-04:00\",\"2004-05-10T00:00:00-04:00\",\"2004-05-11T00:00:00-04:00\",\"2004-05-12T00:00:00-04:00\",\"2004-05-13T00:00:00-04:00\",\"2004-05-14T00:00:00-04:00\",\"2004-05-17T00:00:00-04:00\",\"2004-05-18T00:00:00-04:00\",\"2004-05-19T00:00:00-04:00\",\"2004-05-20T00:00:00-04:00\",\"2004-05-21T00:00:00-04:00\",\"2004-05-24T00:00:00-04:00\",\"2004-05-25T00:00:00-04:00\",\"2004-05-26T00:00:00-04:00\",\"2004-05-27T00:00:00-04:00\",\"2004-05-28T00:00:00-04:00\",\"2004-06-01T00:00:00-04:00\",\"2004-06-02T00:00:00-04:00\",\"2004-06-03T00:00:00-04:00\",\"2004-06-04T00:00:00-04:00\",\"2004-06-07T00:00:00-04:00\",\"2004-06-08T00:00:00-04:00\",\"2004-06-09T00:00:00-04:00\",\"2004-06-10T00:00:00-04:00\",\"2004-06-14T00:00:00-04:00\",\"2004-06-15T00:00:00-04:00\",\"2004-06-16T00:00:00-04:00\",\"2004-06-17T00:00:00-04:00\",\"2004-06-18T00:00:00-04:00\",\"2004-06-21T00:00:00-04:00\",\"2004-06-22T00:00:00-04:00\",\"2004-06-23T00:00:00-04:00\",\"2004-06-24T00:00:00-04:00\",\"2004-06-25T00:00:00-04:00\",\"2004-06-28T00:00:00-04:00\",\"2004-06-29T00:00:00-04:00\",\"2004-06-30T00:00:00-04:00\",\"2004-07-01T00:00:00-04:00\",\"2004-07-02T00:00:00-04:00\",\"2004-07-06T00:00:00-04:00\",\"2004-07-07T00:00:00-04:00\",\"2004-07-08T00:00:00-04:00\",\"2004-07-09T00:00:00-04:00\",\"2004-07-12T00:00:00-04:00\",\"2004-07-13T00:00:00-04:00\",\"2004-07-14T00:00:00-04:00\",\"2004-07-15T00:00:00-04:00\",\"2004-07-16T00:00:00-04:00\",\"2004-07-19T00:00:00-04:00\",\"2004-07-20T00:00:00-04:00\",\"2004-07-21T00:00:00-04:00\",\"2004-07-22T00:00:00-04:00\",\"2004-07-23T00:00:00-04:00\",\"2004-07-26T00:00:00-04:00\",\"2004-07-27T00:00:00-04:00\",\"2004-07-28T00:00:00-04:00\",\"2004-07-29T00:00:00-04:00\",\"2004-07-30T00:00:00-04:00\",\"2004-08-02T00:00:00-04:00\",\"2004-08-03T00:00:00-04:00\",\"2004-08-04T00:00:00-04:00\",\"2004-08-05T00:00:00-04:00\",\"2004-08-06T00:00:00-04:00\",\"2004-08-09T00:00:00-04:00\",\"2004-08-10T00:00:00-04:00\",\"2004-08-11T00:00:00-04:00\",\"2004-08-12T00:00:00-04:00\",\"2004-08-13T00:00:00-04:00\",\"2004-08-16T00:00:00-04:00\",\"2004-08-17T00:00:00-04:00\",\"2004-08-18T00:00:00-04:00\",\"2004-08-19T00:00:00-04:00\",\"2004-08-20T00:00:00-04:00\",\"2004-08-23T00:00:00-04:00\",\"2004-08-24T00:00:00-04:00\",\"2004-08-25T00:00:00-04:00\",\"2004-08-26T00:00:00-04:00\",\"2004-08-27T00:00:00-04:00\",\"2004-08-30T00:00:00-04:00\",\"2004-08-31T00:00:00-04:00\",\"2004-09-01T00:00:00-04:00\",\"2004-09-02T00:00:00-04:00\",\"2004-09-03T00:00:00-04:00\",\"2004-09-07T00:00:00-04:00\",\"2004-09-08T00:00:00-04:00\",\"2004-09-09T00:00:00-04:00\",\"2004-09-10T00:00:00-04:00\",\"2004-09-13T00:00:00-04:00\",\"2004-09-14T00:00:00-04:00\",\"2004-09-15T00:00:00-04:00\",\"2004-09-16T00:00:00-04:00\",\"2004-09-17T00:00:00-04:00\",\"2004-09-20T00:00:00-04:00\",\"2004-09-21T00:00:00-04:00\",\"2004-09-22T00:00:00-04:00\",\"2004-09-23T00:00:00-04:00\",\"2004-09-24T00:00:00-04:00\",\"2004-09-27T00:00:00-04:00\",\"2004-09-28T00:00:00-04:00\",\"2004-09-29T00:00:00-04:00\",\"2004-09-30T00:00:00-04:00\",\"2004-10-01T00:00:00-04:00\",\"2004-10-04T00:00:00-04:00\",\"2004-10-05T00:00:00-04:00\",\"2004-10-06T00:00:00-04:00\",\"2004-10-07T00:00:00-04:00\",\"2004-10-08T00:00:00-04:00\",\"2004-10-11T00:00:00-04:00\",\"2004-10-12T00:00:00-04:00\",\"2004-10-13T00:00:00-04:00\",\"2004-10-14T00:00:00-04:00\",\"2004-10-15T00:00:00-04:00\",\"2004-10-18T00:00:00-04:00\",\"2004-10-19T00:00:00-04:00\",\"2004-10-20T00:00:00-04:00\",\"2004-10-21T00:00:00-04:00\",\"2004-10-22T00:00:00-04:00\",\"2004-10-25T00:00:00-04:00\",\"2004-10-26T00:00:00-04:00\",\"2004-10-27T00:00:00-04:00\",\"2004-10-28T00:00:00-04:00\",\"2004-10-29T00:00:00-04:00\",\"2004-11-01T00:00:00-05:00\",\"2004-11-02T00:00:00-05:00\",\"2004-11-03T00:00:00-05:00\",\"2004-11-04T00:00:00-05:00\",\"2004-11-05T00:00:00-05:00\",\"2004-11-08T00:00:00-05:00\",\"2004-11-09T00:00:00-05:00\",\"2004-11-10T00:00:00-05:00\",\"2004-11-11T00:00:00-05:00\",\"2004-11-12T00:00:00-05:00\",\"2004-11-15T00:00:00-05:00\",\"2004-11-16T00:00:00-05:00\",\"2004-11-17T00:00:00-05:00\",\"2004-11-18T00:00:00-05:00\",\"2004-11-19T00:00:00-05:00\",\"2004-11-22T00:00:00-05:00\",\"2004-11-23T00:00:00-05:00\",\"2004-11-24T00:00:00-05:00\",\"2004-11-26T00:00:00-05:00\",\"2004-11-29T00:00:00-05:00\",\"2004-11-30T00:00:00-05:00\",\"2004-12-01T00:00:00-05:00\",\"2004-12-02T00:00:00-05:00\",\"2004-12-03T00:00:00-05:00\",\"2004-12-06T00:00:00-05:00\",\"2004-12-07T00:00:00-05:00\",\"2004-12-08T00:00:00-05:00\",\"2004-12-09T00:00:00-05:00\",\"2004-12-10T00:00:00-05:00\",\"2004-12-13T00:00:00-05:00\",\"2004-12-14T00:00:00-05:00\",\"2004-12-15T00:00:00-05:00\",\"2004-12-16T00:00:00-05:00\",\"2004-12-17T00:00:00-05:00\",\"2004-12-20T00:00:00-05:00\",\"2004-12-21T00:00:00-05:00\",\"2004-12-22T00:00:00-05:00\",\"2004-12-23T00:00:00-05:00\",\"2004-12-27T00:00:00-05:00\",\"2004-12-28T00:00:00-05:00\",\"2004-12-29T00:00:00-05:00\",\"2004-12-30T00:00:00-05:00\",\"2004-12-31T00:00:00-05:00\",\"2005-01-03T00:00:00-05:00\",\"2005-01-04T00:00:00-05:00\",\"2005-01-05T00:00:00-05:00\",\"2005-01-06T00:00:00-05:00\",\"2005-01-07T00:00:00-05:00\",\"2005-01-10T00:00:00-05:00\",\"2005-01-11T00:00:00-05:00\",\"2005-01-12T00:00:00-05:00\",\"2005-01-13T00:00:00-05:00\",\"2005-01-14T00:00:00-05:00\",\"2005-01-18T00:00:00-05:00\",\"2005-01-19T00:00:00-05:00\",\"2005-01-20T00:00:00-05:00\",\"2005-01-21T00:00:00-05:00\",\"2005-01-24T00:00:00-05:00\",\"2005-01-25T00:00:00-05:00\",\"2005-01-26T00:00:00-05:00\",\"2005-01-27T00:00:00-05:00\",\"2005-01-28T00:00:00-05:00\",\"2005-01-31T00:00:00-05:00\",\"2005-02-01T00:00:00-05:00\",\"2005-02-02T00:00:00-05:00\",\"2005-02-03T00:00:00-05:00\",\"2005-02-04T00:00:00-05:00\",\"2005-02-07T00:00:00-05:00\",\"2005-02-08T00:00:00-05:00\",\"2005-02-09T00:00:00-05:00\",\"2005-02-10T00:00:00-05:00\",\"2005-02-11T00:00:00-05:00\",\"2005-02-14T00:00:00-05:00\",\"2005-02-15T00:00:00-05:00\",\"2005-02-16T00:00:00-05:00\",\"2005-02-17T00:00:00-05:00\",\"2005-02-18T00:00:00-05:00\",\"2005-02-22T00:00:00-05:00\",\"2005-02-23T00:00:00-05:00\",\"2005-02-24T00:00:00-05:00\",\"2005-02-25T00:00:00-05:00\",\"2005-02-28T00:00:00-05:00\",\"2005-03-01T00:00:00-05:00\",\"2005-03-02T00:00:00-05:00\",\"2005-03-03T00:00:00-05:00\",\"2005-03-04T00:00:00-05:00\",\"2005-03-07T00:00:00-05:00\",\"2005-03-08T00:00:00-05:00\",\"2005-03-09T00:00:00-05:00\",\"2005-03-10T00:00:00-05:00\",\"2005-03-11T00:00:00-05:00\",\"2005-03-14T00:00:00-05:00\",\"2005-03-15T00:00:00-05:00\",\"2005-03-16T00:00:00-05:00\",\"2005-03-17T00:00:00-05:00\",\"2005-03-18T00:00:00-05:00\",\"2005-03-21T00:00:00-05:00\",\"2005-03-22T00:00:00-05:00\",\"2005-03-23T00:00:00-05:00\",\"2005-03-24T00:00:00-05:00\",\"2005-03-28T00:00:00-05:00\",\"2005-03-29T00:00:00-05:00\",\"2005-03-30T00:00:00-05:00\",\"2005-03-31T00:00:00-05:00\",\"2005-04-01T00:00:00-05:00\",\"2005-04-04T00:00:00-04:00\",\"2005-04-05T00:00:00-04:00\",\"2005-04-06T00:00:00-04:00\",\"2005-04-07T00:00:00-04:00\",\"2005-04-08T00:00:00-04:00\",\"2005-04-11T00:00:00-04:00\",\"2005-04-12T00:00:00-04:00\",\"2005-04-13T00:00:00-04:00\",\"2005-04-14T00:00:00-04:00\",\"2005-04-15T00:00:00-04:00\",\"2005-04-18T00:00:00-04:00\",\"2005-04-19T00:00:00-04:00\",\"2005-04-20T00:00:00-04:00\",\"2005-04-21T00:00:00-04:00\",\"2005-04-22T00:00:00-04:00\",\"2005-04-25T00:00:00-04:00\",\"2005-04-26T00:00:00-04:00\",\"2005-04-27T00:00:00-04:00\",\"2005-04-28T00:00:00-04:00\",\"2005-04-29T00:00:00-04:00\",\"2005-05-02T00:00:00-04:00\",\"2005-05-03T00:00:00-04:00\",\"2005-05-04T00:00:00-04:00\",\"2005-05-05T00:00:00-04:00\",\"2005-05-06T00:00:00-04:00\",\"2005-05-09T00:00:00-04:00\",\"2005-05-10T00:00:00-04:00\",\"2005-05-11T00:00:00-04:00\",\"2005-05-12T00:00:00-04:00\",\"2005-05-13T00:00:00-04:00\",\"2005-05-16T00:00:00-04:00\",\"2005-05-17T00:00:00-04:00\",\"2005-05-18T00:00:00-04:00\",\"2005-05-19T00:00:00-04:00\",\"2005-05-20T00:00:00-04:00\",\"2005-05-23T00:00:00-04:00\",\"2005-05-24T00:00:00-04:00\",\"2005-05-25T00:00:00-04:00\",\"2005-05-26T00:00:00-04:00\",\"2005-05-27T00:00:00-04:00\",\"2005-05-31T00:00:00-04:00\",\"2005-06-01T00:00:00-04:00\",\"2005-06-02T00:00:00-04:00\",\"2005-06-03T00:00:00-04:00\",\"2005-06-06T00:00:00-04:00\",\"2005-06-07T00:00:00-04:00\",\"2005-06-08T00:00:00-04:00\",\"2005-06-09T00:00:00-04:00\",\"2005-06-10T00:00:00-04:00\",\"2005-06-13T00:00:00-04:00\",\"2005-06-14T00:00:00-04:00\",\"2005-06-15T00:00:00-04:00\",\"2005-06-16T00:00:00-04:00\",\"2005-06-17T00:00:00-04:00\",\"2005-06-20T00:00:00-04:00\",\"2005-06-21T00:00:00-04:00\",\"2005-06-22T00:00:00-04:00\",\"2005-06-23T00:00:00-04:00\",\"2005-06-24T00:00:00-04:00\",\"2005-06-27T00:00:00-04:00\",\"2005-06-28T00:00:00-04:00\",\"2005-06-29T00:00:00-04:00\",\"2005-06-30T00:00:00-04:00\",\"2005-07-01T00:00:00-04:00\",\"2005-07-05T00:00:00-04:00\",\"2005-07-06T00:00:00-04:00\",\"2005-07-07T00:00:00-04:00\",\"2005-07-08T00:00:00-04:00\",\"2005-07-11T00:00:00-04:00\",\"2005-07-12T00:00:00-04:00\",\"2005-07-13T00:00:00-04:00\",\"2005-07-14T00:00:00-04:00\",\"2005-07-15T00:00:00-04:00\",\"2005-07-18T00:00:00-04:00\",\"2005-07-19T00:00:00-04:00\",\"2005-07-20T00:00:00-04:00\",\"2005-07-21T00:00:00-04:00\",\"2005-07-22T00:00:00-04:00\",\"2005-07-25T00:00:00-04:00\",\"2005-07-26T00:00:00-04:00\",\"2005-07-27T00:00:00-04:00\",\"2005-07-28T00:00:00-04:00\",\"2005-07-29T00:00:00-04:00\",\"2005-08-01T00:00:00-04:00\",\"2005-08-02T00:00:00-04:00\",\"2005-08-03T00:00:00-04:00\",\"2005-08-04T00:00:00-04:00\",\"2005-08-05T00:00:00-04:00\",\"2005-08-08T00:00:00-04:00\",\"2005-08-09T00:00:00-04:00\",\"2005-08-10T00:00:00-04:00\",\"2005-08-11T00:00:00-04:00\",\"2005-08-12T00:00:00-04:00\",\"2005-08-15T00:00:00-04:00\",\"2005-08-16T00:00:00-04:00\",\"2005-08-17T00:00:00-04:00\",\"2005-08-18T00:00:00-04:00\",\"2005-08-19T00:00:00-04:00\",\"2005-08-22T00:00:00-04:00\",\"2005-08-23T00:00:00-04:00\",\"2005-08-24T00:00:00-04:00\",\"2005-08-25T00:00:00-04:00\",\"2005-08-26T00:00:00-04:00\",\"2005-08-29T00:00:00-04:00\",\"2005-08-30T00:00:00-04:00\",\"2005-08-31T00:00:00-04:00\",\"2005-09-01T00:00:00-04:00\",\"2005-09-02T00:00:00-04:00\",\"2005-09-06T00:00:00-04:00\",\"2005-09-07T00:00:00-04:00\",\"2005-09-08T00:00:00-04:00\",\"2005-09-09T00:00:00-04:00\",\"2005-09-12T00:00:00-04:00\",\"2005-09-13T00:00:00-04:00\",\"2005-09-14T00:00:00-04:00\",\"2005-09-15T00:00:00-04:00\",\"2005-09-16T00:00:00-04:00\",\"2005-09-19T00:00:00-04:00\",\"2005-09-20T00:00:00-04:00\",\"2005-09-21T00:00:00-04:00\",\"2005-09-22T00:00:00-04:00\",\"2005-09-23T00:00:00-04:00\",\"2005-09-26T00:00:00-04:00\",\"2005-09-27T00:00:00-04:00\",\"2005-09-28T00:00:00-04:00\",\"2005-09-29T00:00:00-04:00\",\"2005-09-30T00:00:00-04:00\",\"2005-10-03T00:00:00-04:00\",\"2005-10-04T00:00:00-04:00\",\"2005-10-05T00:00:00-04:00\",\"2005-10-06T00:00:00-04:00\",\"2005-10-07T00:00:00-04:00\",\"2005-10-10T00:00:00-04:00\",\"2005-10-11T00:00:00-04:00\",\"2005-10-12T00:00:00-04:00\",\"2005-10-13T00:00:00-04:00\",\"2005-10-14T00:00:00-04:00\",\"2005-10-17T00:00:00-04:00\",\"2005-10-18T00:00:00-04:00\",\"2005-10-19T00:00:00-04:00\",\"2005-10-20T00:00:00-04:00\",\"2005-10-21T00:00:00-04:00\",\"2005-10-24T00:00:00-04:00\",\"2005-10-25T00:00:00-04:00\",\"2005-10-26T00:00:00-04:00\",\"2005-10-27T00:00:00-04:00\",\"2005-10-28T00:00:00-04:00\",\"2005-10-31T00:00:00-05:00\",\"2005-11-01T00:00:00-05:00\",\"2005-11-02T00:00:00-05:00\",\"2005-11-03T00:00:00-05:00\",\"2005-11-04T00:00:00-05:00\",\"2005-11-07T00:00:00-05:00\",\"2005-11-08T00:00:00-05:00\",\"2005-11-09T00:00:00-05:00\",\"2005-11-10T00:00:00-05:00\",\"2005-11-11T00:00:00-05:00\",\"2005-11-14T00:00:00-05:00\",\"2005-11-15T00:00:00-05:00\",\"2005-11-16T00:00:00-05:00\",\"2005-11-17T00:00:00-05:00\",\"2005-11-18T00:00:00-05:00\",\"2005-11-21T00:00:00-05:00\",\"2005-11-22T00:00:00-05:00\",\"2005-11-23T00:00:00-05:00\",\"2005-11-25T00:00:00-05:00\",\"2005-11-28T00:00:00-05:00\",\"2005-11-29T00:00:00-05:00\",\"2005-11-30T00:00:00-05:00\",\"2005-12-01T00:00:00-05:00\",\"2005-12-02T00:00:00-05:00\",\"2005-12-05T00:00:00-05:00\",\"2005-12-06T00:00:00-05:00\",\"2005-12-07T00:00:00-05:00\",\"2005-12-08T00:00:00-05:00\",\"2005-12-09T00:00:00-05:00\",\"2005-12-12T00:00:00-05:00\",\"2005-12-13T00:00:00-05:00\",\"2005-12-14T00:00:00-05:00\",\"2005-12-15T00:00:00-05:00\",\"2005-12-16T00:00:00-05:00\",\"2005-12-19T00:00:00-05:00\",\"2005-12-20T00:00:00-05:00\",\"2005-12-21T00:00:00-05:00\",\"2005-12-22T00:00:00-05:00\",\"2005-12-23T00:00:00-05:00\",\"2005-12-27T00:00:00-05:00\",\"2005-12-28T00:00:00-05:00\",\"2005-12-29T00:00:00-05:00\",\"2005-12-30T00:00:00-05:00\",\"2006-01-03T00:00:00-05:00\",\"2006-01-04T00:00:00-05:00\",\"2006-01-05T00:00:00-05:00\",\"2006-01-06T00:00:00-05:00\",\"2006-01-09T00:00:00-05:00\",\"2006-01-10T00:00:00-05:00\",\"2006-01-11T00:00:00-05:00\",\"2006-01-12T00:00:00-05:00\",\"2006-01-13T00:00:00-05:00\",\"2006-01-17T00:00:00-05:00\",\"2006-01-18T00:00:00-05:00\",\"2006-01-19T00:00:00-05:00\",\"2006-01-20T00:00:00-05:00\",\"2006-01-23T00:00:00-05:00\",\"2006-01-24T00:00:00-05:00\",\"2006-01-25T00:00:00-05:00\",\"2006-01-26T00:00:00-05:00\",\"2006-01-27T00:00:00-05:00\",\"2006-01-30T00:00:00-05:00\",\"2006-01-31T00:00:00-05:00\",\"2006-02-01T00:00:00-05:00\",\"2006-02-02T00:00:00-05:00\",\"2006-02-03T00:00:00-05:00\",\"2006-02-06T00:00:00-05:00\",\"2006-02-07T00:00:00-05:00\",\"2006-02-08T00:00:00-05:00\",\"2006-02-09T00:00:00-05:00\",\"2006-02-10T00:00:00-05:00\",\"2006-02-13T00:00:00-05:00\",\"2006-02-14T00:00:00-05:00\",\"2006-02-15T00:00:00-05:00\",\"2006-02-16T00:00:00-05:00\",\"2006-02-17T00:00:00-05:00\",\"2006-02-21T00:00:00-05:00\",\"2006-02-22T00:00:00-05:00\",\"2006-02-23T00:00:00-05:00\",\"2006-02-24T00:00:00-05:00\",\"2006-02-27T00:00:00-05:00\",\"2006-02-28T00:00:00-05:00\",\"2006-03-01T00:00:00-05:00\",\"2006-03-02T00:00:00-05:00\",\"2006-03-03T00:00:00-05:00\",\"2006-03-06T00:00:00-05:00\",\"2006-03-07T00:00:00-05:00\",\"2006-03-08T00:00:00-05:00\",\"2006-03-09T00:00:00-05:00\",\"2006-03-10T00:00:00-05:00\",\"2006-03-13T00:00:00-05:00\",\"2006-03-14T00:00:00-05:00\",\"2006-03-15T00:00:00-05:00\",\"2006-03-16T00:00:00-05:00\",\"2006-03-17T00:00:00-05:00\",\"2006-03-20T00:00:00-05:00\",\"2006-03-21T00:00:00-05:00\",\"2006-03-22T00:00:00-05:00\",\"2006-03-23T00:00:00-05:00\",\"2006-03-24T00:00:00-05:00\",\"2006-03-27T00:00:00-05:00\",\"2006-03-28T00:00:00-05:00\",\"2006-03-29T00:00:00-05:00\",\"2006-03-30T00:00:00-05:00\",\"2006-03-31T00:00:00-05:00\",\"2006-04-03T00:00:00-04:00\",\"2006-04-04T00:00:00-04:00\",\"2006-04-05T00:00:00-04:00\",\"2006-04-06T00:00:00-04:00\",\"2006-04-07T00:00:00-04:00\",\"2006-04-10T00:00:00-04:00\",\"2006-04-11T00:00:00-04:00\",\"2006-04-12T00:00:00-04:00\",\"2006-04-13T00:00:00-04:00\",\"2006-04-17T00:00:00-04:00\",\"2006-04-18T00:00:00-04:00\",\"2006-04-19T00:00:00-04:00\",\"2006-04-20T00:00:00-04:00\",\"2006-04-21T00:00:00-04:00\",\"2006-04-24T00:00:00-04:00\",\"2006-04-25T00:00:00-04:00\",\"2006-04-26T00:00:00-04:00\",\"2006-04-27T00:00:00-04:00\",\"2006-04-28T00:00:00-04:00\",\"2006-05-01T00:00:00-04:00\",\"2006-05-02T00:00:00-04:00\",\"2006-05-03T00:00:00-04:00\",\"2006-05-04T00:00:00-04:00\",\"2006-05-05T00:00:00-04:00\",\"2006-05-08T00:00:00-04:00\",\"2006-05-09T00:00:00-04:00\",\"2006-05-10T00:00:00-04:00\",\"2006-05-11T00:00:00-04:00\",\"2006-05-12T00:00:00-04:00\",\"2006-05-15T00:00:00-04:00\",\"2006-05-16T00:00:00-04:00\",\"2006-05-17T00:00:00-04:00\",\"2006-05-18T00:00:00-04:00\",\"2006-05-19T00:00:00-04:00\",\"2006-05-22T00:00:00-04:00\",\"2006-05-23T00:00:00-04:00\",\"2006-05-24T00:00:00-04:00\",\"2006-05-25T00:00:00-04:00\",\"2006-05-26T00:00:00-04:00\",\"2006-05-30T00:00:00-04:00\",\"2006-05-31T00:00:00-04:00\",\"2006-06-01T00:00:00-04:00\",\"2006-06-02T00:00:00-04:00\",\"2006-06-05T00:00:00-04:00\",\"2006-06-06T00:00:00-04:00\",\"2006-06-07T00:00:00-04:00\",\"2006-06-08T00:00:00-04:00\",\"2006-06-09T00:00:00-04:00\",\"2006-06-12T00:00:00-04:00\",\"2006-06-13T00:00:00-04:00\",\"2006-06-14T00:00:00-04:00\",\"2006-06-15T00:00:00-04:00\",\"2006-06-16T00:00:00-04:00\",\"2006-06-19T00:00:00-04:00\",\"2006-06-20T00:00:00-04:00\",\"2006-06-21T00:00:00-04:00\",\"2006-06-22T00:00:00-04:00\",\"2006-06-23T00:00:00-04:00\",\"2006-06-26T00:00:00-04:00\",\"2006-06-27T00:00:00-04:00\",\"2006-06-28T00:00:00-04:00\",\"2006-06-29T00:00:00-04:00\",\"2006-06-30T00:00:00-04:00\",\"2006-07-03T00:00:00-04:00\",\"2006-07-05T00:00:00-04:00\",\"2006-07-06T00:00:00-04:00\",\"2006-07-07T00:00:00-04:00\",\"2006-07-10T00:00:00-04:00\",\"2006-07-11T00:00:00-04:00\",\"2006-07-12T00:00:00-04:00\",\"2006-07-13T00:00:00-04:00\",\"2006-07-14T00:00:00-04:00\",\"2006-07-17T00:00:00-04:00\",\"2006-07-18T00:00:00-04:00\",\"2006-07-19T00:00:00-04:00\",\"2006-07-20T00:00:00-04:00\",\"2006-07-21T00:00:00-04:00\",\"2006-07-24T00:00:00-04:00\",\"2006-07-25T00:00:00-04:00\",\"2006-07-26T00:00:00-04:00\",\"2006-07-27T00:00:00-04:00\",\"2006-07-28T00:00:00-04:00\",\"2006-07-31T00:00:00-04:00\",\"2006-08-01T00:00:00-04:00\",\"2006-08-02T00:00:00-04:00\",\"2006-08-03T00:00:00-04:00\",\"2006-08-04T00:00:00-04:00\",\"2006-08-07T00:00:00-04:00\",\"2006-08-08T00:00:00-04:00\",\"2006-08-09T00:00:00-04:00\",\"2006-08-10T00:00:00-04:00\",\"2006-08-11T00:00:00-04:00\",\"2006-08-14T00:00:00-04:00\",\"2006-08-15T00:00:00-04:00\",\"2006-08-16T00:00:00-04:00\",\"2006-08-17T00:00:00-04:00\",\"2006-08-18T00:00:00-04:00\",\"2006-08-21T00:00:00-04:00\",\"2006-08-22T00:00:00-04:00\",\"2006-08-23T00:00:00-04:00\",\"2006-08-24T00:00:00-04:00\",\"2006-08-25T00:00:00-04:00\",\"2006-08-28T00:00:00-04:00\",\"2006-08-29T00:00:00-04:00\",\"2006-08-30T00:00:00-04:00\",\"2006-08-31T00:00:00-04:00\",\"2006-09-01T00:00:00-04:00\",\"2006-09-05T00:00:00-04:00\",\"2006-09-06T00:00:00-04:00\",\"2006-09-07T00:00:00-04:00\",\"2006-09-08T00:00:00-04:00\",\"2006-09-11T00:00:00-04:00\",\"2006-09-12T00:00:00-04:00\",\"2006-09-13T00:00:00-04:00\",\"2006-09-14T00:00:00-04:00\",\"2006-09-15T00:00:00-04:00\",\"2006-09-18T00:00:00-04:00\",\"2006-09-19T00:00:00-04:00\",\"2006-09-20T00:00:00-04:00\",\"2006-09-21T00:00:00-04:00\",\"2006-09-22T00:00:00-04:00\",\"2006-09-25T00:00:00-04:00\",\"2006-09-26T00:00:00-04:00\",\"2006-09-27T00:00:00-04:00\",\"2006-09-28T00:00:00-04:00\",\"2006-09-29T00:00:00-04:00\",\"2006-10-02T00:00:00-04:00\",\"2006-10-03T00:00:00-04:00\",\"2006-10-04T00:00:00-04:00\",\"2006-10-05T00:00:00-04:00\",\"2006-10-06T00:00:00-04:00\",\"2006-10-09T00:00:00-04:00\",\"2006-10-10T00:00:00-04:00\",\"2006-10-11T00:00:00-04:00\",\"2006-10-12T00:00:00-04:00\",\"2006-10-13T00:00:00-04:00\",\"2006-10-16T00:00:00-04:00\",\"2006-10-17T00:00:00-04:00\",\"2006-10-18T00:00:00-04:00\",\"2006-10-19T00:00:00-04:00\",\"2006-10-20T00:00:00-04:00\",\"2006-10-23T00:00:00-04:00\",\"2006-10-24T00:00:00-04:00\",\"2006-10-25T00:00:00-04:00\",\"2006-10-26T00:00:00-04:00\",\"2006-10-27T00:00:00-04:00\",\"2006-10-30T00:00:00-05:00\",\"2006-10-31T00:00:00-05:00\",\"2006-11-01T00:00:00-05:00\",\"2006-11-02T00:00:00-05:00\",\"2006-11-03T00:00:00-05:00\",\"2006-11-06T00:00:00-05:00\",\"2006-11-07T00:00:00-05:00\",\"2006-11-08T00:00:00-05:00\",\"2006-11-09T00:00:00-05:00\",\"2006-11-10T00:00:00-05:00\",\"2006-11-13T00:00:00-05:00\",\"2006-11-14T00:00:00-05:00\",\"2006-11-15T00:00:00-05:00\",\"2006-11-16T00:00:00-05:00\",\"2006-11-17T00:00:00-05:00\",\"2006-11-20T00:00:00-05:00\",\"2006-11-21T00:00:00-05:00\",\"2006-11-22T00:00:00-05:00\",\"2006-11-24T00:00:00-05:00\",\"2006-11-27T00:00:00-05:00\",\"2006-11-28T00:00:00-05:00\",\"2006-11-29T00:00:00-05:00\",\"2006-11-30T00:00:00-05:00\",\"2006-12-01T00:00:00-05:00\",\"2006-12-04T00:00:00-05:00\",\"2006-12-05T00:00:00-05:00\",\"2006-12-06T00:00:00-05:00\",\"2006-12-07T00:00:00-05:00\",\"2006-12-08T00:00:00-05:00\",\"2006-12-11T00:00:00-05:00\",\"2006-12-12T00:00:00-05:00\",\"2006-12-13T00:00:00-05:00\",\"2006-12-14T00:00:00-05:00\",\"2006-12-15T00:00:00-05:00\",\"2006-12-18T00:00:00-05:00\",\"2006-12-19T00:00:00-05:00\",\"2006-12-20T00:00:00-05:00\",\"2006-12-21T00:00:00-05:00\",\"2006-12-22T00:00:00-05:00\",\"2006-12-26T00:00:00-05:00\",\"2006-12-27T00:00:00-05:00\",\"2006-12-28T00:00:00-05:00\",\"2006-12-29T00:00:00-05:00\",\"2007-01-03T00:00:00-05:00\",\"2007-01-04T00:00:00-05:00\",\"2007-01-05T00:00:00-05:00\",\"2007-01-08T00:00:00-05:00\",\"2007-01-09T00:00:00-05:00\",\"2007-01-10T00:00:00-05:00\",\"2007-01-11T00:00:00-05:00\",\"2007-01-12T00:00:00-05:00\",\"2007-01-16T00:00:00-05:00\",\"2007-01-17T00:00:00-05:00\",\"2007-01-18T00:00:00-05:00\",\"2007-01-19T00:00:00-05:00\",\"2007-01-22T00:00:00-05:00\",\"2007-01-23T00:00:00-05:00\",\"2007-01-24T00:00:00-05:00\",\"2007-01-25T00:00:00-05:00\",\"2007-01-26T00:00:00-05:00\",\"2007-01-29T00:00:00-05:00\",\"2007-01-30T00:00:00-05:00\",\"2007-01-31T00:00:00-05:00\",\"2007-02-01T00:00:00-05:00\",\"2007-02-02T00:00:00-05:00\",\"2007-02-05T00:00:00-05:00\",\"2007-02-06T00:00:00-05:00\",\"2007-02-07T00:00:00-05:00\",\"2007-02-08T00:00:00-05:00\",\"2007-02-09T00:00:00-05:00\",\"2007-02-12T00:00:00-05:00\",\"2007-02-13T00:00:00-05:00\",\"2007-02-14T00:00:00-05:00\",\"2007-02-15T00:00:00-05:00\",\"2007-02-16T00:00:00-05:00\",\"2007-02-20T00:00:00-05:00\",\"2007-02-21T00:00:00-05:00\",\"2007-02-22T00:00:00-05:00\",\"2007-02-23T00:00:00-05:00\",\"2007-02-26T00:00:00-05:00\",\"2007-02-27T00:00:00-05:00\",\"2007-02-28T00:00:00-05:00\",\"2007-03-01T00:00:00-05:00\",\"2007-03-02T00:00:00-05:00\",\"2007-03-05T00:00:00-05:00\",\"2007-03-06T00:00:00-05:00\",\"2007-03-07T00:00:00-05:00\",\"2007-03-08T00:00:00-05:00\",\"2007-03-09T00:00:00-05:00\",\"2007-03-12T00:00:00-04:00\",\"2007-03-13T00:00:00-04:00\",\"2007-03-14T00:00:00-04:00\",\"2007-03-15T00:00:00-04:00\",\"2007-03-16T00:00:00-04:00\",\"2007-03-19T00:00:00-04:00\",\"2007-03-20T00:00:00-04:00\",\"2007-03-21T00:00:00-04:00\",\"2007-03-22T00:00:00-04:00\",\"2007-03-23T00:00:00-04:00\",\"2007-03-26T00:00:00-04:00\",\"2007-03-27T00:00:00-04:00\",\"2007-03-28T00:00:00-04:00\",\"2007-03-29T00:00:00-04:00\",\"2007-03-30T00:00:00-04:00\",\"2007-04-02T00:00:00-04:00\",\"2007-04-03T00:00:00-04:00\",\"2007-04-04T00:00:00-04:00\",\"2007-04-05T00:00:00-04:00\",\"2007-04-09T00:00:00-04:00\",\"2007-04-10T00:00:00-04:00\",\"2007-04-11T00:00:00-04:00\",\"2007-04-12T00:00:00-04:00\",\"2007-04-13T00:00:00-04:00\",\"2007-04-16T00:00:00-04:00\",\"2007-04-17T00:00:00-04:00\",\"2007-04-18T00:00:00-04:00\",\"2007-04-19T00:00:00-04:00\",\"2007-04-20T00:00:00-04:00\",\"2007-04-23T00:00:00-04:00\",\"2007-04-24T00:00:00-04:00\",\"2007-04-25T00:00:00-04:00\",\"2007-04-26T00:00:00-04:00\",\"2007-04-27T00:00:00-04:00\",\"2007-04-30T00:00:00-04:00\",\"2007-05-01T00:00:00-04:00\",\"2007-05-02T00:00:00-04:00\",\"2007-05-03T00:00:00-04:00\",\"2007-05-04T00:00:00-04:00\",\"2007-05-07T00:00:00-04:00\",\"2007-05-08T00:00:00-04:00\",\"2007-05-09T00:00:00-04:00\",\"2007-05-10T00:00:00-04:00\",\"2007-05-11T00:00:00-04:00\",\"2007-05-14T00:00:00-04:00\",\"2007-05-15T00:00:00-04:00\",\"2007-05-16T00:00:00-04:00\",\"2007-05-17T00:00:00-04:00\",\"2007-05-18T00:00:00-04:00\",\"2007-05-21T00:00:00-04:00\",\"2007-05-22T00:00:00-04:00\",\"2007-05-23T00:00:00-04:00\",\"2007-05-24T00:00:00-04:00\",\"2007-05-25T00:00:00-04:00\",\"2007-05-29T00:00:00-04:00\",\"2007-05-30T00:00:00-04:00\",\"2007-05-31T00:00:00-04:00\",\"2007-06-01T00:00:00-04:00\",\"2007-06-04T00:00:00-04:00\",\"2007-06-05T00:00:00-04:00\",\"2007-06-06T00:00:00-04:00\",\"2007-06-07T00:00:00-04:00\",\"2007-06-08T00:00:00-04:00\",\"2007-06-11T00:00:00-04:00\",\"2007-06-12T00:00:00-04:00\",\"2007-06-13T00:00:00-04:00\",\"2007-06-14T00:00:00-04:00\",\"2007-06-15T00:00:00-04:00\",\"2007-06-18T00:00:00-04:00\",\"2007-06-19T00:00:00-04:00\",\"2007-06-20T00:00:00-04:00\",\"2007-06-21T00:00:00-04:00\",\"2007-06-22T00:00:00-04:00\",\"2007-06-25T00:00:00-04:00\",\"2007-06-26T00:00:00-04:00\",\"2007-06-27T00:00:00-04:00\",\"2007-06-28T00:00:00-04:00\",\"2007-06-29T00:00:00-04:00\",\"2007-07-02T00:00:00-04:00\",\"2007-07-03T00:00:00-04:00\",\"2007-07-05T00:00:00-04:00\",\"2007-07-06T00:00:00-04:00\",\"2007-07-09T00:00:00-04:00\",\"2007-07-10T00:00:00-04:00\",\"2007-07-11T00:00:00-04:00\",\"2007-07-12T00:00:00-04:00\",\"2007-07-13T00:00:00-04:00\",\"2007-07-16T00:00:00-04:00\",\"2007-07-17T00:00:00-04:00\",\"2007-07-18T00:00:00-04:00\",\"2007-07-19T00:00:00-04:00\",\"2007-07-20T00:00:00-04:00\",\"2007-07-23T00:00:00-04:00\",\"2007-07-24T00:00:00-04:00\",\"2007-07-25T00:00:00-04:00\",\"2007-07-26T00:00:00-04:00\",\"2007-07-27T00:00:00-04:00\",\"2007-07-30T00:00:00-04:00\",\"2007-07-31T00:00:00-04:00\",\"2007-08-01T00:00:00-04:00\",\"2007-08-02T00:00:00-04:00\",\"2007-08-03T00:00:00-04:00\",\"2007-08-06T00:00:00-04:00\",\"2007-08-07T00:00:00-04:00\",\"2007-08-08T00:00:00-04:00\",\"2007-08-09T00:00:00-04:00\",\"2007-08-10T00:00:00-04:00\",\"2007-08-13T00:00:00-04:00\",\"2007-08-14T00:00:00-04:00\",\"2007-08-15T00:00:00-04:00\",\"2007-08-16T00:00:00-04:00\",\"2007-08-17T00:00:00-04:00\",\"2007-08-20T00:00:00-04:00\",\"2007-08-21T00:00:00-04:00\",\"2007-08-22T00:00:00-04:00\",\"2007-08-23T00:00:00-04:00\",\"2007-08-24T00:00:00-04:00\",\"2007-08-27T00:00:00-04:00\",\"2007-08-28T00:00:00-04:00\",\"2007-08-29T00:00:00-04:00\",\"2007-08-30T00:00:00-04:00\",\"2007-08-31T00:00:00-04:00\",\"2007-09-04T00:00:00-04:00\",\"2007-09-05T00:00:00-04:00\",\"2007-09-06T00:00:00-04:00\",\"2007-09-07T00:00:00-04:00\",\"2007-09-10T00:00:00-04:00\",\"2007-09-11T00:00:00-04:00\",\"2007-09-12T00:00:00-04:00\",\"2007-09-13T00:00:00-04:00\",\"2007-09-14T00:00:00-04:00\",\"2007-09-17T00:00:00-04:00\",\"2007-09-18T00:00:00-04:00\",\"2007-09-19T00:00:00-04:00\",\"2007-09-20T00:00:00-04:00\",\"2007-09-21T00:00:00-04:00\",\"2007-09-24T00:00:00-04:00\",\"2007-09-25T00:00:00-04:00\",\"2007-09-26T00:00:00-04:00\",\"2007-09-27T00:00:00-04:00\",\"2007-09-28T00:00:00-04:00\",\"2007-10-01T00:00:00-04:00\",\"2007-10-02T00:00:00-04:00\",\"2007-10-03T00:00:00-04:00\",\"2007-10-04T00:00:00-04:00\",\"2007-10-05T00:00:00-04:00\",\"2007-10-08T00:00:00-04:00\",\"2007-10-09T00:00:00-04:00\",\"2007-10-10T00:00:00-04:00\",\"2007-10-11T00:00:00-04:00\",\"2007-10-12T00:00:00-04:00\",\"2007-10-15T00:00:00-04:00\",\"2007-10-16T00:00:00-04:00\",\"2007-10-17T00:00:00-04:00\",\"2007-10-18T00:00:00-04:00\",\"2007-10-19T00:00:00-04:00\",\"2007-10-22T00:00:00-04:00\",\"2007-10-23T00:00:00-04:00\",\"2007-10-24T00:00:00-04:00\",\"2007-10-25T00:00:00-04:00\",\"2007-10-26T00:00:00-04:00\",\"2007-10-29T00:00:00-04:00\",\"2007-10-30T00:00:00-04:00\",\"2007-10-31T00:00:00-04:00\",\"2007-11-01T00:00:00-04:00\",\"2007-11-02T00:00:00-04:00\",\"2007-11-05T00:00:00-05:00\",\"2007-11-06T00:00:00-05:00\",\"2007-11-07T00:00:00-05:00\",\"2007-11-08T00:00:00-05:00\",\"2007-11-09T00:00:00-05:00\",\"2007-11-12T00:00:00-05:00\",\"2007-11-13T00:00:00-05:00\",\"2007-11-14T00:00:00-05:00\",\"2007-11-15T00:00:00-05:00\",\"2007-11-16T00:00:00-05:00\",\"2007-11-19T00:00:00-05:00\",\"2007-11-20T00:00:00-05:00\",\"2007-11-21T00:00:00-05:00\",\"2007-11-23T00:00:00-05:00\",\"2007-11-26T00:00:00-05:00\",\"2007-11-27T00:00:00-05:00\",\"2007-11-28T00:00:00-05:00\",\"2007-11-29T00:00:00-05:00\",\"2007-11-30T00:00:00-05:00\",\"2007-12-03T00:00:00-05:00\",\"2007-12-04T00:00:00-05:00\",\"2007-12-05T00:00:00-05:00\",\"2007-12-06T00:00:00-05:00\",\"2007-12-07T00:00:00-05:00\",\"2007-12-10T00:00:00-05:00\",\"2007-12-11T00:00:00-05:00\",\"2007-12-12T00:00:00-05:00\",\"2007-12-13T00:00:00-05:00\",\"2007-12-14T00:00:00-05:00\",\"2007-12-17T00:00:00-05:00\",\"2007-12-18T00:00:00-05:00\",\"2007-12-19T00:00:00-05:00\",\"2007-12-20T00:00:00-05:00\",\"2007-12-21T00:00:00-05:00\",\"2007-12-24T00:00:00-05:00\",\"2007-12-26T00:00:00-05:00\",\"2007-12-27T00:00:00-05:00\",\"2007-12-28T00:00:00-05:00\",\"2007-12-31T00:00:00-05:00\",\"2008-01-02T00:00:00-05:00\",\"2008-01-03T00:00:00-05:00\",\"2008-01-04T00:00:00-05:00\",\"2008-01-07T00:00:00-05:00\",\"2008-01-08T00:00:00-05:00\",\"2008-01-09T00:00:00-05:00\",\"2008-01-10T00:00:00-05:00\",\"2008-01-11T00:00:00-05:00\",\"2008-01-14T00:00:00-05:00\",\"2008-01-15T00:00:00-05:00\",\"2008-01-16T00:00:00-05:00\",\"2008-01-17T00:00:00-05:00\",\"2008-01-18T00:00:00-05:00\",\"2008-01-22T00:00:00-05:00\",\"2008-01-23T00:00:00-05:00\",\"2008-01-24T00:00:00-05:00\",\"2008-01-25T00:00:00-05:00\",\"2008-01-28T00:00:00-05:00\",\"2008-01-29T00:00:00-05:00\",\"2008-01-30T00:00:00-05:00\",\"2008-01-31T00:00:00-05:00\",\"2008-02-01T00:00:00-05:00\",\"2008-02-04T00:00:00-05:00\",\"2008-02-05T00:00:00-05:00\",\"2008-02-06T00:00:00-05:00\",\"2008-02-07T00:00:00-05:00\",\"2008-02-08T00:00:00-05:00\",\"2008-02-11T00:00:00-05:00\",\"2008-02-12T00:00:00-05:00\",\"2008-02-13T00:00:00-05:00\",\"2008-02-14T00:00:00-05:00\",\"2008-02-15T00:00:00-05:00\",\"2008-02-19T00:00:00-05:00\",\"2008-02-20T00:00:00-05:00\",\"2008-02-21T00:00:00-05:00\",\"2008-02-22T00:00:00-05:00\",\"2008-02-25T00:00:00-05:00\",\"2008-02-26T00:00:00-05:00\",\"2008-02-27T00:00:00-05:00\",\"2008-02-28T00:00:00-05:00\",\"2008-02-29T00:00:00-05:00\",\"2008-03-03T00:00:00-05:00\",\"2008-03-04T00:00:00-05:00\",\"2008-03-05T00:00:00-05:00\",\"2008-03-06T00:00:00-05:00\",\"2008-03-07T00:00:00-05:00\",\"2008-03-10T00:00:00-04:00\",\"2008-03-11T00:00:00-04:00\",\"2008-03-12T00:00:00-04:00\",\"2008-03-13T00:00:00-04:00\",\"2008-03-14T00:00:00-04:00\",\"2008-03-17T00:00:00-04:00\",\"2008-03-18T00:00:00-04:00\",\"2008-03-19T00:00:00-04:00\",\"2008-03-20T00:00:00-04:00\",\"2008-03-24T00:00:00-04:00\",\"2008-03-25T00:00:00-04:00\",\"2008-03-26T00:00:00-04:00\",\"2008-03-27T00:00:00-04:00\",\"2008-03-28T00:00:00-04:00\",\"2008-03-31T00:00:00-04:00\",\"2008-04-01T00:00:00-04:00\",\"2008-04-02T00:00:00-04:00\",\"2008-04-03T00:00:00-04:00\",\"2008-04-04T00:00:00-04:00\",\"2008-04-07T00:00:00-04:00\",\"2008-04-08T00:00:00-04:00\",\"2008-04-09T00:00:00-04:00\",\"2008-04-10T00:00:00-04:00\",\"2008-04-11T00:00:00-04:00\",\"2008-04-14T00:00:00-04:00\",\"2008-04-15T00:00:00-04:00\",\"2008-04-16T00:00:00-04:00\",\"2008-04-17T00:00:00-04:00\",\"2008-04-18T00:00:00-04:00\",\"2008-04-21T00:00:00-04:00\",\"2008-04-22T00:00:00-04:00\",\"2008-04-23T00:00:00-04:00\",\"2008-04-24T00:00:00-04:00\",\"2008-04-25T00:00:00-04:00\",\"2008-04-28T00:00:00-04:00\",\"2008-04-29T00:00:00-04:00\",\"2008-04-30T00:00:00-04:00\",\"2008-05-01T00:00:00-04:00\",\"2008-05-02T00:00:00-04:00\",\"2008-05-05T00:00:00-04:00\",\"2008-05-06T00:00:00-04:00\",\"2008-05-07T00:00:00-04:00\",\"2008-05-08T00:00:00-04:00\",\"2008-05-09T00:00:00-04:00\",\"2008-05-12T00:00:00-04:00\",\"2008-05-13T00:00:00-04:00\",\"2008-05-14T00:00:00-04:00\",\"2008-05-15T00:00:00-04:00\",\"2008-05-16T00:00:00-04:00\",\"2008-05-19T00:00:00-04:00\",\"2008-05-20T00:00:00-04:00\",\"2008-05-21T00:00:00-04:00\",\"2008-05-22T00:00:00-04:00\",\"2008-05-23T00:00:00-04:00\",\"2008-05-27T00:00:00-04:00\",\"2008-05-28T00:00:00-04:00\",\"2008-05-29T00:00:00-04:00\",\"2008-05-30T00:00:00-04:00\",\"2008-06-02T00:00:00-04:00\",\"2008-06-03T00:00:00-04:00\",\"2008-06-04T00:00:00-04:00\",\"2008-06-05T00:00:00-04:00\",\"2008-06-06T00:00:00-04:00\",\"2008-06-09T00:00:00-04:00\",\"2008-06-10T00:00:00-04:00\",\"2008-06-11T00:00:00-04:00\",\"2008-06-12T00:00:00-04:00\",\"2008-06-13T00:00:00-04:00\",\"2008-06-16T00:00:00-04:00\",\"2008-06-17T00:00:00-04:00\",\"2008-06-18T00:00:00-04:00\",\"2008-06-19T00:00:00-04:00\",\"2008-06-20T00:00:00-04:00\",\"2008-06-23T00:00:00-04:00\",\"2008-06-24T00:00:00-04:00\",\"2008-06-25T00:00:00-04:00\",\"2008-06-26T00:00:00-04:00\",\"2008-06-27T00:00:00-04:00\",\"2008-06-30T00:00:00-04:00\",\"2008-07-01T00:00:00-04:00\",\"2008-07-02T00:00:00-04:00\",\"2008-07-03T00:00:00-04:00\",\"2008-07-07T00:00:00-04:00\",\"2008-07-08T00:00:00-04:00\",\"2008-07-09T00:00:00-04:00\",\"2008-07-10T00:00:00-04:00\",\"2008-07-11T00:00:00-04:00\",\"2008-07-14T00:00:00-04:00\",\"2008-07-15T00:00:00-04:00\",\"2008-07-16T00:00:00-04:00\",\"2008-07-17T00:00:00-04:00\",\"2008-07-18T00:00:00-04:00\",\"2008-07-21T00:00:00-04:00\",\"2008-07-22T00:00:00-04:00\",\"2008-07-23T00:00:00-04:00\",\"2008-07-24T00:00:00-04:00\",\"2008-07-25T00:00:00-04:00\",\"2008-07-28T00:00:00-04:00\",\"2008-07-29T00:00:00-04:00\",\"2008-07-30T00:00:00-04:00\",\"2008-07-31T00:00:00-04:00\",\"2008-08-01T00:00:00-04:00\",\"2008-08-04T00:00:00-04:00\",\"2008-08-05T00:00:00-04:00\",\"2008-08-06T00:00:00-04:00\",\"2008-08-07T00:00:00-04:00\",\"2008-08-08T00:00:00-04:00\",\"2008-08-11T00:00:00-04:00\",\"2008-08-12T00:00:00-04:00\",\"2008-08-13T00:00:00-04:00\",\"2008-08-14T00:00:00-04:00\",\"2008-08-15T00:00:00-04:00\",\"2008-08-18T00:00:00-04:00\",\"2008-08-19T00:00:00-04:00\",\"2008-08-20T00:00:00-04:00\",\"2008-08-21T00:00:00-04:00\",\"2008-08-22T00:00:00-04:00\",\"2008-08-25T00:00:00-04:00\",\"2008-08-26T00:00:00-04:00\",\"2008-08-27T00:00:00-04:00\",\"2008-08-28T00:00:00-04:00\",\"2008-08-29T00:00:00-04:00\",\"2008-09-02T00:00:00-04:00\",\"2008-09-03T00:00:00-04:00\",\"2008-09-04T00:00:00-04:00\",\"2008-09-05T00:00:00-04:00\",\"2008-09-08T00:00:00-04:00\",\"2008-09-09T00:00:00-04:00\",\"2008-09-10T00:00:00-04:00\",\"2008-09-11T00:00:00-04:00\",\"2008-09-12T00:00:00-04:00\",\"2008-09-15T00:00:00-04:00\",\"2008-09-16T00:00:00-04:00\",\"2008-09-17T00:00:00-04:00\",\"2008-09-18T00:00:00-04:00\",\"2008-09-19T00:00:00-04:00\",\"2008-09-22T00:00:00-04:00\",\"2008-09-23T00:00:00-04:00\",\"2008-09-24T00:00:00-04:00\",\"2008-09-25T00:00:00-04:00\",\"2008-09-26T00:00:00-04:00\",\"2008-09-29T00:00:00-04:00\",\"2008-09-30T00:00:00-04:00\",\"2008-10-01T00:00:00-04:00\",\"2008-10-02T00:00:00-04:00\",\"2008-10-03T00:00:00-04:00\",\"2008-10-06T00:00:00-04:00\",\"2008-10-07T00:00:00-04:00\",\"2008-10-08T00:00:00-04:00\",\"2008-10-09T00:00:00-04:00\",\"2008-10-10T00:00:00-04:00\",\"2008-10-13T00:00:00-04:00\",\"2008-10-14T00:00:00-04:00\",\"2008-10-15T00:00:00-04:00\",\"2008-10-16T00:00:00-04:00\",\"2008-10-17T00:00:00-04:00\",\"2008-10-20T00:00:00-04:00\",\"2008-10-21T00:00:00-04:00\",\"2008-10-22T00:00:00-04:00\",\"2008-10-23T00:00:00-04:00\",\"2008-10-24T00:00:00-04:00\",\"2008-10-27T00:00:00-04:00\",\"2008-10-28T00:00:00-04:00\",\"2008-10-29T00:00:00-04:00\",\"2008-10-30T00:00:00-04:00\",\"2008-10-31T00:00:00-04:00\",\"2008-11-03T00:00:00-05:00\",\"2008-11-04T00:00:00-05:00\",\"2008-11-05T00:00:00-05:00\",\"2008-11-06T00:00:00-05:00\",\"2008-11-07T00:00:00-05:00\",\"2008-11-10T00:00:00-05:00\",\"2008-11-11T00:00:00-05:00\",\"2008-11-12T00:00:00-05:00\",\"2008-11-13T00:00:00-05:00\",\"2008-11-14T00:00:00-05:00\",\"2008-11-17T00:00:00-05:00\",\"2008-11-18T00:00:00-05:00\",\"2008-11-19T00:00:00-05:00\",\"2008-11-20T00:00:00-05:00\",\"2008-11-21T00:00:00-05:00\",\"2008-11-24T00:00:00-05:00\",\"2008-11-25T00:00:00-05:00\",\"2008-11-26T00:00:00-05:00\",\"2008-11-28T00:00:00-05:00\",\"2008-12-01T00:00:00-05:00\",\"2008-12-02T00:00:00-05:00\",\"2008-12-03T00:00:00-05:00\",\"2008-12-04T00:00:00-05:00\",\"2008-12-05T00:00:00-05:00\",\"2008-12-08T00:00:00-05:00\",\"2008-12-09T00:00:00-05:00\",\"2008-12-10T00:00:00-05:00\",\"2008-12-11T00:00:00-05:00\",\"2008-12-12T00:00:00-05:00\",\"2008-12-15T00:00:00-05:00\",\"2008-12-16T00:00:00-05:00\",\"2008-12-17T00:00:00-05:00\",\"2008-12-18T00:00:00-05:00\",\"2008-12-19T00:00:00-05:00\",\"2008-12-22T00:00:00-05:00\",\"2008-12-23T00:00:00-05:00\",\"2008-12-24T00:00:00-05:00\",\"2008-12-26T00:00:00-05:00\",\"2008-12-29T00:00:00-05:00\",\"2008-12-30T00:00:00-05:00\",\"2008-12-31T00:00:00-05:00\",\"2009-01-02T00:00:00-05:00\",\"2009-01-05T00:00:00-05:00\",\"2009-01-06T00:00:00-05:00\",\"2009-01-07T00:00:00-05:00\",\"2009-01-08T00:00:00-05:00\",\"2009-01-09T00:00:00-05:00\",\"2009-01-12T00:00:00-05:00\",\"2009-01-13T00:00:00-05:00\",\"2009-01-14T00:00:00-05:00\",\"2009-01-15T00:00:00-05:00\",\"2009-01-16T00:00:00-05:00\",\"2009-01-20T00:00:00-05:00\",\"2009-01-21T00:00:00-05:00\",\"2009-01-22T00:00:00-05:00\",\"2009-01-23T00:00:00-05:00\",\"2009-01-26T00:00:00-05:00\",\"2009-01-27T00:00:00-05:00\",\"2009-01-28T00:00:00-05:00\",\"2009-01-29T00:00:00-05:00\",\"2009-01-30T00:00:00-05:00\",\"2009-02-02T00:00:00-05:00\",\"2009-02-03T00:00:00-05:00\",\"2009-02-04T00:00:00-05:00\",\"2009-02-05T00:00:00-05:00\",\"2009-02-06T00:00:00-05:00\",\"2009-02-09T00:00:00-05:00\",\"2009-02-10T00:00:00-05:00\",\"2009-02-11T00:00:00-05:00\",\"2009-02-12T00:00:00-05:00\",\"2009-02-13T00:00:00-05:00\",\"2009-02-17T00:00:00-05:00\",\"2009-02-18T00:00:00-05:00\",\"2009-02-19T00:00:00-05:00\",\"2009-02-20T00:00:00-05:00\",\"2009-02-23T00:00:00-05:00\",\"2009-02-24T00:00:00-05:00\",\"2009-02-25T00:00:00-05:00\",\"2009-02-26T00:00:00-05:00\",\"2009-02-27T00:00:00-05:00\",\"2009-03-02T00:00:00-05:00\",\"2009-03-03T00:00:00-05:00\",\"2009-03-04T00:00:00-05:00\",\"2009-03-05T00:00:00-05:00\",\"2009-03-06T00:00:00-05:00\",\"2009-03-09T00:00:00-04:00\",\"2009-03-10T00:00:00-04:00\",\"2009-03-11T00:00:00-04:00\",\"2009-03-12T00:00:00-04:00\",\"2009-03-13T00:00:00-04:00\",\"2009-03-16T00:00:00-04:00\",\"2009-03-17T00:00:00-04:00\",\"2009-03-18T00:00:00-04:00\",\"2009-03-19T00:00:00-04:00\",\"2009-03-20T00:00:00-04:00\",\"2009-03-23T00:00:00-04:00\",\"2009-03-24T00:00:00-04:00\",\"2009-03-25T00:00:00-04:00\",\"2009-03-26T00:00:00-04:00\",\"2009-03-27T00:00:00-04:00\",\"2009-03-30T00:00:00-04:00\",\"2009-03-31T00:00:00-04:00\",\"2009-04-01T00:00:00-04:00\",\"2009-04-02T00:00:00-04:00\",\"2009-04-03T00:00:00-04:00\",\"2009-04-06T00:00:00-04:00\",\"2009-04-07T00:00:00-04:00\",\"2009-04-08T00:00:00-04:00\",\"2009-04-09T00:00:00-04:00\",\"2009-04-13T00:00:00-04:00\",\"2009-04-14T00:00:00-04:00\",\"2009-04-15T00:00:00-04:00\",\"2009-04-16T00:00:00-04:00\",\"2009-04-17T00:00:00-04:00\",\"2009-04-20T00:00:00-04:00\",\"2009-04-21T00:00:00-04:00\",\"2009-04-22T00:00:00-04:00\",\"2009-04-23T00:00:00-04:00\",\"2009-04-24T00:00:00-04:00\",\"2009-04-27T00:00:00-04:00\",\"2009-04-28T00:00:00-04:00\",\"2009-04-29T00:00:00-04:00\",\"2009-04-30T00:00:00-04:00\",\"2009-05-01T00:00:00-04:00\",\"2009-05-04T00:00:00-04:00\",\"2009-05-05T00:00:00-04:00\",\"2009-05-06T00:00:00-04:00\",\"2009-05-07T00:00:00-04:00\",\"2009-05-08T00:00:00-04:00\",\"2009-05-11T00:00:00-04:00\",\"2009-05-12T00:00:00-04:00\",\"2009-05-13T00:00:00-04:00\",\"2009-05-14T00:00:00-04:00\",\"2009-05-15T00:00:00-04:00\",\"2009-05-18T00:00:00-04:00\",\"2009-05-19T00:00:00-04:00\",\"2009-05-20T00:00:00-04:00\",\"2009-05-21T00:00:00-04:00\",\"2009-05-22T00:00:00-04:00\",\"2009-05-26T00:00:00-04:00\",\"2009-05-27T00:00:00-04:00\",\"2009-05-28T00:00:00-04:00\",\"2009-05-29T00:00:00-04:00\",\"2009-06-01T00:00:00-04:00\",\"2009-06-02T00:00:00-04:00\",\"2009-06-03T00:00:00-04:00\",\"2009-06-04T00:00:00-04:00\",\"2009-06-05T00:00:00-04:00\",\"2009-06-08T00:00:00-04:00\",\"2009-06-09T00:00:00-04:00\",\"2009-06-10T00:00:00-04:00\",\"2009-06-11T00:00:00-04:00\",\"2009-06-12T00:00:00-04:00\",\"2009-06-15T00:00:00-04:00\",\"2009-06-16T00:00:00-04:00\",\"2009-06-17T00:00:00-04:00\",\"2009-06-18T00:00:00-04:00\",\"2009-06-19T00:00:00-04:00\",\"2009-06-22T00:00:00-04:00\",\"2009-06-23T00:00:00-04:00\",\"2009-06-24T00:00:00-04:00\",\"2009-06-25T00:00:00-04:00\",\"2009-06-26T00:00:00-04:00\",\"2009-06-29T00:00:00-04:00\",\"2009-06-30T00:00:00-04:00\",\"2009-07-01T00:00:00-04:00\",\"2009-07-02T00:00:00-04:00\",\"2009-07-06T00:00:00-04:00\",\"2009-07-07T00:00:00-04:00\",\"2009-07-08T00:00:00-04:00\",\"2009-07-09T00:00:00-04:00\",\"2009-07-10T00:00:00-04:00\",\"2009-07-13T00:00:00-04:00\",\"2009-07-14T00:00:00-04:00\",\"2009-07-15T00:00:00-04:00\",\"2009-07-16T00:00:00-04:00\",\"2009-07-17T00:00:00-04:00\",\"2009-07-20T00:00:00-04:00\",\"2009-07-21T00:00:00-04:00\",\"2009-07-22T00:00:00-04:00\",\"2009-07-23T00:00:00-04:00\",\"2009-07-24T00:00:00-04:00\",\"2009-07-27T00:00:00-04:00\",\"2009-07-28T00:00:00-04:00\",\"2009-07-29T00:00:00-04:00\",\"2009-07-30T00:00:00-04:00\",\"2009-07-31T00:00:00-04:00\",\"2009-08-03T00:00:00-04:00\",\"2009-08-04T00:00:00-04:00\",\"2009-08-05T00:00:00-04:00\",\"2009-08-06T00:00:00-04:00\",\"2009-08-07T00:00:00-04:00\",\"2009-08-10T00:00:00-04:00\",\"2009-08-11T00:00:00-04:00\",\"2009-08-12T00:00:00-04:00\",\"2009-08-13T00:00:00-04:00\",\"2009-08-14T00:00:00-04:00\",\"2009-08-17T00:00:00-04:00\",\"2009-08-18T00:00:00-04:00\",\"2009-08-19T00:00:00-04:00\",\"2009-08-20T00:00:00-04:00\",\"2009-08-21T00:00:00-04:00\",\"2009-08-24T00:00:00-04:00\",\"2009-08-25T00:00:00-04:00\",\"2009-08-26T00:00:00-04:00\",\"2009-08-27T00:00:00-04:00\",\"2009-08-28T00:00:00-04:00\",\"2009-08-31T00:00:00-04:00\",\"2009-09-01T00:00:00-04:00\",\"2009-09-02T00:00:00-04:00\",\"2009-09-03T00:00:00-04:00\",\"2009-09-04T00:00:00-04:00\",\"2009-09-08T00:00:00-04:00\",\"2009-09-09T00:00:00-04:00\",\"2009-09-10T00:00:00-04:00\",\"2009-09-11T00:00:00-04:00\",\"2009-09-14T00:00:00-04:00\",\"2009-09-15T00:00:00-04:00\",\"2009-09-16T00:00:00-04:00\",\"2009-09-17T00:00:00-04:00\",\"2009-09-18T00:00:00-04:00\",\"2009-09-21T00:00:00-04:00\",\"2009-09-22T00:00:00-04:00\",\"2009-09-23T00:00:00-04:00\",\"2009-09-24T00:00:00-04:00\",\"2009-09-25T00:00:00-04:00\",\"2009-09-28T00:00:00-04:00\",\"2009-09-29T00:00:00-04:00\",\"2009-09-30T00:00:00-04:00\",\"2009-10-01T00:00:00-04:00\",\"2009-10-02T00:00:00-04:00\",\"2009-10-05T00:00:00-04:00\",\"2009-10-06T00:00:00-04:00\",\"2009-10-07T00:00:00-04:00\",\"2009-10-08T00:00:00-04:00\",\"2009-10-09T00:00:00-04:00\",\"2009-10-12T00:00:00-04:00\",\"2009-10-13T00:00:00-04:00\",\"2009-10-14T00:00:00-04:00\",\"2009-10-15T00:00:00-04:00\",\"2009-10-16T00:00:00-04:00\",\"2009-10-19T00:00:00-04:00\",\"2009-10-20T00:00:00-04:00\",\"2009-10-21T00:00:00-04:00\",\"2009-10-22T00:00:00-04:00\",\"2009-10-23T00:00:00-04:00\",\"2009-10-26T00:00:00-04:00\",\"2009-10-27T00:00:00-04:00\",\"2009-10-28T00:00:00-04:00\",\"2009-10-29T00:00:00-04:00\",\"2009-10-30T00:00:00-04:00\",\"2009-11-02T00:00:00-05:00\",\"2009-11-03T00:00:00-05:00\",\"2009-11-04T00:00:00-05:00\",\"2009-11-05T00:00:00-05:00\",\"2009-11-06T00:00:00-05:00\",\"2009-11-09T00:00:00-05:00\",\"2009-11-10T00:00:00-05:00\",\"2009-11-11T00:00:00-05:00\",\"2009-11-12T00:00:00-05:00\",\"2009-11-13T00:00:00-05:00\",\"2009-11-16T00:00:00-05:00\",\"2009-11-17T00:00:00-05:00\",\"2009-11-18T00:00:00-05:00\",\"2009-11-19T00:00:00-05:00\",\"2009-11-20T00:00:00-05:00\",\"2009-11-23T00:00:00-05:00\",\"2009-11-24T00:00:00-05:00\",\"2009-11-25T00:00:00-05:00\",\"2009-11-27T00:00:00-05:00\",\"2009-11-30T00:00:00-05:00\",\"2009-12-01T00:00:00-05:00\",\"2009-12-02T00:00:00-05:00\",\"2009-12-03T00:00:00-05:00\",\"2009-12-04T00:00:00-05:00\",\"2009-12-07T00:00:00-05:00\",\"2009-12-08T00:00:00-05:00\",\"2009-12-09T00:00:00-05:00\",\"2009-12-10T00:00:00-05:00\",\"2009-12-11T00:00:00-05:00\",\"2009-12-14T00:00:00-05:00\",\"2009-12-15T00:00:00-05:00\",\"2009-12-16T00:00:00-05:00\",\"2009-12-17T00:00:00-05:00\",\"2009-12-18T00:00:00-05:00\",\"2009-12-21T00:00:00-05:00\",\"2009-12-22T00:00:00-05:00\",\"2009-12-23T00:00:00-05:00\",\"2009-12-24T00:00:00-05:00\",\"2009-12-28T00:00:00-05:00\",\"2009-12-29T00:00:00-05:00\",\"2009-12-30T00:00:00-05:00\",\"2009-12-31T00:00:00-05:00\",\"2010-01-04T00:00:00-05:00\",\"2010-01-05T00:00:00-05:00\",\"2010-01-06T00:00:00-05:00\",\"2010-01-07T00:00:00-05:00\",\"2010-01-08T00:00:00-05:00\",\"2010-01-11T00:00:00-05:00\",\"2010-01-12T00:00:00-05:00\",\"2010-01-13T00:00:00-05:00\",\"2010-01-14T00:00:00-05:00\",\"2010-01-15T00:00:00-05:00\",\"2010-01-19T00:00:00-05:00\",\"2010-01-20T00:00:00-05:00\",\"2010-01-21T00:00:00-05:00\",\"2010-01-22T00:00:00-05:00\",\"2010-01-25T00:00:00-05:00\",\"2010-01-26T00:00:00-05:00\",\"2010-01-27T00:00:00-05:00\",\"2010-01-28T00:00:00-05:00\",\"2010-01-29T00:00:00-05:00\",\"2010-02-01T00:00:00-05:00\",\"2010-02-02T00:00:00-05:00\",\"2010-02-03T00:00:00-05:00\",\"2010-02-04T00:00:00-05:00\",\"2010-02-05T00:00:00-05:00\",\"2010-02-08T00:00:00-05:00\",\"2010-02-09T00:00:00-05:00\",\"2010-02-10T00:00:00-05:00\",\"2010-02-11T00:00:00-05:00\",\"2010-02-12T00:00:00-05:00\",\"2010-02-16T00:00:00-05:00\",\"2010-02-17T00:00:00-05:00\",\"2010-02-18T00:00:00-05:00\",\"2010-02-19T00:00:00-05:00\",\"2010-02-22T00:00:00-05:00\",\"2010-02-23T00:00:00-05:00\",\"2010-02-24T00:00:00-05:00\",\"2010-02-25T00:00:00-05:00\",\"2010-02-26T00:00:00-05:00\",\"2010-03-01T00:00:00-05:00\",\"2010-03-02T00:00:00-05:00\",\"2010-03-03T00:00:00-05:00\",\"2010-03-04T00:00:00-05:00\",\"2010-03-05T00:00:00-05:00\",\"2010-03-08T00:00:00-05:00\",\"2010-03-09T00:00:00-05:00\",\"2010-03-10T00:00:00-05:00\",\"2010-03-11T00:00:00-05:00\",\"2010-03-12T00:00:00-05:00\",\"2010-03-15T00:00:00-04:00\",\"2010-03-16T00:00:00-04:00\",\"2010-03-17T00:00:00-04:00\",\"2010-03-18T00:00:00-04:00\",\"2010-03-19T00:00:00-04:00\",\"2010-03-22T00:00:00-04:00\",\"2010-03-23T00:00:00-04:00\",\"2010-03-24T00:00:00-04:00\",\"2010-03-25T00:00:00-04:00\",\"2010-03-26T00:00:00-04:00\",\"2010-03-29T00:00:00-04:00\",\"2010-03-30T00:00:00-04:00\",\"2010-03-31T00:00:00-04:00\",\"2010-04-01T00:00:00-04:00\",\"2010-04-05T00:00:00-04:00\",\"2010-04-06T00:00:00-04:00\",\"2010-04-07T00:00:00-04:00\",\"2010-04-08T00:00:00-04:00\",\"2010-04-09T00:00:00-04:00\",\"2010-04-12T00:00:00-04:00\",\"2010-04-13T00:00:00-04:00\",\"2010-04-14T00:00:00-04:00\",\"2010-04-15T00:00:00-04:00\",\"2010-04-16T00:00:00-04:00\",\"2010-04-19T00:00:00-04:00\",\"2010-04-20T00:00:00-04:00\",\"2010-04-21T00:00:00-04:00\",\"2010-04-22T00:00:00-04:00\",\"2010-04-23T00:00:00-04:00\",\"2010-04-26T00:00:00-04:00\",\"2010-04-27T00:00:00-04:00\",\"2010-04-28T00:00:00-04:00\",\"2010-04-29T00:00:00-04:00\",\"2010-04-30T00:00:00-04:00\",\"2010-05-03T00:00:00-04:00\",\"2010-05-04T00:00:00-04:00\",\"2010-05-05T00:00:00-04:00\",\"2010-05-06T00:00:00-04:00\",\"2010-05-07T00:00:00-04:00\",\"2010-05-10T00:00:00-04:00\",\"2010-05-11T00:00:00-04:00\",\"2010-05-12T00:00:00-04:00\",\"2010-05-13T00:00:00-04:00\",\"2010-05-14T00:00:00-04:00\",\"2010-05-17T00:00:00-04:00\",\"2010-05-18T00:00:00-04:00\",\"2010-05-19T00:00:00-04:00\",\"2010-05-20T00:00:00-04:00\",\"2010-05-21T00:00:00-04:00\",\"2010-05-24T00:00:00-04:00\",\"2010-05-25T00:00:00-04:00\",\"2010-05-26T00:00:00-04:00\",\"2010-05-27T00:00:00-04:00\",\"2010-05-28T00:00:00-04:00\",\"2010-06-01T00:00:00-04:00\",\"2010-06-02T00:00:00-04:00\",\"2010-06-03T00:00:00-04:00\",\"2010-06-04T00:00:00-04:00\",\"2010-06-07T00:00:00-04:00\",\"2010-06-08T00:00:00-04:00\",\"2010-06-09T00:00:00-04:00\",\"2010-06-10T00:00:00-04:00\",\"2010-06-11T00:00:00-04:00\",\"2010-06-14T00:00:00-04:00\",\"2010-06-15T00:00:00-04:00\",\"2010-06-16T00:00:00-04:00\",\"2010-06-17T00:00:00-04:00\",\"2010-06-18T00:00:00-04:00\",\"2010-06-21T00:00:00-04:00\",\"2010-06-22T00:00:00-04:00\",\"2010-06-23T00:00:00-04:00\",\"2010-06-24T00:00:00-04:00\",\"2010-06-25T00:00:00-04:00\",\"2010-06-28T00:00:00-04:00\",\"2010-06-29T00:00:00-04:00\",\"2010-06-30T00:00:00-04:00\",\"2010-07-01T00:00:00-04:00\",\"2010-07-02T00:00:00-04:00\",\"2010-07-06T00:00:00-04:00\",\"2010-07-07T00:00:00-04:00\",\"2010-07-08T00:00:00-04:00\",\"2010-07-09T00:00:00-04:00\",\"2010-07-12T00:00:00-04:00\",\"2010-07-13T00:00:00-04:00\",\"2010-07-14T00:00:00-04:00\",\"2010-07-15T00:00:00-04:00\",\"2010-07-16T00:00:00-04:00\",\"2010-07-19T00:00:00-04:00\",\"2010-07-20T00:00:00-04:00\",\"2010-07-21T00:00:00-04:00\",\"2010-07-22T00:00:00-04:00\",\"2010-07-23T00:00:00-04:00\",\"2010-07-26T00:00:00-04:00\",\"2010-07-27T00:00:00-04:00\",\"2010-07-28T00:00:00-04:00\",\"2010-07-29T00:00:00-04:00\",\"2010-07-30T00:00:00-04:00\",\"2010-08-02T00:00:00-04:00\",\"2010-08-03T00:00:00-04:00\",\"2010-08-04T00:00:00-04:00\",\"2010-08-05T00:00:00-04:00\",\"2010-08-06T00:00:00-04:00\",\"2010-08-09T00:00:00-04:00\",\"2010-08-10T00:00:00-04:00\",\"2010-08-11T00:00:00-04:00\",\"2010-08-12T00:00:00-04:00\",\"2010-08-13T00:00:00-04:00\",\"2010-08-16T00:00:00-04:00\",\"2010-08-17T00:00:00-04:00\",\"2010-08-18T00:00:00-04:00\",\"2010-08-19T00:00:00-04:00\",\"2010-08-20T00:00:00-04:00\",\"2010-08-23T00:00:00-04:00\",\"2010-08-24T00:00:00-04:00\",\"2010-08-25T00:00:00-04:00\",\"2010-08-26T00:00:00-04:00\",\"2010-08-27T00:00:00-04:00\",\"2010-08-30T00:00:00-04:00\",\"2010-08-31T00:00:00-04:00\",\"2010-09-01T00:00:00-04:00\",\"2010-09-02T00:00:00-04:00\",\"2010-09-03T00:00:00-04:00\",\"2010-09-07T00:00:00-04:00\",\"2010-09-08T00:00:00-04:00\",\"2010-09-09T00:00:00-04:00\",\"2010-09-10T00:00:00-04:00\",\"2010-09-13T00:00:00-04:00\",\"2010-09-14T00:00:00-04:00\",\"2010-09-15T00:00:00-04:00\",\"2010-09-16T00:00:00-04:00\",\"2010-09-17T00:00:00-04:00\",\"2010-09-20T00:00:00-04:00\",\"2010-09-21T00:00:00-04:00\",\"2010-09-22T00:00:00-04:00\",\"2010-09-23T00:00:00-04:00\",\"2010-09-24T00:00:00-04:00\",\"2010-09-27T00:00:00-04:00\",\"2010-09-28T00:00:00-04:00\",\"2010-09-29T00:00:00-04:00\",\"2010-09-30T00:00:00-04:00\",\"2010-10-01T00:00:00-04:00\",\"2010-10-04T00:00:00-04:00\",\"2010-10-05T00:00:00-04:00\",\"2010-10-06T00:00:00-04:00\",\"2010-10-07T00:00:00-04:00\",\"2010-10-08T00:00:00-04:00\",\"2010-10-11T00:00:00-04:00\",\"2010-10-12T00:00:00-04:00\",\"2010-10-13T00:00:00-04:00\",\"2010-10-14T00:00:00-04:00\",\"2010-10-15T00:00:00-04:00\",\"2010-10-18T00:00:00-04:00\",\"2010-10-19T00:00:00-04:00\",\"2010-10-20T00:00:00-04:00\",\"2010-10-21T00:00:00-04:00\",\"2010-10-22T00:00:00-04:00\",\"2010-10-25T00:00:00-04:00\",\"2010-10-26T00:00:00-04:00\",\"2010-10-27T00:00:00-04:00\",\"2010-10-28T00:00:00-04:00\",\"2010-10-29T00:00:00-04:00\",\"2010-11-01T00:00:00-04:00\",\"2010-11-02T00:00:00-04:00\",\"2010-11-03T00:00:00-04:00\",\"2010-11-04T00:00:00-04:00\",\"2010-11-05T00:00:00-04:00\",\"2010-11-08T00:00:00-05:00\",\"2010-11-09T00:00:00-05:00\",\"2010-11-10T00:00:00-05:00\",\"2010-11-11T00:00:00-05:00\",\"2010-11-12T00:00:00-05:00\",\"2010-11-15T00:00:00-05:00\",\"2010-11-16T00:00:00-05:00\",\"2010-11-17T00:00:00-05:00\",\"2010-11-18T00:00:00-05:00\",\"2010-11-19T00:00:00-05:00\",\"2010-11-22T00:00:00-05:00\",\"2010-11-23T00:00:00-05:00\",\"2010-11-24T00:00:00-05:00\",\"2010-11-26T00:00:00-05:00\",\"2010-11-29T00:00:00-05:00\",\"2010-11-30T00:00:00-05:00\",\"2010-12-01T00:00:00-05:00\",\"2010-12-02T00:00:00-05:00\",\"2010-12-03T00:00:00-05:00\",\"2010-12-06T00:00:00-05:00\",\"2010-12-07T00:00:00-05:00\",\"2010-12-08T00:00:00-05:00\",\"2010-12-09T00:00:00-05:00\",\"2010-12-10T00:00:00-05:00\",\"2010-12-13T00:00:00-05:00\",\"2010-12-14T00:00:00-05:00\",\"2010-12-15T00:00:00-05:00\",\"2010-12-16T00:00:00-05:00\",\"2010-12-17T00:00:00-05:00\",\"2010-12-20T00:00:00-05:00\",\"2010-12-21T00:00:00-05:00\",\"2010-12-22T00:00:00-05:00\",\"2010-12-23T00:00:00-05:00\",\"2010-12-27T00:00:00-05:00\",\"2010-12-28T00:00:00-05:00\",\"2010-12-29T00:00:00-05:00\",\"2010-12-30T00:00:00-05:00\",\"2010-12-31T00:00:00-05:00\",\"2011-01-03T00:00:00-05:00\",\"2011-01-04T00:00:00-05:00\",\"2011-01-05T00:00:00-05:00\",\"2011-01-06T00:00:00-05:00\",\"2011-01-07T00:00:00-05:00\",\"2011-01-10T00:00:00-05:00\",\"2011-01-11T00:00:00-05:00\",\"2011-01-12T00:00:00-05:00\",\"2011-01-13T00:00:00-05:00\",\"2011-01-14T00:00:00-05:00\",\"2011-01-18T00:00:00-05:00\",\"2011-01-19T00:00:00-05:00\",\"2011-01-20T00:00:00-05:00\",\"2011-01-21T00:00:00-05:00\",\"2011-01-24T00:00:00-05:00\",\"2011-01-25T00:00:00-05:00\",\"2011-01-26T00:00:00-05:00\",\"2011-01-27T00:00:00-05:00\",\"2011-01-28T00:00:00-05:00\",\"2011-01-31T00:00:00-05:00\",\"2011-02-01T00:00:00-05:00\",\"2011-02-02T00:00:00-05:00\",\"2011-02-03T00:00:00-05:00\",\"2011-02-04T00:00:00-05:00\",\"2011-02-07T00:00:00-05:00\",\"2011-02-08T00:00:00-05:00\",\"2011-02-09T00:00:00-05:00\",\"2011-02-10T00:00:00-05:00\",\"2011-02-11T00:00:00-05:00\",\"2011-02-14T00:00:00-05:00\",\"2011-02-15T00:00:00-05:00\",\"2011-02-16T00:00:00-05:00\",\"2011-02-17T00:00:00-05:00\",\"2011-02-18T00:00:00-05:00\",\"2011-02-22T00:00:00-05:00\",\"2011-02-23T00:00:00-05:00\",\"2011-02-24T00:00:00-05:00\",\"2011-02-25T00:00:00-05:00\",\"2011-02-28T00:00:00-05:00\",\"2011-03-01T00:00:00-05:00\",\"2011-03-02T00:00:00-05:00\",\"2011-03-03T00:00:00-05:00\",\"2011-03-04T00:00:00-05:00\",\"2011-03-07T00:00:00-05:00\",\"2011-03-08T00:00:00-05:00\",\"2011-03-09T00:00:00-05:00\",\"2011-03-10T00:00:00-05:00\",\"2011-03-11T00:00:00-05:00\",\"2011-03-14T00:00:00-04:00\",\"2011-03-15T00:00:00-04:00\",\"2011-03-16T00:00:00-04:00\",\"2011-03-17T00:00:00-04:00\",\"2011-03-18T00:00:00-04:00\",\"2011-03-21T00:00:00-04:00\",\"2011-03-22T00:00:00-04:00\",\"2011-03-23T00:00:00-04:00\",\"2011-03-24T00:00:00-04:00\",\"2011-03-25T00:00:00-04:00\",\"2011-03-28T00:00:00-04:00\",\"2011-03-29T00:00:00-04:00\",\"2011-03-30T00:00:00-04:00\",\"2011-03-31T00:00:00-04:00\",\"2011-04-01T00:00:00-04:00\",\"2011-04-04T00:00:00-04:00\",\"2011-04-05T00:00:00-04:00\",\"2011-04-06T00:00:00-04:00\",\"2011-04-07T00:00:00-04:00\",\"2011-04-08T00:00:00-04:00\",\"2011-04-11T00:00:00-04:00\",\"2011-04-12T00:00:00-04:00\",\"2011-04-13T00:00:00-04:00\",\"2011-04-14T00:00:00-04:00\",\"2011-04-15T00:00:00-04:00\",\"2011-04-18T00:00:00-04:00\",\"2011-04-19T00:00:00-04:00\",\"2011-04-20T00:00:00-04:00\",\"2011-04-21T00:00:00-04:00\",\"2011-04-25T00:00:00-04:00\",\"2011-04-26T00:00:00-04:00\",\"2011-04-27T00:00:00-04:00\",\"2011-04-28T00:00:00-04:00\",\"2011-04-29T00:00:00-04:00\",\"2011-05-02T00:00:00-04:00\",\"2011-05-03T00:00:00-04:00\",\"2011-05-04T00:00:00-04:00\",\"2011-05-05T00:00:00-04:00\",\"2011-05-06T00:00:00-04:00\",\"2011-05-09T00:00:00-04:00\",\"2011-05-10T00:00:00-04:00\",\"2011-05-11T00:00:00-04:00\",\"2011-05-12T00:00:00-04:00\",\"2011-05-13T00:00:00-04:00\",\"2011-05-16T00:00:00-04:00\",\"2011-05-17T00:00:00-04:00\",\"2011-05-18T00:00:00-04:00\",\"2011-05-19T00:00:00-04:00\",\"2011-05-20T00:00:00-04:00\",\"2011-05-23T00:00:00-04:00\",\"2011-05-24T00:00:00-04:00\",\"2011-05-25T00:00:00-04:00\",\"2011-05-26T00:00:00-04:00\",\"2011-05-27T00:00:00-04:00\",\"2011-05-31T00:00:00-04:00\",\"2011-06-01T00:00:00-04:00\",\"2011-06-02T00:00:00-04:00\",\"2011-06-03T00:00:00-04:00\",\"2011-06-06T00:00:00-04:00\",\"2011-06-07T00:00:00-04:00\",\"2011-06-08T00:00:00-04:00\",\"2011-06-09T00:00:00-04:00\",\"2011-06-10T00:00:00-04:00\",\"2011-06-13T00:00:00-04:00\",\"2011-06-14T00:00:00-04:00\",\"2011-06-15T00:00:00-04:00\",\"2011-06-16T00:00:00-04:00\",\"2011-06-17T00:00:00-04:00\",\"2011-06-20T00:00:00-04:00\",\"2011-06-21T00:00:00-04:00\",\"2011-06-22T00:00:00-04:00\",\"2011-06-23T00:00:00-04:00\",\"2011-06-24T00:00:00-04:00\",\"2011-06-27T00:00:00-04:00\",\"2011-06-28T00:00:00-04:00\",\"2011-06-29T00:00:00-04:00\",\"2011-06-30T00:00:00-04:00\",\"2011-07-01T00:00:00-04:00\",\"2011-07-05T00:00:00-04:00\",\"2011-07-06T00:00:00-04:00\",\"2011-07-07T00:00:00-04:00\",\"2011-07-08T00:00:00-04:00\",\"2011-07-11T00:00:00-04:00\",\"2011-07-12T00:00:00-04:00\",\"2011-07-13T00:00:00-04:00\",\"2011-07-14T00:00:00-04:00\",\"2011-07-15T00:00:00-04:00\",\"2011-07-18T00:00:00-04:00\",\"2011-07-19T00:00:00-04:00\",\"2011-07-20T00:00:00-04:00\",\"2011-07-21T00:00:00-04:00\",\"2011-07-22T00:00:00-04:00\",\"2011-07-25T00:00:00-04:00\",\"2011-07-26T00:00:00-04:00\",\"2011-07-27T00:00:00-04:00\",\"2011-07-28T00:00:00-04:00\",\"2011-07-29T00:00:00-04:00\",\"2011-08-01T00:00:00-04:00\",\"2011-08-02T00:00:00-04:00\",\"2011-08-03T00:00:00-04:00\",\"2011-08-04T00:00:00-04:00\",\"2011-08-05T00:00:00-04:00\",\"2011-08-08T00:00:00-04:00\",\"2011-08-09T00:00:00-04:00\",\"2011-08-10T00:00:00-04:00\",\"2011-08-11T00:00:00-04:00\",\"2011-08-12T00:00:00-04:00\",\"2011-08-15T00:00:00-04:00\",\"2011-08-16T00:00:00-04:00\",\"2011-08-17T00:00:00-04:00\",\"2011-08-18T00:00:00-04:00\",\"2011-08-19T00:00:00-04:00\",\"2011-08-22T00:00:00-04:00\",\"2011-08-23T00:00:00-04:00\",\"2011-08-24T00:00:00-04:00\",\"2011-08-25T00:00:00-04:00\",\"2011-08-26T00:00:00-04:00\",\"2011-08-29T00:00:00-04:00\",\"2011-08-30T00:00:00-04:00\",\"2011-08-31T00:00:00-04:00\",\"2011-09-01T00:00:00-04:00\",\"2011-09-02T00:00:00-04:00\",\"2011-09-06T00:00:00-04:00\",\"2011-09-07T00:00:00-04:00\",\"2011-09-08T00:00:00-04:00\",\"2011-09-09T00:00:00-04:00\",\"2011-09-12T00:00:00-04:00\",\"2011-09-13T00:00:00-04:00\",\"2011-09-14T00:00:00-04:00\",\"2011-09-15T00:00:00-04:00\",\"2011-09-16T00:00:00-04:00\",\"2011-09-19T00:00:00-04:00\",\"2011-09-20T00:00:00-04:00\",\"2011-09-21T00:00:00-04:00\",\"2011-09-22T00:00:00-04:00\",\"2011-09-23T00:00:00-04:00\",\"2011-09-26T00:00:00-04:00\",\"2011-09-27T00:00:00-04:00\",\"2011-09-28T00:00:00-04:00\",\"2011-09-29T00:00:00-04:00\",\"2011-09-30T00:00:00-04:00\",\"2011-10-03T00:00:00-04:00\",\"2011-10-04T00:00:00-04:00\",\"2011-10-05T00:00:00-04:00\",\"2011-10-06T00:00:00-04:00\",\"2011-10-07T00:00:00-04:00\",\"2011-10-10T00:00:00-04:00\",\"2011-10-11T00:00:00-04:00\",\"2011-10-12T00:00:00-04:00\",\"2011-10-13T00:00:00-04:00\",\"2011-10-14T00:00:00-04:00\",\"2011-10-17T00:00:00-04:00\",\"2011-10-18T00:00:00-04:00\",\"2011-10-19T00:00:00-04:00\",\"2011-10-20T00:00:00-04:00\",\"2011-10-21T00:00:00-04:00\",\"2011-10-24T00:00:00-04:00\",\"2011-10-25T00:00:00-04:00\",\"2011-10-26T00:00:00-04:00\",\"2011-10-27T00:00:00-04:00\",\"2011-10-28T00:00:00-04:00\",\"2011-10-31T00:00:00-04:00\",\"2011-11-01T00:00:00-04:00\",\"2011-11-02T00:00:00-04:00\",\"2011-11-03T00:00:00-04:00\",\"2011-11-04T00:00:00-04:00\",\"2011-11-07T00:00:00-05:00\",\"2011-11-08T00:00:00-05:00\",\"2011-11-09T00:00:00-05:00\",\"2011-11-10T00:00:00-05:00\",\"2011-11-11T00:00:00-05:00\",\"2011-11-14T00:00:00-05:00\",\"2011-11-15T00:00:00-05:00\",\"2011-11-16T00:00:00-05:00\",\"2011-11-17T00:00:00-05:00\",\"2011-11-18T00:00:00-05:00\",\"2011-11-21T00:00:00-05:00\",\"2011-11-22T00:00:00-05:00\",\"2011-11-23T00:00:00-05:00\",\"2011-11-25T00:00:00-05:00\",\"2011-11-28T00:00:00-05:00\",\"2011-11-29T00:00:00-05:00\",\"2011-11-30T00:00:00-05:00\",\"2011-12-01T00:00:00-05:00\",\"2011-12-02T00:00:00-05:00\",\"2011-12-05T00:00:00-05:00\",\"2011-12-06T00:00:00-05:00\",\"2011-12-07T00:00:00-05:00\",\"2011-12-08T00:00:00-05:00\",\"2011-12-09T00:00:00-05:00\",\"2011-12-12T00:00:00-05:00\",\"2011-12-13T00:00:00-05:00\",\"2011-12-14T00:00:00-05:00\",\"2011-12-15T00:00:00-05:00\",\"2011-12-16T00:00:00-05:00\",\"2011-12-19T00:00:00-05:00\",\"2011-12-20T00:00:00-05:00\",\"2011-12-21T00:00:00-05:00\",\"2011-12-22T00:00:00-05:00\",\"2011-12-23T00:00:00-05:00\",\"2011-12-27T00:00:00-05:00\",\"2011-12-28T00:00:00-05:00\",\"2011-12-29T00:00:00-05:00\",\"2011-12-30T00:00:00-05:00\",\"2012-01-03T00:00:00-05:00\",\"2012-01-04T00:00:00-05:00\",\"2012-01-05T00:00:00-05:00\",\"2012-01-06T00:00:00-05:00\",\"2012-01-09T00:00:00-05:00\",\"2012-01-10T00:00:00-05:00\",\"2012-01-11T00:00:00-05:00\",\"2012-01-12T00:00:00-05:00\",\"2012-01-13T00:00:00-05:00\",\"2012-01-17T00:00:00-05:00\",\"2012-01-18T00:00:00-05:00\",\"2012-01-19T00:00:00-05:00\",\"2012-01-20T00:00:00-05:00\",\"2012-01-23T00:00:00-05:00\",\"2012-01-24T00:00:00-05:00\",\"2012-01-25T00:00:00-05:00\",\"2012-01-26T00:00:00-05:00\",\"2012-01-27T00:00:00-05:00\",\"2012-01-30T00:00:00-05:00\",\"2012-01-31T00:00:00-05:00\",\"2012-02-01T00:00:00-05:00\",\"2012-02-02T00:00:00-05:00\",\"2012-02-03T00:00:00-05:00\",\"2012-02-06T00:00:00-05:00\",\"2012-02-07T00:00:00-05:00\",\"2012-02-08T00:00:00-05:00\",\"2012-02-09T00:00:00-05:00\",\"2012-02-10T00:00:00-05:00\",\"2012-02-13T00:00:00-05:00\",\"2012-02-14T00:00:00-05:00\",\"2012-02-15T00:00:00-05:00\",\"2012-02-16T00:00:00-05:00\",\"2012-02-17T00:00:00-05:00\",\"2012-02-21T00:00:00-05:00\",\"2012-02-22T00:00:00-05:00\",\"2012-02-23T00:00:00-05:00\",\"2012-02-24T00:00:00-05:00\",\"2012-02-27T00:00:00-05:00\",\"2012-02-28T00:00:00-05:00\",\"2012-02-29T00:00:00-05:00\",\"2012-03-01T00:00:00-05:00\",\"2012-03-02T00:00:00-05:00\",\"2012-03-05T00:00:00-05:00\",\"2012-03-06T00:00:00-05:00\",\"2012-03-07T00:00:00-05:00\",\"2012-03-08T00:00:00-05:00\",\"2012-03-09T00:00:00-05:00\",\"2012-03-12T00:00:00-04:00\",\"2012-03-13T00:00:00-04:00\",\"2012-03-14T00:00:00-04:00\",\"2012-03-15T00:00:00-04:00\",\"2012-03-16T00:00:00-04:00\",\"2012-03-19T00:00:00-04:00\",\"2012-03-20T00:00:00-04:00\",\"2012-03-21T00:00:00-04:00\",\"2012-03-22T00:00:00-04:00\",\"2012-03-23T00:00:00-04:00\",\"2012-03-26T00:00:00-04:00\",\"2012-03-27T00:00:00-04:00\",\"2012-03-28T00:00:00-04:00\",\"2012-03-29T00:00:00-04:00\",\"2012-03-30T00:00:00-04:00\",\"2012-04-02T00:00:00-04:00\",\"2012-04-03T00:00:00-04:00\",\"2012-04-04T00:00:00-04:00\",\"2012-04-05T00:00:00-04:00\",\"2012-04-09T00:00:00-04:00\",\"2012-04-10T00:00:00-04:00\",\"2012-04-11T00:00:00-04:00\",\"2012-04-12T00:00:00-04:00\",\"2012-04-13T00:00:00-04:00\",\"2012-04-16T00:00:00-04:00\",\"2012-04-17T00:00:00-04:00\",\"2012-04-18T00:00:00-04:00\",\"2012-04-19T00:00:00-04:00\",\"2012-04-20T00:00:00-04:00\",\"2012-04-23T00:00:00-04:00\",\"2012-04-24T00:00:00-04:00\",\"2012-04-25T00:00:00-04:00\",\"2012-04-26T00:00:00-04:00\",\"2012-04-27T00:00:00-04:00\",\"2012-04-30T00:00:00-04:00\",\"2012-05-01T00:00:00-04:00\",\"2012-05-02T00:00:00-04:00\",\"2012-05-03T00:00:00-04:00\",\"2012-05-04T00:00:00-04:00\",\"2012-05-07T00:00:00-04:00\",\"2012-05-08T00:00:00-04:00\",\"2012-05-09T00:00:00-04:00\",\"2012-05-10T00:00:00-04:00\",\"2012-05-11T00:00:00-04:00\",\"2012-05-14T00:00:00-04:00\",\"2012-05-15T00:00:00-04:00\",\"2012-05-16T00:00:00-04:00\",\"2012-05-17T00:00:00-04:00\",\"2012-05-18T00:00:00-04:00\",\"2012-05-21T00:00:00-04:00\",\"2012-05-22T00:00:00-04:00\",\"2012-05-23T00:00:00-04:00\",\"2012-05-24T00:00:00-04:00\",\"2012-05-25T00:00:00-04:00\",\"2012-05-29T00:00:00-04:00\",\"2012-05-30T00:00:00-04:00\",\"2012-05-31T00:00:00-04:00\",\"2012-06-01T00:00:00-04:00\",\"2012-06-04T00:00:00-04:00\",\"2012-06-05T00:00:00-04:00\",\"2012-06-06T00:00:00-04:00\",\"2012-06-07T00:00:00-04:00\",\"2012-06-08T00:00:00-04:00\",\"2012-06-11T00:00:00-04:00\",\"2012-06-12T00:00:00-04:00\",\"2012-06-13T00:00:00-04:00\",\"2012-06-14T00:00:00-04:00\",\"2012-06-15T00:00:00-04:00\",\"2012-06-18T00:00:00-04:00\",\"2012-06-19T00:00:00-04:00\",\"2012-06-20T00:00:00-04:00\",\"2012-06-21T00:00:00-04:00\",\"2012-06-22T00:00:00-04:00\",\"2012-06-25T00:00:00-04:00\",\"2012-06-26T00:00:00-04:00\",\"2012-06-27T00:00:00-04:00\",\"2012-06-28T00:00:00-04:00\",\"2012-06-29T00:00:00-04:00\",\"2012-07-02T00:00:00-04:00\",\"2012-07-03T00:00:00-04:00\",\"2012-07-05T00:00:00-04:00\",\"2012-07-06T00:00:00-04:00\",\"2012-07-09T00:00:00-04:00\",\"2012-07-10T00:00:00-04:00\",\"2012-07-11T00:00:00-04:00\",\"2012-07-12T00:00:00-04:00\",\"2012-07-13T00:00:00-04:00\",\"2012-07-16T00:00:00-04:00\",\"2012-07-17T00:00:00-04:00\",\"2012-07-18T00:00:00-04:00\",\"2012-07-19T00:00:00-04:00\",\"2012-07-20T00:00:00-04:00\",\"2012-07-23T00:00:00-04:00\",\"2012-07-24T00:00:00-04:00\",\"2012-07-25T00:00:00-04:00\",\"2012-07-26T00:00:00-04:00\",\"2012-07-27T00:00:00-04:00\",\"2012-07-30T00:00:00-04:00\",\"2012-07-31T00:00:00-04:00\",\"2012-08-01T00:00:00-04:00\",\"2012-08-02T00:00:00-04:00\",\"2012-08-03T00:00:00-04:00\",\"2012-08-06T00:00:00-04:00\",\"2012-08-07T00:00:00-04:00\",\"2012-08-08T00:00:00-04:00\",\"2012-08-09T00:00:00-04:00\",\"2012-08-10T00:00:00-04:00\",\"2012-08-13T00:00:00-04:00\",\"2012-08-14T00:00:00-04:00\",\"2012-08-15T00:00:00-04:00\",\"2012-08-16T00:00:00-04:00\",\"2012-08-17T00:00:00-04:00\",\"2012-08-20T00:00:00-04:00\",\"2012-08-21T00:00:00-04:00\",\"2012-08-22T00:00:00-04:00\",\"2012-08-23T00:00:00-04:00\",\"2012-08-24T00:00:00-04:00\",\"2012-08-27T00:00:00-04:00\",\"2012-08-28T00:00:00-04:00\",\"2012-08-29T00:00:00-04:00\",\"2012-08-30T00:00:00-04:00\",\"2012-08-31T00:00:00-04:00\",\"2012-09-04T00:00:00-04:00\",\"2012-09-05T00:00:00-04:00\",\"2012-09-06T00:00:00-04:00\",\"2012-09-07T00:00:00-04:00\",\"2012-09-10T00:00:00-04:00\",\"2012-09-11T00:00:00-04:00\",\"2012-09-12T00:00:00-04:00\",\"2012-09-13T00:00:00-04:00\",\"2012-09-14T00:00:00-04:00\",\"2012-09-17T00:00:00-04:00\",\"2012-09-18T00:00:00-04:00\",\"2012-09-19T00:00:00-04:00\",\"2012-09-20T00:00:00-04:00\",\"2012-09-21T00:00:00-04:00\",\"2012-09-24T00:00:00-04:00\",\"2012-09-25T00:00:00-04:00\",\"2012-09-26T00:00:00-04:00\",\"2012-09-27T00:00:00-04:00\",\"2012-09-28T00:00:00-04:00\",\"2012-10-01T00:00:00-04:00\",\"2012-10-02T00:00:00-04:00\",\"2012-10-03T00:00:00-04:00\",\"2012-10-04T00:00:00-04:00\",\"2012-10-05T00:00:00-04:00\",\"2012-10-08T00:00:00-04:00\",\"2012-10-09T00:00:00-04:00\",\"2012-10-10T00:00:00-04:00\",\"2012-10-11T00:00:00-04:00\",\"2012-10-12T00:00:00-04:00\",\"2012-10-15T00:00:00-04:00\",\"2012-10-16T00:00:00-04:00\",\"2012-10-17T00:00:00-04:00\",\"2012-10-18T00:00:00-04:00\",\"2012-10-19T00:00:00-04:00\",\"2012-10-22T00:00:00-04:00\",\"2012-10-23T00:00:00-04:00\",\"2012-10-24T00:00:00-04:00\",\"2012-10-25T00:00:00-04:00\",\"2012-10-26T00:00:00-04:00\",\"2012-10-31T00:00:00-04:00\",\"2012-11-01T00:00:00-04:00\",\"2012-11-02T00:00:00-04:00\",\"2012-11-05T00:00:00-05:00\",\"2012-11-06T00:00:00-05:00\",\"2012-11-07T00:00:00-05:00\",\"2012-11-08T00:00:00-05:00\",\"2012-11-09T00:00:00-05:00\",\"2012-11-12T00:00:00-05:00\",\"2012-11-13T00:00:00-05:00\",\"2012-11-14T00:00:00-05:00\",\"2012-11-15T00:00:00-05:00\",\"2012-11-16T00:00:00-05:00\",\"2012-11-19T00:00:00-05:00\",\"2012-11-20T00:00:00-05:00\",\"2012-11-21T00:00:00-05:00\",\"2012-11-23T00:00:00-05:00\",\"2012-11-26T00:00:00-05:00\",\"2012-11-27T00:00:00-05:00\",\"2012-11-28T00:00:00-05:00\",\"2012-11-29T00:00:00-05:00\",\"2012-11-30T00:00:00-05:00\",\"2012-12-03T00:00:00-05:00\",\"2012-12-04T00:00:00-05:00\",\"2012-12-05T00:00:00-05:00\",\"2012-12-06T00:00:00-05:00\",\"2012-12-07T00:00:00-05:00\",\"2012-12-10T00:00:00-05:00\",\"2012-12-11T00:00:00-05:00\",\"2012-12-12T00:00:00-05:00\",\"2012-12-13T00:00:00-05:00\",\"2012-12-14T00:00:00-05:00\",\"2012-12-17T00:00:00-05:00\",\"2012-12-18T00:00:00-05:00\",\"2012-12-19T00:00:00-05:00\",\"2012-12-20T00:00:00-05:00\",\"2012-12-21T00:00:00-05:00\",\"2012-12-24T00:00:00-05:00\",\"2012-12-26T00:00:00-05:00\",\"2012-12-27T00:00:00-05:00\",\"2012-12-28T00:00:00-05:00\",\"2012-12-31T00:00:00-05:00\",\"2013-01-02T00:00:00-05:00\",\"2013-01-03T00:00:00-05:00\",\"2013-01-04T00:00:00-05:00\",\"2013-01-07T00:00:00-05:00\",\"2013-01-08T00:00:00-05:00\",\"2013-01-09T00:00:00-05:00\",\"2013-01-10T00:00:00-05:00\",\"2013-01-11T00:00:00-05:00\",\"2013-01-14T00:00:00-05:00\",\"2013-01-15T00:00:00-05:00\",\"2013-01-16T00:00:00-05:00\",\"2013-01-17T00:00:00-05:00\",\"2013-01-18T00:00:00-05:00\",\"2013-01-22T00:00:00-05:00\",\"2013-01-23T00:00:00-05:00\",\"2013-01-24T00:00:00-05:00\",\"2013-01-25T00:00:00-05:00\",\"2013-01-28T00:00:00-05:00\",\"2013-01-29T00:00:00-05:00\",\"2013-01-30T00:00:00-05:00\",\"2013-01-31T00:00:00-05:00\",\"2013-02-01T00:00:00-05:00\",\"2013-02-04T00:00:00-05:00\",\"2013-02-05T00:00:00-05:00\",\"2013-02-06T00:00:00-05:00\",\"2013-02-07T00:00:00-05:00\",\"2013-02-08T00:00:00-05:00\",\"2013-02-11T00:00:00-05:00\",\"2013-02-12T00:00:00-05:00\",\"2013-02-13T00:00:00-05:00\",\"2013-02-14T00:00:00-05:00\",\"2013-02-15T00:00:00-05:00\",\"2013-02-19T00:00:00-05:00\",\"2013-02-20T00:00:00-05:00\",\"2013-02-21T00:00:00-05:00\",\"2013-02-22T00:00:00-05:00\",\"2013-02-25T00:00:00-05:00\",\"2013-02-26T00:00:00-05:00\",\"2013-02-27T00:00:00-05:00\",\"2013-02-28T00:00:00-05:00\",\"2013-03-01T00:00:00-05:00\",\"2013-03-04T00:00:00-05:00\",\"2013-03-05T00:00:00-05:00\",\"2013-03-06T00:00:00-05:00\",\"2013-03-07T00:00:00-05:00\",\"2013-03-08T00:00:00-05:00\",\"2013-03-11T00:00:00-04:00\",\"2013-03-12T00:00:00-04:00\",\"2013-03-13T00:00:00-04:00\",\"2013-03-14T00:00:00-04:00\",\"2013-03-15T00:00:00-04:00\",\"2013-03-18T00:00:00-04:00\",\"2013-03-19T00:00:00-04:00\",\"2013-03-20T00:00:00-04:00\",\"2013-03-21T00:00:00-04:00\",\"2013-03-22T00:00:00-04:00\",\"2013-03-25T00:00:00-04:00\",\"2013-03-26T00:00:00-04:00\",\"2013-03-27T00:00:00-04:00\",\"2013-03-28T00:00:00-04:00\",\"2013-04-01T00:00:00-04:00\",\"2013-04-02T00:00:00-04:00\",\"2013-04-03T00:00:00-04:00\",\"2013-04-04T00:00:00-04:00\",\"2013-04-05T00:00:00-04:00\",\"2013-04-08T00:00:00-04:00\",\"2013-04-09T00:00:00-04:00\",\"2013-04-10T00:00:00-04:00\",\"2013-04-11T00:00:00-04:00\",\"2013-04-12T00:00:00-04:00\",\"2013-04-15T00:00:00-04:00\",\"2013-04-16T00:00:00-04:00\",\"2013-04-17T00:00:00-04:00\",\"2013-04-18T00:00:00-04:00\",\"2013-04-19T00:00:00-04:00\",\"2013-04-22T00:00:00-04:00\",\"2013-04-23T00:00:00-04:00\",\"2013-04-24T00:00:00-04:00\",\"2013-04-25T00:00:00-04:00\",\"2013-04-26T00:00:00-04:00\",\"2013-04-29T00:00:00-04:00\",\"2013-04-30T00:00:00-04:00\",\"2013-05-01T00:00:00-04:00\",\"2013-05-02T00:00:00-04:00\",\"2013-05-03T00:00:00-04:00\",\"2013-05-06T00:00:00-04:00\",\"2013-05-07T00:00:00-04:00\",\"2013-05-08T00:00:00-04:00\",\"2013-05-09T00:00:00-04:00\",\"2013-05-10T00:00:00-04:00\",\"2013-05-13T00:00:00-04:00\",\"2013-05-14T00:00:00-04:00\",\"2013-05-15T00:00:00-04:00\",\"2013-05-16T00:00:00-04:00\",\"2013-05-17T00:00:00-04:00\",\"2013-05-20T00:00:00-04:00\",\"2013-05-21T00:00:00-04:00\",\"2013-05-22T00:00:00-04:00\",\"2013-05-23T00:00:00-04:00\",\"2013-05-24T00:00:00-04:00\",\"2013-05-28T00:00:00-04:00\",\"2013-05-29T00:00:00-04:00\",\"2013-05-30T00:00:00-04:00\",\"2013-05-31T00:00:00-04:00\",\"2013-06-03T00:00:00-04:00\",\"2013-06-04T00:00:00-04:00\",\"2013-06-05T00:00:00-04:00\",\"2013-06-06T00:00:00-04:00\",\"2013-06-07T00:00:00-04:00\",\"2013-06-10T00:00:00-04:00\",\"2013-06-11T00:00:00-04:00\",\"2013-06-12T00:00:00-04:00\",\"2013-06-13T00:00:00-04:00\",\"2013-06-14T00:00:00-04:00\",\"2013-06-17T00:00:00-04:00\",\"2013-06-18T00:00:00-04:00\",\"2013-06-19T00:00:00-04:00\",\"2013-06-20T00:00:00-04:00\",\"2013-06-21T00:00:00-04:00\",\"2013-06-24T00:00:00-04:00\",\"2013-06-25T00:00:00-04:00\",\"2013-06-26T00:00:00-04:00\",\"2013-06-27T00:00:00-04:00\",\"2013-06-28T00:00:00-04:00\",\"2013-07-01T00:00:00-04:00\",\"2013-07-02T00:00:00-04:00\",\"2013-07-03T00:00:00-04:00\",\"2013-07-05T00:00:00-04:00\",\"2013-07-08T00:00:00-04:00\",\"2013-07-09T00:00:00-04:00\",\"2013-07-10T00:00:00-04:00\",\"2013-07-11T00:00:00-04:00\",\"2013-07-12T00:00:00-04:00\",\"2013-07-15T00:00:00-04:00\",\"2013-07-16T00:00:00-04:00\",\"2013-07-17T00:00:00-04:00\",\"2013-07-18T00:00:00-04:00\",\"2013-07-19T00:00:00-04:00\",\"2013-07-22T00:00:00-04:00\",\"2013-07-23T00:00:00-04:00\",\"2013-07-24T00:00:00-04:00\",\"2013-07-25T00:00:00-04:00\",\"2013-07-26T00:00:00-04:00\",\"2013-07-29T00:00:00-04:00\",\"2013-07-30T00:00:00-04:00\",\"2013-07-31T00:00:00-04:00\",\"2013-08-01T00:00:00-04:00\",\"2013-08-02T00:00:00-04:00\",\"2013-08-05T00:00:00-04:00\",\"2013-08-06T00:00:00-04:00\",\"2013-08-07T00:00:00-04:00\",\"2013-08-08T00:00:00-04:00\",\"2013-08-09T00:00:00-04:00\",\"2013-08-12T00:00:00-04:00\",\"2013-08-13T00:00:00-04:00\",\"2013-08-14T00:00:00-04:00\",\"2013-08-15T00:00:00-04:00\",\"2013-08-16T00:00:00-04:00\",\"2013-08-19T00:00:00-04:00\",\"2013-08-20T00:00:00-04:00\",\"2013-08-21T00:00:00-04:00\",\"2013-08-22T00:00:00-04:00\",\"2013-08-23T00:00:00-04:00\",\"2013-08-26T00:00:00-04:00\",\"2013-08-27T00:00:00-04:00\",\"2013-08-28T00:00:00-04:00\",\"2013-08-29T00:00:00-04:00\",\"2013-08-30T00:00:00-04:00\",\"2013-09-03T00:00:00-04:00\",\"2013-09-04T00:00:00-04:00\",\"2013-09-05T00:00:00-04:00\",\"2013-09-06T00:00:00-04:00\",\"2013-09-09T00:00:00-04:00\",\"2013-09-10T00:00:00-04:00\",\"2013-09-11T00:00:00-04:00\",\"2013-09-12T00:00:00-04:00\",\"2013-09-13T00:00:00-04:00\",\"2013-09-16T00:00:00-04:00\",\"2013-09-17T00:00:00-04:00\",\"2013-09-18T00:00:00-04:00\",\"2013-09-19T00:00:00-04:00\",\"2013-09-20T00:00:00-04:00\",\"2013-09-23T00:00:00-04:00\",\"2013-09-24T00:00:00-04:00\",\"2013-09-25T00:00:00-04:00\",\"2013-09-26T00:00:00-04:00\",\"2013-09-27T00:00:00-04:00\",\"2013-09-30T00:00:00-04:00\",\"2013-10-01T00:00:00-04:00\",\"2013-10-02T00:00:00-04:00\",\"2013-10-03T00:00:00-04:00\",\"2013-10-04T00:00:00-04:00\",\"2013-10-07T00:00:00-04:00\",\"2013-10-08T00:00:00-04:00\",\"2013-10-09T00:00:00-04:00\",\"2013-10-10T00:00:00-04:00\",\"2013-10-11T00:00:00-04:00\",\"2013-10-14T00:00:00-04:00\",\"2013-10-15T00:00:00-04:00\",\"2013-10-16T00:00:00-04:00\",\"2013-10-17T00:00:00-04:00\",\"2013-10-18T00:00:00-04:00\",\"2013-10-21T00:00:00-04:00\",\"2013-10-22T00:00:00-04:00\",\"2013-10-23T00:00:00-04:00\",\"2013-10-24T00:00:00-04:00\",\"2013-10-25T00:00:00-04:00\",\"2013-10-28T00:00:00-04:00\",\"2013-10-29T00:00:00-04:00\",\"2013-10-30T00:00:00-04:00\",\"2013-10-31T00:00:00-04:00\",\"2013-11-01T00:00:00-04:00\",\"2013-11-04T00:00:00-05:00\",\"2013-11-05T00:00:00-05:00\",\"2013-11-06T00:00:00-05:00\",\"2013-11-07T00:00:00-05:00\",\"2013-11-08T00:00:00-05:00\",\"2013-11-11T00:00:00-05:00\",\"2013-11-12T00:00:00-05:00\",\"2013-11-13T00:00:00-05:00\",\"2013-11-14T00:00:00-05:00\",\"2013-11-15T00:00:00-05:00\",\"2013-11-18T00:00:00-05:00\",\"2013-11-19T00:00:00-05:00\",\"2013-11-20T00:00:00-05:00\",\"2013-11-21T00:00:00-05:00\",\"2013-11-22T00:00:00-05:00\",\"2013-11-25T00:00:00-05:00\",\"2013-11-26T00:00:00-05:00\",\"2013-11-27T00:00:00-05:00\",\"2013-11-29T00:00:00-05:00\",\"2013-12-02T00:00:00-05:00\",\"2013-12-03T00:00:00-05:00\",\"2013-12-04T00:00:00-05:00\",\"2013-12-05T00:00:00-05:00\",\"2013-12-06T00:00:00-05:00\",\"2013-12-09T00:00:00-05:00\",\"2013-12-10T00:00:00-05:00\",\"2013-12-11T00:00:00-05:00\",\"2013-12-12T00:00:00-05:00\",\"2013-12-13T00:00:00-05:00\",\"2013-12-16T00:00:00-05:00\",\"2013-12-17T00:00:00-05:00\",\"2013-12-18T00:00:00-05:00\",\"2013-12-19T00:00:00-05:00\",\"2013-12-20T00:00:00-05:00\",\"2013-12-23T00:00:00-05:00\",\"2013-12-24T00:00:00-05:00\",\"2013-12-26T00:00:00-05:00\",\"2013-12-27T00:00:00-05:00\",\"2013-12-30T00:00:00-05:00\",\"2013-12-31T00:00:00-05:00\",\"2014-01-02T00:00:00-05:00\",\"2014-01-03T00:00:00-05:00\",\"2014-01-06T00:00:00-05:00\",\"2014-01-07T00:00:00-05:00\",\"2014-01-08T00:00:00-05:00\",\"2014-01-09T00:00:00-05:00\",\"2014-01-10T00:00:00-05:00\",\"2014-01-13T00:00:00-05:00\",\"2014-01-14T00:00:00-05:00\",\"2014-01-15T00:00:00-05:00\",\"2014-01-16T00:00:00-05:00\",\"2014-01-17T00:00:00-05:00\",\"2014-01-21T00:00:00-05:00\",\"2014-01-22T00:00:00-05:00\",\"2014-01-23T00:00:00-05:00\",\"2014-01-24T00:00:00-05:00\",\"2014-01-27T00:00:00-05:00\",\"2014-01-28T00:00:00-05:00\",\"2014-01-29T00:00:00-05:00\",\"2014-01-30T00:00:00-05:00\",\"2014-01-31T00:00:00-05:00\",\"2014-02-03T00:00:00-05:00\",\"2014-02-04T00:00:00-05:00\",\"2014-02-05T00:00:00-05:00\",\"2014-02-06T00:00:00-05:00\",\"2014-02-07T00:00:00-05:00\",\"2014-02-10T00:00:00-05:00\",\"2014-02-11T00:00:00-05:00\",\"2014-02-12T00:00:00-05:00\",\"2014-02-13T00:00:00-05:00\",\"2014-02-14T00:00:00-05:00\",\"2014-02-18T00:00:00-05:00\",\"2014-02-19T00:00:00-05:00\",\"2014-02-20T00:00:00-05:00\",\"2014-02-21T00:00:00-05:00\",\"2014-02-24T00:00:00-05:00\",\"2014-02-25T00:00:00-05:00\",\"2014-02-26T00:00:00-05:00\",\"2014-02-27T00:00:00-05:00\",\"2014-02-28T00:00:00-05:00\",\"2014-03-03T00:00:00-05:00\",\"2014-03-04T00:00:00-05:00\",\"2014-03-05T00:00:00-05:00\",\"2014-03-06T00:00:00-05:00\",\"2014-03-07T00:00:00-05:00\",\"2014-03-10T00:00:00-04:00\",\"2014-03-11T00:00:00-04:00\",\"2014-03-12T00:00:00-04:00\",\"2014-03-13T00:00:00-04:00\",\"2014-03-14T00:00:00-04:00\",\"2014-03-17T00:00:00-04:00\",\"2014-03-18T00:00:00-04:00\",\"2014-03-19T00:00:00-04:00\",\"2014-03-20T00:00:00-04:00\",\"2014-03-21T00:00:00-04:00\",\"2014-03-24T00:00:00-04:00\",\"2014-03-25T00:00:00-04:00\",\"2014-03-26T00:00:00-04:00\",\"2014-03-27T00:00:00-04:00\",\"2014-03-28T00:00:00-04:00\",\"2014-03-31T00:00:00-04:00\",\"2014-04-01T00:00:00-04:00\",\"2014-04-02T00:00:00-04:00\",\"2014-04-03T00:00:00-04:00\",\"2014-04-04T00:00:00-04:00\",\"2014-04-07T00:00:00-04:00\",\"2014-04-08T00:00:00-04:00\",\"2014-04-09T00:00:00-04:00\",\"2014-04-10T00:00:00-04:00\",\"2014-04-11T00:00:00-04:00\",\"2014-04-14T00:00:00-04:00\",\"2014-04-15T00:00:00-04:00\",\"2014-04-16T00:00:00-04:00\",\"2014-04-17T00:00:00-04:00\",\"2014-04-21T00:00:00-04:00\",\"2014-04-22T00:00:00-04:00\",\"2014-04-23T00:00:00-04:00\",\"2014-04-24T00:00:00-04:00\",\"2014-04-25T00:00:00-04:00\",\"2014-04-28T00:00:00-04:00\",\"2014-04-29T00:00:00-04:00\",\"2014-04-30T00:00:00-04:00\",\"2014-05-01T00:00:00-04:00\",\"2014-05-02T00:00:00-04:00\",\"2014-05-05T00:00:00-04:00\",\"2014-05-06T00:00:00-04:00\",\"2014-05-07T00:00:00-04:00\",\"2014-05-08T00:00:00-04:00\",\"2014-05-09T00:00:00-04:00\",\"2014-05-12T00:00:00-04:00\",\"2014-05-13T00:00:00-04:00\",\"2014-05-14T00:00:00-04:00\",\"2014-05-15T00:00:00-04:00\",\"2014-05-16T00:00:00-04:00\",\"2014-05-19T00:00:00-04:00\",\"2014-05-20T00:00:00-04:00\",\"2014-05-21T00:00:00-04:00\",\"2014-05-22T00:00:00-04:00\",\"2014-05-23T00:00:00-04:00\",\"2014-05-27T00:00:00-04:00\",\"2014-05-28T00:00:00-04:00\",\"2014-05-29T00:00:00-04:00\",\"2014-05-30T00:00:00-04:00\",\"2014-06-02T00:00:00-04:00\",\"2014-06-03T00:00:00-04:00\",\"2014-06-04T00:00:00-04:00\",\"2014-06-05T00:00:00-04:00\",\"2014-06-06T00:00:00-04:00\",\"2014-06-09T00:00:00-04:00\",\"2014-06-10T00:00:00-04:00\",\"2014-06-11T00:00:00-04:00\",\"2014-06-12T00:00:00-04:00\",\"2014-06-13T00:00:00-04:00\",\"2014-06-16T00:00:00-04:00\",\"2014-06-17T00:00:00-04:00\",\"2014-06-18T00:00:00-04:00\",\"2014-06-19T00:00:00-04:00\",\"2014-06-20T00:00:00-04:00\",\"2014-06-23T00:00:00-04:00\",\"2014-06-24T00:00:00-04:00\",\"2014-06-25T00:00:00-04:00\",\"2014-06-26T00:00:00-04:00\",\"2014-06-27T00:00:00-04:00\",\"2014-06-30T00:00:00-04:00\",\"2014-07-01T00:00:00-04:00\",\"2014-07-02T00:00:00-04:00\",\"2014-07-03T00:00:00-04:00\",\"2014-07-07T00:00:00-04:00\",\"2014-07-08T00:00:00-04:00\",\"2014-07-09T00:00:00-04:00\",\"2014-07-10T00:00:00-04:00\",\"2014-07-11T00:00:00-04:00\",\"2014-07-14T00:00:00-04:00\",\"2014-07-15T00:00:00-04:00\",\"2014-07-16T00:00:00-04:00\",\"2014-07-17T00:00:00-04:00\",\"2014-07-18T00:00:00-04:00\",\"2014-07-21T00:00:00-04:00\",\"2014-07-22T00:00:00-04:00\",\"2014-07-23T00:00:00-04:00\",\"2014-07-24T00:00:00-04:00\",\"2014-07-25T00:00:00-04:00\",\"2014-07-28T00:00:00-04:00\",\"2014-07-29T00:00:00-04:00\",\"2014-07-30T00:00:00-04:00\",\"2014-07-31T00:00:00-04:00\",\"2014-08-01T00:00:00-04:00\",\"2014-08-04T00:00:00-04:00\",\"2014-08-05T00:00:00-04:00\",\"2014-08-06T00:00:00-04:00\",\"2014-08-07T00:00:00-04:00\",\"2014-08-08T00:00:00-04:00\",\"2014-08-11T00:00:00-04:00\",\"2014-08-12T00:00:00-04:00\",\"2014-08-13T00:00:00-04:00\",\"2014-08-14T00:00:00-04:00\",\"2014-08-15T00:00:00-04:00\",\"2014-08-18T00:00:00-04:00\",\"2014-08-19T00:00:00-04:00\",\"2014-08-20T00:00:00-04:00\",\"2014-08-21T00:00:00-04:00\",\"2014-08-22T00:00:00-04:00\",\"2014-08-25T00:00:00-04:00\",\"2014-08-26T00:00:00-04:00\",\"2014-08-27T00:00:00-04:00\",\"2014-08-28T00:00:00-04:00\",\"2014-08-29T00:00:00-04:00\",\"2014-09-02T00:00:00-04:00\",\"2014-09-03T00:00:00-04:00\",\"2014-09-04T00:00:00-04:00\",\"2014-09-05T00:00:00-04:00\",\"2014-09-08T00:00:00-04:00\",\"2014-09-09T00:00:00-04:00\",\"2014-09-10T00:00:00-04:00\",\"2014-09-11T00:00:00-04:00\",\"2014-09-12T00:00:00-04:00\",\"2014-09-15T00:00:00-04:00\",\"2014-09-16T00:00:00-04:00\",\"2014-09-17T00:00:00-04:00\",\"2014-09-18T00:00:00-04:00\",\"2014-09-19T00:00:00-04:00\",\"2014-09-22T00:00:00-04:00\",\"2014-09-23T00:00:00-04:00\",\"2014-09-24T00:00:00-04:00\",\"2014-09-25T00:00:00-04:00\",\"2014-09-26T00:00:00-04:00\",\"2014-09-29T00:00:00-04:00\",\"2014-09-30T00:00:00-04:00\",\"2014-10-01T00:00:00-04:00\",\"2014-10-02T00:00:00-04:00\",\"2014-10-03T00:00:00-04:00\",\"2014-10-06T00:00:00-04:00\",\"2014-10-07T00:00:00-04:00\",\"2014-10-08T00:00:00-04:00\",\"2014-10-09T00:00:00-04:00\",\"2014-10-10T00:00:00-04:00\",\"2014-10-13T00:00:00-04:00\",\"2014-10-14T00:00:00-04:00\",\"2014-10-15T00:00:00-04:00\",\"2014-10-16T00:00:00-04:00\",\"2014-10-17T00:00:00-04:00\",\"2014-10-20T00:00:00-04:00\",\"2014-10-21T00:00:00-04:00\",\"2014-10-22T00:00:00-04:00\",\"2014-10-23T00:00:00-04:00\",\"2014-10-24T00:00:00-04:00\",\"2014-10-27T00:00:00-04:00\",\"2014-10-28T00:00:00-04:00\",\"2014-10-29T00:00:00-04:00\",\"2014-10-30T00:00:00-04:00\",\"2014-10-31T00:00:00-04:00\",\"2014-11-03T00:00:00-05:00\",\"2014-11-04T00:00:00-05:00\",\"2014-11-05T00:00:00-05:00\",\"2014-11-06T00:00:00-05:00\",\"2014-11-07T00:00:00-05:00\",\"2014-11-10T00:00:00-05:00\",\"2014-11-11T00:00:00-05:00\",\"2014-11-12T00:00:00-05:00\",\"2014-11-13T00:00:00-05:00\",\"2014-11-14T00:00:00-05:00\",\"2014-11-17T00:00:00-05:00\",\"2014-11-18T00:00:00-05:00\",\"2014-11-19T00:00:00-05:00\",\"2014-11-20T00:00:00-05:00\",\"2014-11-21T00:00:00-05:00\",\"2014-11-24T00:00:00-05:00\",\"2014-11-25T00:00:00-05:00\",\"2014-11-26T00:00:00-05:00\",\"2014-11-28T00:00:00-05:00\",\"2014-12-01T00:00:00-05:00\",\"2014-12-02T00:00:00-05:00\",\"2014-12-03T00:00:00-05:00\",\"2014-12-04T00:00:00-05:00\",\"2014-12-05T00:00:00-05:00\",\"2014-12-08T00:00:00-05:00\",\"2014-12-09T00:00:00-05:00\",\"2014-12-10T00:00:00-05:00\",\"2014-12-11T00:00:00-05:00\",\"2014-12-12T00:00:00-05:00\",\"2014-12-15T00:00:00-05:00\",\"2014-12-16T00:00:00-05:00\",\"2014-12-17T00:00:00-05:00\",\"2014-12-18T00:00:00-05:00\",\"2014-12-19T00:00:00-05:00\",\"2014-12-22T00:00:00-05:00\",\"2014-12-23T00:00:00-05:00\",\"2014-12-24T00:00:00-05:00\",\"2014-12-26T00:00:00-05:00\",\"2014-12-29T00:00:00-05:00\",\"2014-12-30T00:00:00-05:00\",\"2014-12-31T00:00:00-05:00\",\"2015-01-02T00:00:00-05:00\",\"2015-01-05T00:00:00-05:00\",\"2015-01-06T00:00:00-05:00\",\"2015-01-07T00:00:00-05:00\",\"2015-01-08T00:00:00-05:00\",\"2015-01-09T00:00:00-05:00\",\"2015-01-12T00:00:00-05:00\",\"2015-01-13T00:00:00-05:00\",\"2015-01-14T00:00:00-05:00\",\"2015-01-15T00:00:00-05:00\",\"2015-01-16T00:00:00-05:00\",\"2015-01-20T00:00:00-05:00\",\"2015-01-21T00:00:00-05:00\",\"2015-01-22T00:00:00-05:00\",\"2015-01-23T00:00:00-05:00\",\"2015-01-26T00:00:00-05:00\",\"2015-01-27T00:00:00-05:00\",\"2015-01-28T00:00:00-05:00\",\"2015-01-29T00:00:00-05:00\",\"2015-01-30T00:00:00-05:00\",\"2015-02-02T00:00:00-05:00\",\"2015-02-03T00:00:00-05:00\",\"2015-02-04T00:00:00-05:00\",\"2015-02-05T00:00:00-05:00\",\"2015-02-06T00:00:00-05:00\",\"2015-02-09T00:00:00-05:00\",\"2015-02-10T00:00:00-05:00\",\"2015-02-11T00:00:00-05:00\",\"2015-02-12T00:00:00-05:00\",\"2015-02-13T00:00:00-05:00\",\"2015-02-17T00:00:00-05:00\",\"2015-02-18T00:00:00-05:00\",\"2015-02-19T00:00:00-05:00\",\"2015-02-20T00:00:00-05:00\",\"2015-02-23T00:00:00-05:00\",\"2015-02-24T00:00:00-05:00\",\"2015-02-25T00:00:00-05:00\",\"2015-02-26T00:00:00-05:00\",\"2015-02-27T00:00:00-05:00\",\"2015-03-02T00:00:00-05:00\",\"2015-03-03T00:00:00-05:00\",\"2015-03-04T00:00:00-05:00\",\"2015-03-05T00:00:00-05:00\",\"2015-03-06T00:00:00-05:00\",\"2015-03-09T00:00:00-04:00\",\"2015-03-10T00:00:00-04:00\",\"2015-03-11T00:00:00-04:00\",\"2015-03-12T00:00:00-04:00\",\"2015-03-13T00:00:00-04:00\",\"2015-03-16T00:00:00-04:00\",\"2015-03-17T00:00:00-04:00\",\"2015-03-18T00:00:00-04:00\",\"2015-03-19T00:00:00-04:00\",\"2015-03-20T00:00:00-04:00\",\"2015-03-23T00:00:00-04:00\",\"2015-03-24T00:00:00-04:00\",\"2015-03-25T00:00:00-04:00\",\"2015-03-26T00:00:00-04:00\",\"2015-03-27T00:00:00-04:00\",\"2015-03-30T00:00:00-04:00\",\"2015-03-31T00:00:00-04:00\",\"2015-04-01T00:00:00-04:00\",\"2015-04-02T00:00:00-04:00\",\"2015-04-06T00:00:00-04:00\",\"2015-04-07T00:00:00-04:00\",\"2015-04-08T00:00:00-04:00\",\"2015-04-09T00:00:00-04:00\",\"2015-04-10T00:00:00-04:00\",\"2015-04-13T00:00:00-04:00\",\"2015-04-14T00:00:00-04:00\",\"2015-04-15T00:00:00-04:00\",\"2015-04-16T00:00:00-04:00\",\"2015-04-17T00:00:00-04:00\",\"2015-04-20T00:00:00-04:00\",\"2015-04-21T00:00:00-04:00\",\"2015-04-22T00:00:00-04:00\",\"2015-04-23T00:00:00-04:00\",\"2015-04-24T00:00:00-04:00\",\"2015-04-27T00:00:00-04:00\",\"2015-04-28T00:00:00-04:00\",\"2015-04-29T00:00:00-04:00\",\"2015-04-30T00:00:00-04:00\",\"2015-05-01T00:00:00-04:00\",\"2015-05-04T00:00:00-04:00\",\"2015-05-05T00:00:00-04:00\",\"2015-05-06T00:00:00-04:00\",\"2015-05-07T00:00:00-04:00\",\"2015-05-08T00:00:00-04:00\",\"2015-05-11T00:00:00-04:00\",\"2015-05-12T00:00:00-04:00\",\"2015-05-13T00:00:00-04:00\",\"2015-05-14T00:00:00-04:00\",\"2015-05-15T00:00:00-04:00\",\"2015-05-18T00:00:00-04:00\",\"2015-05-19T00:00:00-04:00\",\"2015-05-20T00:00:00-04:00\",\"2015-05-21T00:00:00-04:00\",\"2015-05-22T00:00:00-04:00\",\"2015-05-26T00:00:00-04:00\",\"2015-05-27T00:00:00-04:00\",\"2015-05-28T00:00:00-04:00\",\"2015-05-29T00:00:00-04:00\",\"2015-06-01T00:00:00-04:00\",\"2015-06-02T00:00:00-04:00\",\"2015-06-03T00:00:00-04:00\",\"2015-06-04T00:00:00-04:00\",\"2015-06-05T00:00:00-04:00\",\"2015-06-08T00:00:00-04:00\",\"2015-06-09T00:00:00-04:00\",\"2015-06-10T00:00:00-04:00\",\"2015-06-11T00:00:00-04:00\",\"2015-06-12T00:00:00-04:00\",\"2015-06-15T00:00:00-04:00\",\"2015-06-16T00:00:00-04:00\",\"2015-06-17T00:00:00-04:00\",\"2015-06-18T00:00:00-04:00\",\"2015-06-19T00:00:00-04:00\",\"2015-06-22T00:00:00-04:00\",\"2015-06-23T00:00:00-04:00\",\"2015-06-24T00:00:00-04:00\",\"2015-06-25T00:00:00-04:00\",\"2015-06-26T00:00:00-04:00\",\"2015-06-29T00:00:00-04:00\",\"2015-06-30T00:00:00-04:00\",\"2015-07-01T00:00:00-04:00\",\"2015-07-02T00:00:00-04:00\",\"2015-07-06T00:00:00-04:00\",\"2015-07-07T00:00:00-04:00\",\"2015-07-08T00:00:00-04:00\",\"2015-07-09T00:00:00-04:00\",\"2015-07-10T00:00:00-04:00\",\"2015-07-13T00:00:00-04:00\",\"2015-07-14T00:00:00-04:00\",\"2015-07-15T00:00:00-04:00\",\"2015-07-16T00:00:00-04:00\",\"2015-07-17T00:00:00-04:00\",\"2015-07-20T00:00:00-04:00\",\"2015-07-21T00:00:00-04:00\",\"2015-07-22T00:00:00-04:00\",\"2015-07-23T00:00:00-04:00\",\"2015-07-24T00:00:00-04:00\",\"2015-07-27T00:00:00-04:00\",\"2015-07-28T00:00:00-04:00\",\"2015-07-29T00:00:00-04:00\",\"2015-07-30T00:00:00-04:00\",\"2015-07-31T00:00:00-04:00\",\"2015-08-03T00:00:00-04:00\",\"2015-08-04T00:00:00-04:00\",\"2015-08-05T00:00:00-04:00\",\"2015-08-06T00:00:00-04:00\",\"2015-08-07T00:00:00-04:00\",\"2015-08-10T00:00:00-04:00\",\"2015-08-11T00:00:00-04:00\",\"2015-08-12T00:00:00-04:00\",\"2015-08-13T00:00:00-04:00\",\"2015-08-14T00:00:00-04:00\",\"2015-08-17T00:00:00-04:00\",\"2015-08-18T00:00:00-04:00\",\"2015-08-19T00:00:00-04:00\",\"2015-08-20T00:00:00-04:00\",\"2015-08-21T00:00:00-04:00\",\"2015-08-24T00:00:00-04:00\",\"2015-08-25T00:00:00-04:00\",\"2015-08-26T00:00:00-04:00\",\"2015-08-27T00:00:00-04:00\",\"2015-08-28T00:00:00-04:00\",\"2015-08-31T00:00:00-04:00\",\"2015-09-01T00:00:00-04:00\",\"2015-09-02T00:00:00-04:00\",\"2015-09-03T00:00:00-04:00\",\"2015-09-04T00:00:00-04:00\",\"2015-09-08T00:00:00-04:00\",\"2015-09-09T00:00:00-04:00\",\"2015-09-10T00:00:00-04:00\",\"2015-09-11T00:00:00-04:00\",\"2015-09-14T00:00:00-04:00\",\"2015-09-15T00:00:00-04:00\",\"2015-09-16T00:00:00-04:00\",\"2015-09-17T00:00:00-04:00\",\"2015-09-18T00:00:00-04:00\",\"2015-09-21T00:00:00-04:00\",\"2015-09-22T00:00:00-04:00\",\"2015-09-23T00:00:00-04:00\",\"2015-09-24T00:00:00-04:00\",\"2015-09-25T00:00:00-04:00\",\"2015-09-28T00:00:00-04:00\",\"2015-09-29T00:00:00-04:00\",\"2015-09-30T00:00:00-04:00\",\"2015-10-01T00:00:00-04:00\",\"2015-10-02T00:00:00-04:00\",\"2015-10-05T00:00:00-04:00\",\"2015-10-06T00:00:00-04:00\",\"2015-10-07T00:00:00-04:00\",\"2015-10-08T00:00:00-04:00\",\"2015-10-09T00:00:00-04:00\",\"2015-10-12T00:00:00-04:00\",\"2015-10-13T00:00:00-04:00\",\"2015-10-14T00:00:00-04:00\",\"2015-10-15T00:00:00-04:00\",\"2015-10-16T00:00:00-04:00\",\"2015-10-19T00:00:00-04:00\",\"2015-10-20T00:00:00-04:00\",\"2015-10-21T00:00:00-04:00\",\"2015-10-22T00:00:00-04:00\",\"2015-10-23T00:00:00-04:00\",\"2015-10-26T00:00:00-04:00\",\"2015-10-27T00:00:00-04:00\",\"2015-10-28T00:00:00-04:00\",\"2015-10-29T00:00:00-04:00\",\"2015-10-30T00:00:00-04:00\",\"2015-11-02T00:00:00-05:00\",\"2015-11-03T00:00:00-05:00\",\"2015-11-04T00:00:00-05:00\",\"2015-11-05T00:00:00-05:00\",\"2015-11-06T00:00:00-05:00\",\"2015-11-09T00:00:00-05:00\",\"2015-11-10T00:00:00-05:00\",\"2015-11-11T00:00:00-05:00\",\"2015-11-12T00:00:00-05:00\",\"2015-11-13T00:00:00-05:00\",\"2015-11-16T00:00:00-05:00\",\"2015-11-17T00:00:00-05:00\",\"2015-11-18T00:00:00-05:00\",\"2015-11-19T00:00:00-05:00\",\"2015-11-20T00:00:00-05:00\",\"2015-11-23T00:00:00-05:00\",\"2015-11-24T00:00:00-05:00\",\"2015-11-25T00:00:00-05:00\",\"2015-11-27T00:00:00-05:00\",\"2015-11-30T00:00:00-05:00\",\"2015-12-01T00:00:00-05:00\",\"2015-12-02T00:00:00-05:00\",\"2015-12-03T00:00:00-05:00\",\"2015-12-04T00:00:00-05:00\",\"2015-12-07T00:00:00-05:00\",\"2015-12-08T00:00:00-05:00\",\"2015-12-09T00:00:00-05:00\",\"2015-12-10T00:00:00-05:00\",\"2015-12-11T00:00:00-05:00\",\"2015-12-14T00:00:00-05:00\",\"2015-12-15T00:00:00-05:00\",\"2015-12-16T00:00:00-05:00\",\"2015-12-17T00:00:00-05:00\",\"2015-12-18T00:00:00-05:00\",\"2015-12-21T00:00:00-05:00\",\"2015-12-22T00:00:00-05:00\",\"2015-12-23T00:00:00-05:00\",\"2015-12-24T00:00:00-05:00\",\"2015-12-28T00:00:00-05:00\",\"2015-12-29T00:00:00-05:00\",\"2015-12-30T00:00:00-05:00\",\"2015-12-31T00:00:00-05:00\",\"2016-01-04T00:00:00-05:00\",\"2016-01-05T00:00:00-05:00\",\"2016-01-06T00:00:00-05:00\",\"2016-01-07T00:00:00-05:00\",\"2016-01-08T00:00:00-05:00\",\"2016-01-11T00:00:00-05:00\",\"2016-01-12T00:00:00-05:00\",\"2016-01-13T00:00:00-05:00\",\"2016-01-14T00:00:00-05:00\",\"2016-01-15T00:00:00-05:00\",\"2016-01-19T00:00:00-05:00\",\"2016-01-20T00:00:00-05:00\",\"2016-01-21T00:00:00-05:00\",\"2016-01-22T00:00:00-05:00\",\"2016-01-25T00:00:00-05:00\",\"2016-01-26T00:00:00-05:00\",\"2016-01-27T00:00:00-05:00\",\"2016-01-28T00:00:00-05:00\",\"2016-01-29T00:00:00-05:00\",\"2016-02-01T00:00:00-05:00\",\"2016-02-02T00:00:00-05:00\",\"2016-02-03T00:00:00-05:00\",\"2016-02-04T00:00:00-05:00\",\"2016-02-05T00:00:00-05:00\",\"2016-02-08T00:00:00-05:00\",\"2016-02-09T00:00:00-05:00\",\"2016-02-10T00:00:00-05:00\",\"2016-02-11T00:00:00-05:00\",\"2016-02-12T00:00:00-05:00\",\"2016-02-16T00:00:00-05:00\",\"2016-02-17T00:00:00-05:00\",\"2016-02-18T00:00:00-05:00\",\"2016-02-19T00:00:00-05:00\",\"2016-02-22T00:00:00-05:00\",\"2016-02-23T00:00:00-05:00\",\"2016-02-24T00:00:00-05:00\",\"2016-02-25T00:00:00-05:00\",\"2016-02-26T00:00:00-05:00\",\"2016-02-29T00:00:00-05:00\",\"2016-03-01T00:00:00-05:00\",\"2016-03-02T00:00:00-05:00\",\"2016-03-03T00:00:00-05:00\",\"2016-03-04T00:00:00-05:00\",\"2016-03-07T00:00:00-05:00\",\"2016-03-08T00:00:00-05:00\",\"2016-03-09T00:00:00-05:00\",\"2016-03-10T00:00:00-05:00\",\"2016-03-11T00:00:00-05:00\",\"2016-03-14T00:00:00-04:00\",\"2016-03-15T00:00:00-04:00\",\"2016-03-16T00:00:00-04:00\",\"2016-03-17T00:00:00-04:00\",\"2016-03-18T00:00:00-04:00\",\"2016-03-21T00:00:00-04:00\",\"2016-03-22T00:00:00-04:00\",\"2016-03-23T00:00:00-04:00\",\"2016-03-24T00:00:00-04:00\",\"2016-03-28T00:00:00-04:00\",\"2016-03-29T00:00:00-04:00\",\"2016-03-30T00:00:00-04:00\",\"2016-03-31T00:00:00-04:00\",\"2016-04-01T00:00:00-04:00\",\"2016-04-04T00:00:00-04:00\",\"2016-04-05T00:00:00-04:00\",\"2016-04-06T00:00:00-04:00\",\"2016-04-07T00:00:00-04:00\",\"2016-04-08T00:00:00-04:00\",\"2016-04-11T00:00:00-04:00\",\"2016-04-12T00:00:00-04:00\",\"2016-04-13T00:00:00-04:00\",\"2016-04-14T00:00:00-04:00\",\"2016-04-15T00:00:00-04:00\",\"2016-04-18T00:00:00-04:00\",\"2016-04-19T00:00:00-04:00\",\"2016-04-20T00:00:00-04:00\",\"2016-04-21T00:00:00-04:00\",\"2016-04-22T00:00:00-04:00\",\"2016-04-25T00:00:00-04:00\",\"2016-04-26T00:00:00-04:00\",\"2016-04-27T00:00:00-04:00\",\"2016-04-28T00:00:00-04:00\",\"2016-04-29T00:00:00-04:00\",\"2016-05-02T00:00:00-04:00\",\"2016-05-03T00:00:00-04:00\",\"2016-05-04T00:00:00-04:00\",\"2016-05-05T00:00:00-04:00\",\"2016-05-06T00:00:00-04:00\",\"2016-05-09T00:00:00-04:00\",\"2016-05-10T00:00:00-04:00\",\"2016-05-11T00:00:00-04:00\",\"2016-05-12T00:00:00-04:00\",\"2016-05-13T00:00:00-04:00\",\"2016-05-16T00:00:00-04:00\",\"2016-05-17T00:00:00-04:00\",\"2016-05-18T00:00:00-04:00\",\"2016-05-19T00:00:00-04:00\",\"2016-05-20T00:00:00-04:00\",\"2016-05-23T00:00:00-04:00\",\"2016-05-24T00:00:00-04:00\",\"2016-05-25T00:00:00-04:00\",\"2016-05-26T00:00:00-04:00\",\"2016-05-27T00:00:00-04:00\",\"2016-05-31T00:00:00-04:00\",\"2016-06-01T00:00:00-04:00\",\"2016-06-02T00:00:00-04:00\",\"2016-06-03T00:00:00-04:00\",\"2016-06-06T00:00:00-04:00\",\"2016-06-07T00:00:00-04:00\",\"2016-06-08T00:00:00-04:00\",\"2016-06-09T00:00:00-04:00\",\"2016-06-10T00:00:00-04:00\",\"2016-06-13T00:00:00-04:00\",\"2016-06-14T00:00:00-04:00\",\"2016-06-15T00:00:00-04:00\",\"2016-06-16T00:00:00-04:00\",\"2016-06-17T00:00:00-04:00\",\"2016-06-20T00:00:00-04:00\",\"2016-06-21T00:00:00-04:00\",\"2016-06-22T00:00:00-04:00\",\"2016-06-23T00:00:00-04:00\",\"2016-06-24T00:00:00-04:00\",\"2016-06-27T00:00:00-04:00\",\"2016-06-28T00:00:00-04:00\",\"2016-06-29T00:00:00-04:00\",\"2016-06-30T00:00:00-04:00\",\"2016-07-01T00:00:00-04:00\",\"2016-07-05T00:00:00-04:00\",\"2016-07-06T00:00:00-04:00\",\"2016-07-07T00:00:00-04:00\",\"2016-07-08T00:00:00-04:00\",\"2016-07-11T00:00:00-04:00\",\"2016-07-12T00:00:00-04:00\",\"2016-07-13T00:00:00-04:00\",\"2016-07-14T00:00:00-04:00\",\"2016-07-15T00:00:00-04:00\",\"2016-07-18T00:00:00-04:00\",\"2016-07-19T00:00:00-04:00\",\"2016-07-20T00:00:00-04:00\",\"2016-07-21T00:00:00-04:00\",\"2016-07-22T00:00:00-04:00\",\"2016-07-25T00:00:00-04:00\",\"2016-07-26T00:00:00-04:00\",\"2016-07-27T00:00:00-04:00\",\"2016-07-28T00:00:00-04:00\",\"2016-07-29T00:00:00-04:00\",\"2016-08-01T00:00:00-04:00\",\"2016-08-02T00:00:00-04:00\",\"2016-08-03T00:00:00-04:00\",\"2016-08-04T00:00:00-04:00\",\"2016-08-05T00:00:00-04:00\",\"2016-08-08T00:00:00-04:00\",\"2016-08-09T00:00:00-04:00\",\"2016-08-10T00:00:00-04:00\",\"2016-08-11T00:00:00-04:00\",\"2016-08-12T00:00:00-04:00\",\"2016-08-15T00:00:00-04:00\",\"2016-08-16T00:00:00-04:00\",\"2016-08-17T00:00:00-04:00\",\"2016-08-18T00:00:00-04:00\",\"2016-08-19T00:00:00-04:00\",\"2016-08-22T00:00:00-04:00\",\"2016-08-23T00:00:00-04:00\",\"2016-08-24T00:00:00-04:00\",\"2016-08-25T00:00:00-04:00\",\"2016-08-26T00:00:00-04:00\",\"2016-08-29T00:00:00-04:00\",\"2016-08-30T00:00:00-04:00\",\"2016-08-31T00:00:00-04:00\",\"2016-09-01T00:00:00-04:00\",\"2016-09-02T00:00:00-04:00\",\"2016-09-06T00:00:00-04:00\",\"2016-09-07T00:00:00-04:00\",\"2016-09-08T00:00:00-04:00\",\"2016-09-09T00:00:00-04:00\",\"2016-09-12T00:00:00-04:00\",\"2016-09-13T00:00:00-04:00\",\"2016-09-14T00:00:00-04:00\",\"2016-09-15T00:00:00-04:00\",\"2016-09-16T00:00:00-04:00\",\"2016-09-19T00:00:00-04:00\",\"2016-09-20T00:00:00-04:00\",\"2016-09-21T00:00:00-04:00\",\"2016-09-22T00:00:00-04:00\",\"2016-09-23T00:00:00-04:00\",\"2016-09-26T00:00:00-04:00\",\"2016-09-27T00:00:00-04:00\",\"2016-09-28T00:00:00-04:00\",\"2016-09-29T00:00:00-04:00\",\"2016-09-30T00:00:00-04:00\",\"2016-10-03T00:00:00-04:00\",\"2016-10-04T00:00:00-04:00\",\"2016-10-05T00:00:00-04:00\",\"2016-10-06T00:00:00-04:00\",\"2016-10-07T00:00:00-04:00\",\"2016-10-10T00:00:00-04:00\",\"2016-10-11T00:00:00-04:00\",\"2016-10-12T00:00:00-04:00\",\"2016-10-13T00:00:00-04:00\",\"2016-10-14T00:00:00-04:00\",\"2016-10-17T00:00:00-04:00\",\"2016-10-18T00:00:00-04:00\",\"2016-10-19T00:00:00-04:00\",\"2016-10-20T00:00:00-04:00\",\"2016-10-21T00:00:00-04:00\",\"2016-10-24T00:00:00-04:00\",\"2016-10-25T00:00:00-04:00\",\"2016-10-26T00:00:00-04:00\",\"2016-10-27T00:00:00-04:00\",\"2016-10-28T00:00:00-04:00\",\"2016-10-31T00:00:00-04:00\",\"2016-11-01T00:00:00-04:00\",\"2016-11-02T00:00:00-04:00\",\"2016-11-03T00:00:00-04:00\",\"2016-11-04T00:00:00-04:00\",\"2016-11-07T00:00:00-05:00\",\"2016-11-08T00:00:00-05:00\",\"2016-11-09T00:00:00-05:00\",\"2016-11-10T00:00:00-05:00\",\"2016-11-11T00:00:00-05:00\",\"2016-11-14T00:00:00-05:00\",\"2016-11-15T00:00:00-05:00\",\"2016-11-16T00:00:00-05:00\",\"2016-11-17T00:00:00-05:00\",\"2016-11-18T00:00:00-05:00\",\"2016-11-21T00:00:00-05:00\",\"2016-11-22T00:00:00-05:00\",\"2016-11-23T00:00:00-05:00\",\"2016-11-25T00:00:00-05:00\",\"2016-11-28T00:00:00-05:00\",\"2016-11-29T00:00:00-05:00\",\"2016-11-30T00:00:00-05:00\",\"2016-12-01T00:00:00-05:00\",\"2016-12-02T00:00:00-05:00\",\"2016-12-05T00:00:00-05:00\",\"2016-12-06T00:00:00-05:00\",\"2016-12-07T00:00:00-05:00\",\"2016-12-08T00:00:00-05:00\",\"2016-12-09T00:00:00-05:00\",\"2016-12-12T00:00:00-05:00\",\"2016-12-13T00:00:00-05:00\",\"2016-12-14T00:00:00-05:00\",\"2016-12-15T00:00:00-05:00\",\"2016-12-16T00:00:00-05:00\",\"2016-12-19T00:00:00-05:00\",\"2016-12-20T00:00:00-05:00\",\"2016-12-21T00:00:00-05:00\",\"2016-12-22T00:00:00-05:00\",\"2016-12-23T00:00:00-05:00\",\"2016-12-27T00:00:00-05:00\",\"2016-12-28T00:00:00-05:00\",\"2016-12-29T00:00:00-05:00\",\"2016-12-30T00:00:00-05:00\",\"2017-01-03T00:00:00-05:00\",\"2017-01-04T00:00:00-05:00\",\"2017-01-05T00:00:00-05:00\",\"2017-01-06T00:00:00-05:00\",\"2017-01-09T00:00:00-05:00\",\"2017-01-10T00:00:00-05:00\",\"2017-01-11T00:00:00-05:00\",\"2017-01-12T00:00:00-05:00\",\"2017-01-13T00:00:00-05:00\",\"2017-01-17T00:00:00-05:00\",\"2017-01-18T00:00:00-05:00\",\"2017-01-19T00:00:00-05:00\",\"2017-01-20T00:00:00-05:00\",\"2017-01-23T00:00:00-05:00\",\"2017-01-24T00:00:00-05:00\",\"2017-01-25T00:00:00-05:00\",\"2017-01-26T00:00:00-05:00\",\"2017-01-27T00:00:00-05:00\",\"2017-01-30T00:00:00-05:00\",\"2017-01-31T00:00:00-05:00\",\"2017-02-01T00:00:00-05:00\",\"2017-02-02T00:00:00-05:00\",\"2017-02-03T00:00:00-05:00\",\"2017-02-06T00:00:00-05:00\",\"2017-02-07T00:00:00-05:00\",\"2017-02-08T00:00:00-05:00\",\"2017-02-09T00:00:00-05:00\",\"2017-02-10T00:00:00-05:00\",\"2017-02-13T00:00:00-05:00\",\"2017-02-14T00:00:00-05:00\",\"2017-02-15T00:00:00-05:00\",\"2017-02-16T00:00:00-05:00\",\"2017-02-17T00:00:00-05:00\",\"2017-02-21T00:00:00-05:00\",\"2017-02-22T00:00:00-05:00\",\"2017-02-23T00:00:00-05:00\",\"2017-02-24T00:00:00-05:00\",\"2017-02-27T00:00:00-05:00\",\"2017-02-28T00:00:00-05:00\",\"2017-03-01T00:00:00-05:00\",\"2017-03-02T00:00:00-05:00\",\"2017-03-03T00:00:00-05:00\",\"2017-03-06T00:00:00-05:00\",\"2017-03-07T00:00:00-05:00\",\"2017-03-08T00:00:00-05:00\",\"2017-03-09T00:00:00-05:00\",\"2017-03-10T00:00:00-05:00\",\"2017-03-13T00:00:00-04:00\",\"2017-03-14T00:00:00-04:00\",\"2017-03-15T00:00:00-04:00\",\"2017-03-16T00:00:00-04:00\",\"2017-03-17T00:00:00-04:00\",\"2017-03-20T00:00:00-04:00\",\"2017-03-21T00:00:00-04:00\",\"2017-03-22T00:00:00-04:00\",\"2017-03-23T00:00:00-04:00\",\"2017-03-24T00:00:00-04:00\",\"2017-03-27T00:00:00-04:00\",\"2017-03-28T00:00:00-04:00\",\"2017-03-29T00:00:00-04:00\",\"2017-03-30T00:00:00-04:00\",\"2017-03-31T00:00:00-04:00\",\"2017-04-03T00:00:00-04:00\",\"2017-04-04T00:00:00-04:00\",\"2017-04-05T00:00:00-04:00\",\"2017-04-06T00:00:00-04:00\",\"2017-04-07T00:00:00-04:00\",\"2017-04-10T00:00:00-04:00\",\"2017-04-11T00:00:00-04:00\",\"2017-04-12T00:00:00-04:00\",\"2017-04-13T00:00:00-04:00\",\"2017-04-17T00:00:00-04:00\",\"2017-04-18T00:00:00-04:00\",\"2017-04-19T00:00:00-04:00\",\"2017-04-20T00:00:00-04:00\",\"2017-04-21T00:00:00-04:00\",\"2017-04-24T00:00:00-04:00\",\"2017-04-25T00:00:00-04:00\",\"2017-04-26T00:00:00-04:00\",\"2017-04-27T00:00:00-04:00\",\"2017-04-28T00:00:00-04:00\",\"2017-05-01T00:00:00-04:00\",\"2017-05-02T00:00:00-04:00\",\"2017-05-03T00:00:00-04:00\",\"2017-05-04T00:00:00-04:00\",\"2017-05-05T00:00:00-04:00\",\"2017-05-08T00:00:00-04:00\",\"2017-05-09T00:00:00-04:00\",\"2017-05-10T00:00:00-04:00\",\"2017-05-11T00:00:00-04:00\",\"2017-05-12T00:00:00-04:00\",\"2017-05-15T00:00:00-04:00\",\"2017-05-16T00:00:00-04:00\",\"2017-05-17T00:00:00-04:00\",\"2017-05-18T00:00:00-04:00\",\"2017-05-19T00:00:00-04:00\",\"2017-05-22T00:00:00-04:00\",\"2017-05-23T00:00:00-04:00\",\"2017-05-24T00:00:00-04:00\",\"2017-05-25T00:00:00-04:00\",\"2017-05-26T00:00:00-04:00\",\"2017-05-30T00:00:00-04:00\",\"2017-05-31T00:00:00-04:00\",\"2017-06-01T00:00:00-04:00\",\"2017-06-02T00:00:00-04:00\",\"2017-06-05T00:00:00-04:00\",\"2017-06-06T00:00:00-04:00\",\"2017-06-07T00:00:00-04:00\",\"2017-06-08T00:00:00-04:00\",\"2017-06-09T00:00:00-04:00\",\"2017-06-12T00:00:00-04:00\",\"2017-06-13T00:00:00-04:00\",\"2017-06-14T00:00:00-04:00\",\"2017-06-15T00:00:00-04:00\",\"2017-06-16T00:00:00-04:00\",\"2017-06-19T00:00:00-04:00\",\"2017-06-20T00:00:00-04:00\",\"2017-06-21T00:00:00-04:00\",\"2017-06-22T00:00:00-04:00\",\"2017-06-23T00:00:00-04:00\",\"2017-06-26T00:00:00-04:00\",\"2017-06-27T00:00:00-04:00\",\"2017-06-28T00:00:00-04:00\",\"2017-06-29T00:00:00-04:00\",\"2017-06-30T00:00:00-04:00\",\"2017-07-03T00:00:00-04:00\",\"2017-07-05T00:00:00-04:00\",\"2017-07-06T00:00:00-04:00\",\"2017-07-07T00:00:00-04:00\",\"2017-07-10T00:00:00-04:00\",\"2017-07-11T00:00:00-04:00\",\"2017-07-12T00:00:00-04:00\",\"2017-07-13T00:00:00-04:00\",\"2017-07-14T00:00:00-04:00\",\"2017-07-17T00:00:00-04:00\",\"2017-07-18T00:00:00-04:00\",\"2017-07-19T00:00:00-04:00\",\"2017-07-20T00:00:00-04:00\",\"2017-07-21T00:00:00-04:00\",\"2017-07-24T00:00:00-04:00\",\"2017-07-25T00:00:00-04:00\",\"2017-07-26T00:00:00-04:00\",\"2017-07-27T00:00:00-04:00\",\"2017-07-28T00:00:00-04:00\",\"2017-07-31T00:00:00-04:00\",\"2017-08-01T00:00:00-04:00\",\"2017-08-02T00:00:00-04:00\",\"2017-08-03T00:00:00-04:00\",\"2017-08-04T00:00:00-04:00\",\"2017-08-07T00:00:00-04:00\",\"2017-08-08T00:00:00-04:00\",\"2017-08-09T00:00:00-04:00\",\"2017-08-10T00:00:00-04:00\",\"2017-08-11T00:00:00-04:00\",\"2017-08-14T00:00:00-04:00\",\"2017-08-15T00:00:00-04:00\",\"2017-08-16T00:00:00-04:00\",\"2017-08-17T00:00:00-04:00\",\"2017-08-18T00:00:00-04:00\",\"2017-08-21T00:00:00-04:00\",\"2017-08-22T00:00:00-04:00\",\"2017-08-23T00:00:00-04:00\",\"2017-08-24T00:00:00-04:00\",\"2017-08-25T00:00:00-04:00\",\"2017-08-28T00:00:00-04:00\",\"2017-08-29T00:00:00-04:00\",\"2017-08-30T00:00:00-04:00\",\"2017-08-31T00:00:00-04:00\",\"2017-09-01T00:00:00-04:00\",\"2017-09-05T00:00:00-04:00\",\"2017-09-06T00:00:00-04:00\",\"2017-09-07T00:00:00-04:00\",\"2017-09-08T00:00:00-04:00\",\"2017-09-11T00:00:00-04:00\",\"2017-09-12T00:00:00-04:00\",\"2017-09-13T00:00:00-04:00\",\"2017-09-14T00:00:00-04:00\",\"2017-09-15T00:00:00-04:00\",\"2017-09-18T00:00:00-04:00\",\"2017-09-19T00:00:00-04:00\",\"2017-09-20T00:00:00-04:00\",\"2017-09-21T00:00:00-04:00\",\"2017-09-22T00:00:00-04:00\",\"2017-09-25T00:00:00-04:00\",\"2017-09-26T00:00:00-04:00\",\"2017-09-27T00:00:00-04:00\",\"2017-09-28T00:00:00-04:00\",\"2017-09-29T00:00:00-04:00\",\"2017-10-02T00:00:00-04:00\",\"2017-10-03T00:00:00-04:00\",\"2017-10-04T00:00:00-04:00\",\"2017-10-05T00:00:00-04:00\",\"2017-10-06T00:00:00-04:00\",\"2017-10-09T00:00:00-04:00\",\"2017-10-10T00:00:00-04:00\",\"2017-10-11T00:00:00-04:00\",\"2017-10-12T00:00:00-04:00\",\"2017-10-13T00:00:00-04:00\",\"2017-10-16T00:00:00-04:00\",\"2017-10-17T00:00:00-04:00\",\"2017-10-18T00:00:00-04:00\",\"2017-10-19T00:00:00-04:00\",\"2017-10-20T00:00:00-04:00\",\"2017-10-23T00:00:00-04:00\",\"2017-10-24T00:00:00-04:00\",\"2017-10-25T00:00:00-04:00\",\"2017-10-26T00:00:00-04:00\",\"2017-10-27T00:00:00-04:00\",\"2017-10-30T00:00:00-04:00\",\"2017-10-31T00:00:00-04:00\",\"2017-11-01T00:00:00-04:00\",\"2017-11-02T00:00:00-04:00\",\"2017-11-03T00:00:00-04:00\",\"2017-11-06T00:00:00-05:00\",\"2017-11-07T00:00:00-05:00\",\"2017-11-08T00:00:00-05:00\",\"2017-11-09T00:00:00-05:00\",\"2017-11-10T00:00:00-05:00\",\"2017-11-13T00:00:00-05:00\",\"2017-11-14T00:00:00-05:00\",\"2017-11-15T00:00:00-05:00\",\"2017-11-16T00:00:00-05:00\",\"2017-11-17T00:00:00-05:00\",\"2017-11-20T00:00:00-05:00\",\"2017-11-21T00:00:00-05:00\",\"2017-11-22T00:00:00-05:00\",\"2017-11-24T00:00:00-05:00\",\"2017-11-27T00:00:00-05:00\",\"2017-11-28T00:00:00-05:00\",\"2017-11-29T00:00:00-05:00\",\"2017-11-30T00:00:00-05:00\",\"2017-12-01T00:00:00-05:00\",\"2017-12-04T00:00:00-05:00\",\"2017-12-05T00:00:00-05:00\",\"2017-12-06T00:00:00-05:00\",\"2017-12-07T00:00:00-05:00\",\"2017-12-08T00:00:00-05:00\",\"2017-12-11T00:00:00-05:00\",\"2017-12-12T00:00:00-05:00\",\"2017-12-13T00:00:00-05:00\",\"2017-12-14T00:00:00-05:00\",\"2017-12-15T00:00:00-05:00\",\"2017-12-18T00:00:00-05:00\",\"2017-12-19T00:00:00-05:00\",\"2017-12-20T00:00:00-05:00\",\"2017-12-21T00:00:00-05:00\",\"2017-12-22T00:00:00-05:00\",\"2017-12-26T00:00:00-05:00\",\"2017-12-27T00:00:00-05:00\",\"2017-12-28T00:00:00-05:00\",\"2017-12-29T00:00:00-05:00\",\"2018-01-02T00:00:00-05:00\",\"2018-01-03T00:00:00-05:00\",\"2018-01-04T00:00:00-05:00\",\"2018-01-05T00:00:00-05:00\",\"2018-01-08T00:00:00-05:00\",\"2018-01-09T00:00:00-05:00\",\"2018-01-10T00:00:00-05:00\",\"2018-01-11T00:00:00-05:00\",\"2018-01-12T00:00:00-05:00\",\"2018-01-16T00:00:00-05:00\",\"2018-01-17T00:00:00-05:00\",\"2018-01-18T00:00:00-05:00\",\"2018-01-19T00:00:00-05:00\",\"2018-01-22T00:00:00-05:00\",\"2018-01-23T00:00:00-05:00\",\"2018-01-24T00:00:00-05:00\",\"2018-01-25T00:00:00-05:00\",\"2018-01-26T00:00:00-05:00\",\"2018-01-29T00:00:00-05:00\",\"2018-01-30T00:00:00-05:00\",\"2018-01-31T00:00:00-05:00\",\"2018-02-01T00:00:00-05:00\",\"2018-02-02T00:00:00-05:00\",\"2018-02-05T00:00:00-05:00\",\"2018-02-06T00:00:00-05:00\",\"2018-02-07T00:00:00-05:00\",\"2018-02-08T00:00:00-05:00\",\"2018-02-09T00:00:00-05:00\",\"2018-02-12T00:00:00-05:00\",\"2018-02-13T00:00:00-05:00\",\"2018-02-14T00:00:00-05:00\",\"2018-02-15T00:00:00-05:00\",\"2018-02-16T00:00:00-05:00\",\"2018-02-20T00:00:00-05:00\",\"2018-02-21T00:00:00-05:00\",\"2018-02-22T00:00:00-05:00\",\"2018-02-23T00:00:00-05:00\",\"2018-02-26T00:00:00-05:00\",\"2018-02-27T00:00:00-05:00\",\"2018-02-28T00:00:00-05:00\",\"2018-03-01T00:00:00-05:00\",\"2018-03-02T00:00:00-05:00\",\"2018-03-05T00:00:00-05:00\",\"2018-03-06T00:00:00-05:00\",\"2018-03-07T00:00:00-05:00\",\"2018-03-08T00:00:00-05:00\",\"2018-03-09T00:00:00-05:00\",\"2018-03-12T00:00:00-04:00\",\"2018-03-13T00:00:00-04:00\",\"2018-03-14T00:00:00-04:00\",\"2018-03-15T00:00:00-04:00\",\"2018-03-16T00:00:00-04:00\",\"2018-03-19T00:00:00-04:00\",\"2018-03-20T00:00:00-04:00\",\"2018-03-21T00:00:00-04:00\",\"2018-03-22T00:00:00-04:00\",\"2018-03-23T00:00:00-04:00\",\"2018-03-26T00:00:00-04:00\",\"2018-03-27T00:00:00-04:00\",\"2018-03-28T00:00:00-04:00\",\"2018-03-29T00:00:00-04:00\",\"2018-04-02T00:00:00-04:00\",\"2018-04-03T00:00:00-04:00\",\"2018-04-04T00:00:00-04:00\",\"2018-04-05T00:00:00-04:00\",\"2018-04-06T00:00:00-04:00\",\"2018-04-09T00:00:00-04:00\",\"2018-04-10T00:00:00-04:00\",\"2018-04-11T00:00:00-04:00\",\"2018-04-12T00:00:00-04:00\",\"2018-04-13T00:00:00-04:00\",\"2018-04-16T00:00:00-04:00\",\"2018-04-17T00:00:00-04:00\",\"2018-04-18T00:00:00-04:00\",\"2018-04-19T00:00:00-04:00\",\"2018-04-20T00:00:00-04:00\",\"2018-04-23T00:00:00-04:00\",\"2018-04-24T00:00:00-04:00\",\"2018-04-25T00:00:00-04:00\",\"2018-04-26T00:00:00-04:00\",\"2018-04-27T00:00:00-04:00\",\"2018-04-30T00:00:00-04:00\",\"2018-05-01T00:00:00-04:00\",\"2018-05-02T00:00:00-04:00\",\"2018-05-03T00:00:00-04:00\",\"2018-05-04T00:00:00-04:00\",\"2018-05-07T00:00:00-04:00\",\"2018-05-08T00:00:00-04:00\",\"2018-05-09T00:00:00-04:00\",\"2018-05-10T00:00:00-04:00\",\"2018-05-11T00:00:00-04:00\",\"2018-05-14T00:00:00-04:00\",\"2018-05-15T00:00:00-04:00\",\"2018-05-16T00:00:00-04:00\",\"2018-05-17T00:00:00-04:00\",\"2018-05-18T00:00:00-04:00\",\"2018-05-21T00:00:00-04:00\",\"2018-05-22T00:00:00-04:00\",\"2018-05-23T00:00:00-04:00\",\"2018-05-24T00:00:00-04:00\",\"2018-05-25T00:00:00-04:00\",\"2018-05-29T00:00:00-04:00\",\"2018-05-30T00:00:00-04:00\",\"2018-05-31T00:00:00-04:00\",\"2018-06-01T00:00:00-04:00\",\"2018-06-04T00:00:00-04:00\",\"2018-06-05T00:00:00-04:00\",\"2018-06-06T00:00:00-04:00\",\"2018-06-07T00:00:00-04:00\",\"2018-06-08T00:00:00-04:00\",\"2018-06-11T00:00:00-04:00\",\"2018-06-12T00:00:00-04:00\",\"2018-06-13T00:00:00-04:00\",\"2018-06-14T00:00:00-04:00\",\"2018-06-15T00:00:00-04:00\",\"2018-06-18T00:00:00-04:00\",\"2018-06-19T00:00:00-04:00\",\"2018-06-20T00:00:00-04:00\",\"2018-06-21T00:00:00-04:00\",\"2018-06-22T00:00:00-04:00\",\"2018-06-25T00:00:00-04:00\",\"2018-06-26T00:00:00-04:00\",\"2018-06-27T00:00:00-04:00\",\"2018-06-28T00:00:00-04:00\",\"2018-06-29T00:00:00-04:00\",\"2018-07-02T00:00:00-04:00\",\"2018-07-03T00:00:00-04:00\",\"2018-07-05T00:00:00-04:00\",\"2018-07-06T00:00:00-04:00\",\"2018-07-09T00:00:00-04:00\",\"2018-07-10T00:00:00-04:00\",\"2018-07-11T00:00:00-04:00\",\"2018-07-12T00:00:00-04:00\",\"2018-07-13T00:00:00-04:00\",\"2018-07-16T00:00:00-04:00\",\"2018-07-17T00:00:00-04:00\",\"2018-07-18T00:00:00-04:00\",\"2018-07-19T00:00:00-04:00\",\"2018-07-20T00:00:00-04:00\",\"2018-07-23T00:00:00-04:00\",\"2018-07-24T00:00:00-04:00\",\"2018-07-25T00:00:00-04:00\",\"2018-07-26T00:00:00-04:00\",\"2018-07-27T00:00:00-04:00\",\"2018-07-30T00:00:00-04:00\",\"2018-07-31T00:00:00-04:00\",\"2018-08-01T00:00:00-04:00\",\"2018-08-02T00:00:00-04:00\",\"2018-08-03T00:00:00-04:00\",\"2018-08-06T00:00:00-04:00\",\"2018-08-07T00:00:00-04:00\",\"2018-08-08T00:00:00-04:00\",\"2018-08-09T00:00:00-04:00\",\"2018-08-10T00:00:00-04:00\",\"2018-08-13T00:00:00-04:00\",\"2018-08-14T00:00:00-04:00\",\"2018-08-15T00:00:00-04:00\",\"2018-08-16T00:00:00-04:00\",\"2018-08-17T00:00:00-04:00\",\"2018-08-20T00:00:00-04:00\",\"2018-08-21T00:00:00-04:00\",\"2018-08-22T00:00:00-04:00\",\"2018-08-23T00:00:00-04:00\",\"2018-08-24T00:00:00-04:00\",\"2018-08-27T00:00:00-04:00\",\"2018-08-28T00:00:00-04:00\",\"2018-08-29T00:00:00-04:00\",\"2018-08-30T00:00:00-04:00\",\"2018-08-31T00:00:00-04:00\",\"2018-09-04T00:00:00-04:00\",\"2018-09-05T00:00:00-04:00\",\"2018-09-06T00:00:00-04:00\",\"2018-09-07T00:00:00-04:00\",\"2018-09-10T00:00:00-04:00\",\"2018-09-11T00:00:00-04:00\",\"2018-09-12T00:00:00-04:00\",\"2018-09-13T00:00:00-04:00\",\"2018-09-14T00:00:00-04:00\",\"2018-09-17T00:00:00-04:00\",\"2018-09-18T00:00:00-04:00\",\"2018-09-19T00:00:00-04:00\",\"2018-09-20T00:00:00-04:00\",\"2018-09-21T00:00:00-04:00\",\"2018-09-24T00:00:00-04:00\",\"2018-09-25T00:00:00-04:00\",\"2018-09-26T00:00:00-04:00\",\"2018-09-27T00:00:00-04:00\",\"2018-09-28T00:00:00-04:00\",\"2018-10-01T00:00:00-04:00\",\"2018-10-02T00:00:00-04:00\",\"2018-10-03T00:00:00-04:00\",\"2018-10-04T00:00:00-04:00\",\"2018-10-05T00:00:00-04:00\",\"2018-10-08T00:00:00-04:00\",\"2018-10-09T00:00:00-04:00\",\"2018-10-10T00:00:00-04:00\",\"2018-10-11T00:00:00-04:00\",\"2018-10-12T00:00:00-04:00\",\"2018-10-15T00:00:00-04:00\",\"2018-10-16T00:00:00-04:00\",\"2018-10-17T00:00:00-04:00\",\"2018-10-18T00:00:00-04:00\",\"2018-10-19T00:00:00-04:00\",\"2018-10-22T00:00:00-04:00\",\"2018-10-23T00:00:00-04:00\",\"2018-10-24T00:00:00-04:00\",\"2018-10-25T00:00:00-04:00\",\"2018-10-26T00:00:00-04:00\",\"2018-10-29T00:00:00-04:00\",\"2018-10-30T00:00:00-04:00\",\"2018-10-31T00:00:00-04:00\",\"2018-11-01T00:00:00-04:00\",\"2018-11-02T00:00:00-04:00\",\"2018-11-05T00:00:00-05:00\",\"2018-11-06T00:00:00-05:00\",\"2018-11-07T00:00:00-05:00\",\"2018-11-08T00:00:00-05:00\",\"2018-11-09T00:00:00-05:00\",\"2018-11-12T00:00:00-05:00\",\"2018-11-13T00:00:00-05:00\",\"2018-11-14T00:00:00-05:00\",\"2018-11-15T00:00:00-05:00\",\"2018-11-16T00:00:00-05:00\",\"2018-11-19T00:00:00-05:00\",\"2018-11-20T00:00:00-05:00\",\"2018-11-21T00:00:00-05:00\",\"2018-11-23T00:00:00-05:00\",\"2018-11-26T00:00:00-05:00\",\"2018-11-27T00:00:00-05:00\",\"2018-11-28T00:00:00-05:00\",\"2018-11-29T00:00:00-05:00\",\"2018-11-30T00:00:00-05:00\",\"2018-12-03T00:00:00-05:00\",\"2018-12-04T00:00:00-05:00\",\"2018-12-06T00:00:00-05:00\",\"2018-12-07T00:00:00-05:00\",\"2018-12-10T00:00:00-05:00\",\"2018-12-11T00:00:00-05:00\",\"2018-12-12T00:00:00-05:00\",\"2018-12-13T00:00:00-05:00\",\"2018-12-14T00:00:00-05:00\",\"2018-12-17T00:00:00-05:00\",\"2018-12-18T00:00:00-05:00\",\"2018-12-19T00:00:00-05:00\",\"2018-12-20T00:00:00-05:00\",\"2018-12-21T00:00:00-05:00\",\"2018-12-24T00:00:00-05:00\",\"2018-12-26T00:00:00-05:00\",\"2018-12-27T00:00:00-05:00\",\"2018-12-28T00:00:00-05:00\",\"2018-12-31T00:00:00-05:00\",\"2019-01-02T00:00:00-05:00\",\"2019-01-03T00:00:00-05:00\",\"2019-01-04T00:00:00-05:00\",\"2019-01-07T00:00:00-05:00\",\"2019-01-08T00:00:00-05:00\",\"2019-01-09T00:00:00-05:00\",\"2019-01-10T00:00:00-05:00\",\"2019-01-11T00:00:00-05:00\",\"2019-01-14T00:00:00-05:00\",\"2019-01-15T00:00:00-05:00\",\"2019-01-16T00:00:00-05:00\",\"2019-01-17T00:00:00-05:00\",\"2019-01-18T00:00:00-05:00\",\"2019-01-22T00:00:00-05:00\",\"2019-01-23T00:00:00-05:00\",\"2019-01-24T00:00:00-05:00\",\"2019-01-25T00:00:00-05:00\",\"2019-01-28T00:00:00-05:00\",\"2019-01-29T00:00:00-05:00\",\"2019-01-30T00:00:00-05:00\",\"2019-01-31T00:00:00-05:00\",\"2019-02-01T00:00:00-05:00\",\"2019-02-04T00:00:00-05:00\",\"2019-02-05T00:00:00-05:00\",\"2019-02-06T00:00:00-05:00\",\"2019-02-07T00:00:00-05:00\",\"2019-02-08T00:00:00-05:00\",\"2019-02-11T00:00:00-05:00\",\"2019-02-12T00:00:00-05:00\",\"2019-02-13T00:00:00-05:00\",\"2019-02-14T00:00:00-05:00\",\"2019-02-15T00:00:00-05:00\",\"2019-02-19T00:00:00-05:00\",\"2019-02-20T00:00:00-05:00\",\"2019-02-21T00:00:00-05:00\",\"2019-02-22T00:00:00-05:00\",\"2019-02-25T00:00:00-05:00\",\"2019-02-26T00:00:00-05:00\",\"2019-02-27T00:00:00-05:00\",\"2019-02-28T00:00:00-05:00\",\"2019-03-01T00:00:00-05:00\",\"2019-03-04T00:00:00-05:00\",\"2019-03-05T00:00:00-05:00\",\"2019-03-06T00:00:00-05:00\",\"2019-03-07T00:00:00-05:00\",\"2019-03-08T00:00:00-05:00\",\"2019-03-11T00:00:00-04:00\",\"2019-03-12T00:00:00-04:00\",\"2019-03-13T00:00:00-04:00\",\"2019-03-14T00:00:00-04:00\",\"2019-03-15T00:00:00-04:00\",\"2019-03-18T00:00:00-04:00\",\"2019-03-19T00:00:00-04:00\",\"2019-03-20T00:00:00-04:00\",\"2019-03-21T00:00:00-04:00\",\"2019-03-22T00:00:00-04:00\",\"2019-03-25T00:00:00-04:00\",\"2019-03-26T00:00:00-04:00\",\"2019-03-27T00:00:00-04:00\",\"2019-03-28T00:00:00-04:00\",\"2019-03-29T00:00:00-04:00\",\"2019-04-01T00:00:00-04:00\",\"2019-04-02T00:00:00-04:00\",\"2019-04-03T00:00:00-04:00\",\"2019-04-04T00:00:00-04:00\",\"2019-04-05T00:00:00-04:00\",\"2019-04-08T00:00:00-04:00\",\"2019-04-09T00:00:00-04:00\",\"2019-04-10T00:00:00-04:00\",\"2019-04-11T00:00:00-04:00\",\"2019-04-12T00:00:00-04:00\",\"2019-04-15T00:00:00-04:00\",\"2019-04-16T00:00:00-04:00\",\"2019-04-17T00:00:00-04:00\",\"2019-04-18T00:00:00-04:00\",\"2019-04-22T00:00:00-04:00\",\"2019-04-23T00:00:00-04:00\",\"2019-04-24T00:00:00-04:00\",\"2019-04-25T00:00:00-04:00\",\"2019-04-26T00:00:00-04:00\",\"2019-04-29T00:00:00-04:00\",\"2019-04-30T00:00:00-04:00\",\"2019-05-01T00:00:00-04:00\",\"2019-05-02T00:00:00-04:00\",\"2019-05-03T00:00:00-04:00\",\"2019-05-06T00:00:00-04:00\",\"2019-05-07T00:00:00-04:00\",\"2019-05-08T00:00:00-04:00\",\"2019-05-09T00:00:00-04:00\",\"2019-05-10T00:00:00-04:00\",\"2019-05-13T00:00:00-04:00\",\"2019-05-14T00:00:00-04:00\",\"2019-05-15T00:00:00-04:00\",\"2019-05-16T00:00:00-04:00\",\"2019-05-17T00:00:00-04:00\",\"2019-05-20T00:00:00-04:00\",\"2019-05-21T00:00:00-04:00\",\"2019-05-22T00:00:00-04:00\",\"2019-05-23T00:00:00-04:00\",\"2019-05-24T00:00:00-04:00\",\"2019-05-28T00:00:00-04:00\",\"2019-05-29T00:00:00-04:00\",\"2019-05-30T00:00:00-04:00\",\"2019-05-31T00:00:00-04:00\",\"2019-06-03T00:00:00-04:00\",\"2019-06-04T00:00:00-04:00\",\"2019-06-05T00:00:00-04:00\",\"2019-06-06T00:00:00-04:00\",\"2019-06-07T00:00:00-04:00\",\"2019-06-10T00:00:00-04:00\",\"2019-06-11T00:00:00-04:00\",\"2019-06-12T00:00:00-04:00\",\"2019-06-13T00:00:00-04:00\",\"2019-06-14T00:00:00-04:00\",\"2019-06-17T00:00:00-04:00\",\"2019-06-18T00:00:00-04:00\",\"2019-06-19T00:00:00-04:00\",\"2019-06-20T00:00:00-04:00\",\"2019-06-21T00:00:00-04:00\",\"2019-06-24T00:00:00-04:00\",\"2019-06-25T00:00:00-04:00\",\"2019-06-26T00:00:00-04:00\",\"2019-06-27T00:00:00-04:00\",\"2019-06-28T00:00:00-04:00\",\"2019-07-01T00:00:00-04:00\",\"2019-07-02T00:00:00-04:00\",\"2019-07-03T00:00:00-04:00\",\"2019-07-05T00:00:00-04:00\",\"2019-07-08T00:00:00-04:00\",\"2019-07-09T00:00:00-04:00\",\"2019-07-10T00:00:00-04:00\",\"2019-07-11T00:00:00-04:00\",\"2019-07-12T00:00:00-04:00\",\"2019-07-15T00:00:00-04:00\",\"2019-07-16T00:00:00-04:00\",\"2019-07-17T00:00:00-04:00\",\"2019-07-18T00:00:00-04:00\",\"2019-07-19T00:00:00-04:00\",\"2019-07-22T00:00:00-04:00\",\"2019-07-23T00:00:00-04:00\",\"2019-07-24T00:00:00-04:00\",\"2019-07-25T00:00:00-04:00\",\"2019-07-26T00:00:00-04:00\",\"2019-07-29T00:00:00-04:00\",\"2019-07-30T00:00:00-04:00\",\"2019-07-31T00:00:00-04:00\",\"2019-08-01T00:00:00-04:00\",\"2019-08-02T00:00:00-04:00\",\"2019-08-05T00:00:00-04:00\",\"2019-08-06T00:00:00-04:00\",\"2019-08-07T00:00:00-04:00\",\"2019-08-08T00:00:00-04:00\",\"2019-08-09T00:00:00-04:00\",\"2019-08-12T00:00:00-04:00\",\"2019-08-13T00:00:00-04:00\",\"2019-08-14T00:00:00-04:00\",\"2019-08-15T00:00:00-04:00\",\"2019-08-16T00:00:00-04:00\",\"2019-08-19T00:00:00-04:00\",\"2019-08-20T00:00:00-04:00\",\"2019-08-21T00:00:00-04:00\",\"2019-08-22T00:00:00-04:00\",\"2019-08-23T00:00:00-04:00\",\"2019-08-26T00:00:00-04:00\",\"2019-08-27T00:00:00-04:00\",\"2019-08-28T00:00:00-04:00\",\"2019-08-29T00:00:00-04:00\",\"2019-08-30T00:00:00-04:00\",\"2019-09-03T00:00:00-04:00\",\"2019-09-04T00:00:00-04:00\",\"2019-09-05T00:00:00-04:00\",\"2019-09-06T00:00:00-04:00\",\"2019-09-09T00:00:00-04:00\",\"2019-09-10T00:00:00-04:00\",\"2019-09-11T00:00:00-04:00\",\"2019-09-12T00:00:00-04:00\",\"2019-09-13T00:00:00-04:00\",\"2019-09-16T00:00:00-04:00\",\"2019-09-17T00:00:00-04:00\",\"2019-09-18T00:00:00-04:00\",\"2019-09-19T00:00:00-04:00\",\"2019-09-20T00:00:00-04:00\",\"2019-09-23T00:00:00-04:00\",\"2019-09-24T00:00:00-04:00\",\"2019-09-25T00:00:00-04:00\",\"2019-09-26T00:00:00-04:00\",\"2019-09-27T00:00:00-04:00\",\"2019-09-30T00:00:00-04:00\",\"2019-10-01T00:00:00-04:00\",\"2019-10-02T00:00:00-04:00\",\"2019-10-03T00:00:00-04:00\",\"2019-10-04T00:00:00-04:00\",\"2019-10-07T00:00:00-04:00\",\"2019-10-08T00:00:00-04:00\",\"2019-10-09T00:00:00-04:00\",\"2019-10-10T00:00:00-04:00\",\"2019-10-11T00:00:00-04:00\",\"2019-10-14T00:00:00-04:00\",\"2019-10-15T00:00:00-04:00\",\"2019-10-16T00:00:00-04:00\",\"2019-10-17T00:00:00-04:00\",\"2019-10-18T00:00:00-04:00\",\"2019-10-21T00:00:00-04:00\",\"2019-10-22T00:00:00-04:00\",\"2019-10-23T00:00:00-04:00\",\"2019-10-24T00:00:00-04:00\",\"2019-10-25T00:00:00-04:00\",\"2019-10-28T00:00:00-04:00\",\"2019-10-29T00:00:00-04:00\",\"2019-10-30T00:00:00-04:00\",\"2019-10-31T00:00:00-04:00\",\"2019-11-01T00:00:00-04:00\",\"2019-11-04T00:00:00-05:00\",\"2019-11-05T00:00:00-05:00\",\"2019-11-06T00:00:00-05:00\",\"2019-11-07T00:00:00-05:00\",\"2019-11-08T00:00:00-05:00\",\"2019-11-11T00:00:00-05:00\",\"2019-11-12T00:00:00-05:00\",\"2019-11-13T00:00:00-05:00\",\"2019-11-14T00:00:00-05:00\",\"2019-11-15T00:00:00-05:00\",\"2019-11-18T00:00:00-05:00\",\"2019-11-19T00:00:00-05:00\",\"2019-11-20T00:00:00-05:00\",\"2019-11-21T00:00:00-05:00\",\"2019-11-22T00:00:00-05:00\",\"2019-11-25T00:00:00-05:00\",\"2019-11-26T00:00:00-05:00\",\"2019-11-27T00:00:00-05:00\",\"2019-11-29T00:00:00-05:00\",\"2019-12-02T00:00:00-05:00\",\"2019-12-03T00:00:00-05:00\",\"2019-12-04T00:00:00-05:00\",\"2019-12-05T00:00:00-05:00\",\"2019-12-06T00:00:00-05:00\",\"2019-12-09T00:00:00-05:00\",\"2019-12-10T00:00:00-05:00\",\"2019-12-11T00:00:00-05:00\",\"2019-12-12T00:00:00-05:00\",\"2019-12-13T00:00:00-05:00\",\"2019-12-16T00:00:00-05:00\",\"2019-12-17T00:00:00-05:00\",\"2019-12-18T00:00:00-05:00\",\"2019-12-19T00:00:00-05:00\",\"2019-12-20T00:00:00-05:00\",\"2019-12-23T00:00:00-05:00\",\"2019-12-24T00:00:00-05:00\",\"2019-12-26T00:00:00-05:00\",\"2019-12-27T00:00:00-05:00\",\"2019-12-30T00:00:00-05:00\",\"2019-12-31T00:00:00-05:00\",\"2020-01-02T00:00:00-05:00\",\"2020-01-03T00:00:00-05:00\",\"2020-01-06T00:00:00-05:00\",\"2020-01-07T00:00:00-05:00\",\"2020-01-08T00:00:00-05:00\",\"2020-01-09T00:00:00-05:00\",\"2020-01-10T00:00:00-05:00\",\"2020-01-13T00:00:00-05:00\",\"2020-01-14T00:00:00-05:00\",\"2020-01-15T00:00:00-05:00\",\"2020-01-16T00:00:00-05:00\",\"2020-01-17T00:00:00-05:00\",\"2020-01-21T00:00:00-05:00\",\"2020-01-22T00:00:00-05:00\",\"2020-01-23T00:00:00-05:00\",\"2020-01-24T00:00:00-05:00\",\"2020-01-27T00:00:00-05:00\",\"2020-01-28T00:00:00-05:00\",\"2020-01-29T00:00:00-05:00\",\"2020-01-30T00:00:00-05:00\",\"2020-01-31T00:00:00-05:00\",\"2020-02-03T00:00:00-05:00\",\"2020-02-04T00:00:00-05:00\",\"2020-02-05T00:00:00-05:00\",\"2020-02-06T00:00:00-05:00\",\"2020-02-07T00:00:00-05:00\",\"2020-02-10T00:00:00-05:00\",\"2020-02-11T00:00:00-05:00\",\"2020-02-12T00:00:00-05:00\",\"2020-02-13T00:00:00-05:00\",\"2020-02-14T00:00:00-05:00\",\"2020-02-18T00:00:00-05:00\",\"2020-02-19T00:00:00-05:00\",\"2020-02-20T00:00:00-05:00\",\"2020-02-21T00:00:00-05:00\",\"2020-02-24T00:00:00-05:00\",\"2020-02-25T00:00:00-05:00\",\"2020-02-26T00:00:00-05:00\",\"2020-02-27T00:00:00-05:00\",\"2020-02-28T00:00:00-05:00\",\"2020-03-02T00:00:00-05:00\",\"2020-03-03T00:00:00-05:00\",\"2020-03-04T00:00:00-05:00\",\"2020-03-05T00:00:00-05:00\",\"2020-03-06T00:00:00-05:00\",\"2020-03-09T00:00:00-04:00\",\"2020-03-10T00:00:00-04:00\",\"2020-03-11T00:00:00-04:00\",\"2020-03-12T00:00:00-04:00\",\"2020-03-13T00:00:00-04:00\",\"2020-03-16T00:00:00-04:00\",\"2020-03-17T00:00:00-04:00\",\"2020-03-18T00:00:00-04:00\",\"2020-03-19T00:00:00-04:00\",\"2020-03-20T00:00:00-04:00\",\"2020-03-23T00:00:00-04:00\",\"2020-03-24T00:00:00-04:00\",\"2020-03-25T00:00:00-04:00\",\"2020-03-26T00:00:00-04:00\",\"2020-03-27T00:00:00-04:00\",\"2020-03-30T00:00:00-04:00\",\"2020-03-31T00:00:00-04:00\",\"2020-04-01T00:00:00-04:00\",\"2020-04-02T00:00:00-04:00\",\"2020-04-03T00:00:00-04:00\",\"2020-04-06T00:00:00-04:00\",\"2020-04-07T00:00:00-04:00\",\"2020-04-08T00:00:00-04:00\",\"2020-04-09T00:00:00-04:00\",\"2020-04-13T00:00:00-04:00\",\"2020-04-14T00:00:00-04:00\",\"2020-04-15T00:00:00-04:00\",\"2020-04-16T00:00:00-04:00\",\"2020-04-17T00:00:00-04:00\",\"2020-04-20T00:00:00-04:00\",\"2020-04-21T00:00:00-04:00\",\"2020-04-22T00:00:00-04:00\",\"2020-04-23T00:00:00-04:00\",\"2020-04-24T00:00:00-04:00\",\"2020-04-27T00:00:00-04:00\",\"2020-04-28T00:00:00-04:00\",\"2020-04-29T00:00:00-04:00\",\"2020-04-30T00:00:00-04:00\",\"2020-05-01T00:00:00-04:00\",\"2020-05-04T00:00:00-04:00\",\"2020-05-05T00:00:00-04:00\",\"2020-05-06T00:00:00-04:00\",\"2020-05-07T00:00:00-04:00\",\"2020-05-08T00:00:00-04:00\",\"2020-05-11T00:00:00-04:00\",\"2020-05-12T00:00:00-04:00\",\"2020-05-13T00:00:00-04:00\",\"2020-05-14T00:00:00-04:00\",\"2020-05-15T00:00:00-04:00\",\"2020-05-18T00:00:00-04:00\",\"2020-05-19T00:00:00-04:00\",\"2020-05-20T00:00:00-04:00\",\"2020-05-21T00:00:00-04:00\",\"2020-05-22T00:00:00-04:00\",\"2020-05-26T00:00:00-04:00\",\"2020-05-27T00:00:00-04:00\",\"2020-05-28T00:00:00-04:00\",\"2020-05-29T00:00:00-04:00\",\"2020-06-01T00:00:00-04:00\",\"2020-06-02T00:00:00-04:00\",\"2020-06-03T00:00:00-04:00\",\"2020-06-04T00:00:00-04:00\",\"2020-06-05T00:00:00-04:00\",\"2020-06-08T00:00:00-04:00\",\"2020-06-09T00:00:00-04:00\",\"2020-06-10T00:00:00-04:00\",\"2020-06-11T00:00:00-04:00\",\"2020-06-12T00:00:00-04:00\",\"2020-06-15T00:00:00-04:00\",\"2020-06-16T00:00:00-04:00\",\"2020-06-17T00:00:00-04:00\",\"2020-06-18T00:00:00-04:00\",\"2020-06-19T00:00:00-04:00\",\"2020-06-22T00:00:00-04:00\",\"2020-06-23T00:00:00-04:00\",\"2020-06-24T00:00:00-04:00\",\"2020-06-25T00:00:00-04:00\",\"2020-06-26T00:00:00-04:00\",\"2020-06-29T00:00:00-04:00\",\"2020-06-30T00:00:00-04:00\",\"2020-07-01T00:00:00-04:00\",\"2020-07-02T00:00:00-04:00\",\"2020-07-06T00:00:00-04:00\",\"2020-07-07T00:00:00-04:00\",\"2020-07-08T00:00:00-04:00\",\"2020-07-09T00:00:00-04:00\",\"2020-07-10T00:00:00-04:00\",\"2020-07-13T00:00:00-04:00\",\"2020-07-14T00:00:00-04:00\",\"2020-07-15T00:00:00-04:00\",\"2020-07-16T00:00:00-04:00\",\"2020-07-17T00:00:00-04:00\",\"2020-07-20T00:00:00-04:00\",\"2020-07-21T00:00:00-04:00\",\"2020-07-22T00:00:00-04:00\",\"2020-07-23T00:00:00-04:00\",\"2020-07-24T00:00:00-04:00\",\"2020-07-27T00:00:00-04:00\",\"2020-07-28T00:00:00-04:00\",\"2020-07-29T00:00:00-04:00\",\"2020-07-30T00:00:00-04:00\",\"2020-07-31T00:00:00-04:00\",\"2020-08-03T00:00:00-04:00\",\"2020-08-04T00:00:00-04:00\",\"2020-08-05T00:00:00-04:00\",\"2020-08-06T00:00:00-04:00\",\"2020-08-07T00:00:00-04:00\",\"2020-08-10T00:00:00-04:00\",\"2020-08-11T00:00:00-04:00\",\"2020-08-12T00:00:00-04:00\",\"2020-08-13T00:00:00-04:00\",\"2020-08-14T00:00:00-04:00\",\"2020-08-17T00:00:00-04:00\",\"2020-08-18T00:00:00-04:00\",\"2020-08-19T00:00:00-04:00\",\"2020-08-20T00:00:00-04:00\",\"2020-08-21T00:00:00-04:00\",\"2020-08-24T00:00:00-04:00\",\"2020-08-25T00:00:00-04:00\",\"2020-08-26T00:00:00-04:00\",\"2020-08-27T00:00:00-04:00\",\"2020-08-28T00:00:00-04:00\",\"2020-08-31T00:00:00-04:00\",\"2020-09-01T00:00:00-04:00\",\"2020-09-02T00:00:00-04:00\",\"2020-09-03T00:00:00-04:00\",\"2020-09-04T00:00:00-04:00\",\"2020-09-08T00:00:00-04:00\",\"2020-09-09T00:00:00-04:00\",\"2020-09-10T00:00:00-04:00\",\"2020-09-11T00:00:00-04:00\",\"2020-09-14T00:00:00-04:00\",\"2020-09-15T00:00:00-04:00\",\"2020-09-16T00:00:00-04:00\",\"2020-09-17T00:00:00-04:00\",\"2020-09-18T00:00:00-04:00\",\"2020-09-21T00:00:00-04:00\",\"2020-09-22T00:00:00-04:00\",\"2020-09-23T00:00:00-04:00\",\"2020-09-24T00:00:00-04:00\",\"2020-09-25T00:00:00-04:00\",\"2020-09-28T00:00:00-04:00\",\"2020-09-29T00:00:00-04:00\",\"2020-09-30T00:00:00-04:00\",\"2020-10-01T00:00:00-04:00\",\"2020-10-02T00:00:00-04:00\",\"2020-10-05T00:00:00-04:00\",\"2020-10-06T00:00:00-04:00\",\"2020-10-07T00:00:00-04:00\",\"2020-10-08T00:00:00-04:00\",\"2020-10-09T00:00:00-04:00\",\"2020-10-12T00:00:00-04:00\",\"2020-10-13T00:00:00-04:00\",\"2020-10-14T00:00:00-04:00\",\"2020-10-15T00:00:00-04:00\",\"2020-10-16T00:00:00-04:00\",\"2020-10-19T00:00:00-04:00\",\"2020-10-20T00:00:00-04:00\",\"2020-10-21T00:00:00-04:00\",\"2020-10-22T00:00:00-04:00\",\"2020-10-23T00:00:00-04:00\",\"2020-10-26T00:00:00-04:00\",\"2020-10-27T00:00:00-04:00\",\"2020-10-28T00:00:00-04:00\",\"2020-10-29T00:00:00-04:00\",\"2020-10-30T00:00:00-04:00\",\"2020-11-02T00:00:00-05:00\",\"2020-11-03T00:00:00-05:00\",\"2020-11-04T00:00:00-05:00\",\"2020-11-05T00:00:00-05:00\",\"2020-11-06T00:00:00-05:00\",\"2020-11-09T00:00:00-05:00\",\"2020-11-10T00:00:00-05:00\",\"2020-11-11T00:00:00-05:00\",\"2020-11-12T00:00:00-05:00\",\"2020-11-13T00:00:00-05:00\",\"2020-11-16T00:00:00-05:00\",\"2020-11-17T00:00:00-05:00\",\"2020-11-18T00:00:00-05:00\",\"2020-11-19T00:00:00-05:00\",\"2020-11-20T00:00:00-05:00\",\"2020-11-23T00:00:00-05:00\",\"2020-11-24T00:00:00-05:00\",\"2020-11-25T00:00:00-05:00\",\"2020-11-27T00:00:00-05:00\",\"2020-11-30T00:00:00-05:00\",\"2020-12-01T00:00:00-05:00\",\"2020-12-02T00:00:00-05:00\",\"2020-12-03T00:00:00-05:00\",\"2020-12-04T00:00:00-05:00\",\"2020-12-07T00:00:00-05:00\",\"2020-12-08T00:00:00-05:00\",\"2020-12-09T00:00:00-05:00\",\"2020-12-10T00:00:00-05:00\",\"2020-12-11T00:00:00-05:00\",\"2020-12-14T00:00:00-05:00\",\"2020-12-15T00:00:00-05:00\",\"2020-12-16T00:00:00-05:00\",\"2020-12-17T00:00:00-05:00\",\"2020-12-18T00:00:00-05:00\",\"2020-12-21T00:00:00-05:00\",\"2020-12-22T00:00:00-05:00\",\"2020-12-23T00:00:00-05:00\",\"2020-12-24T00:00:00-05:00\",\"2020-12-28T00:00:00-05:00\",\"2020-12-29T00:00:00-05:00\",\"2020-12-30T00:00:00-05:00\",\"2020-12-31T00:00:00-05:00\",\"2021-01-04T00:00:00-05:00\",\"2021-01-05T00:00:00-05:00\",\"2021-01-06T00:00:00-05:00\",\"2021-01-07T00:00:00-05:00\",\"2021-01-08T00:00:00-05:00\",\"2021-01-11T00:00:00-05:00\",\"2021-01-12T00:00:00-05:00\",\"2021-01-13T00:00:00-05:00\",\"2021-01-14T00:00:00-05:00\",\"2021-01-15T00:00:00-05:00\",\"2021-01-19T00:00:00-05:00\",\"2021-01-20T00:00:00-05:00\",\"2021-01-21T00:00:00-05:00\",\"2021-01-22T00:00:00-05:00\",\"2021-01-25T00:00:00-05:00\",\"2021-01-26T00:00:00-05:00\",\"2021-01-27T00:00:00-05:00\",\"2021-01-28T00:00:00-05:00\",\"2021-01-29T00:00:00-05:00\",\"2021-02-01T00:00:00-05:00\",\"2021-02-02T00:00:00-05:00\",\"2021-02-03T00:00:00-05:00\",\"2021-02-04T00:00:00-05:00\",\"2021-02-05T00:00:00-05:00\",\"2021-02-08T00:00:00-05:00\",\"2021-02-09T00:00:00-05:00\",\"2021-02-10T00:00:00-05:00\",\"2021-02-11T00:00:00-05:00\",\"2021-02-12T00:00:00-05:00\",\"2021-02-16T00:00:00-05:00\",\"2021-02-17T00:00:00-05:00\",\"2021-02-18T00:00:00-05:00\",\"2021-02-19T00:00:00-05:00\",\"2021-02-22T00:00:00-05:00\",\"2021-02-23T00:00:00-05:00\",\"2021-02-24T00:00:00-05:00\",\"2021-02-25T00:00:00-05:00\",\"2021-02-26T00:00:00-05:00\",\"2021-03-01T00:00:00-05:00\",\"2021-03-02T00:00:00-05:00\",\"2021-03-03T00:00:00-05:00\",\"2021-03-04T00:00:00-05:00\",\"2021-03-05T00:00:00-05:00\",\"2021-03-08T00:00:00-05:00\",\"2021-03-09T00:00:00-05:00\",\"2021-03-10T00:00:00-05:00\",\"2021-03-11T00:00:00-05:00\",\"2021-03-12T00:00:00-05:00\",\"2021-03-15T00:00:00-04:00\",\"2021-03-16T00:00:00-04:00\",\"2021-03-17T00:00:00-04:00\",\"2021-03-18T00:00:00-04:00\",\"2021-03-19T00:00:00-04:00\",\"2021-03-22T00:00:00-04:00\",\"2021-03-23T00:00:00-04:00\",\"2021-03-24T00:00:00-04:00\",\"2021-03-25T00:00:00-04:00\",\"2021-03-26T00:00:00-04:00\",\"2021-03-29T00:00:00-04:00\",\"2021-03-30T00:00:00-04:00\",\"2021-03-31T00:00:00-04:00\",\"2021-04-01T00:00:00-04:00\",\"2021-04-05T00:00:00-04:00\",\"2021-04-06T00:00:00-04:00\",\"2021-04-07T00:00:00-04:00\",\"2021-04-08T00:00:00-04:00\",\"2021-04-09T00:00:00-04:00\",\"2021-04-12T00:00:00-04:00\",\"2021-04-13T00:00:00-04:00\",\"2021-04-14T00:00:00-04:00\",\"2021-04-15T00:00:00-04:00\",\"2021-04-16T00:00:00-04:00\",\"2021-04-19T00:00:00-04:00\",\"2021-04-20T00:00:00-04:00\",\"2021-04-21T00:00:00-04:00\",\"2021-04-22T00:00:00-04:00\",\"2021-04-23T00:00:00-04:00\",\"2021-04-26T00:00:00-04:00\",\"2021-04-27T00:00:00-04:00\",\"2021-04-28T00:00:00-04:00\",\"2021-04-29T00:00:00-04:00\",\"2021-04-30T00:00:00-04:00\",\"2021-05-03T00:00:00-04:00\",\"2021-05-04T00:00:00-04:00\",\"2021-05-05T00:00:00-04:00\",\"2021-05-06T00:00:00-04:00\",\"2021-05-07T00:00:00-04:00\",\"2021-05-10T00:00:00-04:00\",\"2021-05-11T00:00:00-04:00\",\"2021-05-12T00:00:00-04:00\",\"2021-05-13T00:00:00-04:00\",\"2021-05-14T00:00:00-04:00\",\"2021-05-17T00:00:00-04:00\",\"2021-05-18T00:00:00-04:00\",\"2021-05-19T00:00:00-04:00\",\"2021-05-20T00:00:00-04:00\",\"2021-05-21T00:00:00-04:00\",\"2021-05-24T00:00:00-04:00\",\"2021-05-25T00:00:00-04:00\",\"2021-05-26T00:00:00-04:00\",\"2021-05-27T00:00:00-04:00\",\"2021-05-28T00:00:00-04:00\",\"2021-06-01T00:00:00-04:00\",\"2021-06-02T00:00:00-04:00\",\"2021-06-03T00:00:00-04:00\",\"2021-06-04T00:00:00-04:00\",\"2021-06-07T00:00:00-04:00\",\"2021-06-08T00:00:00-04:00\",\"2021-06-09T00:00:00-04:00\",\"2021-06-10T00:00:00-04:00\",\"2021-06-11T00:00:00-04:00\",\"2021-06-14T00:00:00-04:00\"],\"y\":[1.6916661262512207,1.6832505464553833,1.6748343706130981,1.6075040102005005,1.6622095108032227,1.6580015420913696,1.628544807434082,1.6411687135696411,1.6411687135696411,1.611711859703064,1.6075040102005005,1.630228042602539,1.6580015420913696,1.6201283931732178,1.628544807434082,1.7185989618301392,1.758996605873108,1.7817201614379883,1.7842453718185425,1.7690962553024292,1.767412781715393,1.712707281112671,1.6243363618850708,1.5738394260406494,1.516608476638794,1.5780467987060547,1.6243363618850708,1.6596847772598267,1.6815669536590576,1.733747959136963,1.7000832557678223,1.6032955646514893,1.5687894821166992,1.565422773361206,1.5948798656463623,1.5561649799346924,1.5401742458343506,1.5948798656463623,1.5923547744750977,1.5570063591003418,1.5359658002853394,1.562056303024292,1.5990880727767944,1.6672594547271729,1.6672594547271729,1.7059743404388428,1.6832505464553833,1.6453770399093628,1.6335941553115845,1.632752776145935,1.6201283931732178,1.590671420097351,1.6032955646514893,1.7253317832946777,1.7531052827835083,1.7505806684494019,1.83053457736969,1.8094935417175293,1.8852399587631226,1.9231137037277222,1.8566250801086426,1.8094935417175293,1.7505806684494019,1.6706260442733765,1.733747959136963,1.7867698669433594,1.7993946075439453,1.7253317832946777,1.788453459739685,1.886081576347351,1.9744524955749512,2.037574291229248,1.9862358570098877,1.9576201438903809,2.0358920097351074,1.9567784070968628,1.9719282388687134,1.9567784070968628,1.9567784070968628,1.9315299987792969,1.893656849861145,1.9146971702575684,1.8852399587631226,1.9323714971542358,1.8944981098175049,1.9374217987060547,1.8953399658203125,1.9357377290725708,1.8431588411331177,1.767412781715393,1.7270148992538452,1.6815669536590576,1.5948798656463623,1.6832505464553833,1.766571283340454,1.661367654800415,1.5788886547088623,1.5570063591003418,1.5999293327331543,1.6672594547271729,1.6411687135696411,1.6159201860427856,1.5511150360107422,1.4888348579406738,1.405514121055603,1.36259126663208,1.3541746139526367,1.3499667644500732,1.3280844688415527,1.3297678232192993,1.3466001749038696,1.4804189205169678,1.429079294204712,1.476210117340088,1.5401742458343506,1.510717511177063,1.4728442430496216,1.404672384262085,1.270854115486145,1.291894793510437,1.3289259672164917,1.3373425006866455,1.254021406173706,1.2834784984588623,1.3676410913467407,1.3760572671890259,1.456011414527893,1.5233416557312012,1.5931963920593262,1.679041862487793,1.7606797218322754,1.8052860498428345,1.7253317832946777,1.6622095108032227,1.738797664642334,1.7345894575119019,1.758996605873108,1.8036028146743774,1.7505806684494019,1.6832505464553833,1.565422773361206,1.6142369508743286,1.6504267454147339,1.6874583959579468,1.716915249824524,1.7505806684494019,1.716915249824524,1.6495856046676636,1.700924038887024,1.7185989618301392,1.6916661262512207,1.7068158388137817,1.6874583959579468,1.6748343706130981,1.6344362497329712,1.6537930965423584,1.7379558086395264,1.7909784317016602,1.7211235761642456,1.6832505464553833,1.6664174795150757,1.611711859703064,1.6251779794692993,1.565422773361206,1.590671420097351,1.470319151878357,1.5410157442092896,1.56289803981781,1.5772055387496948,1.648743987083435,1.6411687135696411,1.664734959602356,1.712707281112671,1.7547886371612549,1.6133952140808105,1.678200602531433,1.716915249824524,1.712707281112671,1.561214566230774,1.5149255990982056,1.5149255990982056,1.5065090656280518,1.4837849140167236,1.5216584205627441,1.5780467987060547,1.565422773361206,1.5544817447662354,1.4332877397537231,1.4644278287887573,1.5485901832580566,1.5990880727767944,1.5990880727767944,1.6975575685501099,1.7034496068954468,1.6075040102005005,1.6201283931732178,1.6361192464828491,1.5570063591003418,1.562056303024292,1.5570063591003418,1.5713142156600952,1.565422773361206,1.590671420097351,1.6041375398635864,1.582255244255066,1.6201283931732178,1.6176037788391113,1.5275497436523438,1.5250250101089478,1.4484370946884155,1.5233416557312012,1.3297678232192993,1.3466001749038696,1.254021406173706,1.1210447549819946,0.7843947410583496,0.7970190644264221,0.791127622127533,0.7700871229171753,0.7742950916290283,0.7869197130203247,0.8189010620117188,0.8247928023338318,0.8180596232414246,0.8306838274002075,0.8315256237983704,0.8500416278839111,0.8542494773864746,0.8921226859092712,0.8736071586608887,0.8879145979881287,0.8332087397575378,0.8029103875160217,0.8037520051002502,0.8037520051002502,0.8121681809425354,0.8332087397575378,0.8205843567848206,0.7919692993164062,0.7574627995491028,0.7566208243370056,0.7574627995491028,0.746521532535553,0.7153813242912292,0.6951824426651001,0.714539647102356,0.6943408250808716,0.6733000874519348,0.6665672063827515,0.649734616279602,0.6387935876846313,0.6733000874519348,0.6665672063827515,0.692657470703125,0.858457624912262,0.8752903342247009,0.8576158285140991,0.8921226859092712,0.8710818290710449,0.8677153587341309,0.8550909757614136,0.8635074496269226,0.8837063908576965,0.9072718024253845,0.8752903342247009,0.8837063908576965,0.9089552164077759,0.9190545082092285,0.8921226859092712,0.9022225737571716,0.9257876873016357,0.9712352752685547,1.0183664560317993,1.0225746631622314,1.0183664560317993,1.0208913087844849,0.9931179285049438,1.020049810409546,0.990592896938324,1.00153386592865,1.0099501609802246,1.0099501609802246,1.0133163928985596,1.0099501609802246,1.0107917785644531,1.0250993967056274,1.0082669258117676,1.0840131044387817,1.0899044275283813,1.0772802829742432,1.0570811033248901,1.0377237796783447,1.045298457145691,1.0730721950531006,1.0562396049499512,1.0629723072052002,1.0419317483901978,1.0604475736618042,1.0688637495040894,1.0941126346588135,1.0436151027679443,1.0166833400726318,1.0335156917572021,1.0671807527542114,1.0057421922683716,0.9594525098800659,0.9476699829101562,1.0074254274368286,0.9880679249763489,1.1176782846450806,1.0983208417892456,1.11851966381073,1.1538681983947754,1.0966376066207886,1.1235698461532593,1.0932711362838745,1.0941126346588135,1.0461397171020508,1.0166833400726318,1.0394071340560913,0.972076952457428,0.9889095425605774,1.0141584873199463,1.0495067834854126,1.0495067834854126,1.0545564889907837,1.0638142824172974,1.0621309280395508,1.0604475736618042,1.081488013267517,1.0856966972351074,1.0730721950531006,1.0730721950531006,1.0730721950531006,1.0697052478790283,1.0730721950531006,1.1101036071777344,1.1681758165359497,1.1673340797424316,1.1395604610443115,1.1429269313812256,1.102528691291809,1.1260943412780762,1.1109453439712524,1.0890629291534424,1.0562396049499512,1.0873794555664062,1.1101036071777344,1.1446102857589722,1.1193612813949585,1.158917784690857,1.2279313802719116,1.2498135566711426,1.2035239934921265,1.1824833154678345,1.2119401693344116,1.1883748769760132,1.14629328250885,1.1361939907073975,1.14040207862854,1.1109453439712524,1.154709815979004,1.1159950494766235,1.1319857835769653,1.1361939907073975,1.1866916418075562,1.1993157863616943,1.1908996105194092,1.1446102857589722,1.1387189626693726,1.1572346687316895,1.1277779340744019,1.102528691291809,1.105895757675171,1.070547342300415,1.0654977560043335,1.0730721950531006,1.081488013267517,1.102528691291809,1.1109453439712524,1.0941126346588135,1.2052069902420044,1.2430803775787354,1.3163018226623535,1.3701661825180054,1.3886816501617432,1.3423919677734375,1.3802651166915894,1.3886816501617432,1.3996226787567139,1.456011414527893,1.495568037033081,1.5132416486740112,1.5149255990982056,1.5014594793319702,1.489676594734192,1.4509614706039429,1.42992103099823,1.4147716760635376,1.4475951194763184,1.4181385040283203,1.4534870386123657,1.4433871507644653,1.4433871507644653,1.4122471809387207,1.4433871507644653,1.3785821199417114,1.3466001749038696,1.3676410913467407,1.3718488216400146,1.3381839990615845,1.3676410913467407,1.3954145908355713,1.403831124305725,1.4518035650253296,1.4518035650253296,1.4374955892562866,1.4728442430496216,1.466111183166504,1.5511150360107422,1.5864635705947876,1.5923547744750977,1.5755224227905273,1.5359658002853394,1.519133448600769,1.5157668590545654,1.4770522117614746,1.4316048622131348,1.3524917364120483,1.403831124305725,1.4602199792861938,1.4307626485824585,1.4307626485824585,1.4156131744384766,1.3146183490753174,1.3356590270996094,1.405514121055603,1.422346830368042,1.4139304161071777,1.4013060331344604,1.422346830368042,1.4534870386123657,1.405514121055603,1.3609079122543335,1.3466001749038696,1.2750619649887085,1.296944260597229,1.365116000175476,1.3609079122543335,1.3861565589904785,1.3575414419174194,1.3600660562515259,1.3592244386672974,1.3457586765289307,1.2834784984588623,1.2876864671707153,1.2506548166275024,1.2371890544891357,1.2346638441085815,1.2035239934921265,1.2169897556304932,1.2876864671707153,1.2742208242416382,1.2127822637557983,1.2573878765106201,1.2371890544891357,1.2750619649887085,1.295261025428772,1.2658040523529053,1.323876142501831,1.2615959644317627,1.2674875259399414,1.2961026430130005,1.3070437908172607,1.296944260597229,1.2733790874481201,1.3516499996185303,1.5149255990982056,1.4349709749221802,1.56289803981781,1.5124003887176514,1.5115582942962646,1.4997758865356445,1.4795767068862915,1.4644278287887573,1.4728442430496216,1.4644278287887573,1.4694775342941284,1.4484370946884155,1.42992103099823,1.4425454139709473,1.4349709749221802,1.3928897380828857,1.3886816501617432,1.3970979452133179,1.3760572671890259,1.3710070848464966,1.3735320568084717,1.3886816501617432,1.466111183166504,1.4139304161071777,1.4475951194763184,1.4728442430496216,1.4728442430496216,1.4459118843078613,1.5410157442092896,1.519133448600769,1.5199754238128662,1.5149255990982056,1.498934268951416,1.5679478645324707,1.5696306228637695,1.5553233623504639,1.5696306228637695,1.562056303024292,1.5275497436523438,1.5393322706222534,1.5157668590545654,1.5233416557312012,1.4980928897857666,1.492201328277588,1.4366542100906372,1.4189801216125488,1.5065090656280518,1.4795767068862915,1.4450702667236328,1.4198217391967773,1.4080387353897095,1.4366542100906372,1.3895232677459717,1.4307626485824585,1.42992103099823,1.4518035650253296,1.4711604118347168,1.5258663892745972,1.5115582942962646,1.516608476638794,1.5090339183807373,1.5452234745025635,1.5536398887634277,1.5485901832580566,1.5418570041656494,1.5502735376358032,1.5527986288070679,1.510717511177063,1.5073508024215698,1.5393322706222534,1.5334413051605225,1.5376490354537964,1.5140835046768188,1.5561649799346924,1.5603728294372559,1.5275497436523438,1.5283912420272827,1.5384910106658936,1.5140835046768188,1.4938846826553345,1.4821021556854248,1.495568037033081,1.530074119567871,1.5216584205627441,1.519133448600769,1.4812604188919067,1.4475951194763184,1.4728442430496216,1.4593783617019653,1.4518035650253296,1.4366542100906372,1.3912065029144287,1.325559377670288,1.3045192956924438,1.2902116775512695,1.2961026430130005,1.295261025428772,1.2961026430130005,1.3213516473770142,1.323876142501831,1.3146183490753174,1.3062024116516113,1.3095687627792358,1.2876864671707153,1.312093734741211,1.3423919677734375,1.3423919677734375,1.3524917364120483,1.3314505815505981,1.296944260597229,1.2961026430130005,1.3280844688415527,1.3053604364395142,1.2649627923965454,1.2624378204345703,1.2237225770950317,1.248971700668335,1.2397137880325317,1.270854115486145,1.2632794380187988,1.254021406173706,1.2809534072875977,1.2456049919128418,1.2506548166275024,1.2413970232009888,1.2270896434783936,1.2371890544891357,1.2456049919128418,1.2624378204345703,1.2742208242416382,1.2750619649887085,1.2700122594833374,1.266645908355713,1.2456049919128418,1.2775871753692627,1.3062024116516113,1.291894793510437,1.225406527519226,1.226247787475586,1.2868448495864868,1.271695613861084,1.295261025428772,1.2961026430130005,1.319668173789978,1.2876864671707153,1.2792704105377197,1.2582296133041382,1.2624378204345703,1.2514961957931519,1.2700122594833374,1.2658040523529053,1.2548635005950928,1.2624378204345703,1.3297678232192993,1.3508083820343018,1.4088802337646484,1.4433871507644653,1.4307626485824585,1.4080387353897095,1.4273960590362549,1.4307626485824585,1.4198217391967773,1.42992103099823,1.4400206804275513,1.4105638265609741,1.425713300704956,1.456011414527893,1.4526450634002686,1.4585362672805786,1.4341291189193726,1.4526450634002686,1.4509614706039429,1.4585362672805786,1.468636155128479,1.4753689765930176,1.4964097738265991,1.5780467987060547,1.5233416557312012,1.5570063591003418,1.5317578315734863,1.5023010969161987,1.5359658002853394,1.5081923007965088,1.4964097738265991,1.5292332172393799,1.5578480958938599,1.5923547744750977,1.679041862487793,1.7026077508926392,1.673992395401001,1.5923547744750977,1.5755224227905273,1.6091876029968262,1.6159201860427856,1.5864635705947876,1.5527986288070679,1.606662631034851,1.6075040102005005,1.5931963920593262,1.6108708381652832,1.6394851207733154,1.621811866760254,1.6159201860427856,1.6369608640670776,1.6840918064117432,1.6748343706130981,1.648743987083435,1.6672594547271729,1.6882998943328857,1.6798837184906006,1.7084989547729492,1.812018871307373,1.9231137037277222,1.8507342338562012,1.8010777235031128,1.8002359867095947,1.9778190851211548,1.948361873626709,1.8776657581329346,1.8515753746032715,1.8431588411331177,1.7286980152130127,1.6655762195587158,1.733747959136963,1.8078105449676514,1.8263267278671265,1.7968701124191284,1.7749874591827393,1.7758291959762573,1.7724623680114746,1.767412781715393,1.7707796096801758,1.7758291959762573,1.802761197090149,1.802761197090149,1.8221184015274048,1.8094935417175293,1.7867698669433594,1.7892955541610718,1.806969165802002,1.7800371646881104,1.7690962553024292,1.7842453718185425,1.845684289932251,1.8061275482177734,1.7943445444107056,1.8726164102554321,1.8793491125106812,1.890289545059204,1.8818737268447876,1.812018871307373,1.7926619052886963,1.7909784317016602,1.7800371646881104,1.6453770399093628,1.632752776145935,1.611711859703064,1.6024541854858398,1.597404956817627,1.6032955646514893,1.6260197162628174,1.6293864250183105,1.6133952140808105,1.6075040102005005,1.5721559524536133,1.572997808456421,1.6091876029968262,1.6192868947982788,1.582255244255066,1.606662631034851,1.621811866760254,1.6866167783737183,1.6504267454147339,1.6546348333358765,1.6411687135696411,1.6411687135696411,1.6091876029968262,1.5923547744750977,1.611711859703064,1.6201283931732178,1.6571601629257202,1.6580015420913696,1.6630512475967407,1.643694281578064,1.5746803283691406,1.5856221914291382,1.565422773361206,1.6184452772140503,1.6335941553115845,1.7059743404388428,1.7068158388137817,1.712707281112671,1.741322636604309,1.75142240524292,1.7278566360473633,1.7051327228546143,1.7084989547729492,1.7076573371887207,1.6546348333358765,1.7834036350250244,1.7505806684494019,1.7699378728866577,1.7690962553024292,1.7345894575119019,1.6411687135696411,1.8473668098449707,1.897864580154419,1.9710861444473267,1.899548053741455,1.912172794342041,1.8650410175323486,1.832218050956726,1.8330600261688232,1.860833764076233,1.845684289932251,1.8507342338562012,1.8330600261688232,1.8103357553482056,1.8473668098449707,1.8111774921417236,1.7598379850387573,1.8187522888183594,1.9954931735992432,2.0283169746398926,1.9710861444473267,2.013166666030884,1.9904437065124512,2.050198793411255,2.0687143802642822,2.0594565868377686,2.0645062923431396,2.071239948272705,2.1579270362854004,2.146144390106201,2.1166868209838867,2.171393394470215,2.1739180088043213,2.167185068130493,2.1596102714538574,2.165501832962036,2.171393394470215,2.1453027725219727,2.160451650619507,2.205057382583618,2.2866952419281006,2.358234167098999,2.358234167098999,2.401998281478882,2.5038347244262695,2.4062068462371826,2.4802701473236084,2.513934850692749,2.454179286956787,2.5282421112060547,2.533291816711426,2.6157708168029785,2.7378056049346924,2.695725440979004,2.6258702278137207,2.7176077365875244,2.758005380630493,2.7436976432800293,2.72518253326416,2.8211276531219482,2.776521921157837,2.783254623413086,2.7260241508483887,2.697408676147461,2.7352821826934814,2.7352821826934814,2.7016167640686035,2.6578519344329834,2.728548765182495,2.7327566146850586,2.7529566287994385,2.7613723278045654,2.7849373817443848,2.830385446548462,2.8800413608551025,2.959153413772583,2.9852447509765625,3.0046021938323975,2.986086130142212,2.9768283367156982,2.9616787433624268,2.944004535675049,2.944004535675049,2.9692530632019043,2.947371244430542,2.898557662963867,2.8766748905181885,2.8657336235046387,2.9423208236694336,2.9751453399658203,2.890981912612915,2.870783567428589,2.9204399585723877,2.887615442276001,2.8169193267822266,2.710033416748047,2.7108747959136963,2.768946886062622,2.772313117980957,2.7352821826934814,2.6427032947540283,2.655327320098877,2.530766725540161,2.4785854816436768,2.721815824508667,2.775679349899292,2.882565975189209,2.9355885982513428,2.903607130050659,2.8993985652923584,2.8623666763305664,2.840484619140625,2.8042943477630615,2.840484619140625,2.819443702697754,2.8472182750701904,3.006284713745117,3.049208402633667,3.0306921005249023,3.041633367538452,3.060148239135742,3.0500500202178955,3.0887644290924072,3.0163846015930176,3.031533718109131,3.0281670093536377,2.971778392791748,2.7874622344970703,2.811028242111206,2.844693660736084,2.8017702102661133,2.7537975311279297,2.7647392749786377,2.7016167640686035,2.6485941410064697,2.6065125465393066,2.6494359970092773,2.6940417289733887,2.6090385913848877,2.583789587020874,2.6292366981506348,2.6006221771240234,2.5879976749420166,2.580423355102539,2.604829788208008,2.655327320098877,2.763896942138672,2.858158588409424,2.86489200592041,2.8690998554229736,2.9212803840637207,3.0020766258239746,2.851426601409912,2.7807297706604004,2.9019229412078857,2.986086130142212,2.996185779571533,3.050891637802124,3.1131718158721924,3.0618326663970947,3.130845546722412,3.0626745223999023,3.1106467247009277,3.0954973697662354,3.022274971008301,3.0391087532043457,2.991136074066162,2.9835615158081055,3.006284713745117,3.0525741577148438,3.181342840194702,3.078664541244507,2.984402656555176,3.0752980709075928,2.9608378410339355,2.9448463916778564,2.831226348876953,2.828701972961426,2.9625208377838135,2.9355885982513428,2.945688486099243,2.8901405334472656,2.916231393814087,2.8573176860809326,2.874150276184082,2.7697885036468506,2.7706298828125,2.660377264022827,2.6544861793518066,2.598097324371338,2.562748670578003,2.5913636684417725,2.5703234672546387,2.577897787094116,2.598097324371338,2.6528024673461914,2.673001527786255,2.678051710128784,2.7192909717559814,2.8152365684509277,3.140103816986084,3.241940498352051,3.225950241088867,3.257089614868164,3.29748797416687,3.243623733520508,3.226790428161621,3.2208988666534424,3.2032248973846436,3.2562475204467773,3.208275079727173,3.2065911293029785,3.2065911293029785,3.22426700592041,3.258772850036621,3.294121265411377,3.328626871109009,3.392591953277588,3.550816535949707,3.5398757457733154,3.5827982425689697,3.6274044513702393,3.5255682468414307,3.5137851238250732,3.4052155017852783,3.4068992137908936,3.38249135017395,3.411106586456299,3.419523000717163,3.5095772743225098,3.463287591934204,3.4094223976135254,3.4540297985076904,3.3631339073181152,3.3707082271575928,3.38670015335083,3.369025230407715,3.448979616165161,3.391749620437622,3.4506635665893555,3.432988405227661,3.3614513874053955,3.2612969875335693,3.2192158699035645,3.26550555229187,3.29243803024292,3.4035325050354004,3.3488268852233887,3.3749167919158936,3.4590795040130615,3.4843273162841797,3.78731369972229,3.824345588684082,3.802462339401245,3.939647912979126,3.9455392360687256,3.9009320735931396,3.9556381702423096,3.9556381702423096,3.967420816421509,3.910191059112549,4.0431671142578125,4.096189022064209,4.123122692108154,4.1214375495910645,4.095348358154297,3.953955888748169,3.9648964405059814,3.9438564777374268,3.9219727516174316,3.937122344970703,3.9615302085876465,3.999403715133667,3.95479679107666,3.935438871383667,3.93880558013916,3.9876198768615723,3.985095500946045,3.9724717140197754,4.0061354637146,4.0414838790893555,4.037276268005371,3.9909863471984863,4.058316707611084,3.99519419670105,4.002768516540527,3.90598201751709,3.7797389030456543,3.6989431381225586,3.656020164489746,3.7283992767333984,3.7536470890045166,3.819295644760132,3.7847883701324463,3.6467623710632324,3.6391866207122803,3.5390331745147705,3.658543825149536,3.667802095413208,3.5499749183654785,3.613938331604004,3.697258949279785,3.6551785469055176,3.44813871383667,3.5078933238983154,3.4717044830322266,3.4464545249938965,3.4843273162841797,3.3749167919158936,3.3252615928649902,3.398482084274292,3.4717044830322266,3.318528413772583,3.1914424896240234,3.0870821475982666,3.2335240840911865,3.0980217456817627,3.1704022884368896,3.1249537467956543,3.0954973697662354,3.12579607963562,3.295804500579834,3.534825563430786,3.3471429347991943,3.2688724994659424,3.3000121116638184,3.2049083709716797,3.1148550510406494,3.1409451961517334,3.106437921524048,3.310953378677368,3.2772884368896484,3.1704022884368896,3.3193695545196533,3.4439303874969482,3.2713966369628906,3.187234401702881,3.2890713214874268,3.389223575592041,3.438880443572998,3.4380385875701904,3.553341865539551,3.5020017623901367,3.406057357788086,3.6114137172698975,3.737657308578491,3.7283992767333984,3.762063980102539,3.7326080799102783,3.6854755878448486,3.750281572341919,3.9093480110168457,3.8807334899902344,3.8975648880004883,3.9556381702423096,3.8049867153167725,3.7393405437469482,3.6248791217803955,3.6703271865844727,3.672852039337158,3.5541837215423584,3.5230438709259033,3.5827982425689697,3.6282453536987305,3.6694867610931396,3.676218032836914,3.640871047973633,3.718299627304077,3.6745359897613525,3.677060604095459,3.766273021697998,3.8378100395202637,3.979203224182129,4.0355916023254395,3.9707870483398438,4.0103440284729,4.052426338195801,4.037276268005371,4.0709404945373535,4.111337661743164,3.9665791988372803,4.038116931915283,4.060842037200928,3.9733123779296875,3.925340414047241,3.8950419425964355,3.8807334899902344,3.982570171356201,4.038116931915283,4.059157371520996,4.00697660446167,4.044009685516357,4.038958549499512,4.128171920776367,4.230849742889404,4.352886199951172,4.3562517166137695,4.304912567138672,4.290605545043945,4.3150129318237305,4.313328742980957,4.384025573730469,4.283872127532959,4.181193828582764,4.339418888092041,4.346152305603027,4.283029556274414,4.297338008880615,4.215700149536133,4.233373641967773,4.504377365112305,4.4824957847595215,4.463980197906494,4.483336925506592,4.375609874725342,4.400857925415039,4.400857925415039,4.469028472900391,4.437889099121094,4.399174690246582,4.354568958282471,4.305755138397217,4.460612773895264,4.657553195953369,4.767806529998779,4.629779815673828,4.578441143035889,4.645771026611328,4.71730899810791,4.677753925323486,4.73582649230957,4.776221752166748,4.836820125579834,4.814095973968506,4.863752841949463,4.816620826721191,4.746766567230225,4.736665725708008,4.796422004699707,4.763598442077637,4.667653560638428,4.633146286010742,4.642404079437256,4.6701788902282715,4.649979114532471,4.6306233406066895,4.688694000244141,4.695427894592285,4.638195991516113,4.620521068572998,4.663445472717285,4.6701788902282715,4.586856842041016,4.742557048797607,4.766964912414551,4.883108615875244,4.851129055023193,4.8553361892700195,4.844394207000732,4.78463888168335,4.715625762939453,4.633146286010742,4.622203826904297,4.692901611328125,4.51616096496582,4.397490978240967,4.467345714569092,4.4387311935424805,4.496802806854248,4.531310081481934,4.536358833312988,4.460612773895264,4.4387311935424805,4.520368576049805,4.481654167175293,4.505218982696533,4.463980197906494,4.512794494628906,4.538043022155762,4.522052764892578,4.522893905639648,4.537201404571533,4.6558709144592285,4.57086706161499,4.530467510223389,4.492595195770264,4.388233184814453,4.408432483673096,4.390758514404297,4.316695213317871,4.303229331970215,4.358776569366455,4.359617710113525,4.524576663970947,4.56160831451416,4.614630699157715,4.538043022155762,4.483336925506592,4.558241844177246,4.49848747253418,4.5801239013671875,4.6541876792907715,4.650820255279541,4.598639965057373,4.600322723388672,4.70805025100708,5.245008945465088,5.487395286560059,5.45709753036499,5.482346534729004,5.542943477630615,5.58670711517334,5.551358699798584,5.608588695526123,5.571558952331543,5.733150959014893,5.780281066894531,5.7079010009765625,5.68770170211792,5.694436550140381,5.714635372161865,5.6422553062438965,5.5597758293151855,5.731467247009277,5.882960319519043,5.748300552368164,5.692751884460449,5.728099822998047,5.657403945922852,5.583340167999268,5.638887405395508,5.689387321472168,5.654038429260254,5.596807956695557,5.606906890869141,5.632154941558838,5.638887405395508,5.541259765625,5.494128227233887,5.551358699798584,5.768498420715332,5.9334564208984375,5.992371559143066,5.990688800811768,6.244858264923096,6.342488765716553,6.03445291519165,5.926724433898926,6.024352073669434,6.063067436218262,6.130396366119385,6.2246599197387695,6.342488765716553,6.4401164054870605,6.419917106628418,6.295357704162598,6.130396366119385,6.273475170135498,6.212875843048096,6.120296478271484,6.2313923835754395,6.271791458129883,6.600024223327637,6.763301372528076,6.7414164543151855,6.66735315322876,6.7414164543151855,6.743101596832275,6.729634761810303,6.6505231857299805,6.796964168548584,6.719534873962402,6.581508159637451,6.766664505004883,6.808748722076416,6.987173080444336,6.993906021118164,7.280057430267334,7.09153413772583,7.0275702476501465,7.140347003936768,7.069651126861572,7.08143424987793,7.004003524780273,7.086483478546143,7.014105319976807,7.057867527008057,6.91647481918335,7.004003524780273,7.071334362030029,6.911426544189453,6.800333023071289,6.854194164276123,6.7919135093688965,6.749833583831787,6.987173080444336,6.657253742218018,6.833995819091797,7.197578430175781,7.413033962249756,6.892909049987793,6.712802410125732,6.849144458770752,6.744784355163574,6.655571460723877,6.561309814453125,6.716167449951172,7.015786647796631,7.2312421798706055,7.308672904968262,7.987022876739502,8.320306777954102,8.199113845825195,7.813647270202637,8.3556547164917,8.219310760498047,8.43981647491455,8.60645866394043,8.360703468322754,8.424666404724121,8.114947319030762,8.215943336486816,8.446548461914062,8.475166320800781,8.384272575378418,8.729337692260742,8.651904106140137,8.788249015808105,8.990241050720215,9.17203140258789,9.305007934570312,9.454815864562988,9.599576950073242,9.894143104553223,9.559179306030273,9.485114097595215,9.45145320892334,9.695521354675293,9.528879165649414,9.195595741271973,9.547395706176758,9.535613059997559,9.88236141204834,9.926125526428223,9.602941513061523,9.661857604980469,9.766217231750488,9.783051490783691,9.848697662353516,9.828498840332031,9.550763130187988,9.55412769317627,10.107916831970215,9.784734725952148,9.528879165649414,9.668588638305664,9.808300018310547,9.678689002990723,9.968210220336914,9.737603187561035,9.515413284301758,9.591160774230957,9.878996849060059,9.49689769744873,9.392539024353027,8.884196281433105,8.752901077270508,9.161932945251465,9.067669868469238,9.414419174194336,9.257877349853516,8.919544219970703,8.586257934570312,8.301790237426758,8.441500663757324,8.665372848510742,8.944790840148926,9.387489318847656,9.402636528015137,9.670272827148438,9.695521354675293,9.629874229431152,9.74601936340332,10.040590286254883,10.230795860290527,10.099502563476562,9.783051490783691,9.867215156555176,9.68710708618164,9.798198699951172,9.788100242614746,10.261093139648438,10.262777328491211,10.452983856201172,10.343573570251465,10.654974937438965,10.58427906036377,10.469815254211426,10.486650466918945,10.454668045043945,10.149998664855957,10.118017196655273,9.6012601852417,9.5137300491333,9.443033218383789,9.276391983032227,8.798349380493164,8.773100852966309,9.04073715209961,8.552597999572754,8.636757850646973,8.369117736816406,8.301790237426758,8.49536418914795,8.761319160461426,8.823598861694336,8.348920822143555,8.508831977844238,8.360703468322754,8.261394500732422,8.678837776184082,8.840431213378906,8.752901077270508,8.308524131774902,8.295058250427246,8.276541709899902,8.456648826599121,8.456648826599121,8.264758110046387,7.965140342712402,7.702553749084473,8.01732063293457,7.8877129554748535,7.69918966293335,7.741267204284668,7.788398265838623,7.7530517578125,7.929792881011963,7.980290412902832,7.584726333618164,7.130247116088867,7.194212913513184,7.338973522186279,7.61334228515625,7.298574924468994,7.184111595153809,7.293524742126465,7.8893938064575195,7.785032749176025,7.939891815185547,8.256343841552734,7.911276340484619,8.172179222106934,7.907911777496338,8.446548461914062,9.087868690490723,9.064302444458008,8.917859077453613,9.08955192565918,8.734386444091797,8.70408821105957,9.370654106140137,9.370654106140137,9.49353313446045,9.49689769744873,9.436301231384277,9.316789627075195,9.037371635437012,9.289859771728516,9.180447578430176,9.239359855651855,9.400949478149414,9.5372953414917,9.6012601852417,9.533929824829102,9.353821754455566,9.232627868652344,9.293224334716797,9.421154022216797,9.456502914428711,9.278076171875,9.195595741271973,9.264609336853027,9.49184799194336,9.087868690490723,8.879145622253418,9.072717666625977,8.783198356628418,8.59467601776123,8.623289108276367,9.106385231018066,9.190544128417969,9.252826690673828,9.333623886108398,9.067669868469238,8.786566734313965,8.682204246520996,8.557641983032227,8.222675323486328,8.310205459594727,8.332087516784668,8.465065002441406,8.2799072265625,8.348920822143555,8.274857521057129,8.151982307434082,7.9752397537231445,8.005537033081055,7.57462739944458,7.714337348937988,7.512347221374512,7.155496597290039,7.224510192871094,7.492146015167236,8.069501876831055,7.8877129554748535,7.852362155914307,8.069501876831055,7.645319938659668,7.69918966293335,7.64195442199707,7.7463178634643555,7.327187538146973,7.209360599517822,6.800333023071289,6.859245300292969,6.802014350891113,6.527644634246826,6.625274181365967,6.852511882781982,6.628640651702881,6.55120849609375,6.611807346343994,6.778447151184082,6.936675071716309,7.195895195007324,7.293524742126465,7.6167073249816895,7.246394157409668,7.312040328979492,7.445015907287598,7.163913726806641,6.992221832275391,6.830629348754883,6.985489368438721,6.904692649841309,6.818844795227051,6.704386234283447,6.637056827545166,7.221144199371338,7.200943946838379,6.972021102905273,7.443335056304932,7.704235076904297,7.599874496459961,7.441649436950684,7.4786810874938965,7.273324489593506,7.436599254608154,7.413033962249756,7.325504779815674,7.318772315979004,7.433236598968506,7.281742095947266,7.256490707397461,7.2548089027404785,7.421450614929199,7.384418964385986,7.638591289520264,7.389467239379883,7.39451789855957,7.344020366668701,7.453433990478516,7.330556869506836,7.197578430175781,7.187480449676514,6.936675071716309,6.5478434562683105,6.746467113494873,6.329020977020264,6.478830814361572,6.34585428237915,6.106832027435303,5.881276607513428,5.824045658111572,6.066433906555176,6.086633682250977,5.756715774536133,5.758397579193115,6.066433906555176,6.027719497680664,5.938506126403809,5.741567134857178,5.175995349884033,5.085099697113037,4.896574974060059,4.898258209228516,5.6422553062438965,5.110348701477051,4.667653560638428,5.186095714569092,5.359469890594482,5.58670711517334,5.127181053161621,4.751815319061279,4.556558609008789,4.331003665924072,4.243474006652832,4.866276741027832,4.953804969787598,4.953804969787598,4.610421180725098,4.539725303649902,4.671019077301025,4.2552571296691895,4.007819175720215,4.224958419799805,4.120596885681152,3.9404873847961426,3.709883213043213,4.179511070251465,3.918607473373413,3.8293943405151367,3.7384982109069824,3.4607627391815186,2.945688486099243,3.0264832973480225,3.401848077774048,3.479278564453125,3.703150749206543,3.6779019832611084,3.257089614868164,3.1998586654663086,3.172927141189575,3.3967983722686768,3.580273389816284,4.208125114440918,3.910191059112549,4.054949760437012,3.84454345703125,4.061682224273682,3.891674041748047,4.324270248413086,4.320903301239014,4.105447769165039,4.140796184539795,3.8950419425964355,3.7334489822387695,3.9236576557159424,3.8950419425964355,3.6947336196899414,3.726716995239258,3.645920753479004,3.9034574031829834,4.011185646057129,3.959003448486328,3.8058297634124756,4.305755138397217,4.398333549499512,4.287239074707031,4.147529125213623,3.9438564777374268,4.011185646057129,4.154262065887451,3.8798916339874268,4.112181663513184,4.095348358154297,4.344468593597412,4.470713138580322,4.4387311935424805,4.736665725708008,4.430315017700195,4.171095371246338,4.285555839538574,4.312488555908203,4.374767780303955,4.563291549682617,4.714784145355225,4.615472793579102,4.527943134307861,4.462296962738037,4.543092727661133,4.4185309410095215,4.211492538452148,4.186243534088135,4.4824957847595215,4.490912914276123,4.41348123550415,4.605374336242676,4.765282154083252,4.54477596282959,4.531310081481934,4.391599178314209,4.373084545135498,4.595272064208984,3.9489049911499023,3.7671144008636475,3.854642391204834,4.243474006652832,4.251889228820801,4.275454998016357,4.319220542907715,4.108814239501953,4.199710369110107,4.179511070251465,4.278820991516113,4.182877063751221,4.480813026428223,4.553192615509033,4.517843246459961,4.411799430847168,4.684484958648682,4.556558609008789,4.716468334197998,4.746766567230225,5.066583633422852,5.012719631195068,4.817461967468262,4.923508644104004,5.10698127746582,5.45709753036499,5.435215473175049,5.300555229187012,5.36956787109375,4.99925422668457,4.852810382843018,4.780430316925049,5.016085624694824,5.026185989379883,5.133913993835449,5.270256519317627,5.130546569824219,4.994203567504883,5.064899444580078,5.076683044433594,4.938655376434326,4.938655376434326,4.896574974060059,4.6306233406066895,4.529626369476318,4.398333549499512,4.487545490264893,4.4185309410095215,4.319220542907715,4.371401309967041,4.455564022064209,4.423583030700684,4.346152305603027,4.455564022064209,3.7671144008636475,3.795729160308838,3.932072639465332,3.704833745956421,3.9606881141662598,4.199710369110107,4.34278678894043,4.09366512298584,4.068416118621826,4.115547180175781,4.021285057067871,4.095348358154297,4.208125114440918,4.199710369110107,4.14247989654541,4.060000419616699,3.984252452850342,3.869793176651001,3.9118733406066895,3.8378100395202637,3.8630599975585938,3.6964170932769775,3.6795854568481445,3.6745359897613525,3.7384982109069824,3.7317655086517334,3.7317655086517334,3.704833745956421,3.780579090118408,3.5466079711914062,3.5415592193603516,3.4439303874969482,3.5247268676757812,3.482645273208618,3.4405643939971924,3.5398757457733154,3.640871047973633,3.6425535678863525,3.7283992767333984,3.6964170932769775,3.760380983352661,3.8580098152160645,3.9758377075195312,4.022968769073486,4.065049171447754,3.9606881141662598,3.8378100395202637,3.6812682151794434,3.6156210899353027,3.6846346855163574,3.8479104042053223,4.110496997833252,4.065049171447754,4.127330780029297,4.235057830810547,4.066733360290527,4.157628536224365,4.315854072570801,4.431997776031494,4.45051383972168,4.223274230957031,4.130697250366211,4.238425254821777,3.9404873847961426,3.893359422683716,3.797412872314453,3.77553129196167,3.797412872314453,3.8748435974121094,3.950589179992676,4.0061354637146,3.925340414047241,3.9489049911499023,4.031383991241455,4.049900054931641,4.196343421936035,4.216542720794678,4.211492538452148,4.157628536224365,4.307437419891357,4.265355587005615,4.346152305603027,4.34278678894043,4.509427547454834,4.423583030700684,4.416848182678223,4.487545490264893,4.415165901184082,4.38318395614624,4.411799430847168,4.509427547454834,4.455564022064209,4.379817962646484,4.322587013244629,4.381501197814941,4.480813026428223,4.416848182678223,4.607056617736816,4.538043022155762,4.521209716796875,4.602006912231445,4.7400336265563965,4.686168193817139,4.667653560638428,4.7400336265563965,4.3175368309021,4.265355587005615,4.248523712158203,4.1694111824035645,4.053265571594238,4.140796184539795,4.078515529632568,4.132379055023193,4.088615894317627,4.071784019470215,4.036434650421143,3.99603533744812,4.071784019470215,4.145845413208008,4.292288780212402,4.238425254821777,4.112181663513184,4.144161701202393,3.9876198768615723,4.1071295738220215,4.034750938415527,4.054949760437012,4.123962879180908,4.290605545043945,4.319220542907715,4.2552571296691895,4.309121131896973,4.261991024017334,4.108814239501953,4.012869834899902,3.6812682151794434,3.593740224838257,3.5903728008270264,3.691368579864502,3.593740224838257,3.5045268535614014,3.5651235580444336,3.656020164489746,3.750281572341919,3.755331516265869,3.7772138118743896,3.812561511993408,3.7839455604553223,3.807511806488037,3.740182399749756,3.704833745956421,3.704833745956421,3.743548631668091,3.7317655086517334,3.7317655086517334,3.693051815032959,3.854642391204834,3.959003448486328,4.044849872589111,3.4439303874969482,3.4153146743774414,3.4203639030456543,3.4961109161376953,3.4994773864746094,3.4506635665893555,3.4506635665893555,3.50284481048584,3.4523463249206543,3.4371979236602783,3.3715507984161377,3.354717969894409,3.305903673171997,3.356401205062866,3.3429360389709473,3.3277857303619385,3.354717969894409,3.4052155017852783,3.4523463249206543,3.3833322525024414,3.391749620437622,3.3143203258514404,3.167877197265625,3.226790428161621,3.258772850036621,3.226790428161621,3.1964924335479736,3.245307445526123,3.2688724994659424,3.2503559589385986,3.211641550064087,3.1762924194335938,3.174609422683716,2.947371244430542,2.8951902389526367,2.944004535675049,2.944004535675049,3.0046021938323975,2.994502067565918,3.0433168411254883,3.1089634895324707,3.0399508476257324,3.076982021331787,3.257089614868164,3.2335240840911865,3.26550555229187,3.267188310623169,3.3429360389709473,3.561758041381836,3.553341865539551,3.6358208656311035,3.736816167831421,3.654336452484131,3.6661200523376465,3.703150749206543,3.664436101913452,3.672852039337158,3.688001871109009,3.770479917526245,3.8108787536621094,3.7889962196350098,3.8176119327545166,3.891674041748047,3.9219727516174316,3.950589179992676,3.982570171356201,4.031383991241455,4.110496997833252,4.176143169403076,4.258623123168945,4.275454998016357,4.231690883636475,4.213175296783447,4.245157241821289,4.285555839538574,4.130697250366211,4.160994529724121,4.206442832946777,4.091981410980225,4.231690883636475,4.164360523223877,4.125645637512207,3.9017748832702637,3.800779104232788,3.9219727516174316,3.861377000808716,3.8950419425964355,3.8176119327545166,3.6779019832611084,3.708200216293335,3.6038386821746826,3.580273389816284,3.4708614349365234,3.5853238105773926,3.5819568634033203,3.688001871109009,3.645920753479004,3.8681092262268066,3.836127519607544,3.6795854568481445,3.7250328063964844,3.8176119327545166,3.664436101913452,3.5583910942077637,3.533142566680908,3.533142566680908,3.5735397338867188,3.645920753479004,3.6829512119293213,3.4860105514526367,3.305903673171997,3.258772850036621,3.2335240840911865,3.174609422683716,3.169560432434082,3.1796600818634033,3.0921311378479004,3.1156961917877197,3.1560935974121094,3.083714008331299,3.162827491760254,3.209958553314209,3.0752980709075928,3.0971803665161133,3.1560935974121094,3.172927141189575,3.2032248973846436,3.2520394325256348,3.2840216159820557,3.2840216159820557,3.2857046127319336,3.1897597312927246,3.26550555229187,3.3328349590301514,3.309269666671753,3.3648173809051514,3.4506635665893555,3.5163092613220215,3.4153146743774414,3.3681836128234863,3.32273530960083,3.3749167919158936,3.553341865539551,3.477595329284668,3.5785911083221436,3.556708335876465,3.529775857925415,3.528092384338379,3.4557132720947266,3.3429360389709473,3.3176867961883545,3.294121265411377,3.3378846645355225,3.3698673248291016,3.4944286346435547,3.208275079727173,3.166193962097168,3.1005470752716064,3.0870821475982666,3.1005470752716064,3.0870821475982666,3.085397720336914,3.0079684257507324,3.0180678367614746,3.076982021331787,3.1140127182006836,3.1998586654663086,3.1560935974121094,3.12579607963562,3.09381365776062,3.0719316005706787,3.139261245727539,3.1325292587280273,3.1291627883911133,3.26550555229187,3.260456085205078,3.29243803024292,3.278970241546631,3.2823374271392822,3.2890713214874268,3.353034019470215,3.3362021446228027,3.346301794052124,3.3160030841827393,3.3176867961883545,3.3665010929107666,3.347984790802002,3.4068992137908936,3.401848077774048,3.353034019470215,3.3799667358398438,3.4287807941436768,3.3328349590301514,3.2402567863464355,3.167877197265625,3.083714008331299,3.0752980709075928,3.1005470752716064,3.1914424896240234,3.2049083709716797,3.2200582027435303,3.2368905544281006,3.26550555229187,3.262139320373535,3.267188310623169,3.307586193084717,3.2503559589385986,3.295804500579834,3.2907540798187256,3.358083724975586,3.3648173809051514,3.4557132720947266,3.398482084274292,3.390066146850586,3.5516583919525146,3.5062105655670166,3.487694501876831,3.5095772743225098,3.534825563430786,3.433830499649048,3.38670015335083,3.4304633140563965,3.401848077774048,3.425414562225342,3.4506635665893555,3.38670015335083,3.353034019470215,3.4119486808776855,3.5600743293762207,3.5903728008270264,3.57690691947937,3.6088902950286865,3.588689088821411,3.6425535678863525,3.743548631668091,3.6896846294403076,3.659386157989502,3.629087209701538,3.654336452484131,3.6476030349731445,3.5785911083221436,3.6425535678863525,3.652653455734253,3.740182399749756,3.7452328205108643,3.790679931640625,3.7889962196350098,3.8630599975585938,3.8512768745422363,3.85632586479187,3.78731369972229,3.6846346855163574,3.4725449085235596,3.4961109161376953,3.4843273162841797,3.398482084274292,3.479278564453125,3.467495918273926,3.4287807941436768,3.4287807941436768,3.4439303874969482,3.5365090370178223,3.517993211746216,3.5499749183654785,3.544924736022949,3.5415592193603516,3.5466079711914062,3.5314581394195557,3.5466079711914062,3.4590795040130615,3.3362021446228027,3.2823374271392822,3.3749167919158936,3.390066146850586,3.3698673248291016,3.3160030841827393,3.4287807941436768,3.4136316776275635,3.344618320465088,3.3732335567474365,3.4119486808776855,3.385016441345215,3.358083724975586,3.3126370906829834,3.3126370906829834,3.2840216159820557,3.341252088546753,3.358083724975586,3.3193695545196533,3.3160030841827393,3.388383388519287,3.3749167919158936,3.3176867961883545,3.3362021446228027,3.3261024951934814,3.295804500579834,3.3277857303619385,3.3362021446228027,3.4557132720947266,3.4573960304260254,3.5314581394195557,3.528092384338379,3.566807270050049,3.5381925106048584,3.553341865539551,3.6577024459838867,3.656020164489746,3.698101282119751,3.7570154666900635,3.809195041656494,3.790679931640625,3.8580098152160645,3.79909610748291,3.969104766845703,4.022968769073486,4.044849872589111,4.007819175720215,3.997720956802368,4.0061354637146,4.268723011016846,4.277138710021973,4.44378137588501,4.4000163078308105,4.470713138580322,4.435365200042725,4.467345714569092,4.458929538726807,4.425264358520508,4.41348123550415,4.410114765167236,4.322587013244629,4.339418888092041,4.352886199951172,4.322587013244629,4.354568958282471,4.285555839538574,4.288922309875488,4.339418888092041,4.34278678894043,4.364668846130371,4.497644424438477,4.45724630355835,4.435365200042725,4.490912914276123,4.598639965057373,4.692901611328125,4.6558709144592285,4.649138927459717,4.671019077301025,4.671019077301025,4.748448848724365,4.709733486175537,4.623888969421387,4.588540077209473,4.499328136444092,4.472395420074463,4.406749248504639,4.42189884185791,4.460612773895264,4.420215606689453,4.4185309410095215,4.448829650878906,4.396650791168213,4.410114765167236,4.45051383972168,4.511111736297607,4.6306233406066895,4.467345714569092,4.420215606689453,4.396650791168213,4.341102123260498,4.435365200042725,4.374767780303955,4.48922872543335,4.532992362976074,4.612106800079346,4.596957206726074,4.581806659698486,4.519527912139893,4.368035316467285,4.176143169403076,4.078515529632568,4.011185646057129,3.9707870483398438,3.9421722888946533,3.9909863471984863,3.918607473373413,3.925340414047241,3.950589179992676,3.977519989013672,3.999403715133667,3.9556381702423096,3.965738296508789,3.969104766845703,3.8899922370910645,3.85632586479187,3.8462274074554443,3.6829512119293213,3.7250328063964844,3.4607627391815186,3.59542179107666,3.4573960304260254,3.6088902950286865,3.487694501876831,3.52640962600708,3.6004719734191895,3.4439303874969482,3.607205629348755,3.6307709217071533,3.6375045776367188,3.800779104232788,3.9303886890411377,3.78731369972229,3.834444522857666,3.888307809829712,3.932072639465332,4.028018951416016,3.878208875656128,3.7283992767333984,3.839494228363037,3.9085075855255127,3.85632586479187,3.893359422683716,3.9085075855255127,3.9000906944274902,4.024651050567627,4.147529125213623,4.189610004425049,4.078515529632568,4.036434650421143,3.9455392360687256,3.8058297634124756,3.7889962196350098,3.9741549491882324,4.019601821899414,3.959003448486328,4.038116931915283,3.888307809829712,3.8664255142211914,4.004452705383301,4.017919540405273,4.049900054931641,4.095348358154297,4.1374287605285645,4.194660186767578,4.3175368309021,4.245157241821289,4.235057830810547,4.080199241638184,4.20475959777832,4.186243534088135,4.218225955963135,4.214858531951904,4.305755138397217,4.309121131896973,4.214858531951904,4.361301422119141,4.410114765167236,4.30407190322876,4.214858531951904,4.224958419799805,4.347836017608643,4.324270248413086,4.283872127532959,4.315854072570801,4.194660186767578,4.140796184539795,4.2367401123046875,4.147529125213623,3.965738296508789,3.790679931640625,3.691368579864502,3.780579090118408,3.824345588684082,3.77553129196167,3.721667528152466,3.620671510696411,3.763747453689575,3.8293943405151367,3.891674041748047,3.932072639465332,3.9085075855255127,3.9859366416931152,3.9287056922912598,3.9876198768615723,3.967420816421509,4.073465824127197,4.1593122482299805,4.051583766937256,3.953955888748169,3.989302635192871,3.9287056922912598,3.8159289360046387,3.950589179992676,3.962371587753296,4.004452705383301,4.026333332061768,4.026333332061768,4.051583766937256,4.098714828491211,4.061682224273682,4.004452705383301,4.061682224273682,4.251889228820801,4.186243534088135,4.038116931915283,4.078515529632568,4.103764057159424,4.070100784301758,3.9573216438293457,3.910191059112549,4.0431671142578125,4.181193828582764,4.132379055023193,4.167726993560791,4.166043758392334,4.208125114440918,4.157628536224365,4.09366512298584,3.99603533744812,3.932072639465332,3.9236576557159424,3.9169235229492188,3.979203224182129,3.9404873847961426,3.9943530559539795,4.122279644012451,4.053265571594238,3.8512768745422363,3.861377000808716,3.8681092262268066,3.839494228363037,3.9038808345794678,3.927602767944336,3.947934627532959,3.892019748687744,3.9462409019470215,3.8513541221618652,3.8971028327941895,3.953017473220825,3.8598265647888184,4.039433002471924,4.044516086578369,4.093653202056885,4.0309600830078125,4.0495991706848145,4.102123260498047,4.0495991706848145,4.027572154998779,4.0309600830078125,3.9818222522735596,4.03434944152832,3.9919888973236084,4.058070182800293,4.068236827850342,4.1800665855407715,3.9242143630981445,4.002157211303711,4.032654285430908,4.025876998901367,3.980128526687622,3.827633857727051,3.7005531787872314,3.8056068420410156,3.734440803527832,3.7191922664642334,3.681914806365967,3.7022478580474854,3.6293892860412598,3.603973865509033,3.653109312057495,3.5971949100494385,3.676833391189575,3.753080368041992,3.776801347732544,3.776801347732544,3.7920501232147217,3.790356397628784,3.775106906890869,3.8259389400482178,3.8259389400482178,3.8428821563720703,3.8564374446868896,3.873382091522217,3.8581316471099854,3.8089945316314697,3.6988601684570312,3.573474407196045,3.5768630504608154,3.542975664138794,3.5700855255126953,3.444700002670288,3.5378916263580322,3.493837594985962,3.5311145782470703,3.1380155086517334,3.2312068939208984,3.2159583568573,3.226123332977295,3.2329018115997314,3.273888349533081,3.333662748336792,3.3661112785339355,3.357571601867676,3.2755963802337646,3.2790122032165527,3.2790122032165527,3.3370776176452637,3.3046295642852783,3.2106995582580566,3.249979257583618,3.1218931674957275,3.171419858932495,3.092860221862793,3.0296707153320312,3.0450408458709717,3.111646890640259,3.137263298034668,3.0979835987091064,2.9989306926727295,3.0211315155029297,2.935739755630493,2.9852676391601562,3.0433332920074463,3.0416252613067627,3.1355557441711426,3.0706582069396973,3.137263298034668,3.1201846599578857,3.0962753295898438,2.992098808288574,2.997222423553467,2.9391565322875977,2.920370101928711,2.8742594718933105,2.8298563957214355,2.858888864517212,2.8862144947052,2.869135856628418,2.7837440967559814,2.756420135498047,2.68639874458313,2.6932311058044434,2.727386951446533,2.756420135498047,2.7359261512756348,2.7359261512756348,2.7444653511047363,2.6898152828216553,2.7154321670532227,2.734218120574951,2.8708434104919434,2.8571810722351074,2.8742594718933105,3.0296707153320312,3.0552890300750732,2.9511115550994873,2.9118313789367676,3.0706582069396973,3.171419858932495,3.3285391330718994,3.3285391330718994,3.2089920043945312,3.2277777194976807,3.1879723072052,3.1412417888641357,3.1395113468170166,3.220855951309204,3.3160436153411865,3.302198648452759,3.5323832035064697,3.5566132068634033,3.644879102706909,3.748722553253174,3.736607551574707,3.7677600383758545,3.819681167602539,3.8733322620391846,4.006598949432373,3.8577561378479004,3.8819878101348877,3.9512155055999756,3.9356400966644287,3.8594870567321777,3.8300650119781494,3.61372709274292,3.655263900756836,3.620650291442871,3.6344950199127197,3.676032066345215,3.6916091442108154,3.6864166259765625,3.8716022968292236,3.9944839477539062,4.0239057540893555,4.151977062225342,3.9737143516540527,3.9564075469970703,3.940831184387207,3.9425618648529053,3.971984386444092,3.9702539443969727,4.056789875030518,4.001405239105225,4.0152506828308105,3.9979450702667236,4.029096603393555,4.105249404907227,3.980638027191162,3.9512155055999756,4.0844807624816895,4.120824337005615,4.105249404907227,4.13986349105835,4.04986572265625,3.8975634574890137,3.8266043663024902,3.9962141513824463,4.025636672973633,4.063711166381836,4.240242958068848,4.421969890594482,4.486005783081055,4.581194877624512,4.686768531799316,4.685037612915039,4.685037612915039,4.660581111907959,4.618656635284424,4.578479766845703,4.585467338562012,4.5121002197265625,4.520833969116211,4.536554336547852,4.653593063354492,4.768886089324951,4.793341159820557,4.8405070304870605,4.861469268798828,4.8230390548706055,4.805569171905518,4.807316780090332,4.8422532081604,4.812556266784668,4.564505100250244,4.466681957244873,4.468428134918213,4.347897052764893,4.3094658851623535,4.285011291503906,4.382833957672119,4.482403755187988,4.255311965942383,4.332175254821777,4.323440074920654,4.050932884216309,3.9496147632598877,3.9810590744018555,4.0614142417907715,4.019489288330078,4.045691967010498,4.029970169067383,4.103339195251465,4.066653251647949,4.073642253875732,4.043946266174316,4.099844455718994,4.141769886016846,4.15399694442749,4.195921421051025,4.12954044342041,4.05267858505249,4.312959671020508,4.410782814025879,4.683290958404541,4.402047634124756,4.4387311935424805,4.552276611328125,4.576733112335205,4.515594005584717,4.547036170959473,4.4981255531311035,4.431745529174805,4.454453945159912,4.4247565269470215,4.319947242736816,4.335668087005615,4.298985004425049,4.330428123474121,4.409035682678223,4.377593040466309,4.247775077819824,4.157698154449463,4.29193115234375,4.311359882354736,4.334320545196533,4.357281684875488,4.461488246917725,4.500345706939697,4.53037166595459,4.487981796264648,4.495047092437744,4.542734622955322,4.457956314086914,4.495047092437744,4.457956314086914,4.532136917114258,4.4826836585998535,4.655774116516113,4.671670436859131,4.940136432647705,5.256291389465332,5.341068744659424,5.342835426330566,5.279251575469971,5.2916154861450195,5.344602108001709,5.277483940124512,5.282783508300781,5.595406532287598,5.655457973480225,5.54241943359375,5.704911708831787,5.787924766540527,5.772029876708984,5.780860424041748,5.74376916885376,5.862105846405029,6.045793533325195,6.047560691833496,6.114676475524902,6.105844974517822,6.164132118225098,6.135871410369873,6.41317081451416,6.561532020568848,6.5685954093933105,6.58626127243042,6.5597662925720215,6.550934791564941,6.778780460357666,6.759349822998047,6.824699401855469,6.8865180015563965,6.720493793487549,7.022517681121826,6.8458943367004395,6.496181488037109,6.402570724487305,6.36018180847168,5.6713547706604,5.602470397949219,5.620133399963379,5.9168596267700195,5.905282974243164,6.1261091232299805,6.320221424102783,6.2080278396606445,6.165287017822266,6.544607639312744,6.231178283691406,6.717349529266357,6.516114234924316,6.683513641357422,6.947080135345459,6.856254577636719,6.849131107330322,6.861598491668701,7.290782451629639,7.26228666305542,7.105572700500488,7.134068489074707,7.191053867340088,7.278314113616943,7.484893321990967,7.516949653625488,7.509825706481934,7.5472235679626465,7.655856609344482,7.591745376586914,7.602429389953613,7.554347038269043,7.58640193939209,7.687911510467529,7.743115425109863,7.807226181030273,7.743115425109863,7.769827842712402,7.739554405212402,7.661196708679199,7.554347038269043,7.700375556945801,7.908734321594238,8.15627384185791,8.083258628845215,8.353947639465332,8.73682975769043,8.900666236877441,8.973679542541504,8.955872535705566,8.72436237335205,8.526689529418945,8.635322570800781,8.720800399780273,8.811622619628906,8.768882751464844,8.670938491821289,8.492853164672852,8.473264694213867,8.494633674621582,8.59079647064209,8.480386734008789,9.244370460510254,9.192723274230957,9.328068733215332,8.792035102844238,8.886418342590332,9.071760177612305,8.991175651550293,8.948200225830078,8.889104843139648,9.168457984924316,8.883733749389648,8.971478462219238,9.014455795288086,8.87477970123291,8.855081558227539,9.392295837402344,9.33320140838623,9.422737121582031,9.200690269470215,9.283061027526855,8.8514986038208,8.919547080993652,9.141597747802734,9.09682846069336,9.030570983886719,8.890896797180176,8.890896797180176,9.170246124267578,9.010875701904297,8.92133903503418,9.0789213180542,8.878362655639648,8.831802368164062,8.9571533203125,9.29201602935791,9.23292350769043,9.272317886352539,9.186363220214844,9.25083065032959,9.43169116973877,9.648366928100586,9.786253929138184,9.805952072143555,9.754021644592285,9.813115119934082,9.827437400817871,9.74327564239502,9.929511070251465,9.888324737548828,9.816696166992188,9.857882499694824,9.90264892578125,10.128278732299805,10.03695297241211,9.63762378692627,9.934883117675781,9.916975021362305,10.199909210205078,10.312726974487305,10.284073829650879,10.122906684875488,9.856090545654297,9.524808883666992,9.390504837036133,8.738686561584473,8.92850112915039,8.75659465789795,8.641984939575195,8.554242134094238,8.640195846557617,8.459198951721191,8.275497436523438,8.24307918548584,8.12781810760498,8.118812561035156,8.2088623046875,8.24307918548584,8.142224311828613,8.214262962341309,8.516826629638672,8.664509773254395,8.821194648742676,8.992286682128906,8.98148250579834,8.869821548461914,9.098544120788574,9.17958927154541,9.069729804992676,8.832000732421875,8.87342357635498,8.871621131896973,8.941861152648926,8.86801815032959,8.675314903259277,7.949521541595459,8.167438507080078,8.099000930786133,8.1980562210083,8.16203498840332,6.539356231689453,6.658219337463379,6.798694133758545,6.780686378479004,6.8815412521362305,7.068841934204102,6.888742923736572,6.577173233032227,6.721252918243408,6.492528915405273,6.316032409667969,6.359256744384766,6.316032409667969,6.09271240234375,6.11432409286499,6.260201930999756,6.36646032333374,6.3934736251831055,6.559164524078369,6.4384989738464355,6.575373649597168,6.458310604095459,6.4132866859436035,6.508737564086914,6.4114861488342285,6.418688774108887,6.404281139373779,6.492528915405273,6.928365230560303,6.85632848739624,6.708645343780518,6.719452381134033,6.697840213775635,6.726656436920166,6.978794097900391,6.967986106872559,6.937371253967285,6.935571193695068,6.931967258453369,6.933768272399902,6.7430315017700195,7.08090877532959,7.220784664154053,6.973731517791748,6.832043170928955,6.982815265655518,6.8701887130737305,6.922869682312012,6.864739894866943,7.06637716293335,6.781178951263428,7.378823757171631,7.466018199920654,7.734865665435791,7.878374099731445,8.063661575317383,7.782095909118652,7.905623435974121,7.945587635040283,7.843860626220703,7.4860005378723145,7.360657215118408,7.478733062744141,7.529598712921143,7.400622844696045,7.533229351043701,7.4424028396606445,7.678555011749268,7.249847888946533,7.3043437004089355,7.1517534255981445,7.327959060668945,7.329775810241699,7.208068370819092,7.131773471832275,7.2516632080078125,6.930135250091553,6.841125011444092,6.510512828826904,6.543211460113525,6.641305446624756,6.688534259796143,6.875638961791992,6.62313985824585,6.515961647033691,6.5795416831970215,6.717598915100098,6.617689609527588,6.710333824157715,6.699434280395508,6.980998992919922,6.7739129066467285,6.941035270690918,6.933768272399902,6.875638961791992,6.699717998504639,6.701550006866455,6.827993392944336,6.723538398742676,6.831657886505127,6.692385196685791,6.833491325378418,6.915955066680908,6.65207052230835,6.778515338897705,6.912289619445801,7.383248805999756,7.330104351043701,7.322775363922119,7.350261688232422,7.403408527374268,7.374086856842041,7.368587493896484,7.434557914733887,7.394243240356445,7.416234970092773,7.421730995178223,7.4895339012146,7.652628421783447,7.621476173400879,7.630638599395752,7.658125400543213,7.656293869018555,7.557339191436768,7.656293869018555,7.517022609710693,7.612314224243164,7.559171199798584,7.84871244430542,7.852375030517578,8.079607963562012,8.195058822631836,8.447945594787598,8.370980262756348,8.444281578063965,7.958662986755371,7.905518054962158,7.691113471984863,7.553675174713135,7.639803886413574,7.573831081390381,7.604984283447266,7.4895339012146,7.458383083343506,7.630638599395752,7.500530242919922,7.575662612915039,7.665459632873535,7.264134883880615,7.449220657348633,7.491368770599365,7.573831081390381,7.419898986816406,7.861536979675293,7.7717437744140625,7.837714195251465,7.878032684326172,7.911016941070557,7.792832374572754,8.079061508178711,8.038434028625488,8.206480979919434,8.354208946228027,8.176935195922852,7.9701104164123535,7.966414928436279,8.117838859558105,8.053208351135254,8.034741401672363,8.282191276550293,8.128921508789062,8.16770076751709,8.010736465454102,8.010736465454102,7.826071262359619,7.971956253051758,7.766977787017822,7.763285160064697,7.766977787017822,7.6081671714782715,7.456742763519287,7.549074172973633,7.471515655517578,7.30531644821167,7.203753471374512,7.320090293884277,7.072640895843506,7.074488162994385,6.869509696960449,6.869509696960449,7.10218620300293,7.244379043579102,7.360717296600342,7.508449077606201,7.517678737640381,7.497368335723877,7.619246959686279,7.761436939239502,7.720813274383545,7.576773166656494,7.669105529785156,7.770671367645264,7.896244049072266,7.887010097503662,7.890703201293945,7.947950839996338,8.260031700134277,8.067980766296387,7.892548084259033,7.848230838775635,8.016274452209473,8.210171699523926,8.19909381866455,8.143692016601562,8.128921508789062,8.053208351135254,8.101219177246094,7.044377326965332,7.025770664215088,6.958789348602295,6.921575546264648,7.0350751876831055,6.666668891906738,6.612709045410156,6.811798572540283,6.8973894119262695,6.962507724761963,6.5475873947143555,6.618292331695557,6.20150899887085,6.309425354003906,6.009862422943115,6.1270833015441895,5.9391584396362305,6.082427501678467,6.158714294433594,6.4192023277282715,6.348498821258545,6.443392276763916,6.212673187255859,6.261048793792725,6.261048793792725,6.294541358947754,6.2889580726623535,6.2889580726623535,6.460137367248535,6.268491744995117,6.195926666259766,6.268491744995117,6.004280090332031,6.283376216888428,6.097311496734619,6.737371921539307,6.41176176071167,6.763421058654785,6.711324214935303,6.8545942306518555,6.906691074371338,6.958789348602295,7.10019588470459,7.122524738311768,6.997862815856934,6.748537063598633,6.558750152587891,6.852732181549072,6.977394104003906,6.815517902374268,6.828543663024902,6.8397064208984375,6.917854309082031,7.077869892120361,6.98111629486084,6.930877685546875,6.949484825134277,6.9513468742370605,6.977394104003906,6.98297643661499,6.975533485412598,6.949484825134277,6.910411834716797,6.936460018157959,6.889944076538086,6.878780364990234,7.195088863372803,7.1969523429870605,7.4481353759765625,7.442553997039795,7.472323894500732,7.596987247467041,7.5634965896606445,7.345800876617432,7.383014678955078,7.642134666442871,7.715362548828125,7.681562900543213,7.7209954261779785,7.659033298492432,7.683440208435059,7.762304306030273,7.681562900543213,7.475020408630371,7.2834978103637695,7.202758312225342,7.0769524574279785,7.127651214599609,7.093853950500488,7.172712326049805,7.204635143280029,7.131404876708984,7.268474102020264,7.508820533752441,7.585803985595703,7.589556694030762,7.585803985595703,7.67780876159668,7.687196254730225,7.446854591369629,7.570781230926514,7.525717735290527,7.555761814117432,7.570781230926514,7.644009113311768,7.563271999359131,7.583924770355225,7.384891986846924,7.236556529998779,7.354846954345703,7.53322696685791,7.51445198059082,7.347338676452637,7.418689727783203,7.546370983123779,7.465631484985352,7.3323163986206055,7.360482215881348,7.354846954345703,7.521963119506836,7.555761814117432,7.568903923034668,7.536983966827393,7.655277252197266,7.660910606384277,7.544493675231934,7.411176681518555,7.683440208435059,8.150982856750488,8.162250518798828,8.256132125854492,8.20919132232666,8.265522003173828,8.288053512573242,8.149855613708496,8.121459007263184,8.111992835998535,8.140390396118164,8.132817268371582,8.049521446228027,8.047626495361328,8.146066665649414,8.176359176635742,8.157427787780762,8.308876037597656,8.39785385131836,8.433822631835938,8.265336990356445,8.337275505065918,8.09684944152832,8.132817268371582,8.352418899536133,8.246405601501465,8.390280723571777,8.714003562927246,8.659104347229004,8.878705978393555,8.89006519317627,8.963895797729492,8.846522331237793,8.787833213806152,8.941176414489746,8.835165023803711,8.865452766418457,8.886275291442871,8.935497283935547,8.886275291442871,8.611776351928711,8.57959270477295,8.57201862335205,8.683713912963867,8.738614082336426,8.679926872253418,8.50954818725586,8.626920700073242,8.782156944274902,8.585272789001465,8.551196098327637,8.672356605529785,8.655317306518555,8.636385917663574,8.727256774902344,8.980931282043457,8.88817024230957,8.895743370056152,8.7935152053833,8.562555313110352,8.486831665039062,8.132817268371582,8.308876037597656,8.587165832519531,8.746188163757324,8.043842315673828,8.041948318481445,7.79584264755249,7.915109157562256,7.896177291870117,7.877084732055664,7.980201244354248,7.980201244354248,8.087136268615723,8.16925048828125,8.24372386932373,8.211261749267578,8.398402214050293,8.327747344970703,8.071863174438477,7.966835021972656,7.896178245544434,7.844620227813721,7.867535591125488,7.829343318939209,7.695670127868652,7.72049617767334,7.869443893432617,7.737681865692139,7.924823760986328,8.11196231842041,8.276187896728516,8.295283317565918,8.398402214050293,8.480515480041504,8.390763282775879,8.31056022644043,8.220809936523438,8.38885498046875,8.490060806274414,8.539711952209473,8.61227798461914,8.791778564453125,8.971281051635742,8.660017013549805,8.530163764953613,8.44996166229248,8.69820785522461,8.72876262664795,8.79750919342041,8.818513870239258,8.927360534667969,8.946456909179688,8.963643074035645,8.940728187561035,8.68865966796875,8.77268123626709,8.51297664642334,8.503429412841797,7.099876403808594,7.273650646209717,7.09605598449707,7.220182418823242,7.344305515289307,7.497072696685791,7.181991100311279,7.239277362823486,6.996758937835693,6.876454830169678,6.6893134117126465,6.695103168487549,6.53495979309082,6.324653148651123,6.42498254776001,6.380606651306152,6.509877681732178,6.259051322937012,6.176087379455566,5.788272857666016,5.840367794036865,5.89246129989624,5.8963212966918945,5.604977607727051,5.5490241050720215,5.54709529876709,5.518153667449951,5.54709529876709,5.473776817321777,5.493070602416992,5.485353469848633,5.494999885559082,5.410106182098389,5.46220064163208,5.550954818725586,5.473776817321777,5.489212512969971,5.473776817321777,5.668649196624756,5.37923526763916,5.197869777679443,4.935467720031738,4.9470438957214355,4.921961307525635,4.860220432281494,4.879515171051025,4.952832221984863,4.835137844085693,5.028079986572266,5.045444488525391,4.960549354553223,5.057021617889404,5.172786712646484,5.001067638397217,5.04930305480957,5.211376190185547,5.176645755767822,5.381163597106934,5.232599258422852,5.141915321350098,5.145774841308594,5.2055864334106445,5.402388572692871,5.545165538787842,5.641636848449707,5.439047813415527,5.635848522186279,5.680225372314453,5.767048358917236,5.780555248260498,5.89246129989624,5.94648551940918,5.969638824462891,6.037168979644775,6.311147212982178,6.094531059265137,5.998908042907715,5.877915382385254,6.106240272521973,5.940361976623535,6.000858783721924,6.178444862365723,6.006712913513184,6.227232933044434,6.119900226593018,6.016470909118652,6.020374298095703,5.889623165130615,5.92670202255249,5.907186985015869,5.872059345245361,6.149172782897949,6.197959899902344,6.192105770111084,6.115996837615967,6.035985946655273,5.911089897155762,5.872059345245361,5.682765483856201,5.754970550537109,5.831078052520752,5.872059345245361,6.141366958618164,6.176492691040039,6.203814506530762,6.2857770919799805,6.332613468170166,6.418478488922119,6.30529260635376,6.400915145874023,6.400915145874023,6.50239372253418,6.514102935791016,6.420431137084961,6.400915145874023,6.315051078796387,6.10819149017334,5.998908042907715,5.8759636878967285,5.872059345245361,5.891574382781982,5.955974102020264,5.698376178741455,5.678861618041992,5.606656074523926,5.66325044631958,5.5539655685424805,5.4700517654418945,5.571529388427734,5.557868957519531,5.555917263031006,5.600801467895508,5.80180549621582,5.850593090057373,5.6203155517578125,5.678861618041992,5.649588584899902,5.637879371643066,5.5871405601501465,5.628658771514893,5.626681804656982,5.581210136413574,5.391412734985352,5.245110511779785,5.146259307861328,5.086946964263916,5.1660284996032715,5.12648868560791,5.16998291015625,5.219409942626953,5.108695030212402,5.140327453613281,5.205570220947266,5.0098419189453125,5.041475772857666,5.15021276473999,5.221386909484863,5.2549967765808105,5.3498945236206055,5.199638366699219,5.233249187469482,5.205570220947266,5.411183834075928,5.624704837799072,5.682039260864258,5.703786849975586,5.6583147048950195,5.533759593963623,5.968711853027344,5.968711853027344,6.1525774002075195,6.130828857421875,6.0912885665893555,6.105127811431885,6.17827844619751,6.192117691040039,6.162461757659912,6.118967056274414,6.000344276428223,5.780890941619873,5.859973430633545,5.863927364349365,5.939055442810059,5.889629364013672,5.857996940612793,5.960803985595703,6.150600433349609,6.198049068450928,6.273176670074463,6.162461757659912,6.093265533447266,6.162461757659912,6.2711992263793945,6.219796657562256,6.344350337982178,6.269222259521484,6.358189582824707,5.682039260864258,5.727510929107666,5.632613658905029,5.612842082977295,5.541668891906738,5.612842082977295,5.608888149261475,5.63493013381958,5.564818382263184,5.444628715515137,5.416584491729736,5.4065680503845215,5.414580821990967,5.4586501121521,5.426599025726318,5.5888566970825195,5.552799701690674,5.63493013381958,5.662973880767822,5.64694881439209,5.536774158477783,5.494707107543945,5.5067267417907715,5.436615467071533,5.526758670806885,5.564818382263184,5.434611797332764,5.448635101318359,5.34446907043457,5.34446907043457,5.374516487121582,5.218269348144531,5.232292175292969,5.102085590362549,5.084056854248047,4.947841167449951,4.971878528594971,5.007936000823975,5.029971122741699,5.009939193725586,5.035980701446533,4.957857131958008,4.961863994598389,4.8056159019470215,4.787586688995361,4.817634105682373,4.719479560852051,4.192644119262695,4.172612190246582,4.152580261230469,4.25474214553833,4.188637733459473,4.312834739685059,4.3809428215026855,4.471085548400879,4.605298042297363,4.537189960479736,4.619319915771484,4.699447154998779,4.699447154998779,4.699447154998779,4.829653739929199,5.220273017883301,5.172196865081787,5.0379838943481445,4.9790239334106445,5.019686698913574,5.009521007537842,4.934296131134033,4.985123157501221,5.060347557067871,5.273821830749512,5.27992057800293,5.290086269378662,5.371409893035889,5.365310192108154,5.139637470245361,5.151836395263672,5.1681013107299805,5.265688896179199,5.310417175292969,5.365310192108154,5.094910144805908,5.166068077087402,5.275854587554932,5.137605667114258,5.151836395263672,5.1355719566345215,5.157935619354248,5.269754886627197,5.082711696624756,4.985123157501221,4.9790239334106445,5.009521007537842,5.003421783447266,5.025785446166992,4.621201515197754,4.745218753814697,4.7757158279418945,4.7391204833984375,4.794013977050781,4.865171909332275,4.852973461151123,4.913965702056885,4.924131393432617,4.942428112030029,4.915998458862305,4.9790239334106445,4.940395355224609,4.956660270690918,5.029851913452148,5.017653465270996,5.007487773895264,5.040017127990723,5.162001609802246,5.21689510345459,5.157935619354248,5.233160018920898,5.241292476654053,5.1681013107299805,5.198596954345703,5.330748081207275,5.3388800621032715,5.196564674377441,5.3429460525512695,5.391740798950195,4.9688591957092285,4.976991653442383,5.078645706176758,5.139637470245361,5.064413547515869,5.01561975479126,5.082711696624756,5.082711696624756,5.198321342468262,4.993939399719238,5.070324897766113,5.093034267425537,5.008391380310059,5.086841106414795,4.929941177368164,4.9567790031433105,4.97329568862915,4.9464569091796875,4.273441791534424,4.304409027099609,4.4840168952941895,4.53149938583374,4.636786937713623,4.655367374420166,4.54182243347168,4.537693023681641,4.492275238037109,4.508791446685791,4.471630096435547,4.517047882080078,4.564531326293945,4.556272983551025,4.620271682739258,4.725559234619141,4.715237617492676,4.702849864959717,4.787493705749512,4.787493705749512,4.793686866760254,4.830847263336182,4.882458209991455,4.768913745880127,4.68427038192749,4.702849864959717,4.839105129241943,4.948521137237549,4.86594295501709,4.954714775085449,5.033164978027344,5.055873394012451,5.150839805603027,5.026971817016602,4.960907936096191,5.029035568237305,5.0517449378967285,4.921683311462402,4.909296989440918,5.000133037567139,4.965036869049072,4.678077220916748,4.688398838043213,4.876265525817871,4.587240219116211,4.659496784210205,4.5707244873046875,4.702849864959717,4.680141448974609,4.720035076141357,4.598254680633545,4.627650260925293,4.486972808837891,4.62135124206543,4.558361053466797,4.615051746368408,4.541563510894775,4.455477714538574,4.323199272155762,4.367291450500488,4.3336968421936035,4.295903205871582,4.312701225280762,4.335797309875488,4.436580181121826,4.489072322845459,4.5163679122924805,4.537364482879639,4.537364482879639,4.535264492034912,4.5163679122924805,4.434481143951416,4.390388488769531,4.386188983917236,4.400886058807373,4.4071855545043945,4.442879676818848,4.413484573364258,4.468075752258301,4.4281816482543945,4.482773303985596,4.430282115936279,4.363093376159668,4.367291450500488,4.463876724243164,4.417684078216553,4.5562615394592285,4.51426887512207,4.554162502288818,4.484873294830322,4.489072322845459,4.547862529754639,4.604553699493408,4.654945373535156,4.606653213500977,4.636048316955566,4.507968902587891,4.568859577178955,4.587756156921387,4.394587516784668,4.491171836853027,4.430282115936279,4.455477714538574,4.405086040496826,4.543663024902344,4.510068893432617,4.573058605194092,4.073339462280273,4.020847797393799,3.936861991882324,3.9452600479125977,3.8843703269958496,3.920064687728882,3.9767556190490723,4.060741424560547,4.037181854248047,4.101434230804443,4.1121439933776855,4.182821273803711,4.287766456604004,4.300616264343262,4.345593452453613,4.319892406463623,4.324175834655762,4.304900169372559,4.259923458099365,4.2856245040893555,4.377719879150391,4.422696113586426,4.465531349182129,4.452679634094238,4.424837112426758,4.384144306182861,4.3284592628479,4.337026119232178,4.394853115081787,4.287766456604004,4.315608978271484,4.332742214202881,4.195672035217285,4.176395893096924,4.221372127532959,4.157120227813721,4.210663795471191,4.294191360473633,4.294191360473633,4.311324596405029,4.343451499938965,4.2749152183532715,4.199954509735107,4.178537368774414,4.142127513885498,4.020049095153809,4.002914905548096,3.9836394786834717,3.9643633365631104,3.876551628112793,3.8187243938446045,3.6645193099975586,3.68379545211792,3.760897636413574,3.51888108253479,3.469621419906616,3.4674794673919678,3.426786184310913,3.4653375148773193,3.493180274963379,3.5210227966308594,3.5831332206726074,3.720205068588257,3.7309131622314453,3.8915438652038574,4.073592185974121,4.1806793212890625,4.095493316650391,4.099862098693848,4.237469673156738,4.2090744972229,4.152283668518066,4.069281578063965,4.193785190582275,4.165389060974121,4.174126625061035,4.078019142150879,4.014675140380859,4.005938529968262,4.075834274291992,4.016859531402588,3.9862797260284424,4.029965400695801,3.995016574859619,4.0430707931518555,3.9862797260284424,3.9688055515289307,3.9207520484924316,3.988464117050171,3.9753589630126953,4.0015692710876465,4.080203056335449,4.200336933135986,4.270233154296875,4.298629283905029,4.359787940979004,3.8792507648468018,3.748194932937622,3.822460412979126,3.9010937213897705,3.960068702697754,3.833381414413452,3.8006174564361572,3.7088782787323,3.6782987117767334,3.7263529300689697,3.7460107803344727,3.72853684425354,3.671745777130127,3.638981819152832,3.5450587272644043,3.4183712005615234,3.525400161743164,3.5974812507629395,3.457688093185425,3.5319530963897705,3.4511351585388184,3.4030816555023193,3.5428740978240967,3.5843753814697266,3.582191228866577,3.464240789413452,3.4271085262298584,3.411818742752075,3.4882678985595703,3.5122945308685303,3.40089750289917,3.4271085262298584,3.4882678985595703,3.564342975616455,3.5911927223205566,3.593430280685425,3.566580295562744,3.499455213546753,3.546442985534668,3.4793176651000977,3.4927425384521484,3.4591801166534424,3.4256176948547363,3.450230360031128,3.3137426376342773,3.2376675605773926,3.1369800567626953,3.0944669246673584,3.020629644393921,3.1414546966552734,3.1056549549102783,3.166067361831665,2.8237292766571045,2.8684792518615723,2.910991907119751,2.9848294258117676,3.034054756164551,3.004967212677002,3.0161542892456055,3.0609045028686523,3.0967047214508057,3.0497171878814697,3.0452418327331543,3.0899922847747803,3.11907958984375,3.056429862976074,3.0251047611236572,2.881904363632202,2.9535043239593506,3.0004920959472656,3.0116794109344482,3.0586671829223633,3.101179599761963,3.054192066192627,3.098942279815674,3.009442090988159,2.8707168102264404,2.908754587173462,2.8841419219970703,2.861767053604126,2.893092155456543,2.915466785430908,2.843867063522339,2.9669296741485596,3.022867202758789,3.0318169593811035,3.0474796295166016,2.787929058074951,2.8595292568206787,2.834916830062866,2.846104383468628,2.850579261779785,2.834916830062866,2.9199419021606445,3.0027294158935547,2.9535043239593506,3.069854736328125,3.186204671859741,3.2667551040649414,3.2264795303344727,3.2421422004699707,3.2510924339294434,3.2832586765289307,3.228116512298584,3.062689781188965,2.9524056911468506,3.2074379920959473,3.492339611053467,3.6187071800231934,3.6095166206359863,3.568160057067871,3.5658626556396484,3.471660852432251,3.439495086669922,3.3544843196868896,3.418816566467285,3.3475914001464844,3.253389835357666,3.228116512298584,3.361377000808716,3.480851411819458,3.5543744564056396,3.4142212867736816,3.37746000289917,3.4670660495758057,3.5107202529907227,3.4969348907470703,3.349888801574707,3.349888801574707,3.428006887435913,3.464768171310425,3.421114206314087,3.395840644836426,3.333806037902832,3.40273380279541,3.4073286056518555,3.37746000289917,3.3108298778533936,3.384352684020996,3.359079122543335,3.411923885345459,3.4142212867736816,3.473958730697632,3.5038275718688965,3.4946370124816895,3.5199105739593506,3.4946370124816895,3.561267375946045,3.542886734008789,3.4969348907470703,3.5222082138061523,3.6416831016540527,3.788728713989258,3.901310682296753,3.8507637977600098,3.8025143146514893,3.3797576427459717,3.2235212326049805,3.244199752807617,3.1201295852661133,3.0489044189453125,3.228116512298584,3.735884428024292,3.708313226699829,3.7060153484344482,3.6761467456817627,3.7129082679748535,3.8277878761291504,3.9150965213775635,3.857656717300415,3.904672622680664,3.8788137435913086,3.9023218154907227,3.876462936401367,3.8835155963897705,3.6484358310699463,3.7659759521484375,3.664891481399536,3.6554882526397705,3.5896661281585693,3.5920166969299316,3.495634078979492,3.507388114929199,3.483880043029785,3.4509689807891846,3.5214927196502686,3.4697751998901367,3.4862308502197266,3.4462673664093018,3.4791786670684814,3.4979848861694336,3.594367742538452,3.6014199256896973,3.540299415588379,3.4627230167388916,3.5544040203094482,3.5896661281585693,3.542649984359741,3.394549608230591,3.2229416370391846,3.4157071113586426,3.448618173599243,3.4321627616882324,3.6084723472595215,3.669593095779419,3.52384352684021,3.5144405364990234,3.5026862621307373,3.493283271789551,3.441565990447998,3.2629053592681885,3.2629053592681885,3.0466320514678955,3.0865957736968994,3.0066685676574707,3.0630874633789062,2.886777639389038,3.2229416370391846,3.173574924468994,3.4274609088897705,3.46037220954895,3.528545379638672,3.4392151832580566,3.2111878395080566,3.260554552078247,3.173574924468994,3.1876800060272217,3.2158892154693604,3.1989636421203613,3.131260633468628,3.1989636421203613,3.092573404312134,3.0853195190429688,3.0587217807769775,3.0780653953552246,3.0417962074279785,3.0055267810821533,2.8918824195861816,2.8217616081237793,2.998272657394409,2.945077657699585,2.969257116317749,3.0514678955078125,3.160276174545288,3.136096715927124,3.684973955154419,3.7430050373077393,3.822798013687134,3.863903045654297,3.85906720161438,3.8324697017669678,3.7816925048828125,3.7550947666168213,3.7913644313812256,3.8131260871887207,3.851813554763794,3.692228078842163,3.7430050373077393,3.8203799724578857,3.84455943107605,3.7478411197662354,2.727461099624634,2.7081172466278076,2.741968870162964,2.7177891731262207,2.749222755432129,2.8507771492004395,2.783074378967285,2.773402452468872,2.744386911392212,2.732296943664551,2.792746067047119,2.773402452468872,2.739550828933716,2.763730525970459,2.7081172466278076,2.7081172466278076,2.6670119762420654,2.749222755432129,2.792746067047119,2.8145077228546143,2.8217616081237793,2.8290154933929443,2.8411052227020264,2.797581911087036,2.8048360347747803,2.795164108276367,2.8024179935455322,2.6525044441223145,2.722625255584717,2.773402452468872,2.799999952316284,2.737499952316284,2.765000104904175,2.7674999237060547,2.740000009536743,2.625,2.637500047683716,2.612499952316284,2.5350000858306885,2.5875000953674316,2.572499990463257,2.547499895095825,2.5399999618530273,2.5924999713897705,2.5250000953674316,2.4075000286102295,2.507499933242798,2.4649999141693115,2.484999895095825,2.4549999237060547,2.492500066757202,2.440000057220459,2.3299999237060547,2.234999895095825,2.2699999809265137,2.234999895095825,2.192500114440918,2.1624999046325684,2.2225000858306885,2.252500057220459,2.237499952316284,2.2225000858306885,2.190000057220459,2.1624999046325684,2.127500057220459,2.192500114440918,2.242500066757202,2.2125000953674316,2.192500114440918,2.172499895095825,2.130000114440918,2.119999885559082,2.065000057220459,2.132499933242798,2.172499895095825,2.1675000190734863,2.1524999141693115,2.015000104904175,2.0325000286102295,1.975000023841858,1.9249999523162842,1.9550000429153442,1.934999942779541,1.8925000429153442,1.899999976158142,1.8949999809265137,1.8674999475479126,1.9550000429153442,1.2599999904632568,1.2825000286102295,1.2549999952316284,1.3600000143051147,1.4299999475479126,1.375,1.4249999523162842,1.4075000286102295,1.4249999523162842,1.4325000047683716,1.4075000286102295,1.3825000524520874,1.3550000190734863,1.3424999713897705,1.3624999523162842,1.3674999475479126,1.3849999904632568,1.3674999475479126,1.340000033378601,1.3450000286102295,1.3274999856948853,1.3799999952316284,1.3624999523162842,1.3274999856948853,1.2949999570846558,1.2100000381469727,1.2274999618530273,1.1875,1.1575000286102295,1.0950000286102295,1.0499999523162842,1.0800000429153442,1.034999966621399,1.0225000381469727,1.0199999809265137,0.9950000047683716,1.002500057220459,1.0299999713897705,1.0075000524520874,1.0049999952316284,0.9599999785423279,0.9449999928474426,0.9275000095367432,0.9524999856948853,0.9524999856948853,0.9725000262260437,0.8974999785423279,0.8774999976158142,0.8675000071525574,0.8299999833106995,0.8025000095367432,0.8299999833106995,0.8450000286102295,0.8550000190734863,0.8849999904632568,0.9674999713897705,0.9125000238418579,0.9549999833106995,0.925000011920929,0.9700000286102295,1.0575000047683716,0.9925000071525574,0.9524999856948853,0.9950000047683716,1.0575000047683716,1.0774999856948853,1.190000057220459,1.2725000381469727,1.1475000381469727,1.1449999809265137,1.1024999618530273,1.087499976158142,1.0824999809265137,1.149999976158142,1.1100000143051147,1.1749999523162842,1.2549999952316284,1.252500057220459,1.2999999523162842,1.3200000524520874,1.3350000381469727,1.3799999952316284,1.3949999809265137,1.3300000429153442,1.3550000190734863,1.3875000476837158,1.372499942779541,1.3075000047683716,1.247499942779541,1.2625000476837158,1.3424999713897705,1.3949999809265137,1.402500033378601,1.4700000286102295,1.5075000524520874,1.4850000143051147,1.4824999570846558,1.597499966621399,1.6074999570846558,1.6050000190734863,1.587499976158142,1.5475000143051147,1.4524999856948853,1.4325000047683716,1.3600000143051147,1.4600000381469727,1.462499976158142,1.4774999618530273,1.5225000381469727,1.5549999475479126,1.5225000381469727,1.5049999952316284,1.4800000190734863,1.4850000143051147,1.4950000047683716,1.4700000286102295,1.4049999713897705,1.375,1.3650000095367432,1.375,1.4149999618530273,1.5075000524520874,1.524999976158142,1.587499976158142,1.5850000381469727,1.5425000190734863,1.5299999713897705,1.6074999570846558,1.600000023841858,1.6699999570846558,1.5824999809265137,1.627500057220459,1.3825000524520874,1.3949999809265137,1.3624999523162842,1.375,1.5149999856948853,1.5399999618530273,1.5149999856948853,1.497499942779541,1.402500033378601,1.3600000143051147,1.350000023841858,1.475000023841858,1.5325000286102295,1.5199999809265137,1.5774999856948853,1.4700000286102295,1.462499976158142,1.3799999952316284,1.4299999475479126,1.3875000476837158,1.3574999570846558,1.3574999570846558,1.1775000095367432,1.152500033378601,1.1549999713897705,1.1875,1.1475000381469727,1.1399999856948853,1.1549999713897705,1.0800000429153442,1.0700000524520874,1.0525000095367432,1.0325000286102295,0.9825000166893005,0.9599999785423279,0.987500011920929,1.0175000429153442,1.0449999570846558,1.034999966621399,0.9524999856948853,0.9850000143051147,1.0049999952316284,1.0475000143051147,1.027500033378601,1.0049999952316284,1.0149999856948853,1.037500023841858,1.034999966621399,1.0099999904632568,0.925000011920929,0.8899999856948853,0.8475000262260437,0.8675000071525574,0.8999999761581421,0.9574999809265137,0.9075000286102295,0.9424999952316284,0.9900000095367432,0.9800000190734863,0.925000011920929,1.0575000047683716,1.034999966621399,0.9950000047683716,1.1475000381469727,1.0924999713897705,1.0575000047683716,0.9424999952316284,1.0475000143051147,0.9399999976158142,0.9524999856948853,1.0399999618530273,1.0425000190734863,1.1024999618530273,1.0549999475479126,0.9125000238418579,0.875,0.8125,0.7124999761581421,0.699999988079071,0.7724999785423279,0.8174999952316284,0.8525000214576721,0.9725000262260437,1.184999942779541,1.4874999523162842,1.3174999952316284,1.2575000524520874,1.2200000286102295,1.402500033378601,1.1950000524520874,1.222499966621399,1.1749999523162842,1.1924999952316284,1.4550000429153442,1.409999966621399,1.5099999904632568,1.4325000047683716,1.5125000476837158,1.3700000047683716,1.347499966621399,1.2324999570846558,1.2174999713897705,1.2450000047683716,1.190000057220459,1.1349999904632568,1.0525000095367432,1.0325000286102295,1.0549999475479126,1.1449999809265137,1.1100000143051147,1.1074999570846558,1.1100000143051147,1.0449999570846558,1.1050000190734863,1.1725000143051147,1.0824999809265137,1.0149999856948853,1.0325000286102295,1.0449999570846558,1.1100000143051147,1.1174999475479126,1.034999966621399,1.252500057220459,1.2400000095367432,1.2675000429153442,1.0924999713897705,1.1799999475479126,1.1725000143051147,1.159999966621399,1.190000057220459,1.2374999523162842,1.2200000286102295,1.2174999713897705,1.2074999809265137,1.1024999618530273,1.1150000095367432,1.087499976158142,1.0950000286102295,1.0850000381469727,1.1100000143051147,1.0724999904632568,1.059999942779541,1.0225000381469727,1.065000057220459,1.0525000095367432,1.0850000381469727,1.065000057220459,1.0199999809265137,1.0475000143051147,1.0425000190734863,0.9900000095367432,0.9624999761581421,1.002500057220459,1.027500033378601,1.027500033378601,1.0075000524520874,1.002500057220459,0.9850000143051147,1.0149999856948853,1.024999976158142,1.002500057220459,1.037500023841858,1.1074999570846558,1.1575000286102295,1.1074999570846558,1.0399999618530273,1.0824999809265137,1.087499976158142,1.1299999952316284,1.159999966621399,1.1875,1.1575000286102295,1.2024999856948853,1.1799999475479126,1.152500033378601,1.2575000524520874,1.2174999713897705,1.2450000047683716,1.277500033378601,1.3125,1.347499966621399,1.6699999570846558,1.912500023841858,1.9275000095367432,1.9550000429153442,1.912500023841858,1.9249999523162842,1.837499976158142,1.5575000047683716,1.5225000381469727,1.7274999618530273,1.7725000381469727,2.1700000762939453,2.299999952316284,2.367500066757202,2.1875,2.640000104904175,2.509999990463257,2.2850000858306885,2.505000114440918,2.5225000381469727,2.5875000953674316,2.549999952316284,2.442500114440918,2.3475000858306885,2.365000009536743,2.2825000286102295,2.3399999141693115,3.372499942779541,3.005000114440918,2.950000047683716,2.9700000286102295,3.0625,3.4574999809265137,3.327500104904175,3.4774999618530273,3.4649999141693115,3.5250000953674316,3.7274999618530273,3.75,3.362499952316284,3.172499895095825,2.9549999237060547,2.932499885559082,2.617500066757202,2.6875,2.8924999237060547,2.7274999618530273,2.862499952316284,2.9649999141693115,2.872499942779541,2.7750000953674316,2.9375,2.7825000286102295,2.752500057220459,3.015000104904175,2.9075000286102295,2.8924999237060547,3.115000009536743,3.177500009536743,3.4749999046325684,3.4175000190734863,3.6875,4.019999980926514,4.139999866485596,3.950000047683716,4.144999980926514,4.03000020980835,4.224999904632568,4.087500095367432,4.235000133514404,3.4149999618530273,3.5299999713897705,3.327500104904175,3.180000066757202,3.4625000953674316,3.4625000953674316,3.7074999809265137,3.9075000286102295,3.882499933242798,4.864999771118164,5.142499923706055,5.037499904632568,5.247499942779541,4.84499979019165,4.815000057220459,4.710000038146973,4.3125,4.34250020980835,4.590000152587891,4.519999980926514,4.422500133514404,4.985000133514404,4.987500190734863,7.849999904632568,9.977499961853027,8.875,9.84000015258789,9.779999732971191,10.757499694824219,16.252500534057617,19.197500228881836,36.994998931884766,86.87750244140625,48.400001525878906,81.25,56.25,22.5,23.102500915527344,13.375,15.942500114440918,15.0,12.577500343322754,12.800000190734863,12.774999618530273,13.100000381469727,12.3774995803833,11.484999656677246,10.172499656677246,10.147500038146973,11.5,11.242500305175781,22.927499771118164,27.1825008392334,25.434999465942383,30.100000381469727,29.545000076293945,31.045000076293945,33.087501525878906,34.435001373291016,48.625,61.724998474121094,66.25,65.0,66.125,55.03499984741211,52.04249954223633,52.45249938964844,50.4375,50.067501068115234,48.622501373291016,45.4375,30.084999084472656,45.9375,45.25,45.32500076293945,48.6150016784668,47.45500183105469,47.86249923706055,46.73749923706055,46.125,44.49250030517578,42.564998626708984,39.59000015258789,35.272499084472656,35.247501373291016,41.63249969482422,39.11000061035156,38.67250061035156,41.092498779296875,39.63249969482422,39.627498626708984,37.79249954223633,37.79499816894531,42.23249816894531,44.442501068115234,44.64500045776367,44.04750061035156,43.397499084472656,40.54999923706055,40.182498931884766,39.869998931884766,40.252498626708984,40.27750015258789,35.80500030517578,36.72999954223633,36.1974983215332,41.125,39.97999954223633,45.150001525878906,45.16749954223633,42.20750045776367,42.622501373291016,44.1974983215332,45.002498626708984,52.35749816894531,60.63999938964844,63.532501220703125,55.5,62.255001068115234,70.55999755859375,64.54499816894531,62.09000015258789,70.00250244140625,75.0,75.63999938964844,55.09749984741211,58.334999084472656,57.36000061035156],\"type\":\"scatter\",\"xaxis\":\"x\",\"yaxis\":\"y\"},{\"name\":\"Revenue\",\"x\":[\"2021-04-30T00:00:00\",\"2021-01-31T00:00:00\",\"2020-10-31T00:00:00\",\"2020-07-31T00:00:00\",\"2020-04-30T00:00:00\",\"2020-01-31T00:00:00\",\"2019-10-31T00:00:00\",\"2019-07-31T00:00:00\",\"2019-04-30T00:00:00\",\"2019-01-31T00:00:00\",\"2018-10-31T00:00:00\",\"2018-07-31T00:00:00\",\"2018-04-30T00:00:00\",\"2018-01-31T00:00:00\",\"2017-10-31T00:00:00\",\"2017-07-31T00:00:00\",\"2017-04-30T00:00:00\",\"2017-01-31T00:00:00\",\"2016-10-31T00:00:00\",\"2016-07-31T00:00:00\",\"2016-04-30T00:00:00\",\"2016-01-31T00:00:00\",\"2015-10-31T00:00:00\",\"2015-07-31T00:00:00\",\"2015-04-30T00:00:00\",\"2015-01-31T00:00:00\",\"2014-10-31T00:00:00\",\"2014-07-31T00:00:00\",\"2014-04-30T00:00:00\",\"2014-01-31T00:00:00\",\"2013-10-31T00:00:00\",\"2013-07-31T00:00:00\",\"2013-04-30T00:00:00\",\"2013-01-31T00:00:00\",\"2012-10-31T00:00:00\",\"2012-07-31T00:00:00\",\"2012-04-30T00:00:00\",\"2012-01-31T00:00:00\",\"2011-10-31T00:00:00\",\"2011-07-31T00:00:00\",\"2011-04-30T00:00:00\",\"2011-01-31T00:00:00\",\"2010-10-31T00:00:00\",\"2010-07-31T00:00:00\",\"2010-04-30T00:00:00\",\"2010-01-31T00:00:00\",\"2009-10-31T00:00:00\",\"2009-07-31T00:00:00\",\"2009-04-30T00:00:00\",\"2009-01-31T00:00:00\"],\"y\":[1277.0,2122.0,1005.0,942.0,1021.0,2194.0,1439.0,1286.0,1548.0,3063.0,1935.0,1501.0,1786.0,2825.0,1989.0,1688.0,2046.0,2403.0,1959.0,1632.0,1972.0,3525.0,2016.0,1762.0,2061.0,3476.0,2092.0,1731.0,1996.0,3684.0,2107.0,1384.0,1865.0,3562.0,1773.0,1550.0,2002.0,3579.0,1947.0,1744.0,2281.0,3693.0,1899.0,1799.0,2083.0,3524.0,1835.0,1739.0,1981.0,3492.0],\"type\":\"scatter\",\"xaxis\":\"x2\",\"yaxis\":\"y2\"}],                        {\"template\":{\"data\":{\"bar\":[{\"error_x\":{\"color\":\"#2a3f5f\"},\"error_y\":{\"color\":\"#2a3f5f\"},\"marker\":{\"line\":{\"color\":\"#E5ECF6\",\"width\":0.5},\"pattern\":{\"fillmode\":\"overlay\",\"size\":10,\"solidity\":0.2}},\"type\":\"bar\"}],\"barpolar\":[{\"marker\":{\"line\":{\"color\":\"#E5ECF6\",\"width\":0.5},\"pattern\":{\"fillmode\":\"overlay\",\"size\":10,\"solidity\":0.2}},\"type\":\"barpolar\"}],\"carpet\":[{\"aaxis\":{\"endlinecolor\":\"#2a3f5f\",\"gridcolor\":\"white\",\"linecolor\":\"white\",\"minorgridcolor\":\"white\",\"startlinecolor\":\"#2a3f5f\"},\"baxis\":{\"endlinecolor\":\"#2a3f5f\",\"gridcolor\":\"white\",\"linecolor\":\"white\",\"minorgridcolor\":\"white\",\"startlinecolor\":\"#2a3f5f\"},\"type\":\"carpet\"}],\"choropleth\":[{\"colorbar\":{\"outlinewidth\":0,\"ticks\":\"\"},\"type\":\"choropleth\"}],\"contour\":[{\"colorbar\":{\"outlinewidth\":0,\"ticks\":\"\"},\"colorscale\":[[0.0,\"#0d0887\"],[0.1111111111111111,\"#46039f\"],[0.2222222222222222,\"#7201a8\"],[0.3333333333333333,\"#9c179e\"],[0.4444444444444444,\"#bd3786\"],[0.5555555555555556,\"#d8576b\"],[0.6666666666666666,\"#ed7953\"],[0.7777777777777778,\"#fb9f3a\"],[0.8888888888888888,\"#fdca26\"],[1.0,\"#f0f921\"]],\"type\":\"contour\"}],\"contourcarpet\":[{\"colorbar\":{\"outlinewidth\":0,\"ticks\":\"\"},\"type\":\"contourcarpet\"}],\"heatmap\":[{\"colorbar\":{\"outlinewidth\":0,\"ticks\":\"\"},\"colorscale\":[[0.0,\"#0d0887\"],[0.1111111111111111,\"#46039f\"],[0.2222222222222222,\"#7201a8\"],[0.3333333333333333,\"#9c179e\"],[0.4444444444444444,\"#bd3786\"],[0.5555555555555556,\"#d8576b\"],[0.6666666666666666,\"#ed7953\"],[0.7777777777777778,\"#fb9f3a\"],[0.8888888888888888,\"#fdca26\"],[1.0,\"#f0f921\"]],\"type\":\"heatmap\"}],\"heatmapgl\":[{\"colorbar\":{\"outlinewidth\":0,\"ticks\":\"\"},\"colorscale\":[[0.0,\"#0d0887\"],[0.1111111111111111,\"#46039f\"],[0.2222222222222222,\"#7201a8\"],[0.3333333333333333,\"#9c179e\"],[0.4444444444444444,\"#bd3786\"],[0.5555555555555556,\"#d8576b\"],[0.6666666666666666,\"#ed7953\"],[0.7777777777777778,\"#fb9f3a\"],[0.8888888888888888,\"#fdca26\"],[1.0,\"#f0f921\"]],\"type\":\"heatmapgl\"}],\"histogram\":[{\"marker\":{\"pattern\":{\"fillmode\":\"overlay\",\"size\":10,\"solidity\":0.2}},\"type\":\"histogram\"}],\"histogram2d\":[{\"colorbar\":{\"outlinewidth\":0,\"ticks\":\"\"},\"colorscale\":[[0.0,\"#0d0887\"],[0.1111111111111111,\"#46039f\"],[0.2222222222222222,\"#7201a8\"],[0.3333333333333333,\"#9c179e\"],[0.4444444444444444,\"#bd3786\"],[0.5555555555555556,\"#d8576b\"],[0.6666666666666666,\"#ed7953\"],[0.7777777777777778,\"#fb9f3a\"],[0.8888888888888888,\"#fdca26\"],[1.0,\"#f0f921\"]],\"type\":\"histogram2d\"}],\"histogram2dcontour\":[{\"colorbar\":{\"outlinewidth\":0,\"ticks\":\"\"},\"colorscale\":[[0.0,\"#0d0887\"],[0.1111111111111111,\"#46039f\"],[0.2222222222222222,\"#7201a8\"],[0.3333333333333333,\"#9c179e\"],[0.4444444444444444,\"#bd3786\"],[0.5555555555555556,\"#d8576b\"],[0.6666666666666666,\"#ed7953\"],[0.7777777777777778,\"#fb9f3a\"],[0.8888888888888888,\"#fdca26\"],[1.0,\"#f0f921\"]],\"type\":\"histogram2dcontour\"}],\"mesh3d\":[{\"colorbar\":{\"outlinewidth\":0,\"ticks\":\"\"},\"type\":\"mesh3d\"}],\"parcoords\":[{\"line\":{\"colorbar\":{\"outlinewidth\":0,\"ticks\":\"\"}},\"type\":\"parcoords\"}],\"pie\":[{\"automargin\":true,\"type\":\"pie\"}],\"scatter\":[{\"marker\":{\"colorbar\":{\"outlinewidth\":0,\"ticks\":\"\"}},\"type\":\"scatter\"}],\"scatter3d\":[{\"line\":{\"colorbar\":{\"outlinewidth\":0,\"ticks\":\"\"}},\"marker\":{\"colorbar\":{\"outlinewidth\":0,\"ticks\":\"\"}},\"type\":\"scatter3d\"}],\"scattercarpet\":[{\"marker\":{\"colorbar\":{\"outlinewidth\":0,\"ticks\":\"\"}},\"type\":\"scattercarpet\"}],\"scattergeo\":[{\"marker\":{\"colorbar\":{\"outlinewidth\":0,\"ticks\":\"\"}},\"type\":\"scattergeo\"}],\"scattergl\":[{\"marker\":{\"colorbar\":{\"outlinewidth\":0,\"ticks\":\"\"}},\"type\":\"scattergl\"}],\"scattermapbox\":[{\"marker\":{\"colorbar\":{\"outlinewidth\":0,\"ticks\":\"\"}},\"type\":\"scattermapbox\"}],\"scatterpolar\":[{\"marker\":{\"colorbar\":{\"outlinewidth\":0,\"ticks\":\"\"}},\"type\":\"scatterpolar\"}],\"scatterpolargl\":[{\"marker\":{\"colorbar\":{\"outlinewidth\":0,\"ticks\":\"\"}},\"type\":\"scatterpolargl\"}],\"scatterternary\":[{\"marker\":{\"colorbar\":{\"outlinewidth\":0,\"ticks\":\"\"}},\"type\":\"scatterternary\"}],\"surface\":[{\"colorbar\":{\"outlinewidth\":0,\"ticks\":\"\"},\"colorscale\":[[0.0,\"#0d0887\"],[0.1111111111111111,\"#46039f\"],[0.2222222222222222,\"#7201a8\"],[0.3333333333333333,\"#9c179e\"],[0.4444444444444444,\"#bd3786\"],[0.5555555555555556,\"#d8576b\"],[0.6666666666666666,\"#ed7953\"],[0.7777777777777778,\"#fb9f3a\"],[0.8888888888888888,\"#fdca26\"],[1.0,\"#f0f921\"]],\"type\":\"surface\"}],\"table\":[{\"cells\":{\"fill\":{\"color\":\"#EBF0F8\"},\"line\":{\"color\":\"white\"}},\"header\":{\"fill\":{\"color\":\"#C8D4E3\"},\"line\":{\"color\":\"white\"}},\"type\":\"table\"}]},\"layout\":{\"annotationdefaults\":{\"arrowcolor\":\"#2a3f5f\",\"arrowhead\":0,\"arrowwidth\":1},\"autotypenumbers\":\"strict\",\"coloraxis\":{\"colorbar\":{\"outlinewidth\":0,\"ticks\":\"\"}},\"colorscale\":{\"diverging\":[[0,\"#8e0152\"],[0.1,\"#c51b7d\"],[0.2,\"#de77ae\"],[0.3,\"#f1b6da\"],[0.4,\"#fde0ef\"],[0.5,\"#f7f7f7\"],[0.6,\"#e6f5d0\"],[0.7,\"#b8e186\"],[0.8,\"#7fbc41\"],[0.9,\"#4d9221\"],[1,\"#276419\"]],\"sequential\":[[0.0,\"#0d0887\"],[0.1111111111111111,\"#46039f\"],[0.2222222222222222,\"#7201a8\"],[0.3333333333333333,\"#9c179e\"],[0.4444444444444444,\"#bd3786\"],[0.5555555555555556,\"#d8576b\"],[0.6666666666666666,\"#ed7953\"],[0.7777777777777778,\"#fb9f3a\"],[0.8888888888888888,\"#fdca26\"],[1.0,\"#f0f921\"]],\"sequentialminus\":[[0.0,\"#0d0887\"],[0.1111111111111111,\"#46039f\"],[0.2222222222222222,\"#7201a8\"],[0.3333333333333333,\"#9c179e\"],[0.4444444444444444,\"#bd3786\"],[0.5555555555555556,\"#d8576b\"],[0.6666666666666666,\"#ed7953\"],[0.7777777777777778,\"#fb9f3a\"],[0.8888888888888888,\"#fdca26\"],[1.0,\"#f0f921\"]]},\"colorway\":[\"#636efa\",\"#EF553B\",\"#00cc96\",\"#ab63fa\",\"#FFA15A\",\"#19d3f3\",\"#FF6692\",\"#B6E880\",\"#FF97FF\",\"#FECB52\"],\"font\":{\"color\":\"#2a3f5f\"},\"geo\":{\"bgcolor\":\"white\",\"lakecolor\":\"white\",\"landcolor\":\"#E5ECF6\",\"showlakes\":true,\"showland\":true,\"subunitcolor\":\"white\"},\"hoverlabel\":{\"align\":\"left\"},\"hovermode\":\"closest\",\"mapbox\":{\"style\":\"light\"},\"paper_bgcolor\":\"white\",\"plot_bgcolor\":\"#E5ECF6\",\"polar\":{\"angularaxis\":{\"gridcolor\":\"white\",\"linecolor\":\"white\",\"ticks\":\"\"},\"bgcolor\":\"#E5ECF6\",\"radialaxis\":{\"gridcolor\":\"white\",\"linecolor\":\"white\",\"ticks\":\"\"}},\"scene\":{\"xaxis\":{\"backgroundcolor\":\"#E5ECF6\",\"gridcolor\":\"white\",\"gridwidth\":2,\"linecolor\":\"white\",\"showbackground\":true,\"ticks\":\"\",\"zerolinecolor\":\"white\"},\"yaxis\":{\"backgroundcolor\":\"#E5ECF6\",\"gridcolor\":\"white\",\"gridwidth\":2,\"linecolor\":\"white\",\"showbackground\":true,\"ticks\":\"\",\"zerolinecolor\":\"white\"},\"zaxis\":{\"backgroundcolor\":\"#E5ECF6\",\"gridcolor\":\"white\",\"gridwidth\":2,\"linecolor\":\"white\",\"showbackground\":true,\"ticks\":\"\",\"zerolinecolor\":\"white\"}},\"shapedefaults\":{\"line\":{\"color\":\"#2a3f5f\"}},\"ternary\":{\"aaxis\":{\"gridcolor\":\"white\",\"linecolor\":\"white\",\"ticks\":\"\"},\"baxis\":{\"gridcolor\":\"white\",\"linecolor\":\"white\",\"ticks\":\"\"},\"bgcolor\":\"#E5ECF6\",\"caxis\":{\"gridcolor\":\"white\",\"linecolor\":\"white\",\"ticks\":\"\"}},\"title\":{\"x\":0.05},\"xaxis\":{\"automargin\":true,\"gridcolor\":\"white\",\"linecolor\":\"white\",\"ticks\":\"\",\"title\":{\"standoff\":15},\"zerolinecolor\":\"white\",\"zerolinewidth\":2},\"yaxis\":{\"automargin\":true,\"gridcolor\":\"white\",\"linecolor\":\"white\",\"ticks\":\"\",\"title\":{\"standoff\":15},\"zerolinecolor\":\"white\",\"zerolinewidth\":2}}},\"xaxis\":{\"anchor\":\"y\",\"domain\":[0.0,1.0],\"matches\":\"x2\",\"showticklabels\":false,\"title\":{\"text\":\"Date\"},\"rangeslider\":{\"visible\":true}},\"yaxis\":{\"anchor\":\"x\",\"domain\":[0.6499999999999999,0.9999999999999999],\"title\":{\"text\":\"Price ($US)\"}},\"xaxis2\":{\"anchor\":\"y2\",\"domain\":[0.0,1.0],\"title\":{\"text\":\"Date\"}},\"yaxis2\":{\"anchor\":\"x2\",\"domain\":[0.0,0.35],\"title\":{\"text\":\"Revenue ($US Millions)\"}},\"annotations\":[{\"font\":{\"size\":16},\"showarrow\":false,\"text\":\"Historical Share Price\",\"x\":0.5,\"xanchor\":\"center\",\"xref\":\"paper\",\"y\":0.9999999999999999,\"yanchor\":\"bottom\",\"yref\":\"paper\"},{\"font\":{\"size\":16},\"showarrow\":false,\"text\":\"Historical Revenue\",\"x\":0.5,\"xanchor\":\"center\",\"xref\":\"paper\",\"y\":0.35,\"yanchor\":\"bottom\",\"yref\":\"paper\"}],\"showlegend\":false,\"height\":900,\"title\":{\"text\":\"GameStop\"}},                        {\"responsive\": true}                    ).then(function(){\n",
              "                            \n",
              "var gd = document.getElementById('72b0812e-cea9-4133-9e34-a1d5b1cc5b58');\n",
              "var x = new MutationObserver(function (mutations, observer) {{\n",
              "        var display = window.getComputedStyle(gd).display;\n",
              "        if (!display || display === 'none') {{\n",
              "            console.log([gd, 'removed!']);\n",
              "            Plotly.purge(gd);\n",
              "            observer.disconnect();\n",
              "        }}\n",
              "}});\n",
              "\n",
              "// Listen for the removal of the full notebook cells\n",
              "var notebookContainer = gd.closest('#notebook-container');\n",
              "if (notebookContainer) {{\n",
              "    x.observe(notebookContainer, {childList: true});\n",
              "}}\n",
              "\n",
              "// Listen for the clearing of the current output cell\n",
              "var outputEl = gd.closest('.output');\n",
              "if (outputEl) {{\n",
              "    x.observe(outputEl, {childList: true});\n",
              "}}\n",
              "\n",
              "                        })                };                            </script>        </div>\n",
              "</body>\n",
              "</html>"
            ]
          },
          "metadata": {}
        }
      ]
    },
    {
      "cell_type": "code",
      "source": [],
      "metadata": {
        "id": "YWLeWz6pKgqt"
      },
      "execution_count": null,
      "outputs": []
    }
  ]
}